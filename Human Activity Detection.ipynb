{
 "cells": [
  {
   "cell_type": "code",
   "execution_count": 1,
   "metadata": {},
   "outputs": [],
   "source": [
    "import pandas as pd\n",
    "import numpy as np\n",
    "\n",
    "from tensorflow import keras\n",
    "from tensorflow.keras.models import Sequential, load_model\n",
    "from tensorflow.keras.layers import Dense, Dropout\n",
    "\n",
    "from kerastuner import RandomSearch, BayesianOptimization\n",
    "from kerastuner.engine.hyperparameters import HyperParameters\n",
    "from tensorflow.keras.callbacks import EarlyStopping\n",
    "from tensorflow.compat.v1.keras.layers import CuDNNLSTM\n",
    "\n",
    "import warnings\n",
    "warnings.filterwarnings(\"ignore\")"
   ]
  },
  {
   "cell_type": "code",
   "execution_count": 2,
   "metadata": {},
   "outputs": [],
   "source": [
    "# Activities are the class labels\n",
    "# It is a 6 class classification\n",
    "ACTIVITIES = {\n",
    "    0: 'WALKING',\n",
    "    1: 'WALKING_UPSTAIRS',\n",
    "    2: 'WALKING_DOWNSTAIRS',\n",
    "    3: 'SITTING',\n",
    "    4: 'STANDING',\n",
    "    5: 'LAYING',\n",
    "}\n",
    "\n",
    "# Utility function to print the confusion matrix\n",
    "def confusion_matrix_user(Y_true, Y_pred):\n",
    "    Y_true = pd.Series([ACTIVITIES[y] for y in np.argmax(Y_true, axis=1)])\n",
    "    Y_pred = pd.Series([ACTIVITIES[y] for y in np.argmax(Y_pred, axis=1)])\n",
    "\n",
    "    return pd.crosstab(Y_true, Y_pred, rownames=['True'], colnames=['Pred'])"
   ]
  },
  {
   "cell_type": "markdown",
   "metadata": {},
   "source": [
    "### Data"
   ]
  },
  {
   "cell_type": "code",
   "execution_count": 3,
   "metadata": {},
   "outputs": [],
   "source": [
    "# Data directory\n",
    "DATADIR = 'UCI_HAR_Dataset'"
   ]
  },
  {
   "cell_type": "code",
   "execution_count": 4,
   "metadata": {},
   "outputs": [],
   "source": [
    "# Raw data signals\n",
    "# Signals are from Accelerometer and Gyroscope\n",
    "# The signals are in x,y,z directions\n",
    "# Sensor signals are filtered to have only body acceleration\n",
    "# excluding the acceleration due to gravity\n",
    "# Triaxial acceleration from the accelerometer is total acceleration\n",
    "SIGNALS = [\n",
    "    \"body_acc_x\",\n",
    "    \"body_acc_y\",\n",
    "    \"body_acc_z\",\n",
    "    \"body_gyro_x\",\n",
    "    \"body_gyro_y\",\n",
    "    \"body_gyro_z\",\n",
    "    \"total_acc_x\",\n",
    "    \"total_acc_y\",\n",
    "    \"total_acc_z\"\n",
    "]"
   ]
  },
  {
   "cell_type": "code",
   "execution_count": 5,
   "metadata": {},
   "outputs": [],
   "source": [
    "# Utility function to read the data from csv file\n",
    "def _read_csv(filename):\n",
    "    return pd.read_csv(filename, delim_whitespace=True, header=None)\n",
    "\n",
    "# Utility function to load the load\n",
    "def load_signals(subset):\n",
    "    signals_data = []\n",
    "\n",
    "    for signal in SIGNALS:\n",
    "        filename = f'UCI_HAR_Dataset/{subset}/Inertial Signals/{signal}_{subset}.txt'\n",
    "        signals_data.append(\n",
    "            _read_csv(filename).as_matrix()\n",
    "        ) \n",
    "\n",
    "    # Transpose is used to change the dimensionality of the output,\n",
    "    # aggregating the signals by combination of sample/timestep.\n",
    "    # Resultant shape is (7352 train/2947 test samples, 128 timesteps, 9 signals)\n",
    "    return np.transpose(signals_data, (1, 2, 0))"
   ]
  },
  {
   "cell_type": "code",
   "execution_count": 6,
   "metadata": {},
   "outputs": [],
   "source": [
    "\n",
    "def load_y(subset):\n",
    "    \"\"\"\n",
    "    The objective that we are trying to predict is a integer, from 1 to 6,\n",
    "    that represents a human activity. We return a binary representation of \n",
    "    every sample objective as a 6 bits vector using One Hot Encoding\n",
    "    (https://pandas.pydata.org/pandas-docs/stable/generated/pandas.get_dummies.html)\n",
    "    \"\"\"\n",
    "    filename = f'UCI_HAR_Dataset/{subset}/y_{subset}.txt'\n",
    "    y = _read_csv(filename)[0]\n",
    "\n",
    "    return pd.get_dummies(y).as_matrix()"
   ]
  },
  {
   "cell_type": "code",
   "execution_count": 7,
   "metadata": {},
   "outputs": [],
   "source": [
    "def load_data():\n",
    "    \"\"\"\n",
    "    Obtain the dataset from multiple files.\n",
    "    Returns: X_train, X_test, y_train, y_test\n",
    "    \"\"\"\n",
    "    X_train, X_test = load_signals('train'), load_signals('test')\n",
    "    y_train, y_test = load_y('train'), load_y('test')\n",
    "\n",
    "    return X_train, X_test, y_train, y_test"
   ]
  },
  {
   "cell_type": "code",
   "execution_count": 8,
   "metadata": {},
   "outputs": [],
   "source": [
    "# Utility function to count the number of classes\n",
    "def _count_classes(y):\n",
    "    return len(set([tuple(category) for category in y]))"
   ]
  },
  {
   "cell_type": "markdown",
   "metadata": {},
   "source": [
    "## Splitting Train and Test"
   ]
  },
  {
   "cell_type": "code",
   "execution_count": 9,
   "metadata": {},
   "outputs": [],
   "source": [
    "# Loading the train and test data\n",
    "X_train, X_test, Y_train, Y_test = load_data()"
   ]
  },
  {
   "cell_type": "code",
   "execution_count": 10,
   "metadata": {},
   "outputs": [
    {
     "name": "stdout",
     "output_type": "stream",
     "text": [
      "128\n",
      "9\n",
      "7352\n"
     ]
    }
   ],
   "source": [
    "timesteps = len(X_train[0])\n",
    "input_dim = len(X_train[0][0])\n",
    "n_classes = _count_classes(Y_train)\n",
    "\n",
    "print(timesteps)\n",
    "print(input_dim)\n",
    "print(len(X_train))"
   ]
  },
  {
   "cell_type": "markdown",
   "metadata": {},
   "source": [
    "## Defining function which returns the tuned model architecture"
   ]
  },
  {
   "cell_type": "code",
   "execution_count": 11,
   "metadata": {},
   "outputs": [],
   "source": [
    "def c_model(hp):\n",
    "    \n",
    "    model = Sequential()\n",
    "    \n",
    "    model.add(CuDNNLSTM(units = hp.Int('units_1', 32, 256, step = 32), input_shape=(timesteps, input_dim), \n",
    "                        kernel_initializer= 'he_normal', \n",
    "                        return_sequences = True))\n",
    "    \n",
    "    model.add(Dropout(hp.Float('dropout_1', 0.2, 0.8, step = 0.1)))\n",
    "    \n",
    "    model.add(CuDNNLSTM(units = hp.Int('units_2', 32, 256, step = 32), \n",
    "                        kernel_initializer= 'he_normal'))\n",
    "    \n",
    "    model.add(Dropout(hp.Float('dropout_2', 0.2, 0.8, step = 0.1)))\n",
    "    \n",
    "    for i in range(hp.Int('num_layers', 0, 2, step = 1)):\n",
    "        model.add(Dense(units=hp.Int('dense_' + str(i), 32, 512, step = 32), \n",
    "                        kernel_initializer= 'he_normal', \n",
    "                        activation='relu'))\n",
    "    \n",
    "    model.add(Dropout(hp.Float('dropout_3', 0.0, 0.8, step = 0.1)))\n",
    "    \n",
    "    model.add(Dense(n_classes, activation='softmax'))\n",
    "    \n",
    "    model.compile(loss='categorical_crossentropy',\n",
    "              optimizer= hp.Choice('optimizer_name', ['adam','adagrad','adadelta']),\n",
    "              metrics=['accuracy']) \n",
    "    \n",
    "    return model\n"
   ]
  },
  {
   "cell_type": "markdown",
   "metadata": {},
   "source": [
    "## Tuning the model's architecture and Hyper parameter using Keras Tuner"
   ]
  },
  {
   "cell_type": "code",
   "execution_count": 12,
   "metadata": {
    "scrolled": true
   },
   "outputs": [
    {
     "name": "stdout",
     "output_type": "stream",
     "text": [
      "WARNING:tensorflow:Large dropout rate: 0.7 (>0.5). In TensorFlow 2.x, dropout() uses dropout rate instead of keep_prob. Please ensure that this is intended.\n",
      "Train on 5146 samples, validate on 2206 samples\n",
      "Epoch 1/5\n",
      "WARNING:tensorflow:Large dropout rate: 0.7 (>0.5). In TensorFlow 2.x, dropout() uses dropout rate instead of keep_prob. Please ensure that this is intended.\n",
      "WARNING:tensorflow:Large dropout rate: 0.7 (>0.5). In TensorFlow 2.x, dropout() uses dropout rate instead of keep_prob. Please ensure that this is intended.\n",
      "5146/5146 - 20s - loss: 1.0901 - accuracy: 0.5286 - val_loss: 0.6732 - val_accuracy: 0.7049\n",
      "Epoch 2/5\n",
      "5146/5146 - 4s - loss: 0.7284 - accuracy: 0.6901 - val_loss: 0.4658 - val_accuracy: 0.9039\n",
      "Epoch 3/5\n",
      "5146/5146 - 4s - loss: 0.5776 - accuracy: 0.7798 - val_loss: 0.3909 - val_accuracy: 0.9116\n",
      "Epoch 4/5\n",
      "5146/5146 - 4s - loss: 0.6150 - accuracy: 0.7851 - val_loss: 0.3307 - val_accuracy: 0.9266\n",
      "Epoch 5/5\n",
      "5146/5146 - 4s - loss: 0.5397 - accuracy: 0.8154 - val_loss: 0.4019 - val_accuracy: 0.9025\n",
      "WARNING:tensorflow:Large dropout rate: 0.7 (>0.5). In TensorFlow 2.x, dropout() uses dropout rate instead of keep_prob. Please ensure that this is intended.\n",
      "Train on 5146 samples, validate on 2206 samples\n",
      "Epoch 1/5\n",
      "WARNING:tensorflow:Large dropout rate: 0.7 (>0.5). In TensorFlow 2.x, dropout() uses dropout rate instead of keep_prob. Please ensure that this is intended.\n",
      "5146/5146 - 8s - loss: 1.1154 - accuracy: 0.5307 - val_loss: 0.6526 - val_accuracy: 0.7729\n",
      "Epoch 2/5\n",
      "5146/5146 - 4s - loss: 0.7280 - accuracy: 0.6998 - val_loss: 0.4860 - val_accuracy: 0.8468\n",
      "Epoch 3/5\n",
      "5146/5146 - 4s - loss: 0.5312 - accuracy: 0.7892 - val_loss: 0.3769 - val_accuracy: 0.8998\n",
      "Epoch 4/5\n",
      "5146/5146 - 4s - loss: 0.4149 - accuracy: 0.8278 - val_loss: 0.4771 - val_accuracy: 0.8622\n",
      "Epoch 5/5\n",
      "5146/5146 - 4s - loss: 0.3586 - accuracy: 0.8570 - val_loss: 0.3861 - val_accuracy: 0.9025\n",
      "Train on 5146 samples, validate on 2206 samples\n",
      "Epoch 1/5\n",
      "5146/5146 - 8s - loss: 1.1988 - accuracy: 0.4949 - val_loss: 0.6846 - val_accuracy: 0.7711\n",
      "Epoch 2/5\n",
      "5146/5146 - 4s - loss: 0.7689 - accuracy: 0.6815 - val_loss: 0.6191 - val_accuracy: 0.8341\n",
      "Epoch 3/5\n",
      "5146/5146 - 4s - loss: 0.5491 - accuracy: 0.7839 - val_loss: 0.5023 - val_accuracy: 0.8572\n",
      "Epoch 4/5\n",
      "5146/5146 - 4s - loss: 0.5195 - accuracy: 0.8127 - val_loss: 0.7191 - val_accuracy: 0.7647\n",
      "Epoch 5/5\n",
      "5146/5146 - 4s - loss: 0.4132 - accuracy: 0.8453 - val_loss: 0.3927 - val_accuracy: 0.9102\n",
      "Train on 5146 samples, validate on 2206 samples\n",
      "Epoch 1/5\n",
      "5146/5146 - 8s - loss: 1.1474 - accuracy: 0.5276 - val_loss: 0.6729 - val_accuracy: 0.7684\n",
      "Epoch 2/5\n",
      "5146/5146 - 4s - loss: 0.7227 - accuracy: 0.7186 - val_loss: 0.4794 - val_accuracy: 0.8427\n",
      "Epoch 3/5\n",
      "5146/5146 - 4s - loss: 0.5665 - accuracy: 0.7897 - val_loss: 0.3830 - val_accuracy: 0.9066\n",
      "Epoch 4/5\n",
      "5146/5146 - 4s - loss: 0.4209 - accuracy: 0.8340 - val_loss: 0.6295 - val_accuracy: 0.8422\n",
      "Epoch 5/5\n",
      "5146/5146 - 4s - loss: 0.4132 - accuracy: 0.8459 - val_loss: 0.7309 - val_accuracy: 0.8001\n",
      "Train on 5146 samples, validate on 2206 samples\n",
      "Epoch 1/5\n",
      "5146/5146 - 8s - loss: 1.1966 - accuracy: 0.4998 - val_loss: 0.6864 - val_accuracy: 0.7208\n",
      "Epoch 2/5\n",
      "5146/5146 - 4s - loss: 0.7369 - accuracy: 0.6916 - val_loss: 0.5058 - val_accuracy: 0.8808\n",
      "Epoch 3/5\n",
      "5146/5146 - 4s - loss: 0.5266 - accuracy: 0.7915 - val_loss: 0.4644 - val_accuracy: 0.8758\n",
      "Epoch 4/5\n",
      "5146/5146 - 4s - loss: 0.4426 - accuracy: 0.8255 - val_loss: 0.4996 - val_accuracy: 0.8980\n",
      "Epoch 5/5\n",
      "5146/5146 - 4s - loss: 0.4087 - accuracy: 0.8449 - val_loss: 0.5084 - val_accuracy: 0.9143\n",
      "Train on 5146 samples, validate on 2206 samples\n",
      "Epoch 1/5\n",
      "5146/5146 - 8s - loss: 1.1631 - accuracy: 0.5225 - val_loss: 0.7641 - val_accuracy: 0.6324\n",
      "Epoch 2/5\n",
      "5146/5146 - 4s - loss: 0.6967 - accuracy: 0.7184 - val_loss: 0.5096 - val_accuracy: 0.8286\n",
      "Epoch 3/5\n",
      "5146/5146 - 4s - loss: 0.5376 - accuracy: 0.7944 - val_loss: 0.5216 - val_accuracy: 0.8640\n",
      "Epoch 4/5\n",
      "5146/5146 - 4s - loss: 0.4356 - accuracy: 0.8261 - val_loss: 0.5432 - val_accuracy: 0.8608\n",
      "Epoch 5/5\n",
      "5146/5146 - 4s - loss: 0.3318 - accuracy: 0.8599 - val_loss: 0.8778 - val_accuracy: 0.8073\n",
      "Train on 5146 samples, validate on 2206 samples\n",
      "Epoch 1/5\n",
      "5146/5146 - 8s - loss: 1.1546 - accuracy: 0.5124 - val_loss: 0.7612 - val_accuracy: 0.7285\n",
      "Epoch 2/5\n",
      "5146/5146 - 4s - loss: 0.7708 - accuracy: 0.6869 - val_loss: 0.4632 - val_accuracy: 0.8871\n",
      "Epoch 3/5\n",
      "5146/5146 - 4s - loss: 0.5006 - accuracy: 0.8063 - val_loss: 0.3900 - val_accuracy: 0.9170\n",
      "Epoch 4/5\n",
      "5146/5146 - 4s - loss: 0.4405 - accuracy: 0.8408 - val_loss: 0.4357 - val_accuracy: 0.9084\n",
      "Epoch 5/5\n",
      "5146/5146 - 4s - loss: 0.3540 - accuracy: 0.8634 - val_loss: 0.3914 - val_accuracy: 0.8835\n",
      "Train on 5146 samples, validate on 2206 samples\n",
      "Epoch 1/5\n",
      "5146/5146 - 8s - loss: 1.1914 - accuracy: 0.4843 - val_loss: 0.7931 - val_accuracy: 0.6850\n",
      "Epoch 2/5\n",
      "5146/5146 - 4s - loss: 0.7956 - accuracy: 0.6739 - val_loss: 0.4567 - val_accuracy: 0.8867\n",
      "Epoch 3/5\n",
      "5146/5146 - 4s - loss: 0.5021 - accuracy: 0.8020 - val_loss: 0.4079 - val_accuracy: 0.8998\n",
      "Epoch 4/5\n",
      "5146/5146 - 4s - loss: 0.3976 - accuracy: 0.8482 - val_loss: 1.0109 - val_accuracy: 0.8060\n",
      "Epoch 5/5\n",
      "5146/5146 - 4s - loss: 0.4117 - accuracy: 0.8370 - val_loss: 1.0074 - val_accuracy: 0.8073\n",
      "Train on 5146 samples, validate on 2206 samples\n",
      "Epoch 1/5\n",
      "5146/5146 - 8s - loss: 1.1587 - accuracy: 0.5365 - val_loss: 0.7996 - val_accuracy: 0.7072\n",
      "Epoch 2/5\n",
      "5146/5146 - 4s - loss: 0.7644 - accuracy: 0.6939 - val_loss: 0.5667 - val_accuracy: 0.8599\n",
      "Epoch 3/5\n",
      "5146/5146 - 4s - loss: 0.5326 - accuracy: 0.7919 - val_loss: 0.3978 - val_accuracy: 0.9211\n",
      "Epoch 4/5\n",
      "5146/5146 - 4s - loss: 0.3786 - accuracy: 0.8434 - val_loss: 0.4653 - val_accuracy: 0.8835\n",
      "Epoch 5/5\n",
      "5146/5146 - 4s - loss: 0.3212 - accuracy: 0.8589 - val_loss: 0.4994 - val_accuracy: 0.8790\n",
      "Train on 5146 samples, validate on 2206 samples\n",
      "Epoch 1/5\n",
      "5146/5146 - 8s - loss: 1.1929 - accuracy: 0.4940 - val_loss: 0.7224 - val_accuracy: 0.7919\n",
      "Epoch 2/5\n",
      "5146/5146 - 4s - loss: 0.7431 - accuracy: 0.6953 - val_loss: 0.6353 - val_accuracy: 0.7303\n",
      "Epoch 3/5\n",
      "5146/5146 - 4s - loss: 0.6065 - accuracy: 0.7476 - val_loss: 0.4041 - val_accuracy: 0.9007\n",
      "Epoch 4/5\n",
      "5146/5146 - 4s - loss: 0.4104 - accuracy: 0.8354 - val_loss: 0.4030 - val_accuracy: 0.8930\n",
      "Epoch 5/5\n",
      "5146/5146 - 4s - loss: 0.4728 - accuracy: 0.8366 - val_loss: 0.4483 - val_accuracy: 0.9021\n"
     ]
    },
    {
     "data": {
      "text/html": [
       "<span style=\"color:#4527A0\"><h1 style=\"font-size:18px\">Trial complete</h1></span>"
      ],
      "text/plain": [
       "<IPython.core.display.HTML object>"
      ]
     },
     "metadata": {},
     "output_type": "display_data"
    },
    {
     "data": {
      "text/html": [
       "<span style=\"color:#4527A0\"><h1 style=\"font-size:18px\">Trial summary</h1></span>"
      ],
      "text/plain": [
       "<IPython.core.display.HTML object>"
      ]
     },
     "metadata": {},
     "output_type": "display_data"
    },
    {
     "data": {
      "text/html": [
       "<span style=\"color:cyan\"> |-Trial ID: bb82a9c3e6579e124bde829b182e8b71</span>"
      ],
      "text/plain": [
       "<IPython.core.display.HTML object>"
      ]
     },
     "metadata": {},
     "output_type": "display_data"
    },
    {
     "data": {
      "text/html": [
       "<span style=\"color:cyan\"> |-Score: 0.9064370393753052</span>"
      ],
      "text/plain": [
       "<IPython.core.display.HTML object>"
      ]
     },
     "metadata": {},
     "output_type": "display_data"
    },
    {
     "data": {
      "text/html": [
       "<span style=\"color:cyan\"> |-Best step: 0</span>"
      ],
      "text/plain": [
       "<IPython.core.display.HTML object>"
      ]
     },
     "metadata": {},
     "output_type": "display_data"
    },
    {
     "data": {
      "text/html": [
       "<span style=\"color:#7E57C2\"><h2 style=\"font-size:16px\">Hyperparameters:</h2></span>"
      ],
      "text/plain": [
       "<IPython.core.display.HTML object>"
      ]
     },
     "metadata": {},
     "output_type": "display_data"
    },
    {
     "data": {
      "text/html": [
       "<span style=\"color:cyan\"> |-batch_size: 32</span>"
      ],
      "text/plain": [
       "<IPython.core.display.HTML object>"
      ]
     },
     "metadata": {},
     "output_type": "display_data"
    },
    {
     "data": {
      "text/html": [
       "<span style=\"color:blue\"> |-dense_0: 32</span>"
      ],
      "text/plain": [
       "<IPython.core.display.HTML object>"
      ]
     },
     "metadata": {},
     "output_type": "display_data"
    },
    {
     "data": {
      "text/html": [
       "<span style=\"color:cyan\"> |-dropout_1: 0.30000000000000004</span>"
      ],
      "text/plain": [
       "<IPython.core.display.HTML object>"
      ]
     },
     "metadata": {},
     "output_type": "display_data"
    },
    {
     "data": {
      "text/html": [
       "<span style=\"color:blue\"> |-dropout_2: 0.4000000000000001</span>"
      ],
      "text/plain": [
       "<IPython.core.display.HTML object>"
      ]
     },
     "metadata": {},
     "output_type": "display_data"
    },
    {
     "data": {
      "text/html": [
       "<span style=\"color:cyan\"> |-dropout_3: 0.7000000000000001</span>"
      ],
      "text/plain": [
       "<IPython.core.display.HTML object>"
      ]
     },
     "metadata": {},
     "output_type": "display_data"
    },
    {
     "data": {
      "text/html": [
       "<span style=\"color:blue\"> |-epochs: 5</span>"
      ],
      "text/plain": [
       "<IPython.core.display.HTML object>"
      ]
     },
     "metadata": {},
     "output_type": "display_data"
    },
    {
     "data": {
      "text/html": [
       "<span style=\"color:cyan\"> |-num_layers: 1</span>"
      ],
      "text/plain": [
       "<IPython.core.display.HTML object>"
      ]
     },
     "metadata": {},
     "output_type": "display_data"
    },
    {
     "data": {
      "text/html": [
       "<span style=\"color:blue\"> |-optimizer_name: adam</span>"
      ],
      "text/plain": [
       "<IPython.core.display.HTML object>"
      ]
     },
     "metadata": {},
     "output_type": "display_data"
    },
    {
     "data": {
      "text/html": [
       "<span style=\"color:cyan\"> |-units_1: 96</span>"
      ],
      "text/plain": [
       "<IPython.core.display.HTML object>"
      ]
     },
     "metadata": {},
     "output_type": "display_data"
    },
    {
     "data": {
      "text/html": [
       "<span style=\"color:blue\"> |-units_2: 192</span>"
      ],
      "text/plain": [
       "<IPython.core.display.HTML object>"
      ]
     },
     "metadata": {},
     "output_type": "display_data"
    },
    {
     "name": "stdout",
     "output_type": "stream",
     "text": [
      "Train on 5146 samples, validate on 2206 samples\n",
      "Epoch 1/10\n",
      "5146/5146 - 14s - loss: 2.0074 - accuracy: 0.1143 - val_loss: 1.9452 - val_accuracy: 0.0680\n",
      "Epoch 2/10\n",
      "5146/5146 - 1s - loss: 1.9867 - accuracy: 0.1238 - val_loss: 1.9291 - val_accuracy: 0.0684\n",
      "Epoch 3/10\n",
      "5146/5146 - 1s - loss: 1.9824 - accuracy: 0.1172 - val_loss: 1.9133 - val_accuracy: 0.0684\n",
      "Epoch 4/10\n",
      "5146/5146 - 1s - loss: 1.9646 - accuracy: 0.1288 - val_loss: 1.8980 - val_accuracy: 0.0707\n",
      "Epoch 5/10\n",
      "5146/5146 - 1s - loss: 1.9514 - accuracy: 0.1310 - val_loss: 1.8831 - val_accuracy: 0.0707\n",
      "Epoch 6/10\n",
      "5146/5146 - 1s - loss: 1.9328 - accuracy: 0.1403 - val_loss: 1.8680 - val_accuracy: 0.0748\n",
      "Epoch 7/10\n",
      "5146/5146 - 1s - loss: 1.9245 - accuracy: 0.1487 - val_loss: 1.8531 - val_accuracy: 0.0820\n",
      "Epoch 8/10\n",
      "5146/5146 - 1s - loss: 1.9124 - accuracy: 0.1490 - val_loss: 1.8385 - val_accuracy: 0.0975\n",
      "Epoch 9/10\n",
      "5146/5146 - 1s - loss: 1.8947 - accuracy: 0.1487 - val_loss: 1.8246 - val_accuracy: 0.1079\n",
      "Epoch 10/10\n",
      "5146/5146 - 1s - loss: 1.8828 - accuracy: 0.1566 - val_loss: 1.8108 - val_accuracy: 0.1206\n",
      "Train on 5146 samples, validate on 2206 samples\n",
      "Epoch 1/10\n",
      "5146/5146 - 3s - loss: 1.8907 - accuracy: 0.2155 - val_loss: 1.8350 - val_accuracy: 0.2008\n",
      "Epoch 2/10\n",
      "5146/5146 - 1s - loss: 1.8776 - accuracy: 0.2227 - val_loss: 1.8208 - val_accuracy: 0.2185\n",
      "Epoch 3/10\n",
      "5146/5146 - 1s - loss: 1.8729 - accuracy: 0.2233 - val_loss: 1.8069 - val_accuracy: 0.3024\n",
      "Epoch 4/10\n",
      "5146/5146 - 1s - loss: 1.8558 - accuracy: 0.2398 - val_loss: 1.7932 - val_accuracy: 0.3454\n",
      "Epoch 5/10\n",
      "5146/5146 - 1s - loss: 1.8464 - accuracy: 0.2347 - val_loss: 1.7798 - val_accuracy: 0.3554\n",
      "Epoch 6/10\n",
      "5146/5146 - 1s - loss: 1.8290 - accuracy: 0.2483 - val_loss: 1.7664 - val_accuracy: 0.3572\n",
      "Epoch 7/10\n",
      "5146/5146 - 1s - loss: 1.8216 - accuracy: 0.2509 - val_loss: 1.7533 - val_accuracy: 0.3572\n",
      "Epoch 8/10\n",
      "5146/5146 - 1s - loss: 1.8110 - accuracy: 0.2540 - val_loss: 1.7403 - val_accuracy: 0.3581\n",
      "Epoch 9/10\n",
      "5146/5146 - 1s - loss: 1.7953 - accuracy: 0.2616 - val_loss: 1.7277 - val_accuracy: 0.3590\n",
      "Epoch 10/10\n",
      "5146/5146 - 1s - loss: 1.7858 - accuracy: 0.2668 - val_loss: 1.7153 - val_accuracy: 0.3590\n",
      "Train on 5146 samples, validate on 2206 samples\n",
      "Epoch 1/10\n",
      "5146/5146 - 3s - loss: 1.9141 - accuracy: 0.1525 - val_loss: 1.8695 - val_accuracy: 0.1083\n",
      "Epoch 2/10\n",
      "5146/5146 - 1s - loss: 1.9042 - accuracy: 0.1535 - val_loss: 1.8557 - val_accuracy: 0.1423\n",
      "Epoch 3/10\n",
      "5146/5146 - 1s - loss: 1.8872 - accuracy: 0.1625 - val_loss: 1.8423 - val_accuracy: 0.1655\n",
      "Epoch 4/10\n",
      "5146/5146 - 1s - loss: 1.8806 - accuracy: 0.1652 - val_loss: 1.8291 - val_accuracy: 0.1791\n",
      "Epoch 5/10\n",
      "5146/5146 - 1s - loss: 1.8711 - accuracy: 0.1722 - val_loss: 1.8160 - val_accuracy: 0.1854\n",
      "Epoch 6/10\n",
      "5146/5146 - 1s - loss: 1.8687 - accuracy: 0.1741 - val_loss: 1.8027 - val_accuracy: 0.1936\n",
      "Epoch 7/10\n",
      "5146/5146 - 1s - loss: 1.8473 - accuracy: 0.1875 - val_loss: 1.7899 - val_accuracy: 0.2035\n",
      "Epoch 8/10\n",
      "5146/5146 - 1s - loss: 1.8371 - accuracy: 0.1963 - val_loss: 1.7772 - val_accuracy: 0.2076\n",
      "Epoch 9/10\n",
      "5146/5146 - 1s - loss: 1.8350 - accuracy: 0.1867 - val_loss: 1.7648 - val_accuracy: 0.2117\n",
      "Epoch 10/10\n",
      "5146/5146 - 1s - loss: 1.8064 - accuracy: 0.2060 - val_loss: 1.7527 - val_accuracy: 0.2199\n",
      "Train on 5146 samples, validate on 2206 samples\n",
      "Epoch 1/10\n",
      "5146/5146 - 3s - loss: 2.0068 - accuracy: 0.1794 - val_loss: 1.9493 - val_accuracy: 0.2620\n",
      "Epoch 2/10\n",
      "5146/5146 - 1s - loss: 1.9961 - accuracy: 0.1790 - val_loss: 1.9321 - val_accuracy: 0.2634\n",
      "Epoch 3/10\n",
      "5146/5146 - 1s - loss: 1.9833 - accuracy: 0.1831 - val_loss: 1.9151 - val_accuracy: 0.2647\n",
      "Epoch 4/10\n",
      "5146/5146 - 1s - loss: 1.9669 - accuracy: 0.1939 - val_loss: 1.8982 - val_accuracy: 0.2679\n",
      "Epoch 5/10\n",
      "5146/5146 - 1s - loss: 1.9576 - accuracy: 0.1996 - val_loss: 1.8821 - val_accuracy: 0.2697\n",
      "Epoch 6/10\n",
      "5146/5146 - 1s - loss: 1.9360 - accuracy: 0.2075 - val_loss: 1.8658 - val_accuracy: 0.2724\n",
      "Epoch 7/10\n",
      "5146/5146 - 1s - loss: 1.9166 - accuracy: 0.2126 - val_loss: 1.8499 - val_accuracy: 0.2738\n",
      "Epoch 8/10\n",
      "5146/5146 - 1s - loss: 1.9043 - accuracy: 0.2209 - val_loss: 1.8343 - val_accuracy: 0.2747\n",
      "Epoch 9/10\n",
      "5146/5146 - 1s - loss: 1.8879 - accuracy: 0.2237 - val_loss: 1.8190 - val_accuracy: 0.2729\n",
      "Epoch 10/10\n",
      "5146/5146 - 1s - loss: 1.8632 - accuracy: 0.2349 - val_loss: 1.8041 - val_accuracy: 0.2738\n",
      "Train on 5146 samples, validate on 2206 samples\n",
      "Epoch 1/10\n",
      "5146/5146 - 3s - loss: 1.8496 - accuracy: 0.1895 - val_loss: 1.7806 - val_accuracy: 0.2040\n",
      "Epoch 2/10\n",
      "5146/5146 - 1s - loss: 1.8374 - accuracy: 0.1967 - val_loss: 1.7696 - val_accuracy: 0.2072\n",
      "Epoch 3/10\n",
      "5146/5146 - 1s - loss: 1.8370 - accuracy: 0.1920 - val_loss: 1.7588 - val_accuracy: 0.2099\n",
      "Epoch 4/10\n",
      "5146/5146 - 1s - loss: 1.8155 - accuracy: 0.2132 - val_loss: 1.7481 - val_accuracy: 0.2167\n",
      "Epoch 5/10\n",
      "5146/5146 - 1s - loss: 1.8104 - accuracy: 0.2194 - val_loss: 1.7376 - val_accuracy: 0.2248\n",
      "Epoch 6/10\n",
      "5146/5146 - 1s - loss: 1.8084 - accuracy: 0.2155 - val_loss: 1.7273 - val_accuracy: 0.2575\n",
      "Epoch 7/10\n",
      "5146/5146 - 1s - loss: 1.8001 - accuracy: 0.2151 - val_loss: 1.7170 - val_accuracy: 0.2792\n",
      "Epoch 8/10\n",
      "5146/5146 - 1s - loss: 1.7831 - accuracy: 0.2283 - val_loss: 1.7071 - val_accuracy: 0.3237\n",
      "Epoch 9/10\n",
      "5146/5146 - 1s - loss: 1.7765 - accuracy: 0.2347 - val_loss: 1.6972 - val_accuracy: 0.3604\n",
      "Epoch 10/10\n",
      "5146/5146 - 1s - loss: 1.7562 - accuracy: 0.2431 - val_loss: 1.6875 - val_accuracy: 0.3912\n",
      "Train on 5146 samples, validate on 2206 samples\n",
      "Epoch 1/10\n",
      "5146/5146 - 3s - loss: 1.9383 - accuracy: 0.1547 - val_loss: 1.8593 - val_accuracy: 0.1500\n",
      "Epoch 2/10\n",
      "5146/5146 - 1s - loss: 1.9268 - accuracy: 0.1597 - val_loss: 1.8447 - val_accuracy: 0.1496\n",
      "Epoch 3/10\n",
      "5146/5146 - 1s - loss: 1.9214 - accuracy: 0.1665 - val_loss: 1.8302 - val_accuracy: 0.1500\n",
      "Epoch 4/10\n",
      "5146/5146 - 1s - loss: 1.8957 - accuracy: 0.1696 - val_loss: 1.8160 - val_accuracy: 0.1473\n",
      "Epoch 5/10\n",
      "5146/5146 - 1s - loss: 1.8893 - accuracy: 0.1685 - val_loss: 1.8020 - val_accuracy: 0.1423\n",
      "Epoch 6/10\n",
      "5146/5146 - 1s - loss: 1.8721 - accuracy: 0.1832 - val_loss: 1.7886 - val_accuracy: 0.1419\n",
      "Epoch 7/10\n",
      "5146/5146 - 1s - loss: 1.8592 - accuracy: 0.1908 - val_loss: 1.7750 - val_accuracy: 0.1405\n",
      "Epoch 8/10\n",
      "5146/5146 - 1s - loss: 1.8452 - accuracy: 0.1934 - val_loss: 1.7616 - val_accuracy: 0.1396\n",
      "Epoch 9/10\n",
      "5146/5146 - 1s - loss: 1.8311 - accuracy: 0.1953 - val_loss: 1.7485 - val_accuracy: 0.1378\n",
      "Epoch 10/10\n",
      "5146/5146 - 1s - loss: 1.8276 - accuracy: 0.1912 - val_loss: 1.7357 - val_accuracy: 0.1419\n",
      "Train on 5146 samples, validate on 2206 samples\n",
      "Epoch 1/10\n",
      "5146/5146 - 3s - loss: 1.8790 - accuracy: 0.1607 - val_loss: 1.7753 - val_accuracy: 0.0925\n",
      "Epoch 2/10\n",
      "5146/5146 - 1s - loss: 1.8626 - accuracy: 0.1850 - val_loss: 1.7615 - val_accuracy: 0.1247\n",
      "Epoch 3/10\n",
      "5146/5146 - 1s - loss: 1.8538 - accuracy: 0.1906 - val_loss: 1.7479 - val_accuracy: 0.1582\n",
      "Epoch 4/10\n",
      "5146/5146 - 1s - loss: 1.8410 - accuracy: 0.1984 - val_loss: 1.7345 - val_accuracy: 0.2053\n",
      "Epoch 5/10\n",
      "5146/5146 - 1s - loss: 1.8391 - accuracy: 0.1974 - val_loss: 1.7213 - val_accuracy: 0.3450\n",
      "Epoch 6/10\n",
      "5146/5146 - 1s - loss: 1.8148 - accuracy: 0.2206 - val_loss: 1.7085 - val_accuracy: 0.4479\n",
      "Epoch 7/10\n",
      "5146/5146 - 1s - loss: 1.7997 - accuracy: 0.2305 - val_loss: 1.6961 - val_accuracy: 0.4660\n",
      "Epoch 8/10\n",
      "5146/5146 - 1s - loss: 1.7936 - accuracy: 0.2318 - val_loss: 1.6837 - val_accuracy: 0.4714\n",
      "Epoch 9/10\n",
      "5146/5146 - 1s - loss: 1.7801 - accuracy: 0.2483 - val_loss: 1.6719 - val_accuracy: 0.4751\n",
      "Epoch 10/10\n",
      "5146/5146 - 1s - loss: 1.7752 - accuracy: 0.2544 - val_loss: 1.6602 - val_accuracy: 0.4773\n",
      "Train on 5146 samples, validate on 2206 samples\n",
      "Epoch 1/10\n",
      "5146/5146 - 3s - loss: 1.9566 - accuracy: 0.1374 - val_loss: 1.8809 - val_accuracy: 0.0966\n",
      "Epoch 2/10\n",
      "5146/5146 - 1s - loss: 1.9427 - accuracy: 0.1430 - val_loss: 1.8667 - val_accuracy: 0.1138\n",
      "Epoch 3/10\n",
      "5146/5146 - 1s - loss: 1.9273 - accuracy: 0.1413 - val_loss: 1.8526 - val_accuracy: 0.1260\n",
      "Epoch 4/10\n",
      "5146/5146 - 1s - loss: 1.9191 - accuracy: 0.1527 - val_loss: 1.8393 - val_accuracy: 0.1451\n",
      "Epoch 5/10\n",
      "5146/5146 - 1s - loss: 1.8890 - accuracy: 0.1654 - val_loss: 1.8260 - val_accuracy: 0.1618\n",
      "Epoch 6/10\n",
      "5146/5146 - 1s - loss: 1.8865 - accuracy: 0.1737 - val_loss: 1.8130 - val_accuracy: 0.1709\n",
      "Epoch 7/10\n",
      "5146/5146 - 1s - loss: 1.8770 - accuracy: 0.1764 - val_loss: 1.8005 - val_accuracy: 0.1845\n"
     ]
    },
    {
     "name": "stdout",
     "output_type": "stream",
     "text": [
      "Epoch 8/10\n",
      "5146/5146 - 1s - loss: 1.8698 - accuracy: 0.1801 - val_loss: 1.7884 - val_accuracy: 0.1963\n",
      "Epoch 9/10\n",
      "5146/5146 - 1s - loss: 1.8489 - accuracy: 0.1955 - val_loss: 1.7763 - val_accuracy: 0.2480\n",
      "Epoch 10/10\n",
      "5146/5146 - 1s - loss: 1.8478 - accuracy: 0.1965 - val_loss: 1.7646 - val_accuracy: 0.3368\n",
      "Train on 5146 samples, validate on 2206 samples\n",
      "Epoch 1/10\n",
      "5146/5146 - 3s - loss: 1.8120 - accuracy: 0.2198 - val_loss: 1.7449 - val_accuracy: 0.1822\n",
      "Epoch 2/10\n",
      "5146/5146 - 1s - loss: 1.8077 - accuracy: 0.2196 - val_loss: 1.7334 - val_accuracy: 0.1831\n",
      "Epoch 3/10\n",
      "5146/5146 - 1s - loss: 1.7921 - accuracy: 0.2349 - val_loss: 1.7222 - val_accuracy: 0.1840\n",
      "Epoch 4/10\n",
      "5146/5146 - 1s - loss: 1.7807 - accuracy: 0.2363 - val_loss: 1.7113 - val_accuracy: 0.1836\n",
      "Epoch 5/10\n",
      "5146/5146 - 1s - loss: 1.7632 - accuracy: 0.2380 - val_loss: 1.7006 - val_accuracy: 0.1840\n",
      "Epoch 6/10\n",
      "5146/5146 - 1s - loss: 1.7579 - accuracy: 0.2491 - val_loss: 1.6899 - val_accuracy: 0.1859\n",
      "Epoch 7/10\n",
      "5146/5146 - 1s - loss: 1.7479 - accuracy: 0.2460 - val_loss: 1.6795 - val_accuracy: 0.1859\n",
      "Epoch 8/10\n",
      "5146/5146 - 1s - loss: 1.7360 - accuracy: 0.2565 - val_loss: 1.6691 - val_accuracy: 0.1863\n",
      "Epoch 9/10\n",
      "5146/5146 - 1s - loss: 1.7384 - accuracy: 0.2509 - val_loss: 1.6590 - val_accuracy: 0.1890\n",
      "Epoch 10/10\n",
      "5146/5146 - 1s - loss: 1.7269 - accuracy: 0.2563 - val_loss: 1.6492 - val_accuracy: 0.1886\n",
      "Train on 5146 samples, validate on 2206 samples\n",
      "Epoch 1/10\n",
      "5146/5146 - 3s - loss: 1.8931 - accuracy: 0.1908 - val_loss: 1.7935 - val_accuracy: 0.2652\n",
      "Epoch 2/10\n",
      "5146/5146 - 1s - loss: 1.8704 - accuracy: 0.2005 - val_loss: 1.7807 - val_accuracy: 0.2629\n",
      "Epoch 3/10\n",
      "5146/5146 - 1s - loss: 1.8546 - accuracy: 0.2091 - val_loss: 1.7682 - val_accuracy: 0.2602\n",
      "Epoch 4/10\n",
      "5146/5146 - 1s - loss: 1.8477 - accuracy: 0.2186 - val_loss: 1.7559 - val_accuracy: 0.2593\n",
      "Epoch 5/10\n",
      "5146/5146 - 1s - loss: 1.8335 - accuracy: 0.2186 - val_loss: 1.7437 - val_accuracy: 0.2566\n",
      "Epoch 6/10\n",
      "5146/5146 - 1s - loss: 1.8190 - accuracy: 0.2309 - val_loss: 1.7318 - val_accuracy: 0.2539\n",
      "Epoch 7/10\n",
      "5146/5146 - 1s - loss: 1.8201 - accuracy: 0.2295 - val_loss: 1.7200 - val_accuracy: 0.2498\n",
      "Epoch 8/10\n",
      "5146/5146 - 1s - loss: 1.8005 - accuracy: 0.2353 - val_loss: 1.7083 - val_accuracy: 0.2466\n",
      "Epoch 9/10\n",
      "5146/5146 - 1s - loss: 1.7929 - accuracy: 0.2482 - val_loss: 1.6969 - val_accuracy: 0.2461\n",
      "Epoch 10/10\n",
      "5146/5146 - 1s - loss: 1.7803 - accuracy: 0.2534 - val_loss: 1.6859 - val_accuracy: 0.2434\n"
     ]
    },
    {
     "data": {
      "text/html": [
       "<span style=\"color:#4527A0\"><h1 style=\"font-size:18px\">Trial complete</h1></span>"
      ],
      "text/plain": [
       "<IPython.core.display.HTML object>"
      ]
     },
     "metadata": {},
     "output_type": "display_data"
    },
    {
     "data": {
      "text/html": [
       "<span style=\"color:#4527A0\"><h1 style=\"font-size:18px\">Trial summary</h1></span>"
      ],
      "text/plain": [
       "<IPython.core.display.HTML object>"
      ]
     },
     "metadata": {},
     "output_type": "display_data"
    },
    {
     "data": {
      "text/html": [
       "<span style=\"color:cyan\"> |-Trial ID: 9a4b1b50c463d7e28367ec3cd824b826</span>"
      ],
      "text/plain": [
       "<IPython.core.display.HTML object>"
      ]
     },
     "metadata": {},
     "output_type": "display_data"
    },
    {
     "data": {
      "text/html": [
       "<span style=\"color:cyan\"> |-Score: 0.27837714552879333</span>"
      ],
      "text/plain": [
       "<IPython.core.display.HTML object>"
      ]
     },
     "metadata": {},
     "output_type": "display_data"
    },
    {
     "data": {
      "text/html": [
       "<span style=\"color:cyan\"> |-Best step: 0</span>"
      ],
      "text/plain": [
       "<IPython.core.display.HTML object>"
      ]
     },
     "metadata": {},
     "output_type": "display_data"
    },
    {
     "data": {
      "text/html": [
       "<span style=\"color:#7E57C2\"><h2 style=\"font-size:16px\">Hyperparameters:</h2></span>"
      ],
      "text/plain": [
       "<IPython.core.display.HTML object>"
      ]
     },
     "metadata": {},
     "output_type": "display_data"
    },
    {
     "data": {
      "text/html": [
       "<span style=\"color:cyan\"> |-batch_size: 256</span>"
      ],
      "text/plain": [
       "<IPython.core.display.HTML object>"
      ]
     },
     "metadata": {},
     "output_type": "display_data"
    },
    {
     "data": {
      "text/html": [
       "<span style=\"color:blue\"> |-dense_0: 64</span>"
      ],
      "text/plain": [
       "<IPython.core.display.HTML object>"
      ]
     },
     "metadata": {},
     "output_type": "display_data"
    },
    {
     "data": {
      "text/html": [
       "<span style=\"color:cyan\"> |-dropout_1: 0.4000000000000001</span>"
      ],
      "text/plain": [
       "<IPython.core.display.HTML object>"
      ]
     },
     "metadata": {},
     "output_type": "display_data"
    },
    {
     "data": {
      "text/html": [
       "<span style=\"color:blue\"> |-dropout_2: 0.2</span>"
      ],
      "text/plain": [
       "<IPython.core.display.HTML object>"
      ]
     },
     "metadata": {},
     "output_type": "display_data"
    },
    {
     "data": {
      "text/html": [
       "<span style=\"color:cyan\"> |-dropout_3: 0.4</span>"
      ],
      "text/plain": [
       "<IPython.core.display.HTML object>"
      ]
     },
     "metadata": {},
     "output_type": "display_data"
    },
    {
     "data": {
      "text/html": [
       "<span style=\"color:blue\"> |-epochs: 10</span>"
      ],
      "text/plain": [
       "<IPython.core.display.HTML object>"
      ]
     },
     "metadata": {},
     "output_type": "display_data"
    },
    {
     "data": {
      "text/html": [
       "<span style=\"color:cyan\"> |-num_layers: 0</span>"
      ],
      "text/plain": [
       "<IPython.core.display.HTML object>"
      ]
     },
     "metadata": {},
     "output_type": "display_data"
    },
    {
     "data": {
      "text/html": [
       "<span style=\"color:blue\"> |-optimizer_name: adadelta</span>"
      ],
      "text/plain": [
       "<IPython.core.display.HTML object>"
      ]
     },
     "metadata": {},
     "output_type": "display_data"
    },
    {
     "data": {
      "text/html": [
       "<span style=\"color:cyan\"> |-units_1: 224</span>"
      ],
      "text/plain": [
       "<IPython.core.display.HTML object>"
      ]
     },
     "metadata": {},
     "output_type": "display_data"
    },
    {
     "data": {
      "text/html": [
       "<span style=\"color:blue\"> |-units_2: 192</span>"
      ],
      "text/plain": [
       "<IPython.core.display.HTML object>"
      ]
     },
     "metadata": {},
     "output_type": "display_data"
    },
    {
     "name": "stdout",
     "output_type": "stream",
     "text": [
      "Train on 5146 samples, validate on 2206 samples\n",
      "Epoch 1/15\n",
      "5146/5146 - 22s - loss: 1.1646 - accuracy: 0.5593 - val_loss: 0.7863 - val_accuracy: 0.6963\n",
      "Epoch 2/15\n",
      "5146/5146 - 4s - loss: 0.7930 - accuracy: 0.6955 - val_loss: 0.6605 - val_accuracy: 0.7117\n",
      "Epoch 3/15\n",
      "5146/5146 - 4s - loss: 0.6787 - accuracy: 0.7347 - val_loss: 0.5842 - val_accuracy: 0.7679\n",
      "Epoch 4/15\n",
      "5146/5146 - 4s - loss: 0.6136 - accuracy: 0.7635 - val_loss: 0.5142 - val_accuracy: 0.8046\n",
      "Epoch 5/15\n",
      "5146/5146 - 4s - loss: 0.5410 - accuracy: 0.8016 - val_loss: 0.4660 - val_accuracy: 0.8599\n",
      "Epoch 6/15\n",
      "5146/5146 - 4s - loss: 0.4715 - accuracy: 0.8237 - val_loss: 0.4275 - val_accuracy: 0.8717\n",
      "Epoch 7/15\n",
      "5146/5146 - 4s - loss: 0.4000 - accuracy: 0.8663 - val_loss: 0.3795 - val_accuracy: 0.8840\n",
      "Epoch 8/15\n",
      "5146/5146 - 4s - loss: 0.3604 - accuracy: 0.8824 - val_loss: 0.3609 - val_accuracy: 0.8840\n",
      "Epoch 9/15\n",
      "5146/5146 - 4s - loss: 0.3231 - accuracy: 0.8972 - val_loss: 0.3151 - val_accuracy: 0.9093\n",
      "Epoch 10/15\n",
      "5146/5146 - 4s - loss: 0.2900 - accuracy: 0.9149 - val_loss: 0.3283 - val_accuracy: 0.9021\n",
      "Epoch 11/15\n",
      "5146/5146 - 4s - loss: 0.2740 - accuracy: 0.9112 - val_loss: 0.3145 - val_accuracy: 0.9057\n",
      "Epoch 12/15\n",
      "5146/5146 - 4s - loss: 0.2571 - accuracy: 0.9229 - val_loss: 0.3428 - val_accuracy: 0.8917\n",
      "Epoch 13/15\n",
      "5146/5146 - 4s - loss: 0.2431 - accuracy: 0.9269 - val_loss: 0.3173 - val_accuracy: 0.9057\n",
      "Epoch 14/15\n",
      "5146/5146 - 4s - loss: 0.2317 - accuracy: 0.9240 - val_loss: 0.3294 - val_accuracy: 0.8994\n",
      "Epoch 15/15\n",
      "5146/5146 - 4s - loss: 0.2235 - accuracy: 0.9308 - val_loss: 0.3197 - val_accuracy: 0.9025\n",
      "Train on 5146 samples, validate on 2206 samples\n",
      "Epoch 1/15\n",
      "5146/5146 - 11s - loss: 1.1446 - accuracy: 0.5661 - val_loss: 0.7654 - val_accuracy: 0.7149\n",
      "Epoch 2/15\n",
      "5146/5146 - 4s - loss: 0.7356 - accuracy: 0.7221 - val_loss: 0.6468 - val_accuracy: 0.7516\n",
      "Epoch 3/15\n",
      "5146/5146 - 4s - loss: 0.6365 - accuracy: 0.7522 - val_loss: 0.6189 - val_accuracy: 0.7711\n",
      "Epoch 4/15\n",
      "5146/5146 - 4s - loss: 0.5684 - accuracy: 0.7775 - val_loss: 0.8019 - val_accuracy: 0.7053\n",
      "Epoch 5/15\n",
      "5146/5146 - 4s - loss: 0.5047 - accuracy: 0.8162 - val_loss: 0.4897 - val_accuracy: 0.8368\n",
      "Epoch 6/15\n",
      "5146/5146 - 4s - loss: 0.4523 - accuracy: 0.8391 - val_loss: 0.4803 - val_accuracy: 0.8518\n",
      "Epoch 7/15\n",
      "5146/5146 - 4s - loss: 0.4126 - accuracy: 0.8630 - val_loss: 0.4386 - val_accuracy: 0.8744\n",
      "Epoch 8/15\n",
      "5146/5146 - 4s - loss: 0.3750 - accuracy: 0.8793 - val_loss: 0.4191 - val_accuracy: 0.8812\n",
      "Epoch 9/15\n",
      "5146/5146 - 4s - loss: 0.3370 - accuracy: 0.8898 - val_loss: 0.4172 - val_accuracy: 0.8803\n",
      "Epoch 10/15\n",
      "5146/5146 - 4s - loss: 0.2975 - accuracy: 0.9059 - val_loss: 0.3893 - val_accuracy: 0.8849\n",
      "Epoch 11/15\n",
      "5146/5146 - 4s - loss: 0.3368 - accuracy: 0.8991 - val_loss: 0.4045 - val_accuracy: 0.8826\n",
      "Epoch 12/15\n",
      "5146/5146 - 4s - loss: 0.2771 - accuracy: 0.9168 - val_loss: 0.4381 - val_accuracy: 0.8740\n",
      "Epoch 13/15\n",
      "5146/5146 - 4s - loss: 0.2568 - accuracy: 0.9219 - val_loss: 0.4355 - val_accuracy: 0.8740\n",
      "Epoch 14/15\n",
      "5146/5146 - 4s - loss: 0.2429 - accuracy: 0.9240 - val_loss: 0.4044 - val_accuracy: 0.8790\n",
      "Epoch 15/15\n",
      "5146/5146 - 4s - loss: 0.2369 - accuracy: 0.9240 - val_loss: 0.4254 - val_accuracy: 0.8803\n",
      "Train on 5146 samples, validate on 2206 samples\n",
      "Epoch 1/15\n",
      "5146/5146 - 11s - loss: 1.1051 - accuracy: 0.5783 - val_loss: 0.7489 - val_accuracy: 0.7253\n",
      "Epoch 2/15\n",
      "5146/5146 - 4s - loss: 0.7415 - accuracy: 0.6928 - val_loss: 0.6890 - val_accuracy: 0.7412\n",
      "Epoch 3/15\n",
      "5146/5146 - 4s - loss: 0.6542 - accuracy: 0.7233 - val_loss: 0.6250 - val_accuracy: 0.7770\n",
      "Epoch 4/15\n",
      "5146/5146 - 4s - loss: 0.5989 - accuracy: 0.7517 - val_loss: 0.5934 - val_accuracy: 0.7987\n",
      "Epoch 5/15\n",
      "5146/5146 - 4s - loss: 0.5476 - accuracy: 0.7816 - val_loss: 0.5759 - val_accuracy: 0.8141\n",
      "Epoch 6/15\n",
      "5146/5146 - 4s - loss: 0.5015 - accuracy: 0.8084 - val_loss: 0.5555 - val_accuracy: 0.8259\n",
      "Epoch 7/15\n",
      "5146/5146 - 4s - loss: 0.4581 - accuracy: 0.8305 - val_loss: 0.5125 - val_accuracy: 0.8481\n",
      "Epoch 8/15\n",
      "5146/5146 - 4s - loss: 0.4038 - accuracy: 0.8634 - val_loss: 0.4998 - val_accuracy: 0.8450\n",
      "Epoch 9/15\n",
      "5146/5146 - 4s - loss: 0.3664 - accuracy: 0.8846 - val_loss: 0.5175 - val_accuracy: 0.8341\n",
      "Epoch 10/15\n",
      "5146/5146 - 4s - loss: 0.3314 - accuracy: 0.8955 - val_loss: 0.4961 - val_accuracy: 0.8373\n",
      "Epoch 11/15\n",
      "5146/5146 - 4s - loss: 0.2997 - accuracy: 0.9137 - val_loss: 0.4890 - val_accuracy: 0.8554\n",
      "Epoch 12/15\n",
      "5146/5146 - 4s - loss: 0.2932 - accuracy: 0.9106 - val_loss: 0.4181 - val_accuracy: 0.8776\n",
      "Epoch 13/15\n",
      "5146/5146 - 4s - loss: 0.2736 - accuracy: 0.9178 - val_loss: 0.4555 - val_accuracy: 0.8626\n",
      "Epoch 14/15\n",
      "5146/5146 - 4s - loss: 0.2574 - accuracy: 0.9250 - val_loss: 0.3885 - val_accuracy: 0.8921\n",
      "Epoch 15/15\n",
      "5146/5146 - 4s - loss: 0.2435 - accuracy: 0.9306 - val_loss: 0.4145 - val_accuracy: 0.8844\n",
      "Train on 5146 samples, validate on 2206 samples\n",
      "Epoch 1/15\n",
      "5146/5146 - 11s - loss: 1.2457 - accuracy: 0.5229 - val_loss: 0.9326 - val_accuracy: 0.6364\n",
      "Epoch 2/15\n",
      "5146/5146 - 4s - loss: 0.8539 - accuracy: 0.6827 - val_loss: 0.6964 - val_accuracy: 0.7647\n",
      "Epoch 3/15\n",
      "5146/5146 - 4s - loss: 0.7182 - accuracy: 0.7161 - val_loss: 0.6395 - val_accuracy: 0.7833\n",
      "Epoch 4/15\n",
      "5146/5146 - 4s - loss: 0.6412 - accuracy: 0.7447 - val_loss: 0.6118 - val_accuracy: 0.7824\n",
      "Epoch 5/15\n",
      "5146/5146 - 4s - loss: 0.5805 - accuracy: 0.7808 - val_loss: 0.5558 - val_accuracy: 0.8264\n",
      "Epoch 6/15\n",
      "5146/5146 - 4s - loss: 0.5240 - accuracy: 0.8117 - val_loss: 0.4792 - val_accuracy: 0.8631\n",
      "Epoch 7/15\n",
      "5146/5146 - 4s - loss: 0.4651 - accuracy: 0.8502 - val_loss: 0.4553 - val_accuracy: 0.8613\n",
      "Epoch 8/15\n",
      "5146/5146 - 4s - loss: 0.4155 - accuracy: 0.8690 - val_loss: 0.4534 - val_accuracy: 0.8536\n",
      "Epoch 9/15\n",
      "5146/5146 - 4s - loss: 0.3841 - accuracy: 0.8853 - val_loss: 0.4375 - val_accuracy: 0.8549\n",
      "Epoch 10/15\n",
      "5146/5146 - 4s - loss: 0.3495 - accuracy: 0.8984 - val_loss: 0.3824 - val_accuracy: 0.8812\n",
      "Epoch 11/15\n",
      "5146/5146 - 4s - loss: 0.3203 - accuracy: 0.9069 - val_loss: 0.4071 - val_accuracy: 0.8758\n",
      "Epoch 12/15\n",
      "5146/5146 - 4s - loss: 0.3091 - accuracy: 0.9135 - val_loss: 0.3652 - val_accuracy: 0.8962\n",
      "Epoch 13/15\n",
      "5146/5146 - 4s - loss: 0.2832 - accuracy: 0.9153 - val_loss: 0.3914 - val_accuracy: 0.8781\n",
      "Epoch 14/15\n",
      "5146/5146 - 4s - loss: 0.2625 - accuracy: 0.9236 - val_loss: 0.3321 - val_accuracy: 0.9084\n",
      "Epoch 15/15\n",
      "5146/5146 - 4s - loss: 0.2586 - accuracy: 0.9256 - val_loss: 0.3332 - val_accuracy: 0.9098\n",
      "Train on 5146 samples, validate on 2206 samples\n",
      "Epoch 1/15\n",
      "5146/5146 - 11s - loss: 1.1360 - accuracy: 0.5612 - val_loss: 0.8303 - val_accuracy: 0.7031\n",
      "Epoch 2/15\n",
      "5146/5146 - 4s - loss: 0.7788 - accuracy: 0.6819 - val_loss: 0.6972 - val_accuracy: 0.7566\n",
      "Epoch 3/15\n",
      "5146/5146 - 4s - loss: 0.6751 - accuracy: 0.7149 - val_loss: 0.6489 - val_accuracy: 0.7611\n",
      "Epoch 4/15\n",
      "5146/5146 - 4s - loss: 0.6219 - accuracy: 0.7367 - val_loss: 0.6313 - val_accuracy: 0.7842\n",
      "Epoch 5/15\n",
      "5146/5146 - 4s - loss: 0.5791 - accuracy: 0.7620 - val_loss: 0.5886 - val_accuracy: 0.8073\n",
      "Epoch 6/15\n",
      "5146/5146 - 4s - loss: 0.5389 - accuracy: 0.7903 - val_loss: 0.5629 - val_accuracy: 0.8137\n",
      "Epoch 7/15\n",
      "5146/5146 - 4s - loss: 0.5018 - accuracy: 0.8053 - val_loss: 0.5141 - val_accuracy: 0.8318\n",
      "Epoch 8/15\n",
      "5146/5146 - 4s - loss: 0.4654 - accuracy: 0.8323 - val_loss: 0.5336 - val_accuracy: 0.8141\n",
      "Epoch 9/15\n",
      "5146/5146 - 4s - loss: 0.4233 - accuracy: 0.8546 - val_loss: 0.4258 - val_accuracy: 0.8817\n",
      "Epoch 10/15\n",
      "5146/5146 - 4s - loss: 0.3831 - accuracy: 0.8793 - val_loss: 0.4520 - val_accuracy: 0.8640\n",
      "Epoch 11/15\n",
      "5146/5146 - 4s - loss: 0.3443 - accuracy: 0.8962 - val_loss: 0.4536 - val_accuracy: 0.8640\n",
      "Epoch 12/15\n",
      "5146/5146 - 4s - loss: 0.3169 - accuracy: 0.9054 - val_loss: 0.3983 - val_accuracy: 0.8844\n",
      "Epoch 13/15\n",
      "5146/5146 - 4s - loss: 0.2853 - accuracy: 0.9164 - val_loss: 0.4184 - val_accuracy: 0.8803\n",
      "Epoch 14/15\n",
      "5146/5146 - 4s - loss: 0.2646 - accuracy: 0.9240 - val_loss: 0.3706 - val_accuracy: 0.8944\n",
      "Epoch 15/15\n",
      "5146/5146 - 4s - loss: 0.2633 - accuracy: 0.9232 - val_loss: 0.4507 - val_accuracy: 0.8545\n",
      "Train on 5146 samples, validate on 2206 samples\n",
      "Epoch 1/15\n",
      "5146/5146 - 11s - loss: 1.0576 - accuracy: 0.5948 - val_loss: 0.7645 - val_accuracy: 0.7176\n",
      "Epoch 2/15\n",
      "5146/5146 - 4s - loss: 0.7311 - accuracy: 0.7221 - val_loss: 0.6653 - val_accuracy: 0.7262\n",
      "Epoch 3/15\n",
      "5146/5146 - 4s - loss: 0.6323 - accuracy: 0.7511 - val_loss: 0.6244 - val_accuracy: 0.7588\n"
     ]
    },
    {
     "name": "stdout",
     "output_type": "stream",
     "text": [
      "Epoch 4/15\n",
      "5146/5146 - 4s - loss: 0.5583 - accuracy: 0.7960 - val_loss: 0.5928 - val_accuracy: 0.7883\n",
      "Epoch 5/15\n",
      "5146/5146 - 4s - loss: 0.4859 - accuracy: 0.8307 - val_loss: 0.5164 - val_accuracy: 0.8277\n",
      "Epoch 6/15\n",
      "5146/5146 - 4s - loss: 0.4244 - accuracy: 0.8603 - val_loss: 0.4748 - val_accuracy: 0.8518\n",
      "Epoch 7/15\n",
      "5146/5146 - 4s - loss: 0.3741 - accuracy: 0.8782 - val_loss: 0.4283 - val_accuracy: 0.8640\n",
      "Epoch 8/15\n",
      "5146/5146 - 4s - loss: 0.3419 - accuracy: 0.8935 - val_loss: 0.4623 - val_accuracy: 0.8477\n",
      "Epoch 9/15\n",
      "5146/5146 - 4s - loss: 0.3194 - accuracy: 0.9003 - val_loss: 0.4541 - val_accuracy: 0.8558\n",
      "Epoch 10/15\n",
      "5146/5146 - 4s - loss: 0.2963 - accuracy: 0.9108 - val_loss: 0.4426 - val_accuracy: 0.8590\n",
      "Epoch 11/15\n",
      "5146/5146 - 4s - loss: 0.2789 - accuracy: 0.9135 - val_loss: 0.5153 - val_accuracy: 0.8336\n",
      "Epoch 12/15\n",
      "5146/5146 - 4s - loss: 0.2646 - accuracy: 0.9213 - val_loss: 0.4709 - val_accuracy: 0.8558\n",
      "Epoch 13/15\n",
      "5146/5146 - 4s - loss: 0.2523 - accuracy: 0.9227 - val_loss: 0.4055 - val_accuracy: 0.8794\n",
      "Epoch 14/15\n",
      "5146/5146 - 4s - loss: 0.2423 - accuracy: 0.9262 - val_loss: 0.4397 - val_accuracy: 0.8613\n",
      "Epoch 15/15\n",
      "5146/5146 - 4s - loss: 0.2300 - accuracy: 0.9283 - val_loss: 0.3244 - val_accuracy: 0.9025\n",
      "Train on 5146 samples, validate on 2206 samples\n",
      "Epoch 1/15\n",
      "5146/5146 - 11s - loss: 1.0632 - accuracy: 0.5836 - val_loss: 0.7382 - val_accuracy: 0.6890\n",
      "Epoch 2/15\n",
      "5146/5146 - 4s - loss: 0.7220 - accuracy: 0.6934 - val_loss: 0.6845 - val_accuracy: 0.7076\n",
      "Epoch 3/15\n",
      "5146/5146 - 4s - loss: 0.6552 - accuracy: 0.7188 - val_loss: 0.6495 - val_accuracy: 0.7398\n",
      "Epoch 4/15\n",
      "5146/5146 - 4s - loss: 0.6068 - accuracy: 0.7456 - val_loss: 0.6167 - val_accuracy: 0.7783\n",
      "Epoch 5/15\n",
      "5146/5146 - 4s - loss: 0.5633 - accuracy: 0.7715 - val_loss: 0.5976 - val_accuracy: 0.7956\n",
      "Epoch 6/15\n",
      "5146/5146 - 4s - loss: 0.5058 - accuracy: 0.8039 - val_loss: 0.5112 - val_accuracy: 0.8386\n",
      "Epoch 7/15\n",
      "5146/5146 - 4s - loss: 0.4591 - accuracy: 0.8302 - val_loss: 0.4812 - val_accuracy: 0.8599\n",
      "Epoch 8/15\n",
      "5146/5146 - 4s - loss: 0.4184 - accuracy: 0.8531 - val_loss: 0.4928 - val_accuracy: 0.8436\n",
      "Epoch 9/15\n",
      "5146/5146 - 4s - loss: 0.3762 - accuracy: 0.8766 - val_loss: 0.4315 - val_accuracy: 0.8617\n",
      "Epoch 10/15\n",
      "5146/5146 - 4s - loss: 0.3447 - accuracy: 0.8890 - val_loss: 0.4410 - val_accuracy: 0.8622\n",
      "Epoch 11/15\n",
      "5146/5146 - 4s - loss: 0.3203 - accuracy: 0.8988 - val_loss: 0.4060 - val_accuracy: 0.8681\n",
      "Epoch 12/15\n",
      "5146/5146 - 4s - loss: 0.2963 - accuracy: 0.9094 - val_loss: 0.4146 - val_accuracy: 0.8613\n",
      "Epoch 13/15\n",
      "5146/5146 - 4s - loss: 0.2850 - accuracy: 0.9114 - val_loss: 0.4068 - val_accuracy: 0.8821\n",
      "Epoch 14/15\n",
      "5146/5146 - 4s - loss: 0.2687 - accuracy: 0.9195 - val_loss: 0.3942 - val_accuracy: 0.8731\n",
      "Epoch 15/15\n",
      "5146/5146 - 4s - loss: 0.2506 - accuracy: 0.9221 - val_loss: 0.3914 - val_accuracy: 0.8726\n",
      "Train on 5146 samples, validate on 2206 samples\n",
      "Epoch 1/15\n",
      "5146/5146 - 11s - loss: 1.2520 - accuracy: 0.5181 - val_loss: 0.9606 - val_accuracy: 0.6038\n",
      "Epoch 2/15\n",
      "5146/5146 - 4s - loss: 0.8938 - accuracy: 0.6656 - val_loss: 0.7361 - val_accuracy: 0.7108\n",
      "Epoch 3/15\n",
      "5146/5146 - 4s - loss: 0.7167 - accuracy: 0.7334 - val_loss: 0.6930 - val_accuracy: 0.7076\n",
      "Epoch 4/15\n",
      "5146/5146 - 4s - loss: 0.6226 - accuracy: 0.7693 - val_loss: 0.6063 - val_accuracy: 0.7588\n",
      "Epoch 5/15\n",
      "5146/5146 - 4s - loss: 0.5688 - accuracy: 0.7787 - val_loss: 0.5752 - val_accuracy: 0.7824\n",
      "Epoch 6/15\n",
      "5146/5146 - 4s - loss: 0.5168 - accuracy: 0.7993 - val_loss: 0.5733 - val_accuracy: 0.7910\n",
      "Epoch 7/15\n",
      "5146/5146 - 4s - loss: 0.4726 - accuracy: 0.8210 - val_loss: 0.5362 - val_accuracy: 0.8101\n",
      "Epoch 8/15\n",
      "5146/5146 - 4s - loss: 0.4284 - accuracy: 0.8377 - val_loss: 0.4994 - val_accuracy: 0.8409\n",
      "Epoch 9/15\n",
      "5146/5146 - 4s - loss: 0.4072 - accuracy: 0.8500 - val_loss: 0.4950 - val_accuracy: 0.8450\n",
      "Epoch 10/15\n",
      "5146/5146 - 4s - loss: 0.3770 - accuracy: 0.8679 - val_loss: 0.4516 - val_accuracy: 0.8617\n",
      "Epoch 11/15\n",
      "5146/5146 - 4s - loss: 0.3398 - accuracy: 0.8848 - val_loss: 0.4150 - val_accuracy: 0.8821\n",
      "Epoch 12/15\n",
      "5146/5146 - 4s - loss: 0.3088 - accuracy: 0.9011 - val_loss: 0.3795 - val_accuracy: 0.8994\n",
      "Epoch 13/15\n",
      "5146/5146 - 4s - loss: 0.2837 - accuracy: 0.9122 - val_loss: 0.3862 - val_accuracy: 0.9044\n",
      "Epoch 14/15\n",
      "5146/5146 - 4s - loss: 0.2735 - accuracy: 0.9170 - val_loss: 0.4031 - val_accuracy: 0.8894\n",
      "Epoch 15/15\n",
      "5146/5146 - 4s - loss: 0.2451 - accuracy: 0.9238 - val_loss: 0.3737 - val_accuracy: 0.8989\n",
      "Train on 5146 samples, validate on 2206 samples\n",
      "Epoch 1/15\n",
      "5146/5146 - 11s - loss: 1.1187 - accuracy: 0.5602 - val_loss: 0.7817 - val_accuracy: 0.7103\n",
      "Epoch 2/15\n",
      "5146/5146 - 4s - loss: 0.7791 - accuracy: 0.6930 - val_loss: 0.6391 - val_accuracy: 0.7756\n",
      "Epoch 3/15\n",
      "5146/5146 - 4s - loss: 0.6666 - accuracy: 0.7311 - val_loss: 0.5807 - val_accuracy: 0.7869\n",
      "Epoch 4/15\n",
      "5146/5146 - 4s - loss: 0.6171 - accuracy: 0.7522 - val_loss: 0.5376 - val_accuracy: 0.8087\n",
      "Epoch 5/15\n",
      "5146/5146 - 4s - loss: 0.5421 - accuracy: 0.7913 - val_loss: 0.5091 - val_accuracy: 0.8228\n",
      "Epoch 6/15\n",
      "5146/5146 - 4s - loss: 0.4640 - accuracy: 0.8379 - val_loss: 0.4287 - val_accuracy: 0.8676\n",
      "Epoch 7/15\n",
      "5146/5146 - 4s - loss: 0.4023 - accuracy: 0.8675 - val_loss: 0.4397 - val_accuracy: 0.8608\n",
      "Epoch 8/15\n",
      "5146/5146 - 4s - loss: 0.3524 - accuracy: 0.8890 - val_loss: 0.4104 - val_accuracy: 0.8740\n",
      "Epoch 9/15\n",
      "5146/5146 - 4s - loss: 0.3174 - accuracy: 0.9021 - val_loss: 0.4097 - val_accuracy: 0.8781\n",
      "Epoch 10/15\n",
      "5146/5146 - 4s - loss: 0.2976 - accuracy: 0.9092 - val_loss: 0.3924 - val_accuracy: 0.8753\n",
      "Epoch 11/15\n",
      "5146/5146 - 4s - loss: 0.2773 - accuracy: 0.9168 - val_loss: 0.3899 - val_accuracy: 0.8812\n",
      "Epoch 12/15\n",
      "5146/5146 - 4s - loss: 0.2738 - accuracy: 0.9176 - val_loss: 0.3987 - val_accuracy: 0.8731\n",
      "Epoch 13/15\n",
      "5146/5146 - 4s - loss: 0.2635 - accuracy: 0.9213 - val_loss: 0.3942 - val_accuracy: 0.8803\n",
      "Epoch 14/15\n",
      "5146/5146 - 4s - loss: 0.2459 - accuracy: 0.9271 - val_loss: 0.3685 - val_accuracy: 0.8830\n",
      "Epoch 15/15\n",
      "5146/5146 - 4s - loss: 0.2325 - accuracy: 0.9295 - val_loss: 0.4015 - val_accuracy: 0.8744\n",
      "Train on 5146 samples, validate on 2206 samples\n",
      "Epoch 1/15\n",
      "5146/5146 - 11s - loss: 1.0856 - accuracy: 0.5834 - val_loss: 0.7824 - val_accuracy: 0.7121\n",
      "Epoch 2/15\n",
      "5146/5146 - 4s - loss: 0.7516 - accuracy: 0.6904 - val_loss: 0.6766 - val_accuracy: 0.7403\n",
      "Epoch 3/15\n",
      "5146/5146 - 4s - loss: 0.6529 - accuracy: 0.7355 - val_loss: 0.6636 - val_accuracy: 0.7294\n",
      "Epoch 4/15\n",
      "5146/5146 - 4s - loss: 0.5903 - accuracy: 0.7557 - val_loss: 0.6643 - val_accuracy: 0.7484\n",
      "Epoch 5/15\n",
      "5146/5146 - 4s - loss: 0.5540 - accuracy: 0.7783 - val_loss: 0.5923 - val_accuracy: 0.7779\n",
      "Epoch 6/15\n",
      "5146/5146 - 4s - loss: 0.4957 - accuracy: 0.8090 - val_loss: 0.5756 - val_accuracy: 0.7924\n",
      "Epoch 7/15\n",
      "5146/5146 - 4s - loss: 0.4511 - accuracy: 0.8313 - val_loss: 0.5602 - val_accuracy: 0.8141\n",
      "Epoch 8/15\n",
      "5146/5146 - 4s - loss: 0.4110 - accuracy: 0.8556 - val_loss: 0.5389 - val_accuracy: 0.8386\n",
      "Epoch 9/15\n",
      "5146/5146 - 4s - loss: 0.3536 - accuracy: 0.8805 - val_loss: 0.5416 - val_accuracy: 0.8218\n",
      "Epoch 10/15\n",
      "5146/5146 - 4s - loss: 0.3196 - accuracy: 0.9007 - val_loss: 0.4706 - val_accuracy: 0.8568\n",
      "Epoch 11/15\n",
      "5146/5146 - 4s - loss: 0.2968 - accuracy: 0.9077 - val_loss: 0.4680 - val_accuracy: 0.8568\n",
      "Epoch 12/15\n",
      "5146/5146 - 4s - loss: 0.2762 - accuracy: 0.9155 - val_loss: 0.4523 - val_accuracy: 0.8717\n",
      "Epoch 13/15\n",
      "5146/5146 - 4s - loss: 0.2538 - accuracy: 0.9192 - val_loss: 0.4851 - val_accuracy: 0.8558\n",
      "Epoch 14/15\n",
      "5146/5146 - 4s - loss: 0.2419 - accuracy: 0.9300 - val_loss: 0.4758 - val_accuracy: 0.8663\n",
      "Epoch 15/15\n",
      "5146/5146 - 4s - loss: 0.2393 - accuracy: 0.9254 - val_loss: 0.5162 - val_accuracy: 0.8486\n"
     ]
    },
    {
     "data": {
      "text/html": [
       "<span style=\"color:#4527A0\"><h1 style=\"font-size:18px\">Trial complete</h1></span>"
      ],
      "text/plain": [
       "<IPython.core.display.HTML object>"
      ]
     },
     "metadata": {},
     "output_type": "display_data"
    },
    {
     "data": {
      "text/html": [
       "<span style=\"color:#4527A0\"><h1 style=\"font-size:18px\">Trial summary</h1></span>"
      ],
      "text/plain": [
       "<IPython.core.display.HTML object>"
      ]
     },
     "metadata": {},
     "output_type": "display_data"
    },
    {
     "data": {
      "text/html": [
       "<span style=\"color:cyan\"> |-Trial ID: 3273104ad42f0a13b89502140c5c564f</span>"
      ],
      "text/plain": [
       "<IPython.core.display.HTML object>"
      ]
     },
     "metadata": {},
     "output_type": "display_data"
    },
    {
     "data": {
      "text/html": [
       "<span style=\"color:cyan\"> |-Score: 0.8934270739555359</span>"
      ],
      "text/plain": [
       "<IPython.core.display.HTML object>"
      ]
     },
     "metadata": {},
     "output_type": "display_data"
    },
    {
     "data": {
      "text/html": [
       "<span style=\"color:cyan\"> |-Best step: 0</span>"
      ],
      "text/plain": [
       "<IPython.core.display.HTML object>"
      ]
     },
     "metadata": {},
     "output_type": "display_data"
    },
    {
     "data": {
      "text/html": [
       "<span style=\"color:#7E57C2\"><h2 style=\"font-size:16px\">Hyperparameters:</h2></span>"
      ],
      "text/plain": [
       "<IPython.core.display.HTML object>"
      ]
     },
     "metadata": {},
     "output_type": "display_data"
    },
    {
     "data": {
      "text/html": [
       "<span style=\"color:cyan\"> |-batch_size: 32</span>"
      ],
      "text/plain": [
       "<IPython.core.display.HTML object>"
      ]
     },
     "metadata": {},
     "output_type": "display_data"
    },
    {
     "data": {
      "text/html": [
       "<span style=\"color:blue\"> |-dense_0: 192</span>"
      ],
      "text/plain": [
       "<IPython.core.display.HTML object>"
      ]
     },
     "metadata": {},
     "output_type": "display_data"
    },
    {
     "data": {
      "text/html": [
       "<span style=\"color:cyan\"> |-dropout_1: 0.5000000000000001</span>"
      ],
      "text/plain": [
       "<IPython.core.display.HTML object>"
      ]
     },
     "metadata": {},
     "output_type": "display_data"
    },
    {
     "data": {
      "text/html": [
       "<span style=\"color:blue\"> |-dropout_2: 0.4000000000000001</span>"
      ],
      "text/plain": [
       "<IPython.core.display.HTML object>"
      ]
     },
     "metadata": {},
     "output_type": "display_data"
    },
    {
     "data": {
      "text/html": [
       "<span style=\"color:cyan\"> |-dropout_3: 0.2</span>"
      ],
      "text/plain": [
       "<IPython.core.display.HTML object>"
      ]
     },
     "metadata": {},
     "output_type": "display_data"
    },
    {
     "data": {
      "text/html": [
       "<span style=\"color:blue\"> |-epochs: 15</span>"
      ],
      "text/plain": [
       "<IPython.core.display.HTML object>"
      ]
     },
     "metadata": {},
     "output_type": "display_data"
    },
    {
     "data": {
      "text/html": [
       "<span style=\"color:cyan\"> |-num_layers: 0</span>"
      ],
      "text/plain": [
       "<IPython.core.display.HTML object>"
      ]
     },
     "metadata": {},
     "output_type": "display_data"
    },
    {
     "data": {
      "text/html": [
       "<span style=\"color:blue\"> |-optimizer_name: adagrad</span>"
      ],
      "text/plain": [
       "<IPython.core.display.HTML object>"
      ]
     },
     "metadata": {},
     "output_type": "display_data"
    },
    {
     "data": {
      "text/html": [
       "<span style=\"color:cyan\"> |-units_1: 128</span>"
      ],
      "text/plain": [
       "<IPython.core.display.HTML object>"
      ]
     },
     "metadata": {},
     "output_type": "display_data"
    },
    {
     "data": {
      "text/html": [
       "<span style=\"color:blue\"> |-units_2: 64</span>"
      ],
      "text/plain": [
       "<IPython.core.display.HTML object>"
      ]
     },
     "metadata": {},
     "output_type": "display_data"
    },
    {
     "name": "stdout",
     "output_type": "stream",
     "text": [
      "Train on 5146 samples, validate on 2206 samples\n",
      "Epoch 1/10\n",
      "5146/5146 - 13s - loss: 1.4418 - accuracy: 0.4227 - val_loss: 0.9973 - val_accuracy: 0.5929\n",
      "Epoch 2/10\n",
      "5146/5146 - 1s - loss: 0.8466 - accuracy: 0.6444 - val_loss: 0.6450 - val_accuracy: 0.7602\n",
      "Epoch 3/10\n",
      "5146/5146 - 1s - loss: 0.6413 - accuracy: 0.7470 - val_loss: 0.5331 - val_accuracy: 0.8477\n",
      "Epoch 4/10\n",
      "5146/5146 - 1s - loss: 0.5431 - accuracy: 0.8082 - val_loss: 0.5833 - val_accuracy: 0.7951\n",
      "Epoch 5/10\n",
      "5146/5146 - 1s - loss: 0.4174 - accuracy: 0.8570 - val_loss: 0.4000 - val_accuracy: 0.8772\n",
      "Epoch 6/10\n",
      "5146/5146 - 1s - loss: 0.3122 - accuracy: 0.8955 - val_loss: 0.3669 - val_accuracy: 0.8944\n",
      "Epoch 7/10\n",
      "5146/5146 - 1s - loss: 0.2566 - accuracy: 0.9166 - val_loss: 0.3713 - val_accuracy: 0.9125\n",
      "Epoch 8/10\n",
      "5146/5146 - 1s - loss: 0.2212 - accuracy: 0.9281 - val_loss: 0.3321 - val_accuracy: 0.9193\n",
      "Epoch 9/10\n",
      "5146/5146 - 1s - loss: 0.1823 - accuracy: 0.9355 - val_loss: 0.3706 - val_accuracy: 0.9034\n",
      "Epoch 10/10\n",
      "5146/5146 - 1s - loss: 0.1620 - accuracy: 0.9429 - val_loss: 0.5707 - val_accuracy: 0.8685\n",
      "Train on 5146 samples, validate on 2206 samples\n",
      "Epoch 1/10\n",
      "5146/5146 - 2s - loss: 1.4167 - accuracy: 0.4361 - val_loss: 0.8682 - val_accuracy: 0.6836\n",
      "Epoch 2/10\n",
      "5146/5146 - 1s - loss: 0.8043 - accuracy: 0.6580 - val_loss: 0.6622 - val_accuracy: 0.7366\n",
      "Epoch 3/10\n",
      "5146/5146 - 1s - loss: 0.6352 - accuracy: 0.7369 - val_loss: 0.5444 - val_accuracy: 0.8155\n",
      "Epoch 4/10\n",
      "5146/5146 - 1s - loss: 0.4876 - accuracy: 0.8169 - val_loss: 0.4391 - val_accuracy: 0.8654\n",
      "Epoch 5/10\n",
      "5146/5146 - 1s - loss: 0.4208 - accuracy: 0.8647 - val_loss: 0.4626 - val_accuracy: 0.8436\n",
      "Epoch 6/10\n",
      "5146/5146 - 1s - loss: 0.3050 - accuracy: 0.9019 - val_loss: 0.4273 - val_accuracy: 0.8681\n",
      "Epoch 7/10\n",
      "5146/5146 - 1s - loss: 0.2509 - accuracy: 0.9273 - val_loss: 0.4741 - val_accuracy: 0.8658\n",
      "Epoch 8/10\n",
      "5146/5146 - 1s - loss: 0.2621 - accuracy: 0.9162 - val_loss: 0.4151 - val_accuracy: 0.8953\n",
      "Epoch 9/10\n",
      "5146/5146 - 1s - loss: 0.2751 - accuracy: 0.9038 - val_loss: 0.3875 - val_accuracy: 0.8898\n",
      "Epoch 10/10\n",
      "5146/5146 - 1s - loss: 0.1980 - accuracy: 0.9349 - val_loss: 0.3618 - val_accuracy: 0.8953\n",
      "Train on 5146 samples, validate on 2206 samples\n",
      "Epoch 1/10\n",
      "5146/5146 - 2s - loss: 1.4160 - accuracy: 0.4326 - val_loss: 0.9094 - val_accuracy: 0.6623\n",
      "Epoch 2/10\n",
      "5146/5146 - 1s - loss: 0.8269 - accuracy: 0.6477 - val_loss: 0.6732 - val_accuracy: 0.7593\n",
      "Epoch 3/10\n",
      "5146/5146 - 1s - loss: 0.6919 - accuracy: 0.6959 - val_loss: 0.5944 - val_accuracy: 0.8141\n",
      "Epoch 4/10\n",
      "5146/5146 - 1s - loss: 0.5539 - accuracy: 0.7798 - val_loss: 0.5616 - val_accuracy: 0.8404\n",
      "Epoch 5/10\n",
      "5146/5146 - 1s - loss: 0.4154 - accuracy: 0.8552 - val_loss: 0.3960 - val_accuracy: 0.8908\n",
      "Epoch 6/10\n",
      "5146/5146 - 1s - loss: 0.5186 - accuracy: 0.8484 - val_loss: 0.3946 - val_accuracy: 0.8935\n",
      "Epoch 7/10\n",
      "5146/5146 - 1s - loss: 0.3191 - accuracy: 0.9058 - val_loss: 0.3221 - val_accuracy: 0.9044\n",
      "Epoch 8/10\n",
      "5146/5146 - 1s - loss: 0.2424 - accuracy: 0.9213 - val_loss: 0.3773 - val_accuracy: 0.8957\n",
      "Epoch 9/10\n",
      "5146/5146 - 1s - loss: 0.2215 - accuracy: 0.9269 - val_loss: 0.3590 - val_accuracy: 0.9053\n",
      "Epoch 10/10\n",
      "5146/5146 - 1s - loss: 0.2373 - accuracy: 0.9232 - val_loss: 0.3376 - val_accuracy: 0.9130\n",
      "Train on 5146 samples, validate on 2206 samples\n",
      "Epoch 1/10\n",
      "5146/5146 - 2s - loss: 1.3252 - accuracy: 0.4819 - val_loss: 0.7502 - val_accuracy: 0.7257\n",
      "Epoch 2/10\n",
      "5146/5146 - 1s - loss: 0.7621 - accuracy: 0.6675 - val_loss: 0.6230 - val_accuracy: 0.7552\n",
      "Epoch 3/10\n",
      "5146/5146 - 1s - loss: 0.6151 - accuracy: 0.7532 - val_loss: 0.5092 - val_accuracy: 0.8128\n",
      "Epoch 4/10\n",
      "5146/5146 - 1s - loss: 0.4430 - accuracy: 0.8490 - val_loss: 0.4324 - val_accuracy: 0.8577\n",
      "Epoch 5/10\n",
      "5146/5146 - 1s - loss: 0.3129 - accuracy: 0.9036 - val_loss: 0.4396 - val_accuracy: 0.8840\n",
      "Epoch 6/10\n",
      "5146/5146 - 1s - loss: 0.3305 - accuracy: 0.9019 - val_loss: 0.3482 - val_accuracy: 0.8898\n",
      "Epoch 7/10\n",
      "5146/5146 - 1s - loss: 0.2530 - accuracy: 0.9172 - val_loss: 0.4339 - val_accuracy: 0.8631\n",
      "Epoch 8/10\n",
      "5146/5146 - 1s - loss: 0.2053 - accuracy: 0.9328 - val_loss: 0.3029 - val_accuracy: 0.9098\n",
      "Epoch 9/10\n",
      "5146/5146 - 1s - loss: 0.1734 - accuracy: 0.9351 - val_loss: 0.3585 - val_accuracy: 0.8985\n",
      "Epoch 10/10\n",
      "5146/5146 - 1s - loss: 0.1548 - accuracy: 0.9398 - val_loss: 0.4177 - val_accuracy: 0.8826\n",
      "Train on 5146 samples, validate on 2206 samples\n",
      "Epoch 1/10\n",
      "5146/5146 - 2s - loss: 1.3947 - accuracy: 0.4415 - val_loss: 0.9448 - val_accuracy: 0.6378\n",
      "Epoch 2/10\n",
      "5146/5146 - 1s - loss: 0.7837 - accuracy: 0.6661 - val_loss: 0.8093 - val_accuracy: 0.7053\n",
      "Epoch 3/10\n",
      "5146/5146 - 1s - loss: 0.6244 - accuracy: 0.7394 - val_loss: 0.5655 - val_accuracy: 0.8327\n",
      "Epoch 4/10\n",
      "5146/5146 - 1s - loss: 0.4856 - accuracy: 0.8134 - val_loss: 0.6217 - val_accuracy: 0.8178\n",
      "Epoch 5/10\n",
      "5146/5146 - 1s - loss: 0.3702 - accuracy: 0.8741 - val_loss: 0.6993 - val_accuracy: 0.7847\n",
      "Epoch 6/10\n",
      "5146/5146 - 1s - loss: 0.3391 - accuracy: 0.8795 - val_loss: 0.3520 - val_accuracy: 0.9148\n",
      "Epoch 7/10\n",
      "5146/5146 - 1s - loss: 0.2732 - accuracy: 0.9092 - val_loss: 0.4792 - val_accuracy: 0.8876\n",
      "Epoch 8/10\n",
      "5146/5146 - 1s - loss: 0.2396 - accuracy: 0.9248 - val_loss: 0.4572 - val_accuracy: 0.8821\n",
      "Epoch 9/10\n",
      "5146/5146 - 1s - loss: 0.2176 - accuracy: 0.9267 - val_loss: 0.4315 - val_accuracy: 0.9012\n",
      "Epoch 10/10\n",
      "5146/5146 - 1s - loss: 0.1720 - accuracy: 0.9370 - val_loss: 0.4818 - val_accuracy: 0.8898\n",
      "Train on 5146 samples, validate on 2206 samples\n",
      "Epoch 1/10\n",
      "5146/5146 - 2s - loss: 1.2721 - accuracy: 0.4907 - val_loss: 0.7599 - val_accuracy: 0.7294\n",
      "Epoch 2/10\n",
      "5146/5146 - 1s - loss: 0.7183 - accuracy: 0.7002 - val_loss: 0.6238 - val_accuracy: 0.7824\n",
      "Epoch 3/10\n",
      "5146/5146 - 1s - loss: 0.5550 - accuracy: 0.7874 - val_loss: 0.4150 - val_accuracy: 0.8830\n",
      "Epoch 4/10\n",
      "5146/5146 - 1s - loss: 0.3757 - accuracy: 0.8789 - val_loss: 0.4891 - val_accuracy: 0.8608\n",
      "Epoch 5/10\n",
      "5146/5146 - 1s - loss: 0.4638 - accuracy: 0.8649 - val_loss: 1.1531 - val_accuracy: 0.7484\n",
      "Epoch 6/10\n",
      "5146/5146 - 1s - loss: 0.4621 - accuracy: 0.8552 - val_loss: 0.4680 - val_accuracy: 0.8608\n",
      "Epoch 7/10\n",
      "5146/5146 - 1s - loss: 0.2602 - accuracy: 0.9186 - val_loss: 0.3330 - val_accuracy: 0.9125\n",
      "Epoch 8/10\n",
      "5146/5146 - 1s - loss: 0.2274 - accuracy: 0.9246 - val_loss: 0.3437 - val_accuracy: 0.9148\n",
      "Epoch 9/10\n",
      "5146/5146 - 1s - loss: 0.1885 - accuracy: 0.9384 - val_loss: 0.3364 - val_accuracy: 0.9161\n",
      "Epoch 10/10\n",
      "5146/5146 - 1s - loss: 0.1760 - accuracy: 0.9413 - val_loss: 0.3394 - val_accuracy: 0.9139\n",
      "Train on 5146 samples, validate on 2206 samples\n",
      "Epoch 1/10\n",
      "5146/5146 - 2s - loss: 1.3517 - accuracy: 0.4639 - val_loss: 0.8387 - val_accuracy: 0.7035\n",
      "Epoch 2/10\n",
      "5146/5146 - 1s - loss: 0.7417 - accuracy: 0.7029 - val_loss: 0.6541 - val_accuracy: 0.7765\n",
      "Epoch 3/10\n",
      "5146/5146 - 1s - loss: 0.6362 - accuracy: 0.7460 - val_loss: 0.5360 - val_accuracy: 0.8005\n",
      "Epoch 4/10\n",
      "5146/5146 - 1s - loss: 0.4846 - accuracy: 0.8265 - val_loss: 0.3747 - val_accuracy: 0.8722\n",
      "Epoch 5/10\n",
      "5146/5146 - 1s - loss: 0.3683 - accuracy: 0.8836 - val_loss: 0.5142 - val_accuracy: 0.8395\n",
      "Epoch 6/10\n",
      "5146/5146 - 1s - loss: 0.2868 - accuracy: 0.9143 - val_loss: 0.3404 - val_accuracy: 0.8998\n",
      "Epoch 7/10\n",
      "5146/5146 - 1s - loss: 0.2429 - accuracy: 0.9285 - val_loss: 0.2936 - val_accuracy: 0.9229\n",
      "Epoch 8/10\n",
      "5146/5146 - 1s - loss: 0.2542 - accuracy: 0.9213 - val_loss: 0.4439 - val_accuracy: 0.8994\n",
      "Epoch 9/10\n",
      "5146/5146 - 1s - loss: 0.1989 - accuracy: 0.9322 - val_loss: 0.3323 - val_accuracy: 0.9143\n",
      "Epoch 10/10\n",
      "5146/5146 - 1s - loss: 0.2083 - accuracy: 0.9312 - val_loss: 0.3117 - val_accuracy: 0.9261\n",
      "Train on 5146 samples, validate on 2206 samples\n",
      "Epoch 1/10\n",
      "5146/5146 - 2s - loss: 1.3605 - accuracy: 0.4637 - val_loss: 0.7488 - val_accuracy: 0.7248\n",
      "Epoch 2/10\n",
      "5146/5146 - 1s - loss: 0.7798 - accuracy: 0.6650 - val_loss: 0.7174 - val_accuracy: 0.6967\n",
      "Epoch 3/10\n",
      "5146/5146 - 1s - loss: 0.7795 - accuracy: 0.6908 - val_loss: 0.7264 - val_accuracy: 0.7484\n",
      "Epoch 4/10\n",
      "5146/5146 - 1s - loss: 0.6888 - accuracy: 0.7231 - val_loss: 0.6208 - val_accuracy: 0.7942\n",
      "Epoch 5/10\n",
      "5146/5146 - 1s - loss: 0.4941 - accuracy: 0.8150 - val_loss: 0.5647 - val_accuracy: 0.8391\n",
      "Epoch 6/10\n",
      "5146/5146 - 1s - loss: 0.3826 - accuracy: 0.8745 - val_loss: 0.4267 - val_accuracy: 0.8767\n",
      "Epoch 7/10\n",
      "5146/5146 - 1s - loss: 0.2755 - accuracy: 0.9159 - val_loss: 0.5220 - val_accuracy: 0.8658\n"
     ]
    },
    {
     "name": "stdout",
     "output_type": "stream",
     "text": [
      "Epoch 8/10\n",
      "5146/5146 - 1s - loss: 0.2188 - accuracy: 0.9275 - val_loss: 0.4994 - val_accuracy: 0.8613\n",
      "Epoch 9/10\n",
      "5146/5146 - 1s - loss: 0.2361 - accuracy: 0.9186 - val_loss: 0.7054 - val_accuracy: 0.8019\n",
      "Epoch 10/10\n",
      "5146/5146 - 1s - loss: 0.2265 - accuracy: 0.9161 - val_loss: 0.3488 - val_accuracy: 0.9139\n",
      "Train on 5146 samples, validate on 2206 samples\n",
      "Epoch 1/10\n",
      "5146/5146 - 2s - loss: 1.3610 - accuracy: 0.4543 - val_loss: 0.7937 - val_accuracy: 0.7262\n",
      "Epoch 2/10\n",
      "5146/5146 - 1s - loss: 0.7972 - accuracy: 0.6652 - val_loss: 0.6671 - val_accuracy: 0.7679\n",
      "Epoch 3/10\n",
      "5146/5146 - 1s - loss: 0.6072 - accuracy: 0.7627 - val_loss: 0.6141 - val_accuracy: 0.7856\n",
      "Epoch 4/10\n",
      "5146/5146 - 1s - loss: 0.4859 - accuracy: 0.8298 - val_loss: 0.6610 - val_accuracy: 0.7774\n",
      "Epoch 5/10\n",
      "5146/5146 - 1s - loss: 0.4293 - accuracy: 0.8626 - val_loss: 0.4516 - val_accuracy: 0.8608\n",
      "Epoch 6/10\n",
      "5146/5146 - 1s - loss: 0.2927 - accuracy: 0.9096 - val_loss: 0.4827 - val_accuracy: 0.8858\n",
      "Epoch 7/10\n",
      "5146/5146 - 1s - loss: 0.2184 - accuracy: 0.9312 - val_loss: 0.4642 - val_accuracy: 0.8617\n",
      "Epoch 8/10\n",
      "5146/5146 - 1s - loss: 0.2127 - accuracy: 0.9281 - val_loss: 0.3966 - val_accuracy: 0.9116\n",
      "Epoch 9/10\n",
      "5146/5146 - 1s - loss: 0.1799 - accuracy: 0.9372 - val_loss: 0.3935 - val_accuracy: 0.9157\n",
      "Epoch 10/10\n",
      "5146/5146 - 1s - loss: 0.1721 - accuracy: 0.9328 - val_loss: 0.4057 - val_accuracy: 0.9062\n",
      "Train on 5146 samples, validate on 2206 samples\n",
      "Epoch 1/10\n",
      "5146/5146 - 2s - loss: 1.3328 - accuracy: 0.4664 - val_loss: 0.8114 - val_accuracy: 0.6863\n",
      "Epoch 2/10\n",
      "5146/5146 - 1s - loss: 0.7619 - accuracy: 0.6817 - val_loss: 0.6202 - val_accuracy: 0.7797\n",
      "Epoch 3/10\n",
      "5146/5146 - 1s - loss: 0.6618 - accuracy: 0.7291 - val_loss: 0.6315 - val_accuracy: 0.7879\n",
      "Epoch 4/10\n",
      "5146/5146 - 1s - loss: 0.5013 - accuracy: 0.8133 - val_loss: 0.5974 - val_accuracy: 0.8037\n",
      "Epoch 5/10\n",
      "5146/5146 - 1s - loss: 0.3669 - accuracy: 0.8807 - val_loss: 0.4797 - val_accuracy: 0.8672\n",
      "Epoch 6/10\n",
      "5146/5146 - 1s - loss: 0.2586 - accuracy: 0.9219 - val_loss: 0.5306 - val_accuracy: 0.8740\n",
      "Epoch 7/10\n",
      "5146/5146 - 1s - loss: 0.2396 - accuracy: 0.9223 - val_loss: 0.4119 - val_accuracy: 0.8948\n",
      "Epoch 8/10\n",
      "5146/5146 - 1s - loss: 0.1982 - accuracy: 0.9339 - val_loss: 0.3398 - val_accuracy: 0.9243\n",
      "Epoch 9/10\n",
      "5146/5146 - 1s - loss: 0.1724 - accuracy: 0.9407 - val_loss: 0.3660 - val_accuracy: 0.9220\n",
      "Epoch 10/10\n",
      "5146/5146 - 1s - loss: 0.1650 - accuracy: 0.9419 - val_loss: 0.4374 - val_accuracy: 0.8998\n"
     ]
    },
    {
     "data": {
      "text/html": [
       "<span style=\"color:#4527A0\"><h1 style=\"font-size:18px\">Trial complete</h1></span>"
      ],
      "text/plain": [
       "<IPython.core.display.HTML object>"
      ]
     },
     "metadata": {},
     "output_type": "display_data"
    },
    {
     "data": {
      "text/html": [
       "<span style=\"color:#4527A0\"><h1 style=\"font-size:18px\">Trial summary</h1></span>"
      ],
      "text/plain": [
       "<IPython.core.display.HTML object>"
      ]
     },
     "metadata": {},
     "output_type": "display_data"
    },
    {
     "data": {
      "text/html": [
       "<span style=\"color:cyan\"> |-Trial ID: e4b10f650d2d863e9fbf5e0dfd1682ba</span>"
      ],
      "text/plain": [
       "<IPython.core.display.HTML object>"
      ]
     },
     "metadata": {},
     "output_type": "display_data"
    },
    {
     "data": {
      "text/html": [
       "<span style=\"color:cyan\"> |-Score: 0.9148232340812683</span>"
      ],
      "text/plain": [
       "<IPython.core.display.HTML object>"
      ]
     },
     "metadata": {},
     "output_type": "display_data"
    },
    {
     "data": {
      "text/html": [
       "<span style=\"color:cyan\"> |-Best step: 0</span>"
      ],
      "text/plain": [
       "<IPython.core.display.HTML object>"
      ]
     },
     "metadata": {},
     "output_type": "display_data"
    },
    {
     "data": {
      "text/html": [
       "<span style=\"color:#7E57C2\"><h2 style=\"font-size:16px\">Hyperparameters:</h2></span>"
      ],
      "text/plain": [
       "<IPython.core.display.HTML object>"
      ]
     },
     "metadata": {},
     "output_type": "display_data"
    },
    {
     "data": {
      "text/html": [
       "<span style=\"color:cyan\"> |-batch_size: 192</span>"
      ],
      "text/plain": [
       "<IPython.core.display.HTML object>"
      ]
     },
     "metadata": {},
     "output_type": "display_data"
    },
    {
     "data": {
      "text/html": [
       "<span style=\"color:blue\"> |-dense_0: 96</span>"
      ],
      "text/plain": [
       "<IPython.core.display.HTML object>"
      ]
     },
     "metadata": {},
     "output_type": "display_data"
    },
    {
     "data": {
      "text/html": [
       "<span style=\"color:cyan\"> |-dropout_1: 0.30000000000000004</span>"
      ],
      "text/plain": [
       "<IPython.core.display.HTML object>"
      ]
     },
     "metadata": {},
     "output_type": "display_data"
    },
    {
     "data": {
      "text/html": [
       "<span style=\"color:blue\"> |-dropout_2: 0.30000000000000004</span>"
      ],
      "text/plain": [
       "<IPython.core.display.HTML object>"
      ]
     },
     "metadata": {},
     "output_type": "display_data"
    },
    {
     "data": {
      "text/html": [
       "<span style=\"color:cyan\"> |-dropout_3: 0.8</span>"
      ],
      "text/plain": [
       "<IPython.core.display.HTML object>"
      ]
     },
     "metadata": {},
     "output_type": "display_data"
    },
    {
     "data": {
      "text/html": [
       "<span style=\"color:blue\"> |-epochs: 10</span>"
      ],
      "text/plain": [
       "<IPython.core.display.HTML object>"
      ]
     },
     "metadata": {},
     "output_type": "display_data"
    },
    {
     "data": {
      "text/html": [
       "<span style=\"color:cyan\"> |-num_layers: 0</span>"
      ],
      "text/plain": [
       "<IPython.core.display.HTML object>"
      ]
     },
     "metadata": {},
     "output_type": "display_data"
    },
    {
     "data": {
      "text/html": [
       "<span style=\"color:blue\"> |-optimizer_name: adam</span>"
      ],
      "text/plain": [
       "<IPython.core.display.HTML object>"
      ]
     },
     "metadata": {},
     "output_type": "display_data"
    },
    {
     "data": {
      "text/html": [
       "<span style=\"color:cyan\"> |-units_1: 64</span>"
      ],
      "text/plain": [
       "<IPython.core.display.HTML object>"
      ]
     },
     "metadata": {},
     "output_type": "display_data"
    },
    {
     "data": {
      "text/html": [
       "<span style=\"color:blue\"> |-units_2: 160</span>"
      ],
      "text/plain": [
       "<IPython.core.display.HTML object>"
      ]
     },
     "metadata": {},
     "output_type": "display_data"
    },
    {
     "name": "stdout",
     "output_type": "stream",
     "text": [
      "Train on 5146 samples, validate on 2206 samples\n",
      "Epoch 1/20\n",
      "5146/5146 - 14s - loss: 2.1357 - accuracy: 0.1510 - val_loss: 1.9393 - val_accuracy: 0.1111\n",
      "Epoch 2/20\n",
      "5146/5146 - 1s - loss: 2.1445 - accuracy: 0.1539 - val_loss: 1.9268 - val_accuracy: 0.1201\n",
      "Epoch 3/20\n",
      "5146/5146 - 1s - loss: 2.1365 - accuracy: 0.1510 - val_loss: 1.9147 - val_accuracy: 0.1260\n",
      "Epoch 4/20\n",
      "5146/5146 - 1s - loss: 2.0913 - accuracy: 0.1663 - val_loss: 1.9028 - val_accuracy: 0.1324\n",
      "Epoch 5/20\n",
      "5146/5146 - 1s - loss: 2.0977 - accuracy: 0.1574 - val_loss: 1.8910 - val_accuracy: 0.1355\n",
      "Epoch 6/20\n",
      "5146/5146 - 1s - loss: 2.0840 - accuracy: 0.1677 - val_loss: 1.8795 - val_accuracy: 0.1423\n",
      "Epoch 7/20\n",
      "5146/5146 - 1s - loss: 2.0746 - accuracy: 0.1621 - val_loss: 1.8683 - val_accuracy: 0.1478\n",
      "Epoch 8/20\n",
      "5146/5146 - 1s - loss: 2.0673 - accuracy: 0.1675 - val_loss: 1.8572 - val_accuracy: 0.1514\n",
      "Epoch 9/20\n",
      "5146/5146 - 1s - loss: 2.0678 - accuracy: 0.1695 - val_loss: 1.8463 - val_accuracy: 0.1546\n",
      "Epoch 10/20\n",
      "5146/5146 - 1s - loss: 2.0516 - accuracy: 0.1726 - val_loss: 1.8355 - val_accuracy: 0.1618\n",
      "Epoch 11/20\n",
      "5146/5146 - 1s - loss: 2.0369 - accuracy: 0.1757 - val_loss: 1.8252 - val_accuracy: 0.1700\n",
      "Epoch 12/20\n",
      "5146/5146 - 1s - loss: 2.0024 - accuracy: 0.1825 - val_loss: 1.8153 - val_accuracy: 0.1777\n",
      "Epoch 13/20\n",
      "5146/5146 - 1s - loss: 2.0265 - accuracy: 0.1768 - val_loss: 1.8056 - val_accuracy: 0.1831\n",
      "Epoch 14/20\n",
      "5146/5146 - 1s - loss: 1.9999 - accuracy: 0.1947 - val_loss: 1.7960 - val_accuracy: 0.1927\n",
      "Epoch 15/20\n",
      "5146/5146 - 1s - loss: 1.9915 - accuracy: 0.1932 - val_loss: 1.7866 - val_accuracy: 0.2004\n",
      "Epoch 16/20\n",
      "5146/5146 - 1s - loss: 1.9860 - accuracy: 0.1821 - val_loss: 1.7771 - val_accuracy: 0.2090\n",
      "Epoch 17/20\n",
      "5146/5146 - 1s - loss: 1.9832 - accuracy: 0.1935 - val_loss: 1.7681 - val_accuracy: 0.2144\n",
      "Epoch 18/20\n",
      "5146/5146 - 1s - loss: 1.9617 - accuracy: 0.2002 - val_loss: 1.7592 - val_accuracy: 0.2217\n",
      "Epoch 19/20\n",
      "5146/5146 - 1s - loss: 1.9636 - accuracy: 0.1955 - val_loss: 1.7505 - val_accuracy: 0.2312\n",
      "Epoch 20/20\n",
      "5146/5146 - 1s - loss: 1.9645 - accuracy: 0.2011 - val_loss: 1.7420 - val_accuracy: 0.2403\n",
      "Train on 5146 samples, validate on 2206 samples\n",
      "Epoch 1/20\n",
      "5146/5146 - 2s - loss: 2.0711 - accuracy: 0.1504 - val_loss: 1.8578 - val_accuracy: 0.1469\n",
      "Epoch 2/20\n",
      "5146/5146 - 1s - loss: 2.0618 - accuracy: 0.1566 - val_loss: 1.8501 - val_accuracy: 0.1487\n",
      "Epoch 3/20\n",
      "5146/5146 - 1s - loss: 2.0558 - accuracy: 0.1529 - val_loss: 1.8426 - val_accuracy: 0.1510\n",
      "Epoch 4/20\n",
      "5146/5146 - 1s - loss: 2.0517 - accuracy: 0.1518 - val_loss: 1.8352 - val_accuracy: 0.1519\n",
      "Epoch 5/20\n",
      "5146/5146 - 1s - loss: 2.0370 - accuracy: 0.1605 - val_loss: 1.8277 - val_accuracy: 0.1528\n",
      "Epoch 6/20\n",
      "5146/5146 - 1s - loss: 2.0222 - accuracy: 0.1619 - val_loss: 1.8205 - val_accuracy: 0.1523\n",
      "Epoch 7/20\n",
      "5146/5146 - 1s - loss: 2.0370 - accuracy: 0.1564 - val_loss: 1.8133 - val_accuracy: 0.1523\n",
      "Epoch 8/20\n",
      "5146/5146 - 1s - loss: 2.0118 - accuracy: 0.1652 - val_loss: 1.8063 - val_accuracy: 0.1541\n",
      "Epoch 9/20\n",
      "5146/5146 - 1s - loss: 2.0172 - accuracy: 0.1543 - val_loss: 1.7994 - val_accuracy: 0.1559\n",
      "Epoch 10/20\n",
      "5146/5146 - 1s - loss: 2.0175 - accuracy: 0.1681 - val_loss: 1.7925 - val_accuracy: 0.1591\n",
      "Epoch 11/20\n",
      "5146/5146 - 1s - loss: 1.9991 - accuracy: 0.1652 - val_loss: 1.7858 - val_accuracy: 0.1650\n",
      "Epoch 12/20\n",
      "5146/5146 - 1s - loss: 1.9972 - accuracy: 0.1658 - val_loss: 1.7792 - val_accuracy: 0.1741\n",
      "Epoch 13/20\n",
      "5146/5146 - 1s - loss: 1.9802 - accuracy: 0.1656 - val_loss: 1.7729 - val_accuracy: 0.1822\n",
      "Epoch 14/20\n",
      "5146/5146 - 1s - loss: 1.9775 - accuracy: 0.1648 - val_loss: 1.7665 - val_accuracy: 0.1895\n",
      "Epoch 15/20\n",
      "5146/5146 - 1s - loss: 1.9834 - accuracy: 0.1621 - val_loss: 1.7602 - val_accuracy: 0.1958\n",
      "Epoch 16/20\n",
      "5146/5146 - 1s - loss: 1.9609 - accuracy: 0.1702 - val_loss: 1.7539 - val_accuracy: 0.1967\n",
      "Epoch 17/20\n",
      "5146/5146 - 1s - loss: 1.9622 - accuracy: 0.1747 - val_loss: 1.7478 - val_accuracy: 0.1963\n",
      "Epoch 18/20\n",
      "5146/5146 - 1s - loss: 1.9709 - accuracy: 0.1656 - val_loss: 1.7417 - val_accuracy: 0.1985\n",
      "Epoch 19/20\n",
      "5146/5146 - 1s - loss: 1.9606 - accuracy: 0.1661 - val_loss: 1.7357 - val_accuracy: 0.2004\n",
      "Epoch 20/20\n",
      "5146/5146 - 1s - loss: 1.9489 - accuracy: 0.1712 - val_loss: 1.7299 - val_accuracy: 0.2040\n",
      "Train on 5146 samples, validate on 2206 samples\n",
      "Epoch 1/20\n",
      "5146/5146 - 2s - loss: 1.9577 - accuracy: 0.1904 - val_loss: 1.7489 - val_accuracy: 0.1922\n",
      "Epoch 2/20\n",
      "5146/5146 - 1s - loss: 1.9642 - accuracy: 0.1957 - val_loss: 1.7427 - val_accuracy: 0.1990\n",
      "Epoch 3/20\n",
      "5146/5146 - 1s - loss: 1.9534 - accuracy: 0.1885 - val_loss: 1.7365 - val_accuracy: 0.2081\n",
      "Epoch 4/20\n",
      "5146/5146 - 1s - loss: 1.9628 - accuracy: 0.1932 - val_loss: 1.7303 - val_accuracy: 0.2135\n",
      "Epoch 5/20\n",
      "5146/5146 - 1s - loss: 1.9389 - accuracy: 0.1998 - val_loss: 1.7240 - val_accuracy: 0.2230\n",
      "Epoch 6/20\n",
      "5146/5146 - 1s - loss: 1.9358 - accuracy: 0.1990 - val_loss: 1.7179 - val_accuracy: 0.2321\n",
      "Epoch 7/20\n",
      "5146/5146 - 1s - loss: 1.9294 - accuracy: 0.2023 - val_loss: 1.7118 - val_accuracy: 0.2384\n",
      "Epoch 8/20\n",
      "5146/5146 - 1s - loss: 1.9335 - accuracy: 0.2060 - val_loss: 1.7056 - val_accuracy: 0.2434\n",
      "Epoch 9/20\n",
      "5146/5146 - 1s - loss: 1.9078 - accuracy: 0.2087 - val_loss: 1.6994 - val_accuracy: 0.2566\n",
      "Epoch 10/20\n",
      "5146/5146 - 1s - loss: 1.8963 - accuracy: 0.2252 - val_loss: 1.6935 - val_accuracy: 0.2724\n",
      "Epoch 11/20\n",
      "5146/5146 - 1s - loss: 1.8943 - accuracy: 0.2276 - val_loss: 1.6875 - val_accuracy: 0.2792\n",
      "Epoch 12/20\n",
      "5146/5146 - 1s - loss: 1.8798 - accuracy: 0.2287 - val_loss: 1.6815 - val_accuracy: 0.2811\n",
      "Epoch 13/20\n",
      "5146/5146 - 1s - loss: 1.8875 - accuracy: 0.2309 - val_loss: 1.6756 - val_accuracy: 0.2829\n",
      "Epoch 14/20\n",
      "5146/5146 - 1s - loss: 1.8650 - accuracy: 0.2332 - val_loss: 1.6698 - val_accuracy: 0.2838\n",
      "Epoch 15/20\n",
      "5146/5146 - 1s - loss: 1.8520 - accuracy: 0.2330 - val_loss: 1.6638 - val_accuracy: 0.2847\n",
      "Epoch 16/20\n",
      "5146/5146 - 1s - loss: 1.8675 - accuracy: 0.2277 - val_loss: 1.6580 - val_accuracy: 0.2860\n",
      "Epoch 17/20\n",
      "5146/5146 - 1s - loss: 1.8713 - accuracy: 0.2250 - val_loss: 1.6521 - val_accuracy: 0.2874\n",
      "Epoch 18/20\n",
      "5146/5146 - 1s - loss: 1.8480 - accuracy: 0.2344 - val_loss: 1.6465 - val_accuracy: 0.2937\n",
      "Epoch 19/20\n",
      "5146/5146 - 1s - loss: 1.8598 - accuracy: 0.2266 - val_loss: 1.6407 - val_accuracy: 0.2951\n",
      "Epoch 20/20\n",
      "5146/5146 - 1s - loss: 1.8259 - accuracy: 0.2441 - val_loss: 1.6350 - val_accuracy: 0.2960\n",
      "Train on 5146 samples, validate on 2206 samples\n",
      "Epoch 1/20\n",
      "5146/5146 - 2s - loss: 1.9811 - accuracy: 0.1856 - val_loss: 1.7870 - val_accuracy: 0.1940\n",
      "Epoch 2/20\n",
      "5146/5146 - 1s - loss: 1.9846 - accuracy: 0.1864 - val_loss: 1.7797 - val_accuracy: 0.1940\n",
      "Epoch 3/20\n",
      "5146/5146 - 1s - loss: 1.9790 - accuracy: 0.1893 - val_loss: 1.7725 - val_accuracy: 0.1945\n",
      "Epoch 4/20\n",
      "5146/5146 - 1s - loss: 1.9724 - accuracy: 0.1965 - val_loss: 1.7654 - val_accuracy: 0.1949\n",
      "Epoch 5/20\n",
      "5146/5146 - 1s - loss: 1.9558 - accuracy: 0.1994 - val_loss: 1.7583 - val_accuracy: 0.1945\n",
      "Epoch 6/20\n",
      "5146/5146 - 1s - loss: 1.9581 - accuracy: 0.2002 - val_loss: 1.7511 - val_accuracy: 0.1958\n",
      "Epoch 7/20\n",
      "5146/5146 - 1s - loss: 1.9506 - accuracy: 0.1986 - val_loss: 1.7442 - val_accuracy: 0.1958\n",
      "Epoch 8/20\n",
      "5146/5146 - 1s - loss: 1.9513 - accuracy: 0.1959 - val_loss: 1.7373 - val_accuracy: 0.1963\n",
      "Epoch 9/20\n",
      "5146/5146 - 1s - loss: 1.9382 - accuracy: 0.1951 - val_loss: 1.7305 - val_accuracy: 0.1972\n",
      "Epoch 10/20\n",
      "5146/5146 - 1s - loss: 1.9467 - accuracy: 0.2068 - val_loss: 1.7238 - val_accuracy: 0.2004\n",
      "Epoch 11/20\n",
      "5146/5146 - 1s - loss: 1.9141 - accuracy: 0.1978 - val_loss: 1.7170 - val_accuracy: 0.2140\n",
      "Epoch 12/20\n",
      "5146/5146 - 1s - loss: 1.9291 - accuracy: 0.1986 - val_loss: 1.7105 - val_accuracy: 0.2330\n",
      "Epoch 13/20\n",
      "5146/5146 - 1s - loss: 1.9220 - accuracy: 0.2023 - val_loss: 1.7041 - val_accuracy: 0.2434\n",
      "Epoch 14/20\n",
      "5146/5146 - 1s - loss: 1.9064 - accuracy: 0.2072 - val_loss: 1.6979 - val_accuracy: 0.2643\n",
      "Epoch 15/20\n",
      "5146/5146 - 1s - loss: 1.8946 - accuracy: 0.2093 - val_loss: 1.6917 - val_accuracy: 0.2987\n",
      "Epoch 16/20\n",
      "5146/5146 - 1s - loss: 1.9053 - accuracy: 0.2015 - val_loss: 1.6853 - val_accuracy: 0.3617\n",
      "Epoch 17/20\n",
      "5146/5146 - 1s - loss: 1.8887 - accuracy: 0.2116 - val_loss: 1.6790 - val_accuracy: 0.4189\n",
      "Epoch 18/20\n",
      "5146/5146 - 1s - loss: 1.8831 - accuracy: 0.2145 - val_loss: 1.6727 - val_accuracy: 0.4325\n"
     ]
    },
    {
     "name": "stdout",
     "output_type": "stream",
     "text": [
      "Epoch 19/20\n",
      "5146/5146 - 1s - loss: 1.8777 - accuracy: 0.2198 - val_loss: 1.6666 - val_accuracy: 0.4456\n",
      "Epoch 20/20\n",
      "5146/5146 - 1s - loss: 1.8572 - accuracy: 0.2237 - val_loss: 1.6604 - val_accuracy: 0.4565\n",
      "Train on 5146 samples, validate on 2206 samples\n",
      "Epoch 1/20\n",
      "5146/5146 - 2s - loss: 1.9978 - accuracy: 0.1729 - val_loss: 1.8490 - val_accuracy: 0.2248\n",
      "Epoch 2/20\n",
      "5146/5146 - 1s - loss: 1.9926 - accuracy: 0.1710 - val_loss: 1.8419 - val_accuracy: 0.2407\n",
      "Epoch 3/20\n",
      "5146/5146 - 1s - loss: 1.9675 - accuracy: 0.1893 - val_loss: 1.8349 - val_accuracy: 0.2507\n",
      "Epoch 4/20\n",
      "5146/5146 - 1s - loss: 1.9810 - accuracy: 0.1770 - val_loss: 1.8279 - val_accuracy: 0.2579\n",
      "Epoch 5/20\n",
      "5146/5146 - 1s - loss: 1.9716 - accuracy: 0.1873 - val_loss: 1.8211 - val_accuracy: 0.2747\n",
      "Epoch 6/20\n",
      "5146/5146 - 1s - loss: 1.9573 - accuracy: 0.1844 - val_loss: 1.8143 - val_accuracy: 0.2937\n",
      "Epoch 7/20\n",
      "5146/5146 - 1s - loss: 1.9430 - accuracy: 0.1988 - val_loss: 1.8075 - val_accuracy: 0.3146\n",
      "Epoch 8/20\n",
      "5146/5146 - 1s - loss: 1.9399 - accuracy: 0.2075 - val_loss: 1.8010 - val_accuracy: 0.3359\n",
      "Epoch 9/20\n",
      "5146/5146 - 1s - loss: 1.9455 - accuracy: 0.2058 - val_loss: 1.7943 - val_accuracy: 0.3595\n",
      "Epoch 10/20\n",
      "5146/5146 - 1s - loss: 1.9320 - accuracy: 0.2075 - val_loss: 1.7877 - val_accuracy: 0.3903\n",
      "Epoch 11/20\n",
      "5146/5146 - 1s - loss: 1.9235 - accuracy: 0.2147 - val_loss: 1.7812 - val_accuracy: 0.3976\n",
      "Epoch 12/20\n",
      "5146/5146 - 1s - loss: 1.9155 - accuracy: 0.2182 - val_loss: 1.7749 - val_accuracy: 0.3989\n",
      "Epoch 13/20\n",
      "5146/5146 - 1s - loss: 1.9109 - accuracy: 0.2227 - val_loss: 1.7683 - val_accuracy: 0.3985\n",
      "Epoch 14/20\n",
      "5146/5146 - 1s - loss: 1.8980 - accuracy: 0.2276 - val_loss: 1.7617 - val_accuracy: 0.3957\n",
      "Epoch 15/20\n",
      "5146/5146 - 1s - loss: 1.8911 - accuracy: 0.2328 - val_loss: 1.7553 - val_accuracy: 0.3930\n",
      "Epoch 16/20\n",
      "5146/5146 - 1s - loss: 1.8968 - accuracy: 0.2365 - val_loss: 1.7488 - val_accuracy: 0.3930\n",
      "Epoch 17/20\n",
      "5146/5146 - 1s - loss: 1.8685 - accuracy: 0.2396 - val_loss: 1.7425 - val_accuracy: 0.3912\n",
      "Epoch 18/20\n",
      "5146/5146 - 1s - loss: 1.8767 - accuracy: 0.2417 - val_loss: 1.7360 - val_accuracy: 0.3912\n",
      "Epoch 19/20\n",
      "5146/5146 - 1s - loss: 1.8591 - accuracy: 0.2483 - val_loss: 1.7297 - val_accuracy: 0.3921\n",
      "Epoch 20/20\n",
      "5146/5146 - 1s - loss: 1.8558 - accuracy: 0.2497 - val_loss: 1.7236 - val_accuracy: 0.3917\n",
      "Train on 5146 samples, validate on 2206 samples\n",
      "Epoch 1/20\n",
      "5146/5146 - 2s - loss: 2.0035 - accuracy: 0.1798 - val_loss: 1.8354 - val_accuracy: 0.2026\n",
      "Epoch 2/20\n",
      "5146/5146 - 1s - loss: 1.9894 - accuracy: 0.1846 - val_loss: 1.8271 - val_accuracy: 0.2049\n",
      "Epoch 3/20\n",
      "5146/5146 - 1s - loss: 1.9805 - accuracy: 0.1866 - val_loss: 1.8190 - val_accuracy: 0.2090\n",
      "Epoch 4/20\n",
      "5146/5146 - 1s - loss: 1.9745 - accuracy: 0.1969 - val_loss: 1.8109 - val_accuracy: 0.2121\n",
      "Epoch 5/20\n",
      "5146/5146 - 1s - loss: 1.9713 - accuracy: 0.1947 - val_loss: 1.8028 - val_accuracy: 0.2140\n",
      "Epoch 6/20\n",
      "5146/5146 - 1s - loss: 1.9558 - accuracy: 0.1910 - val_loss: 1.7950 - val_accuracy: 0.2140\n",
      "Epoch 7/20\n",
      "5146/5146 - 1s - loss: 1.9506 - accuracy: 0.2075 - val_loss: 1.7872 - val_accuracy: 0.2162\n",
      "Epoch 8/20\n",
      "5146/5146 - 1s - loss: 1.9406 - accuracy: 0.2052 - val_loss: 1.7796 - val_accuracy: 0.2189\n",
      "Epoch 9/20\n",
      "5146/5146 - 1s - loss: 1.9324 - accuracy: 0.2075 - val_loss: 1.7720 - val_accuracy: 0.2217\n",
      "Epoch 10/20\n",
      "5146/5146 - 1s - loss: 1.9353 - accuracy: 0.2095 - val_loss: 1.7645 - val_accuracy: 0.2289\n",
      "Epoch 11/20\n",
      "5146/5146 - 1s - loss: 1.9301 - accuracy: 0.2087 - val_loss: 1.7570 - val_accuracy: 0.2416\n",
      "Epoch 12/20\n",
      "5146/5146 - 1s - loss: 1.9313 - accuracy: 0.2186 - val_loss: 1.7498 - val_accuracy: 0.2620\n",
      "Epoch 13/20\n",
      "5146/5146 - 1s - loss: 1.9136 - accuracy: 0.2217 - val_loss: 1.7425 - val_accuracy: 0.2874\n",
      "Epoch 14/20\n",
      "5146/5146 - 1s - loss: 1.8956 - accuracy: 0.2252 - val_loss: 1.7354 - val_accuracy: 0.3146\n",
      "Epoch 15/20\n",
      "5146/5146 - 1s - loss: 1.8920 - accuracy: 0.2243 - val_loss: 1.7283 - val_accuracy: 0.3323\n",
      "Epoch 16/20\n",
      "5146/5146 - 1s - loss: 1.8841 - accuracy: 0.2311 - val_loss: 1.7216 - val_accuracy: 0.3459\n",
      "Epoch 17/20\n",
      "5146/5146 - 1s - loss: 1.8740 - accuracy: 0.2361 - val_loss: 1.7147 - val_accuracy: 0.3590\n",
      "Epoch 18/20\n",
      "5146/5146 - 1s - loss: 1.8723 - accuracy: 0.2404 - val_loss: 1.7078 - val_accuracy: 0.3717\n",
      "Epoch 19/20\n",
      "5146/5146 - 1s - loss: 1.8607 - accuracy: 0.2425 - val_loss: 1.7011 - val_accuracy: 0.3812\n",
      "Epoch 20/20\n",
      "5146/5146 - 1s - loss: 1.8717 - accuracy: 0.2318 - val_loss: 1.6945 - val_accuracy: 0.3880\n",
      "Train on 5146 samples, validate on 2206 samples\n",
      "Epoch 1/20\n",
      "5146/5146 - 2s - loss: 1.9528 - accuracy: 0.1761 - val_loss: 1.7401 - val_accuracy: 0.2838\n",
      "Epoch 2/20\n",
      "5146/5146 - 1s - loss: 1.9432 - accuracy: 0.1743 - val_loss: 1.7317 - val_accuracy: 0.2956\n",
      "Epoch 3/20\n",
      "5146/5146 - 1s - loss: 1.9528 - accuracy: 0.1722 - val_loss: 1.7236 - val_accuracy: 0.3019\n",
      "Epoch 4/20\n",
      "5146/5146 - 1s - loss: 1.9374 - accuracy: 0.1784 - val_loss: 1.7158 - val_accuracy: 0.3069\n",
      "Epoch 5/20\n",
      "5146/5146 - 1s - loss: 1.9280 - accuracy: 0.1848 - val_loss: 1.7083 - val_accuracy: 0.3101\n",
      "Epoch 6/20\n",
      "5146/5146 - 1s - loss: 1.8931 - accuracy: 0.1943 - val_loss: 1.7010 - val_accuracy: 0.3128\n",
      "Epoch 7/20\n",
      "5146/5146 - 1s - loss: 1.9109 - accuracy: 0.1883 - val_loss: 1.6937 - val_accuracy: 0.3146\n",
      "Epoch 8/20\n",
      "5146/5146 - 1s - loss: 1.8992 - accuracy: 0.1852 - val_loss: 1.6866 - val_accuracy: 0.3164\n",
      "Epoch 9/20\n",
      "5146/5146 - 1s - loss: 1.8915 - accuracy: 0.1943 - val_loss: 1.6796 - val_accuracy: 0.3173\n",
      "Epoch 10/20\n",
      "5146/5146 - 1s - loss: 1.8970 - accuracy: 0.1957 - val_loss: 1.6727 - val_accuracy: 0.3173\n",
      "Epoch 11/20\n",
      "5146/5146 - 1s - loss: 1.8809 - accuracy: 0.1914 - val_loss: 1.6659 - val_accuracy: 0.3187\n",
      "Epoch 12/20\n",
      "5146/5146 - 1s - loss: 1.8762 - accuracy: 0.1926 - val_loss: 1.6594 - val_accuracy: 0.3228\n",
      "Epoch 13/20\n",
      "5146/5146 - 1s - loss: 1.8573 - accuracy: 0.2044 - val_loss: 1.6530 - val_accuracy: 0.3241\n",
      "Epoch 14/20\n",
      "5146/5146 - 1s - loss: 1.8793 - accuracy: 0.1965 - val_loss: 1.6468 - val_accuracy: 0.3228\n",
      "Epoch 15/20\n",
      "5146/5146 - 1s - loss: 1.8531 - accuracy: 0.2040 - val_loss: 1.6407 - val_accuracy: 0.3246\n",
      "Epoch 16/20\n",
      "5146/5146 - 1s - loss: 1.8469 - accuracy: 0.2072 - val_loss: 1.6347 - val_accuracy: 0.3250\n",
      "Epoch 17/20\n",
      "5146/5146 - 1s - loss: 1.8415 - accuracy: 0.2186 - val_loss: 1.6288 - val_accuracy: 0.3259\n",
      "Epoch 18/20\n",
      "5146/5146 - 1s - loss: 1.8430 - accuracy: 0.2097 - val_loss: 1.6233 - val_accuracy: 0.3264\n",
      "Epoch 19/20\n",
      "5146/5146 - 1s - loss: 1.8356 - accuracy: 0.2231 - val_loss: 1.6178 - val_accuracy: 0.3282\n",
      "Epoch 20/20\n",
      "5146/5146 - 1s - loss: 1.8275 - accuracy: 0.2167 - val_loss: 1.6123 - val_accuracy: 0.3277\n",
      "Train on 5146 samples, validate on 2206 samples\n",
      "Epoch 1/20\n",
      "5146/5146 - 2s - loss: 2.1008 - accuracy: 0.1553 - val_loss: 1.8428 - val_accuracy: 0.1378\n",
      "Epoch 2/20\n",
      "5146/5146 - 1s - loss: 2.0776 - accuracy: 0.1646 - val_loss: 1.8323 - val_accuracy: 0.1500\n",
      "Epoch 3/20\n",
      "5146/5146 - 1s - loss: 2.0684 - accuracy: 0.1541 - val_loss: 1.8221 - val_accuracy: 0.1791\n",
      "Epoch 4/20\n",
      "5146/5146 - 1s - loss: 2.0688 - accuracy: 0.1632 - val_loss: 1.8121 - val_accuracy: 0.1936\n",
      "Epoch 5/20\n",
      "5146/5146 - 1s - loss: 2.0562 - accuracy: 0.1592 - val_loss: 1.8025 - val_accuracy: 0.2017\n",
      "Epoch 6/20\n",
      "5146/5146 - 1s - loss: 2.0528 - accuracy: 0.1642 - val_loss: 1.7931 - val_accuracy: 0.2040\n",
      "Epoch 7/20\n",
      "5146/5146 - 1s - loss: 2.0496 - accuracy: 0.1628 - val_loss: 1.7838 - val_accuracy: 0.2058\n",
      "Epoch 8/20\n",
      "5146/5146 - 1s - loss: 2.0429 - accuracy: 0.1572 - val_loss: 1.7747 - val_accuracy: 0.2076\n",
      "Epoch 9/20\n",
      "5146/5146 - 1s - loss: 2.0013 - accuracy: 0.1807 - val_loss: 1.7660 - val_accuracy: 0.2076\n",
      "Epoch 10/20\n",
      "5146/5146 - 1s - loss: 1.9978 - accuracy: 0.1741 - val_loss: 1.7577 - val_accuracy: 0.2072\n",
      "Epoch 11/20\n",
      "5146/5146 - 1s - loss: 1.9954 - accuracy: 0.1852 - val_loss: 1.7496 - val_accuracy: 0.2067\n",
      "Epoch 12/20\n",
      "5146/5146 - 1s - loss: 1.9811 - accuracy: 0.1883 - val_loss: 1.7418 - val_accuracy: 0.2076\n",
      "Epoch 13/20\n",
      "5146/5146 - 1s - loss: 1.9954 - accuracy: 0.1850 - val_loss: 1.7340 - val_accuracy: 0.2049\n",
      "Epoch 14/20\n",
      "5146/5146 - 1s - loss: 1.9769 - accuracy: 0.1904 - val_loss: 1.7263 - val_accuracy: 0.2049\n",
      "Epoch 15/20\n",
      "5146/5146 - 1s - loss: 1.9880 - accuracy: 0.1881 - val_loss: 1.7189 - val_accuracy: 0.2053\n",
      "Epoch 16/20\n",
      "5146/5146 - 1s - loss: 1.9692 - accuracy: 0.1887 - val_loss: 1.7114 - val_accuracy: 0.2049\n"
     ]
    },
    {
     "name": "stdout",
     "output_type": "stream",
     "text": [
      "Epoch 17/20\n",
      "5146/5146 - 1s - loss: 1.9477 - accuracy: 0.1924 - val_loss: 1.7042 - val_accuracy: 0.2067\n",
      "Epoch 18/20\n",
      "5146/5146 - 1s - loss: 1.9476 - accuracy: 0.1939 - val_loss: 1.6972 - val_accuracy: 0.2081\n",
      "Epoch 19/20\n",
      "5146/5146 - 1s - loss: 1.9432 - accuracy: 0.2009 - val_loss: 1.6904 - val_accuracy: 0.2144\n",
      "Epoch 20/20\n",
      "5146/5146 - 1s - loss: 1.9250 - accuracy: 0.2048 - val_loss: 1.6835 - val_accuracy: 0.2348\n",
      "Train on 5146 samples, validate on 2206 samples\n",
      "Epoch 1/20\n",
      "5146/5146 - 2s - loss: 1.9361 - accuracy: 0.1996 - val_loss: 1.7931 - val_accuracy: 0.1927\n",
      "Epoch 2/20\n",
      "5146/5146 - 1s - loss: 1.9478 - accuracy: 0.1990 - val_loss: 1.7857 - val_accuracy: 0.1931\n",
      "Epoch 3/20\n",
      "5146/5146 - 1s - loss: 1.9235 - accuracy: 0.2038 - val_loss: 1.7784 - val_accuracy: 0.1931\n",
      "Epoch 4/20\n",
      "5146/5146 - 1s - loss: 1.9179 - accuracy: 0.2163 - val_loss: 1.7712 - val_accuracy: 0.1927\n",
      "Epoch 5/20\n",
      "5146/5146 - 1s - loss: 1.9130 - accuracy: 0.2208 - val_loss: 1.7642 - val_accuracy: 0.1927\n",
      "Epoch 6/20\n",
      "5146/5146 - 1s - loss: 1.9081 - accuracy: 0.2169 - val_loss: 1.7571 - val_accuracy: 0.2140\n",
      "Epoch 7/20\n",
      "5146/5146 - 1s - loss: 1.8994 - accuracy: 0.2213 - val_loss: 1.7501 - val_accuracy: 0.2307\n",
      "Epoch 8/20\n",
      "5146/5146 - 1s - loss: 1.8815 - accuracy: 0.2277 - val_loss: 1.7434 - val_accuracy: 0.2484\n",
      "Epoch 9/20\n",
      "5146/5146 - 1s - loss: 1.8779 - accuracy: 0.2369 - val_loss: 1.7368 - val_accuracy: 0.2661\n",
      "Epoch 10/20\n",
      "5146/5146 - 1s - loss: 1.8783 - accuracy: 0.2326 - val_loss: 1.7302 - val_accuracy: 0.2788\n",
      "Epoch 11/20\n",
      "5146/5146 - 1s - loss: 1.8827 - accuracy: 0.2347 - val_loss: 1.7236 - val_accuracy: 0.2974\n",
      "Epoch 12/20\n",
      "5146/5146 - 1s - loss: 1.8702 - accuracy: 0.2392 - val_loss: 1.7171 - val_accuracy: 0.3209\n",
      "Epoch 13/20\n",
      "5146/5146 - 1s - loss: 1.8608 - accuracy: 0.2380 - val_loss: 1.7104 - val_accuracy: 0.3486\n",
      "Epoch 14/20\n",
      "5146/5146 - 1s - loss: 1.8570 - accuracy: 0.2417 - val_loss: 1.7039 - val_accuracy: 0.3540\n",
      "Epoch 15/20\n",
      "5146/5146 - 1s - loss: 1.8650 - accuracy: 0.2423 - val_loss: 1.6975 - val_accuracy: 0.3563\n",
      "Epoch 16/20\n",
      "5146/5146 - 1s - loss: 1.8464 - accuracy: 0.2491 - val_loss: 1.6911 - val_accuracy: 0.3572\n",
      "Epoch 17/20\n",
      "5146/5146 - 1s - loss: 1.8362 - accuracy: 0.2526 - val_loss: 1.6847 - val_accuracy: 0.3604\n",
      "Epoch 18/20\n",
      "5146/5146 - 1s - loss: 1.8332 - accuracy: 0.2454 - val_loss: 1.6785 - val_accuracy: 0.3608\n",
      "Epoch 19/20\n",
      "5146/5146 - 1s - loss: 1.8319 - accuracy: 0.2567 - val_loss: 1.6723 - val_accuracy: 0.3613\n",
      "Epoch 20/20\n",
      "5146/5146 - 1s - loss: 1.8200 - accuracy: 0.2608 - val_loss: 1.6661 - val_accuracy: 0.3622\n",
      "Train on 5146 samples, validate on 2206 samples\n",
      "Epoch 1/20\n",
      "5146/5146 - 2s - loss: 2.2463 - accuracy: 0.1238 - val_loss: 2.0169 - val_accuracy: 0.0698\n",
      "Epoch 2/20\n",
      "5146/5146 - 1s - loss: 2.2423 - accuracy: 0.1191 - val_loss: 2.0010 - val_accuracy: 0.0839\n",
      "Epoch 3/20\n",
      "5146/5146 - 1s - loss: 2.1978 - accuracy: 0.1255 - val_loss: 1.9856 - val_accuracy: 0.1083\n",
      "Epoch 4/20\n",
      "5146/5146 - 1s - loss: 2.1994 - accuracy: 0.1271 - val_loss: 1.9701 - val_accuracy: 0.1197\n",
      "Epoch 5/20\n",
      "5146/5146 - 1s - loss: 2.1767 - accuracy: 0.1345 - val_loss: 1.9551 - val_accuracy: 0.1292\n",
      "Epoch 6/20\n",
      "5146/5146 - 1s - loss: 2.1609 - accuracy: 0.1255 - val_loss: 1.9404 - val_accuracy: 0.1374\n",
      "Epoch 7/20\n",
      "5146/5146 - 1s - loss: 2.1781 - accuracy: 0.1269 - val_loss: 1.9257 - val_accuracy: 0.1460\n",
      "Epoch 8/20\n",
      "5146/5146 - 1s - loss: 2.1339 - accuracy: 0.1496 - val_loss: 1.9116 - val_accuracy: 0.1596\n",
      "Epoch 9/20\n",
      "5146/5146 - 1s - loss: 2.1292 - accuracy: 0.1368 - val_loss: 1.8978 - val_accuracy: 0.1650\n",
      "Epoch 10/20\n",
      "5146/5146 - 1s - loss: 2.1262 - accuracy: 0.1432 - val_loss: 1.8840 - val_accuracy: 0.1686\n",
      "Epoch 11/20\n",
      "5146/5146 - 1s - loss: 2.1062 - accuracy: 0.1514 - val_loss: 1.8704 - val_accuracy: 0.1800\n",
      "Epoch 12/20\n",
      "5146/5146 - 1s - loss: 2.0877 - accuracy: 0.1463 - val_loss: 1.8571 - val_accuracy: 0.1872\n",
      "Epoch 13/20\n",
      "5146/5146 - 1s - loss: 2.0796 - accuracy: 0.1531 - val_loss: 1.8440 - val_accuracy: 0.1877\n",
      "Epoch 14/20\n",
      "5146/5146 - 1s - loss: 2.0598 - accuracy: 0.1547 - val_loss: 1.8312 - val_accuracy: 0.1899\n",
      "Epoch 15/20\n",
      "5146/5146 - 1s - loss: 2.0499 - accuracy: 0.1609 - val_loss: 1.8187 - val_accuracy: 0.1931\n",
      "Epoch 16/20\n",
      "5146/5146 - 1s - loss: 2.0383 - accuracy: 0.1580 - val_loss: 1.8065 - val_accuracy: 0.1940\n",
      "Epoch 17/20\n",
      "5146/5146 - 1s - loss: 2.0188 - accuracy: 0.1661 - val_loss: 1.7948 - val_accuracy: 0.1963\n",
      "Epoch 18/20\n",
      "5146/5146 - 1s - loss: 2.0142 - accuracy: 0.1675 - val_loss: 1.7835 - val_accuracy: 0.1995\n",
      "Epoch 19/20\n",
      "5146/5146 - 1s - loss: 1.9994 - accuracy: 0.1714 - val_loss: 1.7723 - val_accuracy: 0.2026\n",
      "Epoch 20/20\n",
      "5146/5146 - 1s - loss: 2.0036 - accuracy: 0.1720 - val_loss: 1.7613 - val_accuracy: 0.2067\n"
     ]
    },
    {
     "data": {
      "text/html": [
       "<span style=\"color:#4527A0\"><h1 style=\"font-size:18px\">Trial complete</h1></span>"
      ],
      "text/plain": [
       "<IPython.core.display.HTML object>"
      ]
     },
     "metadata": {},
     "output_type": "display_data"
    },
    {
     "data": {
      "text/html": [
       "<span style=\"color:#4527A0\"><h1 style=\"font-size:18px\">Trial summary</h1></span>"
      ],
      "text/plain": [
       "<IPython.core.display.HTML object>"
      ]
     },
     "metadata": {},
     "output_type": "display_data"
    },
    {
     "data": {
      "text/html": [
       "<span style=\"color:cyan\"> |-Trial ID: 01f11b1d150053ff0d538af51c603872</span>"
      ],
      "text/plain": [
       "<IPython.core.display.HTML object>"
      ]
     },
     "metadata": {},
     "output_type": "display_data"
    },
    {
     "data": {
      "text/html": [
       "<span style=\"color:cyan\"> |-Score: 0.31155937910079956</span>"
      ],
      "text/plain": [
       "<IPython.core.display.HTML object>"
      ]
     },
     "metadata": {},
     "output_type": "display_data"
    },
    {
     "data": {
      "text/html": [
       "<span style=\"color:cyan\"> |-Best step: 0</span>"
      ],
      "text/plain": [
       "<IPython.core.display.HTML object>"
      ]
     },
     "metadata": {},
     "output_type": "display_data"
    },
    {
     "data": {
      "text/html": [
       "<span style=\"color:#7E57C2\"><h2 style=\"font-size:16px\">Hyperparameters:</h2></span>"
      ],
      "text/plain": [
       "<IPython.core.display.HTML object>"
      ]
     },
     "metadata": {},
     "output_type": "display_data"
    },
    {
     "data": {
      "text/html": [
       "<span style=\"color:cyan\"> |-batch_size: 192</span>"
      ],
      "text/plain": [
       "<IPython.core.display.HTML object>"
      ]
     },
     "metadata": {},
     "output_type": "display_data"
    },
    {
     "data": {
      "text/html": [
       "<span style=\"color:blue\"> |-dense_0: 64</span>"
      ],
      "text/plain": [
       "<IPython.core.display.HTML object>"
      ]
     },
     "metadata": {},
     "output_type": "display_data"
    },
    {
     "data": {
      "text/html": [
       "<span style=\"color:cyan\"> |-dropout_1: 0.2</span>"
      ],
      "text/plain": [
       "<IPython.core.display.HTML object>"
      ]
     },
     "metadata": {},
     "output_type": "display_data"
    },
    {
     "data": {
      "text/html": [
       "<span style=\"color:blue\"> |-dropout_2: 0.7000000000000002</span>"
      ],
      "text/plain": [
       "<IPython.core.display.HTML object>"
      ]
     },
     "metadata": {},
     "output_type": "display_data"
    },
    {
     "data": {
      "text/html": [
       "<span style=\"color:cyan\"> |-dropout_3: 0.30000000000000004</span>"
      ],
      "text/plain": [
       "<IPython.core.display.HTML object>"
      ]
     },
     "metadata": {},
     "output_type": "display_data"
    },
    {
     "data": {
      "text/html": [
       "<span style=\"color:blue\"> |-epochs: 20</span>"
      ],
      "text/plain": [
       "<IPython.core.display.HTML object>"
      ]
     },
     "metadata": {},
     "output_type": "display_data"
    },
    {
     "data": {
      "text/html": [
       "<span style=\"color:cyan\"> |-num_layers: 1</span>"
      ],
      "text/plain": [
       "<IPython.core.display.HTML object>"
      ]
     },
     "metadata": {},
     "output_type": "display_data"
    },
    {
     "data": {
      "text/html": [
       "<span style=\"color:blue\"> |-optimizer_name: adadelta</span>"
      ],
      "text/plain": [
       "<IPython.core.display.HTML object>"
      ]
     },
     "metadata": {},
     "output_type": "display_data"
    },
    {
     "data": {
      "text/html": [
       "<span style=\"color:cyan\"> |-units_1: 96</span>"
      ],
      "text/plain": [
       "<IPython.core.display.HTML object>"
      ]
     },
     "metadata": {},
     "output_type": "display_data"
    },
    {
     "data": {
      "text/html": [
       "<span style=\"color:blue\"> |-units_2: 224</span>"
      ],
      "text/plain": [
       "<IPython.core.display.HTML object>"
      ]
     },
     "metadata": {},
     "output_type": "display_data"
    },
    {
     "name": "stdout",
     "output_type": "stream",
     "text": [
      "Train on 5146 samples, validate on 2206 samples\n",
      "Epoch 1/10\n",
      "5146/5146 - 14s - loss: 0.9736 - accuracy: 0.5941 - val_loss: 0.6167 - val_accuracy: 0.7593\n",
      "Epoch 2/10\n",
      "5146/5146 - 1s - loss: 0.4216 - accuracy: 0.8366 - val_loss: 0.8681 - val_accuracy: 0.7724\n",
      "Epoch 3/10\n",
      "5146/5146 - 1s - loss: 0.2505 - accuracy: 0.9122 - val_loss: 0.4510 - val_accuracy: 0.9030\n",
      "Epoch 4/10\n",
      "5146/5146 - 1s - loss: 0.1634 - accuracy: 0.9351 - val_loss: 0.4828 - val_accuracy: 0.9143\n",
      "Epoch 5/10\n",
      "5146/5146 - 1s - loss: 0.1373 - accuracy: 0.9452 - val_loss: 0.6217 - val_accuracy: 0.8735\n",
      "Epoch 6/10\n",
      "5146/5146 - 1s - loss: 0.1119 - accuracy: 0.9508 - val_loss: 0.4867 - val_accuracy: 0.9112\n",
      "Epoch 7/10\n",
      "5146/5146 - 1s - loss: 0.1150 - accuracy: 0.9487 - val_loss: 0.4468 - val_accuracy: 0.9143\n",
      "Epoch 8/10\n",
      "5146/5146 - 1s - loss: 0.1184 - accuracy: 0.9491 - val_loss: 0.4709 - val_accuracy: 0.9202\n",
      "Epoch 9/10\n",
      "5146/5146 - 1s - loss: 0.1160 - accuracy: 0.9427 - val_loss: 0.5113 - val_accuracy: 0.8953\n",
      "Epoch 10/10\n",
      "5146/5146 - 1s - loss: 0.1071 - accuracy: 0.9491 - val_loss: 0.4925 - val_accuracy: 0.8930\n",
      "Train on 5146 samples, validate on 2206 samples\n",
      "Epoch 1/10\n",
      "5146/5146 - 3s - loss: 0.8668 - accuracy: 0.6333 - val_loss: 0.5946 - val_accuracy: 0.8132\n",
      "Epoch 2/10\n",
      "5146/5146 - 1s - loss: 0.3750 - accuracy: 0.8622 - val_loss: 0.4335 - val_accuracy: 0.8912\n",
      "Epoch 3/10\n",
      "5146/5146 - 1s - loss: 0.2330 - accuracy: 0.9164 - val_loss: 0.4047 - val_accuracy: 0.9003\n",
      "Epoch 4/10\n",
      "5146/5146 - 1s - loss: 0.1815 - accuracy: 0.9349 - val_loss: 0.4744 - val_accuracy: 0.9193\n",
      "Epoch 5/10\n",
      "5146/5146 - 1s - loss: 0.1324 - accuracy: 0.9427 - val_loss: 0.4811 - val_accuracy: 0.9125\n",
      "Epoch 6/10\n",
      "5146/5146 - 1s - loss: 0.1222 - accuracy: 0.9458 - val_loss: 0.4664 - val_accuracy: 0.9216\n",
      "Epoch 7/10\n",
      "5146/5146 - 1s - loss: 0.0996 - accuracy: 0.9468 - val_loss: 0.4524 - val_accuracy: 0.9297\n",
      "Epoch 8/10\n",
      "5146/5146 - 1s - loss: 0.1057 - accuracy: 0.9466 - val_loss: 0.4950 - val_accuracy: 0.8921\n",
      "Epoch 9/10\n",
      "5146/5146 - 1s - loss: 0.1037 - accuracy: 0.9469 - val_loss: 0.6088 - val_accuracy: 0.9207\n",
      "Epoch 10/10\n",
      "5146/5146 - 1s - loss: 0.1420 - accuracy: 0.9442 - val_loss: 0.4990 - val_accuracy: 0.8971\n",
      "Train on 5146 samples, validate on 2206 samples\n",
      "Epoch 1/10\n",
      "5146/5146 - 3s - loss: 0.8985 - accuracy: 0.6207 - val_loss: 0.6566 - val_accuracy: 0.7566\n",
      "Epoch 2/10\n",
      "5146/5146 - 1s - loss: 0.4213 - accuracy: 0.8377 - val_loss: 0.4459 - val_accuracy: 0.8885\n",
      "Epoch 3/10\n",
      "5146/5146 - 1s - loss: 0.2243 - accuracy: 0.9197 - val_loss: 0.3760 - val_accuracy: 0.9107\n",
      "Epoch 4/10\n",
      "5146/5146 - 1s - loss: 0.1440 - accuracy: 0.9392 - val_loss: 0.4682 - val_accuracy: 0.9062\n",
      "Epoch 5/10\n",
      "5146/5146 - 1s - loss: 0.1365 - accuracy: 0.9427 - val_loss: 0.4306 - val_accuracy: 0.9316\n",
      "Epoch 6/10\n",
      "5146/5146 - 1s - loss: 0.1136 - accuracy: 0.9503 - val_loss: 0.4269 - val_accuracy: 0.9198\n",
      "Epoch 7/10\n",
      "5146/5146 - 1s - loss: 0.1261 - accuracy: 0.9419 - val_loss: 0.6885 - val_accuracy: 0.8631\n",
      "Epoch 8/10\n",
      "5146/5146 - 1s - loss: 0.1518 - accuracy: 0.9440 - val_loss: 0.3367 - val_accuracy: 0.9252\n",
      "Epoch 9/10\n",
      "5146/5146 - 1s - loss: 0.1113 - accuracy: 0.9510 - val_loss: 0.3691 - val_accuracy: 0.9261\n",
      "Epoch 10/10\n",
      "5146/5146 - 1s - loss: 0.1073 - accuracy: 0.9497 - val_loss: 0.3763 - val_accuracy: 0.9306\n",
      "Train on 5146 samples, validate on 2206 samples\n",
      "Epoch 1/10\n",
      "5146/5146 - 3s - loss: 0.9306 - accuracy: 0.6082 - val_loss: 0.5995 - val_accuracy: 0.8064\n",
      "Epoch 2/10\n",
      "5146/5146 - 1s - loss: 0.3962 - accuracy: 0.8578 - val_loss: 0.8951 - val_accuracy: 0.7597\n",
      "Epoch 3/10\n",
      "5146/5146 - 1s - loss: 0.2309 - accuracy: 0.9195 - val_loss: 0.4521 - val_accuracy: 0.8985\n",
      "Epoch 4/10\n",
      "5146/5146 - 1s - loss: 0.2284 - accuracy: 0.9190 - val_loss: 0.4464 - val_accuracy: 0.9216\n",
      "Epoch 5/10\n",
      "5146/5146 - 1s - loss: 0.1539 - accuracy: 0.9378 - val_loss: 0.5317 - val_accuracy: 0.8957\n",
      "Epoch 6/10\n",
      "5146/5146 - 1s - loss: 0.1233 - accuracy: 0.9452 - val_loss: 0.6454 - val_accuracy: 0.8645\n",
      "Epoch 7/10\n",
      "5146/5146 - 1s - loss: 0.1173 - accuracy: 0.9460 - val_loss: 0.4365 - val_accuracy: 0.9279\n",
      "Epoch 8/10\n",
      "5146/5146 - 1s - loss: 0.1074 - accuracy: 0.9493 - val_loss: 0.5165 - val_accuracy: 0.8781\n",
      "Epoch 9/10\n",
      "5146/5146 - 1s - loss: 0.1177 - accuracy: 0.9448 - val_loss: 0.5232 - val_accuracy: 0.9234\n",
      "Epoch 10/10\n",
      "5146/5146 - 1s - loss: 0.0927 - accuracy: 0.9516 - val_loss: 0.5440 - val_accuracy: 0.9175\n",
      "Train on 5146 samples, validate on 2206 samples\n",
      "Epoch 1/10\n",
      "5146/5146 - 3s - loss: 0.9046 - accuracy: 0.6230 - val_loss: 0.5951 - val_accuracy: 0.8051\n",
      "Epoch 2/10\n",
      "5146/5146 - 1s - loss: 0.4026 - accuracy: 0.8550 - val_loss: 0.4720 - val_accuracy: 0.8604\n",
      "Epoch 3/10\n",
      "5146/5146 - 1s - loss: 0.2215 - accuracy: 0.9184 - val_loss: 0.4804 - val_accuracy: 0.8853\n",
      "Epoch 4/10\n",
      "5146/5146 - 1s - loss: 0.1678 - accuracy: 0.9335 - val_loss: 0.4266 - val_accuracy: 0.8976\n",
      "Epoch 5/10\n",
      "5146/5146 - 1s - loss: 0.1398 - accuracy: 0.9427 - val_loss: 0.3952 - val_accuracy: 0.8953\n",
      "Epoch 6/10\n",
      "5146/5146 - 1s - loss: 0.1166 - accuracy: 0.9475 - val_loss: 0.3976 - val_accuracy: 0.9193\n",
      "Epoch 7/10\n",
      "5146/5146 - 1s - loss: 0.1105 - accuracy: 0.9454 - val_loss: 0.4126 - val_accuracy: 0.9139\n",
      "Epoch 8/10\n",
      "5146/5146 - 1s - loss: 0.1075 - accuracy: 0.9466 - val_loss: 0.4324 - val_accuracy: 0.9003\n",
      "Epoch 9/10\n",
      "5146/5146 - 1s - loss: 0.1057 - accuracy: 0.9497 - val_loss: 0.4242 - val_accuracy: 0.9170\n",
      "Epoch 10/10\n",
      "5146/5146 - 1s - loss: 0.0986 - accuracy: 0.9536 - val_loss: 0.4960 - val_accuracy: 0.9261\n",
      "Train on 5146 samples, validate on 2206 samples\n",
      "Epoch 1/10\n",
      "5146/5146 - 3s - loss: 0.9656 - accuracy: 0.5960 - val_loss: 0.5554 - val_accuracy: 0.8250\n",
      "Epoch 2/10\n",
      "5146/5146 - 1s - loss: 0.3744 - accuracy: 0.8572 - val_loss: 0.3593 - val_accuracy: 0.9062\n",
      "Epoch 3/10\n",
      "5146/5146 - 1s - loss: 0.2486 - accuracy: 0.9081 - val_loss: 0.4147 - val_accuracy: 0.8871\n",
      "Epoch 4/10\n",
      "5146/5146 - 1s - loss: 0.1516 - accuracy: 0.9378 - val_loss: 0.4183 - val_accuracy: 0.9098\n",
      "Epoch 5/10\n",
      "5146/5146 - 1s - loss: 0.1286 - accuracy: 0.9446 - val_loss: 0.5428 - val_accuracy: 0.9007\n",
      "Epoch 6/10\n",
      "5146/5146 - 1s - loss: 0.1765 - accuracy: 0.9297 - val_loss: 0.4576 - val_accuracy: 0.8731\n",
      "Epoch 7/10\n",
      "5146/5146 - 1s - loss: 0.1207 - accuracy: 0.9438 - val_loss: 0.4707 - val_accuracy: 0.9107\n",
      "Epoch 8/10\n",
      "5146/5146 - 1s - loss: 0.1355 - accuracy: 0.9380 - val_loss: 0.3311 - val_accuracy: 0.9284\n",
      "Epoch 9/10\n",
      "5146/5146 - 1s - loss: 0.1163 - accuracy: 0.9499 - val_loss: 0.3941 - val_accuracy: 0.9320\n",
      "Epoch 10/10\n",
      "5146/5146 - 1s - loss: 0.1092 - accuracy: 0.9497 - val_loss: 0.6254 - val_accuracy: 0.8962\n",
      "Train on 5146 samples, validate on 2206 samples\n",
      "Epoch 1/10\n",
      "5146/5146 - 3s - loss: 0.9160 - accuracy: 0.6141 - val_loss: 0.6943 - val_accuracy: 0.7371\n",
      "Epoch 2/10\n",
      "5146/5146 - 1s - loss: 0.3758 - accuracy: 0.8515 - val_loss: 0.5404 - val_accuracy: 0.8472\n",
      "Epoch 3/10\n",
      "5146/5146 - 1s - loss: 0.2067 - accuracy: 0.9182 - val_loss: 0.4787 - val_accuracy: 0.8654\n",
      "Epoch 4/10\n",
      "5146/5146 - 1s - loss: 0.1451 - accuracy: 0.9421 - val_loss: 0.5387 - val_accuracy: 0.8862\n",
      "Epoch 5/10\n",
      "5146/5146 - 1s - loss: 0.2370 - accuracy: 0.9129 - val_loss: 0.5191 - val_accuracy: 0.8894\n",
      "Epoch 6/10\n",
      "5146/5146 - 1s - loss: 0.1731 - accuracy: 0.9265 - val_loss: 0.4177 - val_accuracy: 0.9189\n",
      "Epoch 7/10\n",
      "5146/5146 - 1s - loss: 0.1824 - accuracy: 0.9256 - val_loss: 0.4200 - val_accuracy: 0.9189\n",
      "Epoch 8/10\n",
      "5146/5146 - 1s - loss: 0.1218 - accuracy: 0.9501 - val_loss: 0.4368 - val_accuracy: 0.9261\n",
      "Epoch 9/10\n",
      "5146/5146 - 1s - loss: 0.1030 - accuracy: 0.9522 - val_loss: 0.4699 - val_accuracy: 0.9016\n",
      "Epoch 10/10\n",
      "5146/5146 - 1s - loss: 0.1272 - accuracy: 0.9442 - val_loss: 0.5497 - val_accuracy: 0.9084\n",
      "Train on 5146 samples, validate on 2206 samples\n",
      "Epoch 1/10\n",
      "5146/5146 - 3s - loss: 0.9477 - accuracy: 0.5913 - val_loss: 0.6346 - val_accuracy: 0.7625\n",
      "Epoch 2/10\n",
      "5146/5146 - 1s - loss: 0.4400 - accuracy: 0.8284 - val_loss: 0.4412 - val_accuracy: 0.8749\n",
      "Epoch 3/10\n",
      "5146/5146 - 1s - loss: 0.2121 - accuracy: 0.9170 - val_loss: 0.5289 - val_accuracy: 0.8785\n",
      "Epoch 4/10\n",
      "5146/5146 - 1s - loss: 0.1414 - accuracy: 0.9417 - val_loss: 0.4442 - val_accuracy: 0.9175\n",
      "Epoch 5/10\n",
      "5146/5146 - 1s - loss: 0.1167 - accuracy: 0.9466 - val_loss: 0.4353 - val_accuracy: 0.9089\n",
      "Epoch 6/10\n",
      "5146/5146 - 1s - loss: 0.1207 - accuracy: 0.9468 - val_loss: 0.7986 - val_accuracy: 0.8377\n",
      "Epoch 7/10\n",
      "5146/5146 - 1s - loss: 0.1420 - accuracy: 0.9427 - val_loss: 0.6418 - val_accuracy: 0.8708\n"
     ]
    },
    {
     "name": "stdout",
     "output_type": "stream",
     "text": [
      "Epoch 8/10\n",
      "5146/5146 - 1s - loss: 0.1182 - accuracy: 0.9477 - val_loss: 0.5474 - val_accuracy: 0.8912\n",
      "Epoch 9/10\n",
      "5146/5146 - 1s - loss: 0.0968 - accuracy: 0.9526 - val_loss: 0.5067 - val_accuracy: 0.9157\n",
      "Epoch 10/10\n",
      "5146/5146 - 1s - loss: 0.0934 - accuracy: 0.9563 - val_loss: 0.4293 - val_accuracy: 0.9374\n",
      "Train on 5146 samples, validate on 2206 samples\n",
      "Epoch 1/10\n",
      "5146/5146 - 3s - loss: 0.9457 - accuracy: 0.6024 - val_loss: 0.6194 - val_accuracy: 0.7643\n",
      "Epoch 2/10\n",
      "5146/5146 - 1s - loss: 0.4730 - accuracy: 0.8197 - val_loss: 0.4880 - val_accuracy: 0.8749\n",
      "Epoch 3/10\n",
      "5146/5146 - 1s - loss: 0.3006 - accuracy: 0.8888 - val_loss: 0.5311 - val_accuracy: 0.8504\n",
      "Epoch 4/10\n",
      "5146/5146 - 1s - loss: 0.1796 - accuracy: 0.9320 - val_loss: 0.6572 - val_accuracy: 0.8830\n",
      "Epoch 5/10\n",
      "5146/5146 - 1s - loss: 0.1724 - accuracy: 0.9312 - val_loss: 0.6162 - val_accuracy: 0.8645\n",
      "Epoch 6/10\n",
      "5146/5146 - 1s - loss: 0.1456 - accuracy: 0.9403 - val_loss: 0.4289 - val_accuracy: 0.9225\n",
      "Epoch 7/10\n",
      "5146/5146 - 1s - loss: 0.1255 - accuracy: 0.9433 - val_loss: 0.5028 - val_accuracy: 0.9293\n",
      "Epoch 8/10\n",
      "5146/5146 - 1s - loss: 0.1227 - accuracy: 0.9485 - val_loss: 0.4938 - val_accuracy: 0.9066\n",
      "Epoch 9/10\n",
      "5146/5146 - 1s - loss: 0.1262 - accuracy: 0.9460 - val_loss: 0.4929 - val_accuracy: 0.9238\n",
      "Epoch 10/10\n",
      "5146/5146 - 1s - loss: 0.1361 - accuracy: 0.9452 - val_loss: 0.4979 - val_accuracy: 0.8980\n",
      "Train on 5146 samples, validate on 2206 samples\n",
      "Epoch 1/10\n",
      "5146/5146 - 3s - loss: 0.9137 - accuracy: 0.6181 - val_loss: 0.6509 - val_accuracy: 0.7824\n",
      "Epoch 2/10\n",
      "5146/5146 - 1s - loss: 0.3721 - accuracy: 0.8681 - val_loss: 0.7938 - val_accuracy: 0.8024\n",
      "Epoch 3/10\n",
      "5146/5146 - 1s - loss: 0.2045 - accuracy: 0.9207 - val_loss: 0.5767 - val_accuracy: 0.8767\n",
      "Epoch 4/10\n",
      "5146/5146 - 1s - loss: 0.1461 - accuracy: 0.9384 - val_loss: 0.3644 - val_accuracy: 0.9220\n",
      "Epoch 5/10\n",
      "5146/5146 - 1s - loss: 0.1407 - accuracy: 0.9361 - val_loss: 0.4401 - val_accuracy: 0.9102\n",
      "Epoch 6/10\n",
      "5146/5146 - 1s - loss: 0.1327 - accuracy: 0.9407 - val_loss: 0.7045 - val_accuracy: 0.8228\n",
      "Epoch 7/10\n",
      "5146/5146 - 1s - loss: 0.1380 - accuracy: 0.9440 - val_loss: 0.4440 - val_accuracy: 0.9121\n",
      "Epoch 8/10\n",
      "5146/5146 - 1s - loss: 0.1031 - accuracy: 0.9524 - val_loss: 0.4606 - val_accuracy: 0.9266\n",
      "Epoch 9/10\n",
      "5146/5146 - 1s - loss: 0.1050 - accuracy: 0.9501 - val_loss: 0.4573 - val_accuracy: 0.9325\n",
      "Epoch 10/10\n",
      "5146/5146 - 1s - loss: 0.1030 - accuracy: 0.9536 - val_loss: 0.4854 - val_accuracy: 0.9316\n"
     ]
    },
    {
     "data": {
      "text/html": [
       "<span style=\"color:#4527A0\"><h1 style=\"font-size:18px\">Trial complete</h1></span>"
      ],
      "text/plain": [
       "<IPython.core.display.HTML object>"
      ]
     },
     "metadata": {},
     "output_type": "display_data"
    },
    {
     "data": {
      "text/html": [
       "<span style=\"color:#4527A0\"><h1 style=\"font-size:18px\">Trial summary</h1></span>"
      ],
      "text/plain": [
       "<IPython.core.display.HTML object>"
      ]
     },
     "metadata": {},
     "output_type": "display_data"
    },
    {
     "data": {
      "text/html": [
       "<span style=\"color:cyan\"> |-Trial ID: 1f9fef85de4267e51b3eac2fc451e6a6</span>"
      ],
      "text/plain": [
       "<IPython.core.display.HTML object>"
      ]
     },
     "metadata": {},
     "output_type": "display_data"
    },
    {
     "data": {
      "text/html": [
       "<span style=\"color:cyan\"> |-Score: 0.9292837977409363</span>"
      ],
      "text/plain": [
       "<IPython.core.display.HTML object>"
      ]
     },
     "metadata": {},
     "output_type": "display_data"
    },
    {
     "data": {
      "text/html": [
       "<span style=\"color:cyan\"> |-Best step: 0</span>"
      ],
      "text/plain": [
       "<IPython.core.display.HTML object>"
      ]
     },
     "metadata": {},
     "output_type": "display_data"
    },
    {
     "data": {
      "text/html": [
       "<span style=\"color:#7E57C2\"><h2 style=\"font-size:16px\">Hyperparameters:</h2></span>"
      ],
      "text/plain": [
       "<IPython.core.display.HTML object>"
      ]
     },
     "metadata": {},
     "output_type": "display_data"
    },
    {
     "data": {
      "text/html": [
       "<span style=\"color:cyan\"> |-batch_size: 96</span>"
      ],
      "text/plain": [
       "<IPython.core.display.HTML object>"
      ]
     },
     "metadata": {},
     "output_type": "display_data"
    },
    {
     "data": {
      "text/html": [
       "<span style=\"color:blue\"> |-dense_0: 320</span>"
      ],
      "text/plain": [
       "<IPython.core.display.HTML object>"
      ]
     },
     "metadata": {},
     "output_type": "display_data"
    },
    {
     "data": {
      "text/html": [
       "<span style=\"color:cyan\"> |-dropout_1: 0.6000000000000001</span>"
      ],
      "text/plain": [
       "<IPython.core.display.HTML object>"
      ]
     },
     "metadata": {},
     "output_type": "display_data"
    },
    {
     "data": {
      "text/html": [
       "<span style=\"color:blue\"> |-dropout_2: 0.30000000000000004</span>"
      ],
      "text/plain": [
       "<IPython.core.display.HTML object>"
      ]
     },
     "metadata": {},
     "output_type": "display_data"
    },
    {
     "data": {
      "text/html": [
       "<span style=\"color:cyan\"> |-dropout_3: 0.6000000000000001</span>"
      ],
      "text/plain": [
       "<IPython.core.display.HTML object>"
      ]
     },
     "metadata": {},
     "output_type": "display_data"
    },
    {
     "data": {
      "text/html": [
       "<span style=\"color:blue\"> |-epochs: 10</span>"
      ],
      "text/plain": [
       "<IPython.core.display.HTML object>"
      ]
     },
     "metadata": {},
     "output_type": "display_data"
    },
    {
     "data": {
      "text/html": [
       "<span style=\"color:cyan\"> |-num_layers: 1</span>"
      ],
      "text/plain": [
       "<IPython.core.display.HTML object>"
      ]
     },
     "metadata": {},
     "output_type": "display_data"
    },
    {
     "data": {
      "text/html": [
       "<span style=\"color:blue\"> |-optimizer_name: adam</span>"
      ],
      "text/plain": [
       "<IPython.core.display.HTML object>"
      ]
     },
     "metadata": {},
     "output_type": "display_data"
    },
    {
     "data": {
      "text/html": [
       "<span style=\"color:cyan\"> |-units_1: 224</span>"
      ],
      "text/plain": [
       "<IPython.core.display.HTML object>"
      ]
     },
     "metadata": {},
     "output_type": "display_data"
    },
    {
     "data": {
      "text/html": [
       "<span style=\"color:blue\"> |-units_2: 128</span>"
      ],
      "text/plain": [
       "<IPython.core.display.HTML object>"
      ]
     },
     "metadata": {},
     "output_type": "display_data"
    },
    {
     "name": "stdout",
     "output_type": "stream",
     "text": [
      "Train on 5146 samples, validate on 2206 samples\n",
      "Epoch 1/20\n",
      "5146/5146 - 15s - loss: 1.5841 - accuracy: 0.3418 - val_loss: 1.2869 - val_accuracy: 0.4773\n",
      "Epoch 2/20\n",
      "5146/5146 - 1s - loss: 1.3221 - accuracy: 0.4681 - val_loss: 1.1595 - val_accuracy: 0.5326\n",
      "Epoch 3/20\n",
      "5146/5146 - 1s - loss: 1.2052 - accuracy: 0.5229 - val_loss: 1.0536 - val_accuracy: 0.5453\n",
      "Epoch 4/20\n",
      "5146/5146 - 1s - loss: 1.0869 - accuracy: 0.5698 - val_loss: 0.9477 - val_accuracy: 0.6124\n",
      "Epoch 5/20\n",
      "5146/5146 - 1s - loss: 0.9487 - accuracy: 0.6296 - val_loss: 0.7709 - val_accuracy: 0.6881\n",
      "Epoch 6/20\n",
      "5146/5146 - 1s - loss: 0.8422 - accuracy: 0.6592 - val_loss: 0.7246 - val_accuracy: 0.6677\n",
      "Epoch 7/20\n",
      "5146/5146 - 1s - loss: 0.7883 - accuracy: 0.6716 - val_loss: 0.7073 - val_accuracy: 0.6809\n",
      "Epoch 8/20\n",
      "5146/5146 - 1s - loss: 0.7470 - accuracy: 0.6883 - val_loss: 0.6921 - val_accuracy: 0.6917\n",
      "Epoch 9/20\n",
      "5146/5146 - 1s - loss: 0.7438 - accuracy: 0.6763 - val_loss: 0.6841 - val_accuracy: 0.6945\n",
      "Epoch 10/20\n",
      "5146/5146 - 1s - loss: 0.7081 - accuracy: 0.6935 - val_loss: 0.6707 - val_accuracy: 0.6976\n",
      "Epoch 11/20\n",
      "5146/5146 - 1s - loss: 0.7128 - accuracy: 0.6862 - val_loss: 0.6658 - val_accuracy: 0.7131\n",
      "Epoch 12/20\n",
      "5146/5146 - 1s - loss: 0.6801 - accuracy: 0.7105 - val_loss: 0.6531 - val_accuracy: 0.7226\n",
      "Epoch 13/20\n",
      "5146/5146 - 1s - loss: 0.6774 - accuracy: 0.7087 - val_loss: 0.6665 - val_accuracy: 0.7321\n",
      "Epoch 14/20\n",
      "5146/5146 - 1s - loss: 0.6676 - accuracy: 0.7130 - val_loss: 0.6594 - val_accuracy: 0.7239\n",
      "Epoch 15/20\n",
      "5146/5146 - 1s - loss: 0.6624 - accuracy: 0.7073 - val_loss: 0.6433 - val_accuracy: 0.7439\n",
      "Epoch 16/20\n",
      "5146/5146 - 1s - loss: 0.6565 - accuracy: 0.7077 - val_loss: 0.6417 - val_accuracy: 0.7520\n",
      "Epoch 17/20\n",
      "5146/5146 - 1s - loss: 0.6510 - accuracy: 0.7072 - val_loss: 0.6388 - val_accuracy: 0.7579\n",
      "Epoch 18/20\n",
      "5146/5146 - 1s - loss: 0.6580 - accuracy: 0.7058 - val_loss: 0.6167 - val_accuracy: 0.7602\n",
      "Epoch 19/20\n",
      "5146/5146 - 1s - loss: 0.6334 - accuracy: 0.7237 - val_loss: 0.6254 - val_accuracy: 0.7611\n",
      "Epoch 20/20\n",
      "5146/5146 - 1s - loss: 0.6275 - accuracy: 0.7225 - val_loss: 0.6163 - val_accuracy: 0.7561\n",
      "Train on 5146 samples, validate on 2206 samples\n",
      "Epoch 1/20\n",
      "5146/5146 - 5s - loss: 1.4783 - accuracy: 0.4081 - val_loss: 1.2048 - val_accuracy: 0.4828\n",
      "Epoch 2/20\n",
      "5146/5146 - 1s - loss: 1.1744 - accuracy: 0.5264 - val_loss: 0.8937 - val_accuracy: 0.6129\n",
      "Epoch 3/20\n",
      "5146/5146 - 1s - loss: 0.9538 - accuracy: 0.6127 - val_loss: 0.7778 - val_accuracy: 0.6573\n",
      "Epoch 4/20\n",
      "5146/5146 - 1s - loss: 0.8514 - accuracy: 0.6475 - val_loss: 0.7225 - val_accuracy: 0.6745\n",
      "Epoch 5/20\n",
      "5146/5146 - 1s - loss: 0.7977 - accuracy: 0.6574 - val_loss: 0.7083 - val_accuracy: 0.6650\n",
      "Epoch 6/20\n",
      "5146/5146 - 1s - loss: 0.7802 - accuracy: 0.6537 - val_loss: 0.7027 - val_accuracy: 0.6655\n",
      "Epoch 7/20\n",
      "5146/5146 - 1s - loss: 0.7496 - accuracy: 0.6665 - val_loss: 0.6971 - val_accuracy: 0.6691\n",
      "Epoch 8/20\n",
      "5146/5146 - 1s - loss: 0.7282 - accuracy: 0.6708 - val_loss: 0.6951 - val_accuracy: 0.6732\n",
      "Epoch 9/20\n",
      "5146/5146 - 1s - loss: 0.7248 - accuracy: 0.6729 - val_loss: 0.6896 - val_accuracy: 0.6777\n",
      "Epoch 10/20\n",
      "5146/5146 - 1s - loss: 0.7323 - accuracy: 0.6745 - val_loss: 0.6868 - val_accuracy: 0.6691\n",
      "Epoch 11/20\n",
      "5146/5146 - 1s - loss: 0.7144 - accuracy: 0.6687 - val_loss: 0.6813 - val_accuracy: 0.6768\n",
      "Epoch 12/20\n",
      "5146/5146 - 1s - loss: 0.6970 - accuracy: 0.6722 - val_loss: 0.6911 - val_accuracy: 0.6664\n",
      "Epoch 13/20\n",
      "5146/5146 - 1s - loss: 0.6995 - accuracy: 0.6702 - val_loss: 0.6767 - val_accuracy: 0.6809\n",
      "Epoch 14/20\n",
      "5146/5146 - 1s - loss: 0.6898 - accuracy: 0.6788 - val_loss: 0.6775 - val_accuracy: 0.6772\n",
      "Epoch 15/20\n",
      "5146/5146 - 1s - loss: 0.6904 - accuracy: 0.6726 - val_loss: 0.6740 - val_accuracy: 0.6782\n",
      "Epoch 16/20\n",
      "5146/5146 - 1s - loss: 0.6707 - accuracy: 0.6829 - val_loss: 0.6741 - val_accuracy: 0.6791\n",
      "Epoch 17/20\n",
      "5146/5146 - 1s - loss: 0.6794 - accuracy: 0.6764 - val_loss: 0.6735 - val_accuracy: 0.6782\n",
      "Epoch 18/20\n",
      "5146/5146 - 1s - loss: 0.6705 - accuracy: 0.6877 - val_loss: 0.6720 - val_accuracy: 0.6763\n",
      "Epoch 19/20\n",
      "5146/5146 - 1s - loss: 0.6654 - accuracy: 0.6916 - val_loss: 0.6814 - val_accuracy: 0.6777\n",
      "Epoch 20/20\n",
      "5146/5146 - 1s - loss: 0.6621 - accuracy: 0.6854 - val_loss: 0.6713 - val_accuracy: 0.6804\n",
      "Train on 5146 samples, validate on 2206 samples\n",
      "Epoch 1/20\n",
      "5146/5146 - 5s - loss: 1.5042 - accuracy: 0.3923 - val_loss: 1.2002 - val_accuracy: 0.5154\n",
      "Epoch 2/20\n",
      "5146/5146 - 1s - loss: 1.2328 - accuracy: 0.5105 - val_loss: 1.0925 - val_accuracy: 0.5345\n",
      "Epoch 3/20\n",
      "5146/5146 - 1s - loss: 1.1335 - accuracy: 0.5459 - val_loss: 1.0521 - val_accuracy: 0.5571\n",
      "Epoch 4/20\n",
      "5146/5146 - 1s - loss: 1.0530 - accuracy: 0.5791 - val_loss: 1.0018 - val_accuracy: 0.5966\n",
      "Epoch 5/20\n",
      "5146/5146 - 1s - loss: 0.9821 - accuracy: 0.6067 - val_loss: 0.9323 - val_accuracy: 0.6265\n",
      "Epoch 6/20\n",
      "5146/5146 - 1s - loss: 0.9208 - accuracy: 0.6224 - val_loss: 0.8082 - val_accuracy: 0.6940\n",
      "Epoch 7/20\n",
      "5146/5146 - 1s - loss: 0.8323 - accuracy: 0.6566 - val_loss: 0.7484 - val_accuracy: 0.7085\n",
      "Epoch 8/20\n",
      "5146/5146 - 1s - loss: 0.7744 - accuracy: 0.6681 - val_loss: 0.7128 - val_accuracy: 0.7131\n",
      "Epoch 9/20\n",
      "5146/5146 - 1s - loss: 0.7528 - accuracy: 0.6700 - val_loss: 0.7096 - val_accuracy: 0.7117\n",
      "Epoch 10/20\n",
      "5146/5146 - 1s - loss: 0.7576 - accuracy: 0.6607 - val_loss: 0.7043 - val_accuracy: 0.7076\n",
      "Epoch 11/20\n",
      "5146/5146 - 1s - loss: 0.7170 - accuracy: 0.6766 - val_loss: 0.6971 - val_accuracy: 0.7158\n",
      "Epoch 12/20\n",
      "5146/5146 - 1s - loss: 0.7197 - accuracy: 0.6866 - val_loss: 0.6972 - val_accuracy: 0.7144\n",
      "Epoch 13/20\n",
      "5146/5146 - 1s - loss: 0.6945 - accuracy: 0.6934 - val_loss: 0.6859 - val_accuracy: 0.7194\n",
      "Epoch 14/20\n",
      "5146/5146 - 1s - loss: 0.6971 - accuracy: 0.6926 - val_loss: 0.6898 - val_accuracy: 0.7248\n",
      "Epoch 15/20\n",
      "5146/5146 - 1s - loss: 0.6706 - accuracy: 0.6959 - val_loss: 0.6845 - val_accuracy: 0.7257\n",
      "Epoch 16/20\n",
      "5146/5146 - 1s - loss: 0.6822 - accuracy: 0.6982 - val_loss: 0.6832 - val_accuracy: 0.7294\n",
      "Epoch 17/20\n",
      "5146/5146 - 1s - loss: 0.6671 - accuracy: 0.6963 - val_loss: 0.6792 - val_accuracy: 0.7344\n",
      "Epoch 18/20\n",
      "5146/5146 - 1s - loss: 0.6617 - accuracy: 0.7068 - val_loss: 0.6790 - val_accuracy: 0.7298\n",
      "Epoch 19/20\n",
      "5146/5146 - 1s - loss: 0.6432 - accuracy: 0.7143 - val_loss: 0.6745 - val_accuracy: 0.7330\n",
      "Epoch 20/20\n",
      "5146/5146 - 1s - loss: 0.6372 - accuracy: 0.7208 - val_loss: 0.6718 - val_accuracy: 0.7312\n",
      "Train on 5146 samples, validate on 2206 samples\n",
      "Epoch 1/20\n",
      "5146/5146 - 5s - loss: 1.5830 - accuracy: 0.3449 - val_loss: 1.2160 - val_accuracy: 0.4932\n",
      "Epoch 2/20\n",
      "5146/5146 - 1s - loss: 1.2885 - accuracy: 0.4920 - val_loss: 1.0904 - val_accuracy: 0.5131\n",
      "Epoch 3/20\n",
      "5146/5146 - 1s - loss: 1.1620 - accuracy: 0.5406 - val_loss: 1.0042 - val_accuracy: 0.5567\n",
      "Epoch 4/20\n",
      "5146/5146 - 1s - loss: 1.0703 - accuracy: 0.5744 - val_loss: 0.9201 - val_accuracy: 0.6106\n",
      "Epoch 5/20\n",
      "5146/5146 - 1s - loss: 0.9646 - accuracy: 0.6248 - val_loss: 0.8415 - val_accuracy: 0.6754\n",
      "Epoch 6/20\n",
      "5146/5146 - 1s - loss: 0.9026 - accuracy: 0.6380 - val_loss: 0.7662 - val_accuracy: 0.7035\n",
      "Epoch 7/20\n",
      "5146/5146 - 1s - loss: 0.8371 - accuracy: 0.6551 - val_loss: 0.7342 - val_accuracy: 0.7049\n",
      "Epoch 8/20\n",
      "5146/5146 - 1s - loss: 0.7991 - accuracy: 0.6580 - val_loss: 0.7318 - val_accuracy: 0.6990\n",
      "Epoch 9/20\n",
      "5146/5146 - 1s - loss: 0.7596 - accuracy: 0.6733 - val_loss: 0.7082 - val_accuracy: 0.7289\n",
      "Epoch 10/20\n",
      "5146/5146 - 1s - loss: 0.7367 - accuracy: 0.6901 - val_loss: 0.6859 - val_accuracy: 0.7335\n",
      "Epoch 11/20\n",
      "5146/5146 - 1s - loss: 0.7217 - accuracy: 0.6908 - val_loss: 0.6780 - val_accuracy: 0.7448\n",
      "Epoch 12/20\n",
      "5146/5146 - 1s - loss: 0.7228 - accuracy: 0.6860 - val_loss: 0.6770 - val_accuracy: 0.7480\n",
      "Epoch 13/20\n",
      "5146/5146 - 1s - loss: 0.7019 - accuracy: 0.6914 - val_loss: 0.6557 - val_accuracy: 0.7570\n",
      "Epoch 14/20\n",
      "5146/5146 - 1s - loss: 0.6794 - accuracy: 0.7089 - val_loss: 0.6607 - val_accuracy: 0.7607\n",
      "Epoch 15/20\n",
      "5146/5146 - 1s - loss: 0.6652 - accuracy: 0.7048 - val_loss: 0.6387 - val_accuracy: 0.7711\n",
      "Epoch 16/20\n",
      "5146/5146 - 1s - loss: 0.6590 - accuracy: 0.7114 - val_loss: 0.6303 - val_accuracy: 0.7792\n",
      "Epoch 17/20\n",
      "5146/5146 - 1s - loss: 0.6508 - accuracy: 0.7173 - val_loss: 0.6178 - val_accuracy: 0.7847\n",
      "Epoch 18/20\n",
      "5146/5146 - 1s - loss: 0.6204 - accuracy: 0.7283 - val_loss: 0.6202 - val_accuracy: 0.7888\n"
     ]
    },
    {
     "name": "stdout",
     "output_type": "stream",
     "text": [
      "Epoch 19/20\n",
      "5146/5146 - 1s - loss: 0.6261 - accuracy: 0.7262 - val_loss: 0.6012 - val_accuracy: 0.7987\n",
      "Epoch 20/20\n",
      "5146/5146 - 1s - loss: 0.6083 - accuracy: 0.7386 - val_loss: 0.5899 - val_accuracy: 0.8024\n",
      "Train on 5146 samples, validate on 2206 samples\n",
      "Epoch 1/20\n",
      "5146/5146 - 5s - loss: 1.4817 - accuracy: 0.4050 - val_loss: 1.1496 - val_accuracy: 0.5390\n",
      "Epoch 2/20\n",
      "5146/5146 - 1s - loss: 1.1804 - accuracy: 0.5363 - val_loss: 0.9606 - val_accuracy: 0.5993\n",
      "Epoch 3/20\n",
      "5146/5146 - 1s - loss: 0.9899 - accuracy: 0.6108 - val_loss: 0.7905 - val_accuracy: 0.6836\n",
      "Epoch 4/20\n",
      "5146/5146 - 1s - loss: 0.8603 - accuracy: 0.6562 - val_loss: 0.7195 - val_accuracy: 0.6995\n",
      "Epoch 5/20\n",
      "5146/5146 - 1s - loss: 0.7846 - accuracy: 0.6749 - val_loss: 0.6911 - val_accuracy: 0.7090\n",
      "Epoch 6/20\n",
      "5146/5146 - 1s - loss: 0.7333 - accuracy: 0.6957 - val_loss: 0.6705 - val_accuracy: 0.7348\n",
      "Epoch 7/20\n",
      "5146/5146 - 1s - loss: 0.7121 - accuracy: 0.7042 - val_loss: 0.6364 - val_accuracy: 0.7588\n",
      "Epoch 8/20\n",
      "5146/5146 - 1s - loss: 0.6798 - accuracy: 0.7151 - val_loss: 0.6234 - val_accuracy: 0.7652\n",
      "Epoch 9/20\n",
      "5146/5146 - 1s - loss: 0.6228 - accuracy: 0.7464 - val_loss: 0.6095 - val_accuracy: 0.7715\n",
      "Epoch 10/20\n",
      "5146/5146 - 1s - loss: 0.6107 - accuracy: 0.7571 - val_loss: 0.5907 - val_accuracy: 0.7797\n",
      "Epoch 11/20\n",
      "5146/5146 - 1s - loss: 0.5920 - accuracy: 0.7653 - val_loss: 0.5839 - val_accuracy: 0.7779\n",
      "Epoch 12/20\n",
      "5146/5146 - 1s - loss: 0.5690 - accuracy: 0.7738 - val_loss: 0.5794 - val_accuracy: 0.7792\n",
      "Epoch 13/20\n",
      "5146/5146 - 1s - loss: 0.5496 - accuracy: 0.7853 - val_loss: 0.5677 - val_accuracy: 0.7774\n",
      "Epoch 14/20\n",
      "5146/5146 - 1s - loss: 0.5267 - accuracy: 0.8006 - val_loss: 0.5646 - val_accuracy: 0.7888\n",
      "Epoch 15/20\n",
      "5146/5146 - 1s - loss: 0.5242 - accuracy: 0.8016 - val_loss: 0.5499 - val_accuracy: 0.7901\n",
      "Epoch 16/20\n",
      "5146/5146 - 1s - loss: 0.5050 - accuracy: 0.8092 - val_loss: 0.6113 - val_accuracy: 0.7643\n",
      "Epoch 17/20\n",
      "5146/5146 - 1s - loss: 0.4930 - accuracy: 0.8144 - val_loss: 0.5364 - val_accuracy: 0.7947\n",
      "Epoch 18/20\n",
      "5146/5146 - 1s - loss: 0.4799 - accuracy: 0.8189 - val_loss: 0.5472 - val_accuracy: 0.7892\n",
      "Epoch 19/20\n",
      "5146/5146 - 1s - loss: 0.4606 - accuracy: 0.8307 - val_loss: 0.5452 - val_accuracy: 0.7924\n",
      "Epoch 20/20\n",
      "5146/5146 - 1s - loss: 0.4664 - accuracy: 0.8311 - val_loss: 0.5633 - val_accuracy: 0.7879\n",
      "Train on 5146 samples, validate on 2206 samples\n",
      "Epoch 1/20\n",
      "5146/5146 - 5s - loss: 1.5906 - accuracy: 0.3642 - val_loss: 1.1893 - val_accuracy: 0.5372\n",
      "Epoch 2/20\n",
      "5146/5146 - 1s - loss: 1.2520 - accuracy: 0.5000 - val_loss: 1.0295 - val_accuracy: 0.5984\n",
      "Epoch 3/20\n",
      "5146/5146 - 1s - loss: 1.0950 - accuracy: 0.5567 - val_loss: 0.8888 - val_accuracy: 0.6582\n",
      "Epoch 4/20\n",
      "5146/5146 - 1s - loss: 0.9870 - accuracy: 0.5979 - val_loss: 0.7886 - val_accuracy: 0.6927\n",
      "Epoch 5/20\n",
      "5146/5146 - 1s - loss: 0.8940 - accuracy: 0.6368 - val_loss: 0.7527 - val_accuracy: 0.6913\n",
      "Epoch 6/20\n",
      "5146/5146 - 1s - loss: 0.8385 - accuracy: 0.6436 - val_loss: 0.7232 - val_accuracy: 0.6976\n",
      "Epoch 7/20\n",
      "5146/5146 - 1s - loss: 0.7938 - accuracy: 0.6592 - val_loss: 0.7244 - val_accuracy: 0.6945\n",
      "Epoch 8/20\n",
      "5146/5146 - 1s - loss: 0.7768 - accuracy: 0.6619 - val_loss: 0.7235 - val_accuracy: 0.6995\n",
      "Epoch 9/20\n",
      "5146/5146 - 1s - loss: 0.7606 - accuracy: 0.6613 - val_loss: 0.7072 - val_accuracy: 0.7103\n",
      "Epoch 10/20\n",
      "5146/5146 - 1s - loss: 0.7502 - accuracy: 0.6706 - val_loss: 0.7251 - val_accuracy: 0.7081\n",
      "Epoch 11/20\n",
      "5146/5146 - 1s - loss: 0.7285 - accuracy: 0.6776 - val_loss: 0.7091 - val_accuracy: 0.7126\n",
      "Epoch 12/20\n",
      "5146/5146 - 1s - loss: 0.7073 - accuracy: 0.6825 - val_loss: 0.7184 - val_accuracy: 0.7171\n",
      "Epoch 13/20\n",
      "5146/5146 - 1s - loss: 0.6906 - accuracy: 0.6908 - val_loss: 0.7104 - val_accuracy: 0.7230\n",
      "Epoch 14/20\n",
      "5146/5146 - 1s - loss: 0.6851 - accuracy: 0.6939 - val_loss: 0.6997 - val_accuracy: 0.7239\n",
      "Epoch 15/20\n",
      "5146/5146 - 1s - loss: 0.6685 - accuracy: 0.6986 - val_loss: 0.6943 - val_accuracy: 0.7298\n",
      "Epoch 16/20\n",
      "5146/5146 - 1s - loss: 0.6533 - accuracy: 0.7068 - val_loss: 0.7048 - val_accuracy: 0.7389\n",
      "Epoch 17/20\n",
      "5146/5146 - 1s - loss: 0.6642 - accuracy: 0.7027 - val_loss: 0.6903 - val_accuracy: 0.7357\n",
      "Epoch 18/20\n",
      "5146/5146 - 1s - loss: 0.6366 - accuracy: 0.7169 - val_loss: 0.6853 - val_accuracy: 0.7389\n",
      "Epoch 19/20\n",
      "5146/5146 - 1s - loss: 0.6248 - accuracy: 0.7149 - val_loss: 0.6614 - val_accuracy: 0.7461\n",
      "Epoch 20/20\n",
      "5146/5146 - 1s - loss: 0.6283 - accuracy: 0.7175 - val_loss: 0.6952 - val_accuracy: 0.7412\n",
      "Train on 5146 samples, validate on 2206 samples\n",
      "Epoch 1/20\n",
      "5146/5146 - 5s - loss: 1.5012 - accuracy: 0.3949 - val_loss: 1.1618 - val_accuracy: 0.5698\n",
      "Epoch 2/20\n",
      "5146/5146 - 1s - loss: 1.2076 - accuracy: 0.5358 - val_loss: 0.9872 - val_accuracy: 0.5870\n",
      "Epoch 3/20\n",
      "5146/5146 - 1s - loss: 1.0365 - accuracy: 0.5987 - val_loss: 0.8510 - val_accuracy: 0.6528\n",
      "Epoch 4/20\n",
      "5146/5146 - 1s - loss: 0.9087 - accuracy: 0.6413 - val_loss: 0.7686 - val_accuracy: 0.6831\n",
      "Epoch 5/20\n",
      "5146/5146 - 1s - loss: 0.8330 - accuracy: 0.6560 - val_loss: 0.7314 - val_accuracy: 0.6899\n",
      "Epoch 6/20\n",
      "5146/5146 - 1s - loss: 0.7884 - accuracy: 0.6685 - val_loss: 0.7263 - val_accuracy: 0.6859\n",
      "Epoch 7/20\n",
      "5146/5146 - 1s - loss: 0.7552 - accuracy: 0.6784 - val_loss: 0.6917 - val_accuracy: 0.7072\n",
      "Epoch 8/20\n",
      "5146/5146 - 1s - loss: 0.7486 - accuracy: 0.6710 - val_loss: 0.6771 - val_accuracy: 0.7248\n",
      "Epoch 9/20\n",
      "5146/5146 - 1s - loss: 0.7182 - accuracy: 0.6852 - val_loss: 0.6680 - val_accuracy: 0.7271\n",
      "Epoch 10/20\n",
      "5146/5146 - 1s - loss: 0.7010 - accuracy: 0.6895 - val_loss: 0.6615 - val_accuracy: 0.7335\n",
      "Epoch 11/20\n",
      "5146/5146 - 1s - loss: 0.6870 - accuracy: 0.6935 - val_loss: 0.6661 - val_accuracy: 0.7407\n",
      "Epoch 12/20\n",
      "5146/5146 - 1s - loss: 0.6858 - accuracy: 0.6941 - val_loss: 0.6506 - val_accuracy: 0.7484\n",
      "Epoch 13/20\n",
      "5146/5146 - 1s - loss: 0.6862 - accuracy: 0.6935 - val_loss: 0.6400 - val_accuracy: 0.7593\n",
      "Epoch 14/20\n",
      "5146/5146 - 1s - loss: 0.6641 - accuracy: 0.7052 - val_loss: 0.6383 - val_accuracy: 0.7607\n",
      "Epoch 15/20\n",
      "5146/5146 - 1s - loss: 0.6555 - accuracy: 0.6982 - val_loss: 0.6322 - val_accuracy: 0.7620\n",
      "Epoch 16/20\n",
      "5146/5146 - 1s - loss: 0.6382 - accuracy: 0.7132 - val_loss: 0.6277 - val_accuracy: 0.7797\n",
      "Epoch 17/20\n",
      "5146/5146 - 1s - loss: 0.6301 - accuracy: 0.7248 - val_loss: 0.6270 - val_accuracy: 0.7801\n",
      "Epoch 18/20\n",
      "5146/5146 - 1s - loss: 0.6211 - accuracy: 0.7200 - val_loss: 0.6131 - val_accuracy: 0.7856\n",
      "Epoch 19/20\n",
      "5146/5146 - 1s - loss: 0.6091 - accuracy: 0.7318 - val_loss: 0.6041 - val_accuracy: 0.7856\n",
      "Epoch 20/20\n",
      "5146/5146 - 1s - loss: 0.5982 - accuracy: 0.7344 - val_loss: 0.6158 - val_accuracy: 0.7684\n",
      "Train on 5146 samples, validate on 2206 samples\n",
      "Epoch 1/20\n",
      "5146/5146 - 5s - loss: 1.5540 - accuracy: 0.3782 - val_loss: 1.2293 - val_accuracy: 0.5440\n",
      "Epoch 2/20\n",
      "5146/5146 - 1s - loss: 1.2951 - accuracy: 0.4813 - val_loss: 1.1229 - val_accuracy: 0.5467\n",
      "Epoch 3/20\n",
      "5146/5146 - 1s - loss: 1.1713 - accuracy: 0.5319 - val_loss: 1.0394 - val_accuracy: 0.5870\n",
      "Epoch 4/20\n",
      "5146/5146 - 1s - loss: 1.0902 - accuracy: 0.5657 - val_loss: 0.9795 - val_accuracy: 0.6115\n",
      "Epoch 5/20\n",
      "5146/5146 - 1s - loss: 0.9939 - accuracy: 0.6032 - val_loss: 0.9114 - val_accuracy: 0.6396\n",
      "Epoch 6/20\n",
      "5146/5146 - 1s - loss: 0.9150 - accuracy: 0.6232 - val_loss: 0.8233 - val_accuracy: 0.6768\n",
      "Epoch 7/20\n",
      "5146/5146 - 1s - loss: 0.8387 - accuracy: 0.6494 - val_loss: 0.7832 - val_accuracy: 0.7076\n",
      "Epoch 8/20\n",
      "5146/5146 - 1s - loss: 0.7968 - accuracy: 0.6578 - val_loss: 0.7525 - val_accuracy: 0.7144\n",
      "Epoch 9/20\n",
      "5146/5146 - 1s - loss: 0.7585 - accuracy: 0.6675 - val_loss: 0.7431 - val_accuracy: 0.7162\n",
      "Epoch 10/20\n",
      "5146/5146 - 1s - loss: 0.7496 - accuracy: 0.6745 - val_loss: 0.7335 - val_accuracy: 0.7135\n",
      "Epoch 11/20\n",
      "5146/5146 - 1s - loss: 0.7216 - accuracy: 0.6766 - val_loss: 0.7198 - val_accuracy: 0.7212\n",
      "Epoch 12/20\n",
      "5146/5146 - 1s - loss: 0.7199 - accuracy: 0.6778 - val_loss: 0.7174 - val_accuracy: 0.7230\n",
      "Epoch 13/20\n",
      "5146/5146 - 1s - loss: 0.7010 - accuracy: 0.6848 - val_loss: 0.7079 - val_accuracy: 0.7271\n",
      "Epoch 14/20\n",
      "5146/5146 - 1s - loss: 0.6996 - accuracy: 0.6902 - val_loss: 0.7089 - val_accuracy: 0.7298\n",
      "Epoch 15/20\n",
      "5146/5146 - 1s - loss: 0.6804 - accuracy: 0.6965 - val_loss: 0.7022 - val_accuracy: 0.7312\n",
      "Epoch 16/20\n",
      "5146/5146 - 1s - loss: 0.6767 - accuracy: 0.6992 - val_loss: 0.7112 - val_accuracy: 0.7271\n"
     ]
    },
    {
     "name": "stdout",
     "output_type": "stream",
     "text": [
      "Epoch 17/20\n",
      "5146/5146 - 1s - loss: 0.6615 - accuracy: 0.7052 - val_loss: 0.7420 - val_accuracy: 0.7185\n",
      "Epoch 18/20\n",
      "5146/5146 - 1s - loss: 0.6533 - accuracy: 0.7077 - val_loss: 0.7294 - val_accuracy: 0.7330\n",
      "Epoch 19/20\n",
      "5146/5146 - 1s - loss: 0.6540 - accuracy: 0.7105 - val_loss: 0.6986 - val_accuracy: 0.7421\n",
      "Epoch 20/20\n",
      "5146/5146 - 1s - loss: 0.6308 - accuracy: 0.7126 - val_loss: 0.6987 - val_accuracy: 0.7384\n",
      "Train on 5146 samples, validate on 2206 samples\n",
      "Epoch 1/20\n",
      "5146/5146 - 5s - loss: 1.5314 - accuracy: 0.3780 - val_loss: 1.2094 - val_accuracy: 0.5195\n",
      "Epoch 2/20\n",
      "5146/5146 - 1s - loss: 1.2436 - accuracy: 0.5000 - val_loss: 1.0661 - val_accuracy: 0.5684\n",
      "Epoch 3/20\n",
      "5146/5146 - 1s - loss: 1.1147 - accuracy: 0.5531 - val_loss: 0.9615 - val_accuracy: 0.6088\n",
      "Epoch 4/20\n",
      "5146/5146 - 1s - loss: 0.9891 - accuracy: 0.5838 - val_loss: 0.8153 - val_accuracy: 0.6854\n",
      "Epoch 5/20\n",
      "5146/5146 - 1s - loss: 0.8812 - accuracy: 0.6353 - val_loss: 0.7655 - val_accuracy: 0.6872\n",
      "Epoch 6/20\n",
      "5146/5146 - 1s - loss: 0.8418 - accuracy: 0.6351 - val_loss: 0.7355 - val_accuracy: 0.6890\n",
      "Epoch 7/20\n",
      "5146/5146 - 1s - loss: 0.7852 - accuracy: 0.6494 - val_loss: 0.7036 - val_accuracy: 0.6990\n",
      "Epoch 8/20\n",
      "5146/5146 - 1s - loss: 0.7748 - accuracy: 0.6576 - val_loss: 0.7159 - val_accuracy: 0.6995\n",
      "Epoch 9/20\n",
      "5146/5146 - 1s - loss: 0.7444 - accuracy: 0.6654 - val_loss: 0.6912 - val_accuracy: 0.7035\n",
      "Epoch 10/20\n",
      "5146/5146 - 1s - loss: 0.7372 - accuracy: 0.6681 - val_loss: 0.6878 - val_accuracy: 0.7099\n",
      "Epoch 11/20\n",
      "5146/5146 - 1s - loss: 0.7161 - accuracy: 0.6809 - val_loss: 0.6847 - val_accuracy: 0.7167\n",
      "Epoch 12/20\n",
      "5146/5146 - 1s - loss: 0.6945 - accuracy: 0.6914 - val_loss: 0.6668 - val_accuracy: 0.7271\n",
      "Epoch 13/20\n",
      "5146/5146 - 1s - loss: 0.6891 - accuracy: 0.6891 - val_loss: 0.6882 - val_accuracy: 0.7103\n",
      "Epoch 14/20\n",
      "5146/5146 - 1s - loss: 0.6720 - accuracy: 0.6996 - val_loss: 0.6730 - val_accuracy: 0.7257\n",
      "Epoch 15/20\n",
      "5146/5146 - 1s - loss: 0.6688 - accuracy: 0.7079 - val_loss: 0.6608 - val_accuracy: 0.7448\n",
      "Epoch 16/20\n",
      "5146/5146 - 1s - loss: 0.6598 - accuracy: 0.7066 - val_loss: 0.6524 - val_accuracy: 0.7520\n",
      "Epoch 17/20\n",
      "5146/5146 - 1s - loss: 0.6480 - accuracy: 0.7112 - val_loss: 0.6543 - val_accuracy: 0.7534\n",
      "Epoch 18/20\n",
      "5146/5146 - 1s - loss: 0.6332 - accuracy: 0.7235 - val_loss: 0.6394 - val_accuracy: 0.7625\n",
      "Epoch 19/20\n",
      "5146/5146 - 1s - loss: 0.6151 - accuracy: 0.7260 - val_loss: 0.6408 - val_accuracy: 0.7684\n",
      "Epoch 20/20\n",
      "5146/5146 - 1s - loss: 0.6172 - accuracy: 0.7309 - val_loss: 0.6231 - val_accuracy: 0.7815\n",
      "Train on 5146 samples, validate on 2206 samples\n",
      "Epoch 1/20\n",
      "5146/5146 - 5s - loss: 1.6007 - accuracy: 0.3408 - val_loss: 1.2761 - val_accuracy: 0.4769\n",
      "Epoch 2/20\n",
      "5146/5146 - 1s - loss: 1.2794 - accuracy: 0.4880 - val_loss: 1.0916 - val_accuracy: 0.5712\n",
      "Epoch 3/20\n",
      "5146/5146 - 1s - loss: 1.1216 - accuracy: 0.5581 - val_loss: 0.9442 - val_accuracy: 0.6491\n",
      "Epoch 4/20\n",
      "5146/5146 - 1s - loss: 0.9619 - accuracy: 0.6166 - val_loss: 0.7852 - val_accuracy: 0.7076\n",
      "Epoch 5/20\n",
      "5146/5146 - 1s - loss: 0.8308 - accuracy: 0.6595 - val_loss: 0.7013 - val_accuracy: 0.7108\n",
      "Epoch 6/20\n",
      "5146/5146 - 1s - loss: 0.7708 - accuracy: 0.6811 - val_loss: 0.6667 - val_accuracy: 0.7267\n",
      "Epoch 7/20\n",
      "5146/5146 - 1s - loss: 0.7277 - accuracy: 0.6881 - val_loss: 0.6621 - val_accuracy: 0.7339\n",
      "Epoch 8/20\n",
      "5146/5146 - 1s - loss: 0.6823 - accuracy: 0.7101 - val_loss: 0.6345 - val_accuracy: 0.7439\n",
      "Epoch 9/20\n",
      "5146/5146 - 1s - loss: 0.6533 - accuracy: 0.7264 - val_loss: 0.6372 - val_accuracy: 0.7280\n",
      "Epoch 10/20\n",
      "5146/5146 - 1s - loss: 0.6380 - accuracy: 0.7244 - val_loss: 0.6142 - val_accuracy: 0.7570\n",
      "Epoch 11/20\n",
      "5146/5146 - 1s - loss: 0.6245 - accuracy: 0.7375 - val_loss: 0.6009 - val_accuracy: 0.7597\n",
      "Epoch 12/20\n",
      "5146/5146 - 1s - loss: 0.5987 - accuracy: 0.7437 - val_loss: 0.5662 - val_accuracy: 0.8033\n",
      "Epoch 13/20\n",
      "5146/5146 - 1s - loss: 0.5888 - accuracy: 0.7483 - val_loss: 0.5771 - val_accuracy: 0.7770\n",
      "Epoch 14/20\n",
      "5146/5146 - 1s - loss: 0.5726 - accuracy: 0.7561 - val_loss: 0.5832 - val_accuracy: 0.7752\n",
      "Epoch 15/20\n",
      "5146/5146 - 1s - loss: 0.5622 - accuracy: 0.7614 - val_loss: 0.5526 - val_accuracy: 0.7987\n",
      "Epoch 16/20\n",
      "5146/5146 - 1s - loss: 0.5338 - accuracy: 0.7724 - val_loss: 0.5436 - val_accuracy: 0.8064\n",
      "Epoch 17/20\n",
      "5146/5146 - 1s - loss: 0.5281 - accuracy: 0.7756 - val_loss: 0.5871 - val_accuracy: 0.7820\n",
      "Epoch 18/20\n",
      "5146/5146 - 1s - loss: 0.5181 - accuracy: 0.7791 - val_loss: 0.5676 - val_accuracy: 0.8015\n",
      "Epoch 19/20\n",
      "5146/5146 - 1s - loss: 0.5047 - accuracy: 0.7843 - val_loss: 0.5177 - val_accuracy: 0.8255\n",
      "Epoch 20/20\n",
      "5146/5146 - 1s - loss: 0.5013 - accuracy: 0.7919 - val_loss: 0.5178 - val_accuracy: 0.8318\n"
     ]
    },
    {
     "data": {
      "text/html": [
       "<span style=\"color:#4527A0\"><h1 style=\"font-size:18px\">Trial complete</h1></span>"
      ],
      "text/plain": [
       "<IPython.core.display.HTML object>"
      ]
     },
     "metadata": {},
     "output_type": "display_data"
    },
    {
     "data": {
      "text/html": [
       "<span style=\"color:#4527A0\"><h1 style=\"font-size:18px\">Trial summary</h1></span>"
      ],
      "text/plain": [
       "<IPython.core.display.HTML object>"
      ]
     },
     "metadata": {},
     "output_type": "display_data"
    },
    {
     "data": {
      "text/html": [
       "<span style=\"color:cyan\"> |-Trial ID: af95402d360ef546ec84714b4d490718</span>"
      ],
      "text/plain": [
       "<IPython.core.display.HTML object>"
      ]
     },
     "metadata": {},
     "output_type": "display_data"
    },
    {
     "data": {
      "text/html": [
       "<span style=\"color:cyan\"> |-Score: 0.7660471200942993</span>"
      ],
      "text/plain": [
       "<IPython.core.display.HTML object>"
      ]
     },
     "metadata": {},
     "output_type": "display_data"
    },
    {
     "data": {
      "text/html": [
       "<span style=\"color:cyan\"> |-Best step: 0</span>"
      ],
      "text/plain": [
       "<IPython.core.display.HTML object>"
      ]
     },
     "metadata": {},
     "output_type": "display_data"
    },
    {
     "data": {
      "text/html": [
       "<span style=\"color:#7E57C2\"><h2 style=\"font-size:16px\">Hyperparameters:</h2></span>"
      ],
      "text/plain": [
       "<IPython.core.display.HTML object>"
      ]
     },
     "metadata": {},
     "output_type": "display_data"
    },
    {
     "data": {
      "text/html": [
       "<span style=\"color:cyan\"> |-batch_size: 128</span>"
      ],
      "text/plain": [
       "<IPython.core.display.HTML object>"
      ]
     },
     "metadata": {},
     "output_type": "display_data"
    },
    {
     "data": {
      "text/html": [
       "<span style=\"color:blue\"> |-dense_0: 160</span>"
      ],
      "text/plain": [
       "<IPython.core.display.HTML object>"
      ]
     },
     "metadata": {},
     "output_type": "display_data"
    },
    {
     "data": {
      "text/html": [
       "<span style=\"color:cyan\"> |-dropout_1: 0.30000000000000004</span>"
      ],
      "text/plain": [
       "<IPython.core.display.HTML object>"
      ]
     },
     "metadata": {},
     "output_type": "display_data"
    },
    {
     "data": {
      "text/html": [
       "<span style=\"color:blue\"> |-dropout_2: 0.4000000000000001</span>"
      ],
      "text/plain": [
       "<IPython.core.display.HTML object>"
      ]
     },
     "metadata": {},
     "output_type": "display_data"
    },
    {
     "data": {
      "text/html": [
       "<span style=\"color:cyan\"> |-dropout_3: 0.5</span>"
      ],
      "text/plain": [
       "<IPython.core.display.HTML object>"
      ]
     },
     "metadata": {},
     "output_type": "display_data"
    },
    {
     "data": {
      "text/html": [
       "<span style=\"color:blue\"> |-epochs: 20</span>"
      ],
      "text/plain": [
       "<IPython.core.display.HTML object>"
      ]
     },
     "metadata": {},
     "output_type": "display_data"
    },
    {
     "data": {
      "text/html": [
       "<span style=\"color:cyan\"> |-num_layers: 1</span>"
      ],
      "text/plain": [
       "<IPython.core.display.HTML object>"
      ]
     },
     "metadata": {},
     "output_type": "display_data"
    },
    {
     "data": {
      "text/html": [
       "<span style=\"color:blue\"> |-optimizer_name: adagrad</span>"
      ],
      "text/plain": [
       "<IPython.core.display.HTML object>"
      ]
     },
     "metadata": {},
     "output_type": "display_data"
    },
    {
     "data": {
      "text/html": [
       "<span style=\"color:cyan\"> |-units_1: 32</span>"
      ],
      "text/plain": [
       "<IPython.core.display.HTML object>"
      ]
     },
     "metadata": {},
     "output_type": "display_data"
    },
    {
     "data": {
      "text/html": [
       "<span style=\"color:blue\"> |-units_2: 96</span>"
      ],
      "text/plain": [
       "<IPython.core.display.HTML object>"
      ]
     },
     "metadata": {},
     "output_type": "display_data"
    },
    {
     "name": "stdout",
     "output_type": "stream",
     "text": [
      "Train on 5146 samples, validate on 2206 samples\n",
      "Epoch 1/20\n",
      "5146/5146 - 17s - loss: 1.0257 - accuracy: 0.5966 - val_loss: 0.6498 - val_accuracy: 0.7951\n",
      "Epoch 2/20\n",
      "5146/5146 - 1s - loss: 0.5908 - accuracy: 0.7633 - val_loss: 0.5571 - val_accuracy: 0.8046\n",
      "Epoch 3/20\n",
      "5146/5146 - 1s - loss: 0.4217 - accuracy: 0.8494 - val_loss: 0.4285 - val_accuracy: 0.8812\n",
      "Epoch 4/20\n",
      "5146/5146 - 1s - loss: 0.3055 - accuracy: 0.8943 - val_loss: 0.7918 - val_accuracy: 0.7702\n",
      "Epoch 5/20\n",
      "5146/5146 - 1s - loss: 0.2357 - accuracy: 0.9194 - val_loss: 0.4411 - val_accuracy: 0.8821\n",
      "Epoch 6/20\n",
      "5146/5146 - 1s - loss: 0.1995 - accuracy: 0.9310 - val_loss: 0.4036 - val_accuracy: 0.8803\n",
      "Epoch 7/20\n",
      "5146/5146 - 1s - loss: 0.2033 - accuracy: 0.9281 - val_loss: 0.4122 - val_accuracy: 0.8953\n",
      "Epoch 8/20\n",
      "5146/5146 - 1s - loss: 0.1740 - accuracy: 0.9343 - val_loss: 0.4179 - val_accuracy: 0.8921\n",
      "Epoch 9/20\n",
      "5146/5146 - 1s - loss: 0.1767 - accuracy: 0.9363 - val_loss: 0.5687 - val_accuracy: 0.8513\n",
      "Epoch 10/20\n",
      "5146/5146 - 1s - loss: 0.1575 - accuracy: 0.9374 - val_loss: 0.3594 - val_accuracy: 0.9030\n",
      "Epoch 11/20\n",
      "5146/5146 - 1s - loss: 0.1674 - accuracy: 0.9376 - val_loss: 0.4325 - val_accuracy: 0.8817\n",
      "Epoch 12/20\n",
      "5146/5146 - 1s - loss: 0.1417 - accuracy: 0.9442 - val_loss: 0.6722 - val_accuracy: 0.8336\n",
      "Epoch 13/20\n",
      "5146/5146 - 1s - loss: 0.1429 - accuracy: 0.9435 - val_loss: 0.4297 - val_accuracy: 0.8921\n",
      "Epoch 14/20\n",
      "5146/5146 - 1s - loss: 0.1386 - accuracy: 0.9460 - val_loss: 0.3986 - val_accuracy: 0.8985\n",
      "Epoch 15/20\n",
      "5146/5146 - 1s - loss: 0.1262 - accuracy: 0.9485 - val_loss: 0.4152 - val_accuracy: 0.8944\n",
      "Epoch 16/20\n",
      "5146/5146 - 1s - loss: 0.1239 - accuracy: 0.9508 - val_loss: 0.4149 - val_accuracy: 0.9025\n",
      "Epoch 17/20\n",
      "5146/5146 - 1s - loss: 0.1233 - accuracy: 0.9471 - val_loss: 0.4146 - val_accuracy: 0.9071\n",
      "Epoch 18/20\n",
      "5146/5146 - 1s - loss: 0.1186 - accuracy: 0.9495 - val_loss: 0.4123 - val_accuracy: 0.9025\n",
      "Epoch 19/20\n",
      "5146/5146 - 1s - loss: 0.1170 - accuracy: 0.9487 - val_loss: 0.4080 - val_accuracy: 0.9062\n",
      "Epoch 20/20\n",
      "5146/5146 - 1s - loss: 0.1127 - accuracy: 0.9512 - val_loss: 0.4901 - val_accuracy: 0.8844\n",
      "Train on 5146 samples, validate on 2206 samples\n",
      "Epoch 1/20\n",
      "5146/5146 - 5s - loss: 1.0477 - accuracy: 0.5863 - val_loss: 0.6687 - val_accuracy: 0.7652\n",
      "Epoch 2/20\n",
      "5146/5146 - 1s - loss: 0.6483 - accuracy: 0.7274 - val_loss: 0.6946 - val_accuracy: 0.7353\n",
      "Epoch 3/20\n",
      "5146/5146 - 1s - loss: 0.5141 - accuracy: 0.7975 - val_loss: 0.4592 - val_accuracy: 0.8563\n",
      "Epoch 4/20\n",
      "5146/5146 - 1s - loss: 0.3674 - accuracy: 0.8733 - val_loss: 0.5731 - val_accuracy: 0.7897\n",
      "Epoch 5/20\n",
      "5146/5146 - 1s - loss: 0.3059 - accuracy: 0.8972 - val_loss: 0.8954 - val_accuracy: 0.7643\n",
      "Epoch 6/20\n",
      "5146/5146 - 1s - loss: 0.2543 - accuracy: 0.9205 - val_loss: 0.3844 - val_accuracy: 0.8885\n",
      "Epoch 7/20\n",
      "5146/5146 - 1s - loss: 0.2033 - accuracy: 0.9308 - val_loss: 0.5136 - val_accuracy: 0.8522\n",
      "Epoch 8/20\n",
      "5146/5146 - 1s - loss: 0.1884 - accuracy: 0.9368 - val_loss: 0.4111 - val_accuracy: 0.8849\n",
      "Epoch 9/20\n",
      "5146/5146 - 1s - loss: 0.3377 - accuracy: 0.8964 - val_loss: 0.3302 - val_accuracy: 0.9139\n",
      "Epoch 10/20\n",
      "5146/5146 - 1s - loss: 0.1979 - accuracy: 0.9314 - val_loss: 0.3399 - val_accuracy: 0.9166\n",
      "Epoch 11/20\n",
      "5146/5146 - 1s - loss: 0.1610 - accuracy: 0.9421 - val_loss: 0.4218 - val_accuracy: 0.8948\n",
      "Epoch 12/20\n",
      "5146/5146 - 1s - loss: 0.1576 - accuracy: 0.9425 - val_loss: 0.3305 - val_accuracy: 0.9121\n",
      "Epoch 13/20\n",
      "5146/5146 - 1s - loss: 0.1545 - accuracy: 0.9433 - val_loss: 0.3482 - val_accuracy: 0.9102\n",
      "Epoch 14/20\n",
      "5146/5146 - 1s - loss: 0.1443 - accuracy: 0.9448 - val_loss: 0.3611 - val_accuracy: 0.9021\n",
      "Epoch 15/20\n",
      "5146/5146 - 1s - loss: 0.1367 - accuracy: 0.9466 - val_loss: 0.4671 - val_accuracy: 0.8930\n",
      "Epoch 16/20\n",
      "5146/5146 - 1s - loss: 0.1423 - accuracy: 0.9464 - val_loss: 0.3669 - val_accuracy: 0.9080\n",
      "Epoch 17/20\n",
      "5146/5146 - 1s - loss: 0.1422 - accuracy: 0.9454 - val_loss: 0.3581 - val_accuracy: 0.9139\n",
      "Epoch 18/20\n",
      "5146/5146 - 1s - loss: 0.1295 - accuracy: 0.9485 - val_loss: 0.4093 - val_accuracy: 0.9053\n",
      "Epoch 19/20\n",
      "5146/5146 - 1s - loss: 0.1290 - accuracy: 0.9462 - val_loss: 0.4438 - val_accuracy: 0.8971\n",
      "Epoch 20/20\n",
      "5146/5146 - 1s - loss: 0.1199 - accuracy: 0.9536 - val_loss: 0.3993 - val_accuracy: 0.9134\n",
      "Train on 5146 samples, validate on 2206 samples\n",
      "Epoch 1/20\n",
      "5146/5146 - 5s - loss: 1.0265 - accuracy: 0.5884 - val_loss: 0.6639 - val_accuracy: 0.7466\n",
      "Epoch 2/20\n",
      "5146/5146 - 1s - loss: 0.6374 - accuracy: 0.7291 - val_loss: 0.6921 - val_accuracy: 0.7325\n",
      "Epoch 3/20\n",
      "5146/5146 - 1s - loss: 0.5306 - accuracy: 0.7829 - val_loss: 0.4806 - val_accuracy: 0.8468\n",
      "Epoch 4/20\n",
      "5146/5146 - 1s - loss: 0.4068 - accuracy: 0.8488 - val_loss: 0.3353 - val_accuracy: 0.9066\n",
      "Epoch 5/20\n",
      "5146/5146 - 1s - loss: 0.2979 - accuracy: 0.9007 - val_loss: 0.4076 - val_accuracy: 0.8640\n",
      "Epoch 6/20\n",
      "5146/5146 - 1s - loss: 0.2579 - accuracy: 0.9145 - val_loss: 0.4239 - val_accuracy: 0.8613\n",
      "Epoch 7/20\n",
      "5146/5146 - 1s - loss: 0.2056 - accuracy: 0.9295 - val_loss: 0.3320 - val_accuracy: 0.9116\n",
      "Epoch 8/20\n",
      "5146/5146 - 1s - loss: 0.1842 - accuracy: 0.9392 - val_loss: 0.4244 - val_accuracy: 0.8858\n",
      "Epoch 9/20\n",
      "5146/5146 - 1s - loss: 0.1706 - accuracy: 0.9388 - val_loss: 0.4561 - val_accuracy: 0.8767\n",
      "Epoch 10/20\n",
      "5146/5146 - 1s - loss: 0.1807 - accuracy: 0.9326 - val_loss: 0.4149 - val_accuracy: 0.8876\n",
      "Epoch 11/20\n",
      "5146/5146 - 1s - loss: 0.1569 - accuracy: 0.9429 - val_loss: 0.3634 - val_accuracy: 0.9025\n",
      "Epoch 12/20\n",
      "5146/5146 - 1s - loss: 0.1504 - accuracy: 0.9413 - val_loss: 0.3998 - val_accuracy: 0.8944\n",
      "Epoch 13/20\n",
      "5146/5146 - 1s - loss: 0.1395 - accuracy: 0.9436 - val_loss: 0.3603 - val_accuracy: 0.9148\n",
      "Epoch 14/20\n",
      "5146/5146 - 1s - loss: 0.1414 - accuracy: 0.9431 - val_loss: 0.6361 - val_accuracy: 0.8477\n",
      "Epoch 15/20\n",
      "5146/5146 - 1s - loss: 0.1320 - accuracy: 0.9454 - val_loss: 0.3563 - val_accuracy: 0.9116\n",
      "Epoch 16/20\n",
      "5146/5146 - 1s - loss: 0.1286 - accuracy: 0.9469 - val_loss: 0.3768 - val_accuracy: 0.9143\n",
      "Epoch 17/20\n",
      "5146/5146 - 1s - loss: 0.1276 - accuracy: 0.9462 - val_loss: 0.3810 - val_accuracy: 0.9157\n",
      "Epoch 18/20\n",
      "5146/5146 - 1s - loss: 0.1320 - accuracy: 0.9454 - val_loss: 0.5398 - val_accuracy: 0.8726\n",
      "Epoch 19/20\n",
      "5146/5146 - 1s - loss: 0.1243 - accuracy: 0.9481 - val_loss: 0.4131 - val_accuracy: 0.9034\n",
      "Epoch 20/20\n",
      "5146/5146 - 1s - loss: 0.1140 - accuracy: 0.9503 - val_loss: 0.4719 - val_accuracy: 0.8994\n",
      "Train on 5146 samples, validate on 2206 samples\n",
      "Epoch 1/20\n",
      "5146/5146 - 5s - loss: 1.0537 - accuracy: 0.5781 - val_loss: 0.6992 - val_accuracy: 0.7607\n",
      "Epoch 2/20\n",
      "5146/5146 - 1s - loss: 0.6384 - accuracy: 0.7476 - val_loss: 0.6414 - val_accuracy: 0.7584\n",
      "Epoch 3/20\n",
      "5146/5146 - 1s - loss: 0.4921 - accuracy: 0.8088 - val_loss: 0.5094 - val_accuracy: 0.7996\n",
      "Epoch 4/20\n",
      "5146/5146 - 1s - loss: 0.3733 - accuracy: 0.8696 - val_loss: 0.3886 - val_accuracy: 0.8826\n",
      "Epoch 5/20\n",
      "5146/5146 - 1s - loss: 0.3113 - accuracy: 0.8937 - val_loss: 0.3668 - val_accuracy: 0.8998\n",
      "Epoch 6/20\n",
      "5146/5146 - 1s - loss: 0.2277 - accuracy: 0.9275 - val_loss: 0.3674 - val_accuracy: 0.8785\n",
      "Epoch 7/20\n",
      "5146/5146 - 1s - loss: 0.2020 - accuracy: 0.9349 - val_loss: 0.3290 - val_accuracy: 0.8944\n",
      "Epoch 8/20\n",
      "5146/5146 - 1s - loss: 0.1795 - accuracy: 0.9388 - val_loss: 0.3068 - val_accuracy: 0.9039\n",
      "Epoch 9/20\n",
      "5146/5146 - 1s - loss: 0.1746 - accuracy: 0.9359 - val_loss: 0.3184 - val_accuracy: 0.9225\n",
      "Epoch 10/20\n",
      "5146/5146 - 1s - loss: 0.1675 - accuracy: 0.9374 - val_loss: 0.2883 - val_accuracy: 0.9238\n",
      "Epoch 11/20\n",
      "5146/5146 - 1s - loss: 0.1467 - accuracy: 0.9460 - val_loss: 0.6157 - val_accuracy: 0.8441\n",
      "Epoch 12/20\n",
      "5146/5146 - 1s - loss: 0.1598 - accuracy: 0.9396 - val_loss: 0.3227 - val_accuracy: 0.9170\n",
      "Epoch 13/20\n",
      "5146/5146 - 1s - loss: 0.1434 - accuracy: 0.9421 - val_loss: 0.3018 - val_accuracy: 0.9248\n",
      "Epoch 14/20\n",
      "5146/5146 - 1s - loss: 0.1302 - accuracy: 0.9466 - val_loss: 0.2912 - val_accuracy: 0.9270\n",
      "Epoch 15/20\n",
      "5146/5146 - 1s - loss: 0.1215 - accuracy: 0.9510 - val_loss: 0.3165 - val_accuracy: 0.9220\n",
      "Epoch 16/20\n",
      "5146/5146 - 1s - loss: 0.1272 - accuracy: 0.9462 - val_loss: 0.3041 - val_accuracy: 0.9216\n",
      "Epoch 17/20\n",
      "5146/5146 - 1s - loss: 0.1187 - accuracy: 0.9473 - val_loss: 0.3233 - val_accuracy: 0.9234\n",
      "Epoch 18/20\n",
      "5146/5146 - 1s - loss: 0.1120 - accuracy: 0.9539 - val_loss: 0.3107 - val_accuracy: 0.9071\n"
     ]
    },
    {
     "name": "stdout",
     "output_type": "stream",
     "text": [
      "Epoch 19/20\n",
      "5146/5146 - 1s - loss: 0.1138 - accuracy: 0.9514 - val_loss: 0.3203 - val_accuracy: 0.9161\n",
      "Epoch 20/20\n",
      "5146/5146 - 1s - loss: 0.1082 - accuracy: 0.9497 - val_loss: 0.3280 - val_accuracy: 0.9130\n",
      "Train on 5146 samples, validate on 2206 samples\n",
      "Epoch 1/20\n",
      "5146/5146 - 5s - loss: 1.0334 - accuracy: 0.5902 - val_loss: 0.6863 - val_accuracy: 0.7203\n",
      "Epoch 2/20\n",
      "5146/5146 - 1s - loss: 0.6296 - accuracy: 0.7423 - val_loss: 0.5713 - val_accuracy: 0.8037\n",
      "Epoch 3/20\n",
      "5146/5146 - 1s - loss: 0.5035 - accuracy: 0.8043 - val_loss: 0.4597 - val_accuracy: 0.8626\n",
      "Epoch 4/20\n",
      "5146/5146 - 1s - loss: 0.3557 - accuracy: 0.8801 - val_loss: 0.4977 - val_accuracy: 0.8300\n",
      "Epoch 5/20\n",
      "5146/5146 - 1s - loss: 0.2511 - accuracy: 0.9149 - val_loss: 0.3075 - val_accuracy: 0.9102\n",
      "Epoch 6/20\n",
      "5146/5146 - 1s - loss: 0.2408 - accuracy: 0.9227 - val_loss: 0.3505 - val_accuracy: 0.8948\n",
      "Epoch 7/20\n",
      "5146/5146 - 1s - loss: 0.1863 - accuracy: 0.9335 - val_loss: 0.3387 - val_accuracy: 0.8994\n",
      "Epoch 8/20\n",
      "5146/5146 - 1s - loss: 0.1674 - accuracy: 0.9417 - val_loss: 0.3572 - val_accuracy: 0.8989\n",
      "Epoch 9/20\n",
      "5146/5146 - 1s - loss: 0.1563 - accuracy: 0.9415 - val_loss: 0.3679 - val_accuracy: 0.8985\n",
      "Epoch 10/20\n",
      "5146/5146 - 1s - loss: 0.1523 - accuracy: 0.9442 - val_loss: 0.5457 - val_accuracy: 0.8676\n",
      "Epoch 11/20\n",
      "5146/5146 - 1s - loss: 0.1420 - accuracy: 0.9460 - val_loss: 0.3929 - val_accuracy: 0.9053\n",
      "Epoch 12/20\n",
      "5146/5146 - 1s - loss: 0.1841 - accuracy: 0.9291 - val_loss: 0.3617 - val_accuracy: 0.9048\n",
      "Epoch 13/20\n",
      "5146/5146 - 1s - loss: 0.1295 - accuracy: 0.9497 - val_loss: 0.2886 - val_accuracy: 0.9102\n",
      "Epoch 14/20\n",
      "5146/5146 - 1s - loss: 0.1292 - accuracy: 0.9487 - val_loss: 0.3503 - val_accuracy: 0.9125\n",
      "Epoch 15/20\n",
      "5146/5146 - 1s - loss: 0.1218 - accuracy: 0.9522 - val_loss: 0.3322 - val_accuracy: 0.9048\n",
      "Epoch 16/20\n",
      "5146/5146 - 1s - loss: 0.1332 - accuracy: 0.9469 - val_loss: 0.3877 - val_accuracy: 0.9102\n",
      "Epoch 17/20\n",
      "5146/5146 - 1s - loss: 0.1166 - accuracy: 0.9493 - val_loss: 0.3625 - val_accuracy: 0.9084\n",
      "Epoch 18/20\n",
      "5146/5146 - 1s - loss: 0.1154 - accuracy: 0.9510 - val_loss: 0.3753 - val_accuracy: 0.9121\n",
      "Epoch 19/20\n",
      "5146/5146 - 1s - loss: 0.1164 - accuracy: 0.9506 - val_loss: 0.3764 - val_accuracy: 0.9134\n",
      "Epoch 20/20\n",
      "5146/5146 - 1s - loss: 0.1151 - accuracy: 0.9471 - val_loss: 0.3915 - val_accuracy: 0.9062\n",
      "Train on 5146 samples, validate on 2206 samples\n",
      "Epoch 1/20\n",
      "5146/5146 - 5s - loss: 1.0374 - accuracy: 0.5824 - val_loss: 0.6390 - val_accuracy: 0.8005\n",
      "Epoch 2/20\n",
      "5146/5146 - 1s - loss: 0.6347 - accuracy: 0.7326 - val_loss: 0.5789 - val_accuracy: 0.8051\n",
      "Epoch 3/20\n",
      "5146/5146 - 1s - loss: 0.5342 - accuracy: 0.7915 - val_loss: 0.4536 - val_accuracy: 0.8613\n",
      "Epoch 4/20\n",
      "5146/5146 - 1s - loss: 0.4225 - accuracy: 0.8424 - val_loss: 0.3827 - val_accuracy: 0.8821\n",
      "Epoch 5/20\n",
      "5146/5146 - 1s - loss: 0.3172 - accuracy: 0.8906 - val_loss: 0.3737 - val_accuracy: 0.8939\n",
      "Epoch 6/20\n",
      "5146/5146 - 1s - loss: 0.2484 - accuracy: 0.9178 - val_loss: 0.4153 - val_accuracy: 0.8799\n",
      "Epoch 7/20\n",
      "5146/5146 - 1s - loss: 0.2256 - accuracy: 0.9246 - val_loss: 0.4107 - val_accuracy: 0.8835\n",
      "Epoch 8/20\n",
      "5146/5146 - 1s - loss: 0.1949 - accuracy: 0.9316 - val_loss: 0.4217 - val_accuracy: 0.8772\n",
      "Epoch 9/20\n",
      "5146/5146 - 1s - loss: 0.1892 - accuracy: 0.9337 - val_loss: 0.3882 - val_accuracy: 0.8948\n",
      "Epoch 10/20\n",
      "5146/5146 - 1s - loss: 0.1788 - accuracy: 0.9361 - val_loss: 0.3814 - val_accuracy: 0.8994\n",
      "Epoch 11/20\n",
      "5146/5146 - 1s - loss: 0.1661 - accuracy: 0.9394 - val_loss: 0.3861 - val_accuracy: 0.9007\n",
      "Epoch 12/20\n",
      "5146/5146 - 1s - loss: 0.1553 - accuracy: 0.9448 - val_loss: 0.3511 - val_accuracy: 0.9143\n",
      "Epoch 13/20\n",
      "5146/5146 - 1s - loss: 0.1473 - accuracy: 0.9403 - val_loss: 0.3640 - val_accuracy: 0.9098\n",
      "Epoch 14/20\n",
      "5146/5146 - 1s - loss: 0.1557 - accuracy: 0.9403 - val_loss: 0.4082 - val_accuracy: 0.8998\n",
      "Epoch 15/20\n",
      "5146/5146 - 1s - loss: 0.1535 - accuracy: 0.9382 - val_loss: 0.4204 - val_accuracy: 0.8858\n",
      "Epoch 16/20\n",
      "5146/5146 - 1s - loss: 0.1438 - accuracy: 0.9429 - val_loss: 0.4261 - val_accuracy: 0.8917\n",
      "Epoch 17/20\n",
      "5146/5146 - 1s - loss: 0.1417 - accuracy: 0.9436 - val_loss: 0.3597 - val_accuracy: 0.9098\n",
      "Epoch 18/20\n",
      "5146/5146 - 1s - loss: 0.1321 - accuracy: 0.9436 - val_loss: 0.3612 - val_accuracy: 0.9093\n",
      "Epoch 19/20\n",
      "5146/5146 - 1s - loss: 0.1280 - accuracy: 0.9481 - val_loss: 0.4460 - val_accuracy: 0.8985\n",
      "Epoch 20/20\n",
      "5146/5146 - 1s - loss: 0.1266 - accuracy: 0.9471 - val_loss: 0.5319 - val_accuracy: 0.8631\n",
      "Train on 5146 samples, validate on 2206 samples\n",
      "Epoch 1/20\n",
      "5146/5146 - 5s - loss: 1.0789 - accuracy: 0.5702 - val_loss: 0.7127 - val_accuracy: 0.7434\n",
      "Epoch 2/20\n",
      "5146/5146 - 1s - loss: 0.6583 - accuracy: 0.7180 - val_loss: 0.5838 - val_accuracy: 0.8087\n",
      "Epoch 3/20\n",
      "5146/5146 - 1s - loss: 0.5487 - accuracy: 0.7812 - val_loss: 0.5776 - val_accuracy: 0.7915\n",
      "Epoch 4/20\n",
      "5146/5146 - 1s - loss: 0.4494 - accuracy: 0.8257 - val_loss: 0.6152 - val_accuracy: 0.7788\n",
      "Epoch 5/20\n",
      "5146/5146 - 1s - loss: 0.3392 - accuracy: 0.8838 - val_loss: 0.4322 - val_accuracy: 0.8640\n",
      "Epoch 6/20\n",
      "5146/5146 - 1s - loss: 0.2760 - accuracy: 0.9108 - val_loss: 0.3785 - val_accuracy: 0.8885\n",
      "Epoch 7/20\n",
      "5146/5146 - 1s - loss: 0.2098 - accuracy: 0.9351 - val_loss: 0.3236 - val_accuracy: 0.9034\n",
      "Epoch 8/20\n",
      "5146/5146 - 1s - loss: 0.2009 - accuracy: 0.9302 - val_loss: 0.3293 - val_accuracy: 0.8903\n",
      "Epoch 9/20\n",
      "5146/5146 - 1s - loss: 0.1880 - accuracy: 0.9365 - val_loss: 0.3629 - val_accuracy: 0.8989\n",
      "Epoch 10/20\n",
      "5146/5146 - 1s - loss: 0.1715 - accuracy: 0.9392 - val_loss: 0.3256 - val_accuracy: 0.9062\n",
      "Epoch 11/20\n",
      "5146/5146 - 1s - loss: 0.1632 - accuracy: 0.9398 - val_loss: 0.4212 - val_accuracy: 0.8894\n",
      "Epoch 12/20\n",
      "5146/5146 - 1s - loss: 0.1617 - accuracy: 0.9413 - val_loss: 0.3212 - val_accuracy: 0.9066\n",
      "Epoch 13/20\n",
      "5146/5146 - 1s - loss: 0.1529 - accuracy: 0.9433 - val_loss: 0.3237 - val_accuracy: 0.9075\n",
      "Epoch 14/20\n",
      "5146/5146 - 1s - loss: 0.1539 - accuracy: 0.9419 - val_loss: 0.3623 - val_accuracy: 0.8966\n",
      "Epoch 15/20\n",
      "5146/5146 - 1s - loss: 0.1375 - accuracy: 0.9464 - val_loss: 0.2992 - val_accuracy: 0.9053\n",
      "Epoch 16/20\n",
      "5146/5146 - 1s - loss: 0.1332 - accuracy: 0.9475 - val_loss: 0.4617 - val_accuracy: 0.8676\n",
      "Epoch 17/20\n",
      "5146/5146 - 1s - loss: 0.1338 - accuracy: 0.9460 - val_loss: 0.3108 - val_accuracy: 0.9116\n",
      "Epoch 18/20\n",
      "5146/5146 - 1s - loss: 0.1339 - accuracy: 0.9501 - val_loss: 0.3328 - val_accuracy: 0.9089\n",
      "Epoch 19/20\n",
      "5146/5146 - 1s - loss: 0.1244 - accuracy: 0.9497 - val_loss: 0.3675 - val_accuracy: 0.9012\n",
      "Epoch 20/20\n",
      "5146/5146 - 1s - loss: 0.1201 - accuracy: 0.9504 - val_loss: 0.4112 - val_accuracy: 0.8985\n",
      "Train on 5146 samples, validate on 2206 samples\n",
      "Epoch 1/20\n",
      "5146/5146 - 5s - loss: 1.0084 - accuracy: 0.5962 - val_loss: 0.6491 - val_accuracy: 0.7398\n",
      "Epoch 2/20\n",
      "5146/5146 - 1s - loss: 0.6303 - accuracy: 0.7394 - val_loss: 0.5350 - val_accuracy: 0.8432\n",
      "Epoch 3/20\n",
      "5146/5146 - 1s - loss: 0.4822 - accuracy: 0.8169 - val_loss: 0.3609 - val_accuracy: 0.9102\n",
      "Epoch 4/20\n",
      "5146/5146 - 1s - loss: 0.3481 - accuracy: 0.8766 - val_loss: 0.4200 - val_accuracy: 0.8717\n",
      "Epoch 5/20\n",
      "5146/5146 - 1s - loss: 0.2659 - accuracy: 0.9147 - val_loss: 0.3698 - val_accuracy: 0.9021\n",
      "Epoch 6/20\n",
      "5146/5146 - 1s - loss: 0.2194 - accuracy: 0.9273 - val_loss: 0.3098 - val_accuracy: 0.9170\n",
      "Epoch 7/20\n",
      "5146/5146 - 1s - loss: 0.2032 - accuracy: 0.9312 - val_loss: 0.3421 - val_accuracy: 0.9107\n",
      "Epoch 8/20\n",
      "5146/5146 - 1s - loss: 0.1796 - accuracy: 0.9368 - val_loss: 0.5431 - val_accuracy: 0.8463\n",
      "Epoch 9/20\n",
      "5146/5146 - 1s - loss: 0.1793 - accuracy: 0.9374 - val_loss: 0.3165 - val_accuracy: 0.9007\n",
      "Epoch 10/20\n",
      "5146/5146 - 1s - loss: 0.1564 - accuracy: 0.9400 - val_loss: 0.3706 - val_accuracy: 0.9157\n",
      "Epoch 11/20\n",
      "5146/5146 - 1s - loss: 0.1557 - accuracy: 0.9411 - val_loss: 0.3277 - val_accuracy: 0.9170\n",
      "Epoch 12/20\n",
      "5146/5146 - 1s - loss: 0.1546 - accuracy: 0.9427 - val_loss: 0.2881 - val_accuracy: 0.9329\n",
      "Epoch 13/20\n",
      "5146/5146 - 1s - loss: 0.1404 - accuracy: 0.9435 - val_loss: 0.6614 - val_accuracy: 0.8450\n",
      "Epoch 14/20\n",
      "5146/5146 - 1s - loss: 0.1410 - accuracy: 0.9464 - val_loss: 0.3062 - val_accuracy: 0.9248\n",
      "Epoch 15/20\n",
      "5146/5146 - 1s - loss: 0.1337 - accuracy: 0.9481 - val_loss: 0.3252 - val_accuracy: 0.9229\n",
      "Epoch 16/20\n",
      "5146/5146 - 1s - loss: 0.1254 - accuracy: 0.9477 - val_loss: 0.8128 - val_accuracy: 0.8146\n"
     ]
    },
    {
     "name": "stdout",
     "output_type": "stream",
     "text": [
      "Epoch 17/20\n",
      "5146/5146 - 1s - loss: 0.1512 - accuracy: 0.9386 - val_loss: 0.3084 - val_accuracy: 0.9107\n",
      "Epoch 18/20\n",
      "5146/5146 - 1s - loss: 0.1262 - accuracy: 0.9440 - val_loss: 0.5153 - val_accuracy: 0.8844\n",
      "Epoch 19/20\n",
      "5146/5146 - 1s - loss: 0.1227 - accuracy: 0.9458 - val_loss: 0.3303 - val_accuracy: 0.9275\n",
      "Epoch 20/20\n",
      "5146/5146 - 1s - loss: 0.1212 - accuracy: 0.9483 - val_loss: 0.4013 - val_accuracy: 0.9048\n",
      "Train on 5146 samples, validate on 2206 samples\n",
      "Epoch 1/20\n",
      "5146/5146 - 5s - loss: 1.0159 - accuracy: 0.5921 - val_loss: 0.6487 - val_accuracy: 0.7720\n",
      "Epoch 2/20\n",
      "5146/5146 - 1s - loss: 0.6567 - accuracy: 0.7167 - val_loss: 0.5449 - val_accuracy: 0.8246\n",
      "Epoch 3/20\n",
      "5146/5146 - 1s - loss: 0.5449 - accuracy: 0.7806 - val_loss: 0.5562 - val_accuracy: 0.8028\n",
      "Epoch 4/20\n",
      "5146/5146 - 1s - loss: 0.4320 - accuracy: 0.8300 - val_loss: 0.5167 - val_accuracy: 0.8395\n",
      "Epoch 5/20\n",
      "5146/5146 - 1s - loss: 0.3471 - accuracy: 0.8706 - val_loss: 0.5437 - val_accuracy: 0.7869\n",
      "Epoch 6/20\n",
      "5146/5146 - 1s - loss: 0.2811 - accuracy: 0.9042 - val_loss: 0.3665 - val_accuracy: 0.8849\n",
      "Epoch 7/20\n",
      "5146/5146 - 1s - loss: 0.2230 - accuracy: 0.9244 - val_loss: 0.3794 - val_accuracy: 0.8894\n",
      "Epoch 8/20\n",
      "5146/5146 - 1s - loss: 0.1902 - accuracy: 0.9335 - val_loss: 0.3480 - val_accuracy: 0.9102\n",
      "Epoch 9/20\n",
      "5146/5146 - 1s - loss: 0.1759 - accuracy: 0.9374 - val_loss: 0.3639 - val_accuracy: 0.8889\n",
      "Epoch 10/20\n",
      "5146/5146 - 1s - loss: 0.1760 - accuracy: 0.9339 - val_loss: 0.2924 - val_accuracy: 0.9202\n",
      "Epoch 11/20\n",
      "5146/5146 - 1s - loss: 0.1483 - accuracy: 0.9454 - val_loss: 0.3026 - val_accuracy: 0.9157\n",
      "Epoch 12/20\n",
      "5146/5146 - 1s - loss: 0.1494 - accuracy: 0.9394 - val_loss: 0.2887 - val_accuracy: 0.9306\n",
      "Epoch 13/20\n",
      "5146/5146 - 1s - loss: 0.1297 - accuracy: 0.9483 - val_loss: 0.4025 - val_accuracy: 0.9007\n",
      "Epoch 14/20\n",
      "5146/5146 - 1s - loss: 0.1336 - accuracy: 0.9458 - val_loss: 0.3122 - val_accuracy: 0.9175\n",
      "Epoch 15/20\n",
      "5146/5146 - 1s - loss: 0.1360 - accuracy: 0.9446 - val_loss: 0.2954 - val_accuracy: 0.9275\n",
      "Epoch 16/20\n",
      "5146/5146 - 1s - loss: 0.1272 - accuracy: 0.9475 - val_loss: 0.3513 - val_accuracy: 0.9207\n",
      "Epoch 17/20\n",
      "5146/5146 - 1s - loss: 0.1183 - accuracy: 0.9520 - val_loss: 0.3042 - val_accuracy: 0.9225\n",
      "Epoch 18/20\n",
      "5146/5146 - 1s - loss: 0.1187 - accuracy: 0.9493 - val_loss: 0.3734 - val_accuracy: 0.9039\n",
      "Epoch 19/20\n",
      "5146/5146 - 1s - loss: 0.1156 - accuracy: 0.9483 - val_loss: 0.3387 - val_accuracy: 0.9216\n",
      "Epoch 20/20\n",
      "5146/5146 - 1s - loss: 0.1166 - accuracy: 0.9532 - val_loss: 0.3309 - val_accuracy: 0.9207\n",
      "Train on 5146 samples, validate on 2206 samples\n",
      "Epoch 1/20\n",
      "5146/5146 - 5s - loss: 1.0715 - accuracy: 0.5702 - val_loss: 0.8162 - val_accuracy: 0.6251\n",
      "Epoch 2/20\n",
      "5146/5146 - 1s - loss: 0.6272 - accuracy: 0.7472 - val_loss: 0.6727 - val_accuracy: 0.7412\n",
      "Epoch 3/20\n",
      "5146/5146 - 1s - loss: 0.4710 - accuracy: 0.8265 - val_loss: 0.5009 - val_accuracy: 0.8028\n",
      "Epoch 4/20\n",
      "5146/5146 - 1s - loss: 0.3458 - accuracy: 0.8811 - val_loss: 0.4778 - val_accuracy: 0.8604\n",
      "Epoch 5/20\n",
      "5146/5146 - 1s - loss: 0.2834 - accuracy: 0.9059 - val_loss: 0.3544 - val_accuracy: 0.8948\n",
      "Epoch 6/20\n",
      "5146/5146 - 1s - loss: 0.2208 - accuracy: 0.9295 - val_loss: 0.5079 - val_accuracy: 0.8572\n",
      "Epoch 7/20\n",
      "5146/5146 - 1s - loss: 0.2017 - accuracy: 0.9308 - val_loss: 0.3332 - val_accuracy: 0.9130\n",
      "Epoch 8/20\n",
      "5146/5146 - 1s - loss: 0.1836 - accuracy: 0.9335 - val_loss: 0.3489 - val_accuracy: 0.9057\n",
      "Epoch 9/20\n",
      "5146/5146 - 1s - loss: 0.1556 - accuracy: 0.9425 - val_loss: 0.3327 - val_accuracy: 0.9139\n",
      "Epoch 10/20\n",
      "5146/5146 - 1s - loss: 0.1618 - accuracy: 0.9368 - val_loss: 0.2798 - val_accuracy: 0.9234\n",
      "Epoch 11/20\n",
      "5146/5146 - 1s - loss: 0.1494 - accuracy: 0.9405 - val_loss: 0.3408 - val_accuracy: 0.9116\n",
      "Epoch 12/20\n",
      "5146/5146 - 1s - loss: 0.1452 - accuracy: 0.9454 - val_loss: 0.3176 - val_accuracy: 0.9148\n",
      "Epoch 13/20\n",
      "5146/5146 - 1s - loss: 0.1407 - accuracy: 0.9452 - val_loss: 0.2956 - val_accuracy: 0.9288\n",
      "Epoch 14/20\n",
      "5146/5146 - 1s - loss: 0.1306 - accuracy: 0.9466 - val_loss: 0.2891 - val_accuracy: 0.9279\n",
      "Epoch 15/20\n",
      "5146/5146 - 1s - loss: 0.1290 - accuracy: 0.9471 - val_loss: 0.3090 - val_accuracy: 0.9207\n",
      "Epoch 16/20\n",
      "5146/5146 - 1s - loss: 0.1233 - accuracy: 0.9481 - val_loss: 0.3109 - val_accuracy: 0.9175\n",
      "Epoch 17/20\n",
      "5146/5146 - 1s - loss: 0.1262 - accuracy: 0.9466 - val_loss: 0.2995 - val_accuracy: 0.9311\n",
      "Epoch 18/20\n",
      "5146/5146 - 1s - loss: 0.1509 - accuracy: 0.9409 - val_loss: 0.3159 - val_accuracy: 0.9139\n",
      "Epoch 19/20\n",
      "5146/5146 - 1s - loss: 0.1205 - accuracy: 0.9479 - val_loss: 0.2896 - val_accuracy: 0.9102\n",
      "Epoch 20/20\n",
      "5146/5146 - 1s - loss: 0.1165 - accuracy: 0.9483 - val_loss: 0.3378 - val_accuracy: 0.9102\n"
     ]
    },
    {
     "data": {
      "text/html": [
       "<span style=\"color:#4527A0\"><h1 style=\"font-size:18px\">Trial complete</h1></span>"
      ],
      "text/plain": [
       "<IPython.core.display.HTML object>"
      ]
     },
     "metadata": {},
     "output_type": "display_data"
    },
    {
     "data": {
      "text/html": [
       "<span style=\"color:#4527A0\"><h1 style=\"font-size:18px\">Trial summary</h1></span>"
      ],
      "text/plain": [
       "<IPython.core.display.HTML object>"
      ]
     },
     "metadata": {},
     "output_type": "display_data"
    },
    {
     "data": {
      "text/html": [
       "<span style=\"color:cyan\"> |-Trial ID: 63f8b28f28192213eedbf0790b16d63a</span>"
      ],
      "text/plain": [
       "<IPython.core.display.HTML object>"
      ]
     },
     "metadata": {},
     "output_type": "display_data"
    },
    {
     "data": {
      "text/html": [
       "<span style=\"color:cyan\"> |-Score: 0.9200363159179688</span>"
      ],
      "text/plain": [
       "<IPython.core.display.HTML object>"
      ]
     },
     "metadata": {},
     "output_type": "display_data"
    },
    {
     "data": {
      "text/html": [
       "<span style=\"color:cyan\"> |-Best step: 0</span>"
      ],
      "text/plain": [
       "<IPython.core.display.HTML object>"
      ]
     },
     "metadata": {},
     "output_type": "display_data"
    },
    {
     "data": {
      "text/html": [
       "<span style=\"color:#7E57C2\"><h2 style=\"font-size:16px\">Hyperparameters:</h2></span>"
      ],
      "text/plain": [
       "<IPython.core.display.HTML object>"
      ]
     },
     "metadata": {},
     "output_type": "display_data"
    },
    {
     "data": {
      "text/html": [
       "<span style=\"color:cyan\"> |-batch_size: 160</span>"
      ],
      "text/plain": [
       "<IPython.core.display.HTML object>"
      ]
     },
     "metadata": {},
     "output_type": "display_data"
    },
    {
     "data": {
      "text/html": [
       "<span style=\"color:blue\"> |-dense_0: 96</span>"
      ],
      "text/plain": [
       "<IPython.core.display.HTML object>"
      ]
     },
     "metadata": {},
     "output_type": "display_data"
    },
    {
     "data": {
      "text/html": [
       "<span style=\"color:cyan\"> |-dropout_1: 0.4000000000000001</span>"
      ],
      "text/plain": [
       "<IPython.core.display.HTML object>"
      ]
     },
     "metadata": {},
     "output_type": "display_data"
    },
    {
     "data": {
      "text/html": [
       "<span style=\"color:blue\"> |-dropout_2: 0.6000000000000001</span>"
      ],
      "text/plain": [
       "<IPython.core.display.HTML object>"
      ]
     },
     "metadata": {},
     "output_type": "display_data"
    },
    {
     "data": {
      "text/html": [
       "<span style=\"color:cyan\"> |-dropout_3: 0.30000000000000004</span>"
      ],
      "text/plain": [
       "<IPython.core.display.HTML object>"
      ]
     },
     "metadata": {},
     "output_type": "display_data"
    },
    {
     "data": {
      "text/html": [
       "<span style=\"color:blue\"> |-epochs: 20</span>"
      ],
      "text/plain": [
       "<IPython.core.display.HTML object>"
      ]
     },
     "metadata": {},
     "output_type": "display_data"
    },
    {
     "data": {
      "text/html": [
       "<span style=\"color:cyan\"> |-num_layers: 0</span>"
      ],
      "text/plain": [
       "<IPython.core.display.HTML object>"
      ]
     },
     "metadata": {},
     "output_type": "display_data"
    },
    {
     "data": {
      "text/html": [
       "<span style=\"color:blue\"> |-optimizer_name: adagrad</span>"
      ],
      "text/plain": [
       "<IPython.core.display.HTML object>"
      ]
     },
     "metadata": {},
     "output_type": "display_data"
    },
    {
     "data": {
      "text/html": [
       "<span style=\"color:cyan\"> |-units_1: 256</span>"
      ],
      "text/plain": [
       "<IPython.core.display.HTML object>"
      ]
     },
     "metadata": {},
     "output_type": "display_data"
    },
    {
     "data": {
      "text/html": [
       "<span style=\"color:blue\"> |-units_2: 192</span>"
      ],
      "text/plain": [
       "<IPython.core.display.HTML object>"
      ]
     },
     "metadata": {},
     "output_type": "display_data"
    },
    {
     "name": "stdout",
     "output_type": "stream",
     "text": [
      "Train on 5146 samples, validate on 2206 samples\n",
      "Epoch 1/25\n",
      "5146/5146 - 12s - loss: 2.2622 - accuracy: 0.2425 - val_loss: 1.2631 - val_accuracy: 0.5150\n",
      "Epoch 2/25\n",
      "5146/5146 - 1s - loss: 1.8675 - accuracy: 0.3175 - val_loss: 1.2019 - val_accuracy: 0.5141\n",
      "Epoch 3/25\n",
      "5146/5146 - 1s - loss: 1.7478 - accuracy: 0.3568 - val_loss: 1.1715 - val_accuracy: 0.5018\n",
      "Epoch 4/25\n",
      "5146/5146 - 1s - loss: 1.6346 - accuracy: 0.3807 - val_loss: 1.1373 - val_accuracy: 0.5036\n",
      "Epoch 5/25\n",
      "5146/5146 - 1s - loss: 1.5494 - accuracy: 0.4139 - val_loss: 1.0934 - val_accuracy: 0.5340\n",
      "Epoch 6/25\n",
      "5146/5146 - 1s - loss: 1.4843 - accuracy: 0.4264 - val_loss: 1.0730 - val_accuracy: 0.5295\n",
      "Epoch 7/25\n",
      "5146/5146 - 1s - loss: 1.4395 - accuracy: 0.4403 - val_loss: 1.0479 - val_accuracy: 0.5299\n",
      "Epoch 8/25\n",
      "5146/5146 - 1s - loss: 1.4019 - accuracy: 0.4522 - val_loss: 1.0141 - val_accuracy: 0.5503\n",
      "Epoch 9/25\n",
      "5146/5146 - 1s - loss: 1.3702 - accuracy: 0.4619 - val_loss: 0.9944 - val_accuracy: 0.5435\n",
      "Epoch 10/25\n",
      "5146/5146 - 1s - loss: 1.2987 - accuracy: 0.4856 - val_loss: 0.9581 - val_accuracy: 0.5657\n",
      "Epoch 11/25\n",
      "5146/5146 - 1s - loss: 1.2652 - accuracy: 0.5004 - val_loss: 0.9395 - val_accuracy: 0.5716\n",
      "Epoch 12/25\n",
      "5146/5146 - 1s - loss: 1.2454 - accuracy: 0.5099 - val_loss: 0.9122 - val_accuracy: 0.5898\n",
      "Epoch 13/25\n",
      "5146/5146 - 1s - loss: 1.1974 - accuracy: 0.5319 - val_loss: 0.8667 - val_accuracy: 0.6151\n",
      "Epoch 14/25\n",
      "5146/5146 - 1s - loss: 1.1543 - accuracy: 0.5352 - val_loss: 0.8209 - val_accuracy: 0.6469\n",
      "Epoch 15/25\n",
      "5146/5146 - 1s - loss: 1.1204 - accuracy: 0.5560 - val_loss: 0.7966 - val_accuracy: 0.6596\n",
      "Epoch 16/25\n",
      "5146/5146 - 1s - loss: 1.1123 - accuracy: 0.5632 - val_loss: 0.7850 - val_accuracy: 0.6636\n",
      "Epoch 17/25\n",
      "5146/5146 - 1s - loss: 1.0794 - accuracy: 0.5678 - val_loss: 0.7729 - val_accuracy: 0.6700\n",
      "Epoch 18/25\n",
      "5146/5146 - 1s - loss: 1.0626 - accuracy: 0.5717 - val_loss: 0.7584 - val_accuracy: 0.6795\n",
      "Epoch 19/25\n",
      "5146/5146 - 1s - loss: 1.0219 - accuracy: 0.5902 - val_loss: 0.7553 - val_accuracy: 0.6763\n",
      "Epoch 20/25\n",
      "5146/5146 - 1s - loss: 1.0298 - accuracy: 0.5869 - val_loss: 0.7515 - val_accuracy: 0.6804\n",
      "Epoch 21/25\n",
      "5146/5146 - 1s - loss: 1.0144 - accuracy: 0.5886 - val_loss: 0.7495 - val_accuracy: 0.6763\n",
      "Epoch 22/25\n",
      "5146/5146 - 1s - loss: 0.9868 - accuracy: 0.5976 - val_loss: 0.7382 - val_accuracy: 0.6791\n",
      "Epoch 23/25\n",
      "5146/5146 - 1s - loss: 0.9758 - accuracy: 0.6022 - val_loss: 0.7458 - val_accuracy: 0.6759\n",
      "Epoch 24/25\n",
      "5146/5146 - 1s - loss: 0.9698 - accuracy: 0.6005 - val_loss: 0.7421 - val_accuracy: 0.6763\n",
      "Epoch 25/25\n",
      "5146/5146 - 1s - loss: 0.9487 - accuracy: 0.6139 - val_loss: 0.7336 - val_accuracy: 0.6768\n",
      "Train on 5146 samples, validate on 2206 samples\n",
      "Epoch 1/25\n",
      "5146/5146 - 3s - loss: 2.2345 - accuracy: 0.2332 - val_loss: 1.3393 - val_accuracy: 0.4950\n",
      "Epoch 2/25\n",
      "5146/5146 - 1s - loss: 1.9018 - accuracy: 0.3051 - val_loss: 1.2789 - val_accuracy: 0.4991\n",
      "Epoch 3/25\n",
      "5146/5146 - 1s - loss: 1.7462 - accuracy: 0.3410 - val_loss: 1.2553 - val_accuracy: 0.4882\n",
      "Epoch 4/25\n",
      "5146/5146 - 1s - loss: 1.6470 - accuracy: 0.3659 - val_loss: 1.2332 - val_accuracy: 0.4946\n",
      "Epoch 5/25\n",
      "5146/5146 - 1s - loss: 1.5958 - accuracy: 0.3879 - val_loss: 1.2090 - val_accuracy: 0.4950\n",
      "Epoch 6/25\n",
      "5146/5146 - 1s - loss: 1.5379 - accuracy: 0.3945 - val_loss: 1.1814 - val_accuracy: 0.5127\n",
      "Epoch 7/25\n",
      "5146/5146 - 1s - loss: 1.4955 - accuracy: 0.4147 - val_loss: 1.1573 - val_accuracy: 0.5136\n",
      "Epoch 8/25\n",
      "5146/5146 - 1s - loss: 1.4543 - accuracy: 0.4281 - val_loss: 1.1375 - val_accuracy: 0.5100\n",
      "Epoch 9/25\n",
      "5146/5146 - 1s - loss: 1.4437 - accuracy: 0.4275 - val_loss: 1.1195 - val_accuracy: 0.5258\n",
      "Epoch 10/25\n",
      "5146/5146 - 1s - loss: 1.4058 - accuracy: 0.4333 - val_loss: 1.0973 - val_accuracy: 0.5345\n",
      "Epoch 11/25\n",
      "5146/5146 - 1s - loss: 1.3845 - accuracy: 0.4497 - val_loss: 1.0784 - val_accuracy: 0.5413\n",
      "Epoch 12/25\n",
      "5146/5146 - 1s - loss: 1.3361 - accuracy: 0.4699 - val_loss: 1.0719 - val_accuracy: 0.5326\n",
      "Epoch 13/25\n",
      "5146/5146 - 1s - loss: 1.2998 - accuracy: 0.4753 - val_loss: 1.0404 - val_accuracy: 0.5607\n",
      "Epoch 14/25\n",
      "5146/5146 - 1s - loss: 1.2948 - accuracy: 0.4720 - val_loss: 1.0296 - val_accuracy: 0.5662\n",
      "Epoch 15/25\n",
      "5146/5146 - 1s - loss: 1.2675 - accuracy: 0.4924 - val_loss: 1.0182 - val_accuracy: 0.5689\n",
      "Epoch 16/25\n",
      "5146/5146 - 1s - loss: 1.2419 - accuracy: 0.5039 - val_loss: 1.0034 - val_accuracy: 0.5802\n",
      "Epoch 17/25\n",
      "5146/5146 - 1s - loss: 1.2069 - accuracy: 0.5021 - val_loss: 0.9906 - val_accuracy: 0.5870\n",
      "Epoch 18/25\n",
      "5146/5146 - 1s - loss: 1.1981 - accuracy: 0.5117 - val_loss: 0.9717 - val_accuracy: 0.6061\n",
      "Epoch 19/25\n",
      "5146/5146 - 1s - loss: 1.1766 - accuracy: 0.5196 - val_loss: 0.9571 - val_accuracy: 0.6170\n",
      "Epoch 20/25\n",
      "5146/5146 - 1s - loss: 1.1559 - accuracy: 0.5260 - val_loss: 0.9396 - val_accuracy: 0.6315\n",
      "Epoch 21/25\n",
      "5146/5146 - 1s - loss: 1.1426 - accuracy: 0.5274 - val_loss: 0.9205 - val_accuracy: 0.6528\n",
      "Epoch 22/25\n",
      "5146/5146 - 1s - loss: 1.1275 - accuracy: 0.5280 - val_loss: 0.9112 - val_accuracy: 0.6614\n",
      "Epoch 23/25\n",
      "5146/5146 - 1s - loss: 1.1095 - accuracy: 0.5462 - val_loss: 0.8822 - val_accuracy: 0.6854\n",
      "Epoch 24/25\n",
      "5146/5146 - 1s - loss: 1.0934 - accuracy: 0.5428 - val_loss: 0.8635 - val_accuracy: 0.7017\n",
      "Epoch 25/25\n",
      "5146/5146 - 1s - loss: 1.0905 - accuracy: 0.5457 - val_loss: 0.8383 - val_accuracy: 0.7307\n",
      "Train on 5146 samples, validate on 2206 samples\n",
      "Epoch 1/25\n",
      "5146/5146 - 3s - loss: 2.3092 - accuracy: 0.2311 - val_loss: 1.3494 - val_accuracy: 0.4828\n",
      "Epoch 2/25\n",
      "5146/5146 - 1s - loss: 1.9248 - accuracy: 0.3018 - val_loss: 1.2819 - val_accuracy: 0.4941\n",
      "Epoch 3/25\n",
      "5146/5146 - 1s - loss: 1.7712 - accuracy: 0.3393 - val_loss: 1.2498 - val_accuracy: 0.5054\n",
      "Epoch 4/25\n",
      "5146/5146 - 1s - loss: 1.7024 - accuracy: 0.3498 - val_loss: 1.2250 - val_accuracy: 0.5141\n",
      "Epoch 5/25\n",
      "5146/5146 - 1s - loss: 1.6244 - accuracy: 0.3832 - val_loss: 1.1952 - val_accuracy: 0.5181\n",
      "Epoch 6/25\n",
      "5146/5146 - 1s - loss: 1.5620 - accuracy: 0.3956 - val_loss: 1.1661 - val_accuracy: 0.5349\n",
      "Epoch 7/25\n",
      "5146/5146 - 1s - loss: 1.5086 - accuracy: 0.4067 - val_loss: 1.1423 - val_accuracy: 0.5349\n",
      "Epoch 8/25\n",
      "5146/5146 - 1s - loss: 1.4769 - accuracy: 0.4172 - val_loss: 1.1184 - val_accuracy: 0.5399\n",
      "Epoch 9/25\n",
      "5146/5146 - 1s - loss: 1.4507 - accuracy: 0.4343 - val_loss: 1.1010 - val_accuracy: 0.5422\n",
      "Epoch 10/25\n",
      "5146/5146 - 1s - loss: 1.4102 - accuracy: 0.4382 - val_loss: 1.0856 - val_accuracy: 0.5471\n",
      "Epoch 11/25\n",
      "5146/5146 - 1s - loss: 1.3683 - accuracy: 0.4551 - val_loss: 1.0703 - val_accuracy: 0.5503\n",
      "Epoch 12/25\n",
      "5146/5146 - 1s - loss: 1.3406 - accuracy: 0.4588 - val_loss: 1.0544 - val_accuracy: 0.5594\n",
      "Epoch 13/25\n",
      "5146/5146 - 1s - loss: 1.3113 - accuracy: 0.4786 - val_loss: 1.0425 - val_accuracy: 0.5635\n",
      "Epoch 14/25\n",
      "5146/5146 - 1s - loss: 1.2663 - accuracy: 0.4920 - val_loss: 1.0295 - val_accuracy: 0.5639\n",
      "Epoch 15/25\n",
      "5146/5146 - 1s - loss: 1.2535 - accuracy: 0.4951 - val_loss: 1.0137 - val_accuracy: 0.5712\n",
      "Epoch 16/25\n",
      "5146/5146 - 1s - loss: 1.2043 - accuracy: 0.5167 - val_loss: 0.9977 - val_accuracy: 0.5766\n",
      "Epoch 17/25\n",
      "5146/5146 - 1s - loss: 1.2163 - accuracy: 0.5101 - val_loss: 0.9857 - val_accuracy: 0.5807\n",
      "Epoch 18/25\n",
      "5146/5146 - 1s - loss: 1.1979 - accuracy: 0.5070 - val_loss: 0.9706 - val_accuracy: 0.5839\n",
      "Epoch 19/25\n",
      "5146/5146 - 1s - loss: 1.1880 - accuracy: 0.5210 - val_loss: 0.9577 - val_accuracy: 0.5893\n",
      "Epoch 20/25\n",
      "5146/5146 - 1s - loss: 1.1494 - accuracy: 0.5231 - val_loss: 0.9346 - val_accuracy: 0.6047\n",
      "Epoch 21/25\n",
      "5146/5146 - 1s - loss: 1.1301 - accuracy: 0.5348 - val_loss: 0.9136 - val_accuracy: 0.6192\n",
      "Epoch 22/25\n",
      "5146/5146 - 1s - loss: 1.1111 - accuracy: 0.5476 - val_loss: 0.8913 - val_accuracy: 0.6401\n",
      "Epoch 23/25\n",
      "5146/5146 - 1s - loss: 1.0989 - accuracy: 0.5490 - val_loss: 0.8704 - val_accuracy: 0.6582\n",
      "Epoch 24/25\n",
      "5146/5146 - 1s - loss: 1.0773 - accuracy: 0.5651 - val_loss: 0.8438 - val_accuracy: 0.6714\n",
      "Epoch 25/25\n",
      "5146/5146 - 1s - loss: 1.0431 - accuracy: 0.5764 - val_loss: 0.8314 - val_accuracy: 0.6736\n",
      "Train on 5146 samples, validate on 2206 samples\n",
      "Epoch 1/25\n",
      "5146/5146 - 3s - loss: 2.2157 - accuracy: 0.2462 - val_loss: 1.3196 - val_accuracy: 0.4519\n",
      "Epoch 2/25\n",
      "5146/5146 - 1s - loss: 1.8374 - accuracy: 0.3319 - val_loss: 1.2599 - val_accuracy: 0.5186\n",
      "Epoch 3/25\n",
      "5146/5146 - 1s - loss: 1.6968 - accuracy: 0.3537 - val_loss: 1.2327 - val_accuracy: 0.5159\n"
     ]
    },
    {
     "name": "stdout",
     "output_type": "stream",
     "text": [
      "Epoch 4/25\n",
      "5146/5146 - 1s - loss: 1.6377 - accuracy: 0.3749 - val_loss: 1.2030 - val_accuracy: 0.5290\n",
      "Epoch 5/25\n",
      "5146/5146 - 1s - loss: 1.5525 - accuracy: 0.3995 - val_loss: 1.1745 - val_accuracy: 0.5345\n",
      "Epoch 6/25\n",
      "5146/5146 - 1s - loss: 1.5263 - accuracy: 0.4124 - val_loss: 1.1446 - val_accuracy: 0.5403\n",
      "Epoch 7/25\n",
      "5146/5146 - 1s - loss: 1.4573 - accuracy: 0.4213 - val_loss: 1.1197 - val_accuracy: 0.5490\n",
      "Epoch 8/25\n",
      "5146/5146 - 1s - loss: 1.4247 - accuracy: 0.4390 - val_loss: 1.0957 - val_accuracy: 0.5626\n",
      "Epoch 9/25\n",
      "5146/5146 - 1s - loss: 1.3842 - accuracy: 0.4559 - val_loss: 1.0738 - val_accuracy: 0.5716\n",
      "Epoch 10/25\n",
      "5146/5146 - 1s - loss: 1.3480 - accuracy: 0.4567 - val_loss: 1.0456 - val_accuracy: 0.5798\n",
      "Epoch 11/25\n",
      "5146/5146 - 1s - loss: 1.3166 - accuracy: 0.4798 - val_loss: 1.0278 - val_accuracy: 0.5834\n",
      "Epoch 12/25\n",
      "5146/5146 - 1s - loss: 1.2986 - accuracy: 0.4821 - val_loss: 1.0051 - val_accuracy: 0.5961\n",
      "Epoch 13/25\n",
      "5146/5146 - 1s - loss: 1.2725 - accuracy: 0.4979 - val_loss: 0.9867 - val_accuracy: 0.6011\n",
      "Epoch 14/25\n",
      "5146/5146 - 1s - loss: 1.2502 - accuracy: 0.4977 - val_loss: 0.9660 - val_accuracy: 0.6115\n",
      "Epoch 15/25\n",
      "5146/5146 - 1s - loss: 1.1978 - accuracy: 0.5297 - val_loss: 0.9301 - val_accuracy: 0.6387\n",
      "Epoch 16/25\n",
      "5146/5146 - 1s - loss: 1.1693 - accuracy: 0.5218 - val_loss: 0.9102 - val_accuracy: 0.6500\n",
      "Epoch 17/25\n",
      "5146/5146 - 1s - loss: 1.1484 - accuracy: 0.5332 - val_loss: 0.8835 - val_accuracy: 0.6605\n",
      "Epoch 18/25\n",
      "5146/5146 - 1s - loss: 1.1323 - accuracy: 0.5451 - val_loss: 0.8484 - val_accuracy: 0.6786\n",
      "Epoch 19/25\n",
      "5146/5146 - 1s - loss: 1.0989 - accuracy: 0.5610 - val_loss: 0.8345 - val_accuracy: 0.6813\n",
      "Epoch 20/25\n",
      "5146/5146 - 1s - loss: 1.0826 - accuracy: 0.5674 - val_loss: 0.8056 - val_accuracy: 0.6954\n",
      "Epoch 21/25\n",
      "5146/5146 - 1s - loss: 1.0654 - accuracy: 0.5655 - val_loss: 0.7808 - val_accuracy: 0.6985\n",
      "Epoch 22/25\n",
      "5146/5146 - 1s - loss: 1.0423 - accuracy: 0.5733 - val_loss: 0.7659 - val_accuracy: 0.7040\n",
      "Epoch 23/25\n",
      "5146/5146 - 1s - loss: 1.0340 - accuracy: 0.5812 - val_loss: 0.7546 - val_accuracy: 0.7008\n",
      "Epoch 24/25\n",
      "5146/5146 - 1s - loss: 1.0064 - accuracy: 0.5873 - val_loss: 0.7489 - val_accuracy: 0.6995\n",
      "Epoch 25/25\n",
      "5146/5146 - 1s - loss: 0.9945 - accuracy: 0.5976 - val_loss: 0.7483 - val_accuracy: 0.6954\n",
      "Train on 5146 samples, validate on 2206 samples\n",
      "Epoch 1/25\n",
      "5146/5146 - 3s - loss: 2.2310 - accuracy: 0.2598 - val_loss: 1.3113 - val_accuracy: 0.4755\n",
      "Epoch 2/25\n",
      "5146/5146 - 1s - loss: 1.8715 - accuracy: 0.3216 - val_loss: 1.2697 - val_accuracy: 0.5168\n",
      "Epoch 3/25\n",
      "5146/5146 - 1s - loss: 1.7609 - accuracy: 0.3418 - val_loss: 1.2429 - val_accuracy: 0.5091\n",
      "Epoch 4/25\n",
      "5146/5146 - 1s - loss: 1.6689 - accuracy: 0.3754 - val_loss: 1.2219 - val_accuracy: 0.5100\n",
      "Epoch 5/25\n",
      "5146/5146 - 1s - loss: 1.6054 - accuracy: 0.3848 - val_loss: 1.2060 - val_accuracy: 0.5045\n",
      "Epoch 6/25\n",
      "5146/5146 - 1s - loss: 1.5916 - accuracy: 0.3828 - val_loss: 1.1907 - val_accuracy: 0.5059\n",
      "Epoch 7/25\n",
      "5146/5146 - 1s - loss: 1.5213 - accuracy: 0.4069 - val_loss: 1.1711 - val_accuracy: 0.5231\n",
      "Epoch 8/25\n",
      "5146/5146 - 1s - loss: 1.5010 - accuracy: 0.4114 - val_loss: 1.1585 - val_accuracy: 0.5181\n",
      "Epoch 9/25\n",
      "5146/5146 - 1s - loss: 1.4744 - accuracy: 0.4192 - val_loss: 1.1393 - val_accuracy: 0.5267\n",
      "Epoch 10/25\n",
      "5146/5146 - 1s - loss: 1.4300 - accuracy: 0.4339 - val_loss: 1.1207 - val_accuracy: 0.5354\n",
      "Epoch 11/25\n",
      "5146/5146 - 1s - loss: 1.3737 - accuracy: 0.4563 - val_loss: 1.1038 - val_accuracy: 0.5403\n",
      "Epoch 12/25\n",
      "5146/5146 - 1s - loss: 1.3632 - accuracy: 0.4516 - val_loss: 1.0927 - val_accuracy: 0.5317\n",
      "Epoch 13/25\n",
      "5146/5146 - 1s - loss: 1.3453 - accuracy: 0.4606 - val_loss: 1.0770 - val_accuracy: 0.5426\n",
      "Epoch 14/25\n",
      "5146/5146 - 1s - loss: 1.3143 - accuracy: 0.4753 - val_loss: 1.0551 - val_accuracy: 0.5580\n",
      "Epoch 15/25\n",
      "5146/5146 - 1s - loss: 1.2991 - accuracy: 0.4742 - val_loss: 1.0580 - val_accuracy: 0.5422\n",
      "Epoch 16/25\n",
      "5146/5146 - 1s - loss: 1.2748 - accuracy: 0.4753 - val_loss: 1.0342 - val_accuracy: 0.5648\n",
      "Epoch 17/25\n",
      "5146/5146 - 1s - loss: 1.2736 - accuracy: 0.4854 - val_loss: 1.0134 - val_accuracy: 0.5807\n",
      "Epoch 18/25\n",
      "5146/5146 - 1s - loss: 1.2304 - accuracy: 0.4986 - val_loss: 0.9897 - val_accuracy: 0.6029\n",
      "Epoch 19/25\n",
      "5146/5146 - 1s - loss: 1.2080 - accuracy: 0.5080 - val_loss: 0.9741 - val_accuracy: 0.6129\n",
      "Epoch 20/25\n",
      "5146/5146 - 1s - loss: 1.2050 - accuracy: 0.5082 - val_loss: 0.9614 - val_accuracy: 0.6201\n",
      "Epoch 21/25\n",
      "5146/5146 - 1s - loss: 1.1754 - accuracy: 0.5276 - val_loss: 0.9380 - val_accuracy: 0.6396\n",
      "Epoch 22/25\n",
      "5146/5146 - 1s - loss: 1.1651 - accuracy: 0.5233 - val_loss: 0.9217 - val_accuracy: 0.6537\n",
      "Epoch 23/25\n",
      "5146/5146 - 1s - loss: 1.1518 - accuracy: 0.5260 - val_loss: 0.9101 - val_accuracy: 0.6550\n",
      "Epoch 24/25\n",
      "5146/5146 - 1s - loss: 1.1267 - accuracy: 0.5412 - val_loss: 0.8995 - val_accuracy: 0.6546\n",
      "Epoch 25/25\n",
      "5146/5146 - 1s - loss: 1.1011 - accuracy: 0.5511 - val_loss: 0.8586 - val_accuracy: 0.7072\n",
      "Train on 5146 samples, validate on 2206 samples\n",
      "Epoch 1/25\n",
      "5146/5146 - 3s - loss: 2.1778 - accuracy: 0.2637 - val_loss: 1.2674 - val_accuracy: 0.4424\n",
      "Epoch 2/25\n",
      "5146/5146 - 1s - loss: 1.8267 - accuracy: 0.3282 - val_loss: 1.2307 - val_accuracy: 0.4733\n",
      "Epoch 3/25\n",
      "5146/5146 - 1s - loss: 1.6997 - accuracy: 0.3568 - val_loss: 1.1947 - val_accuracy: 0.5050\n",
      "Epoch 4/25\n",
      "5146/5146 - 1s - loss: 1.6310 - accuracy: 0.3795 - val_loss: 1.1554 - val_accuracy: 0.5335\n",
      "Epoch 5/25\n",
      "5146/5146 - 1s - loss: 1.5779 - accuracy: 0.3991 - val_loss: 1.1163 - val_accuracy: 0.5549\n",
      "Epoch 6/25\n",
      "5146/5146 - 1s - loss: 1.4926 - accuracy: 0.4162 - val_loss: 1.0819 - val_accuracy: 0.5866\n",
      "Epoch 7/25\n",
      "5146/5146 - 1s - loss: 1.4528 - accuracy: 0.4332 - val_loss: 1.0343 - val_accuracy: 0.6228\n",
      "Epoch 8/25\n",
      "5146/5146 - 1s - loss: 1.4116 - accuracy: 0.4435 - val_loss: 0.9841 - val_accuracy: 0.6546\n",
      "Epoch 9/25\n",
      "5146/5146 - 1s - loss: 1.3446 - accuracy: 0.4635 - val_loss: 0.9443 - val_accuracy: 0.6768\n",
      "Epoch 10/25\n",
      "5146/5146 - 1s - loss: 1.2989 - accuracy: 0.4856 - val_loss: 0.9089 - val_accuracy: 0.6963\n",
      "Epoch 11/25\n",
      "5146/5146 - 1s - loss: 1.2889 - accuracy: 0.4831 - val_loss: 0.8772 - val_accuracy: 0.7040\n",
      "Epoch 12/25\n",
      "5146/5146 - 1s - loss: 1.2316 - accuracy: 0.5047 - val_loss: 0.8406 - val_accuracy: 0.7194\n",
      "Epoch 13/25\n",
      "5146/5146 - 1s - loss: 1.1984 - accuracy: 0.5132 - val_loss: 0.8189 - val_accuracy: 0.7244\n",
      "Epoch 14/25\n",
      "5146/5146 - 1s - loss: 1.1695 - accuracy: 0.5321 - val_loss: 0.7968 - val_accuracy: 0.7312\n",
      "Epoch 15/25\n",
      "5146/5146 - 1s - loss: 1.1750 - accuracy: 0.5235 - val_loss: 0.7820 - val_accuracy: 0.7298\n",
      "Epoch 16/25\n",
      "5146/5146 - 1s - loss: 1.1305 - accuracy: 0.5363 - val_loss: 0.7689 - val_accuracy: 0.7289\n",
      "Epoch 17/25\n",
      "5146/5146 - 1s - loss: 1.0850 - accuracy: 0.5585 - val_loss: 0.7562 - val_accuracy: 0.7276\n",
      "Epoch 18/25\n",
      "5146/5146 - 1s - loss: 1.0869 - accuracy: 0.5589 - val_loss: 0.7486 - val_accuracy: 0.7244\n",
      "Epoch 19/25\n",
      "5146/5146 - 1s - loss: 1.0789 - accuracy: 0.5602 - val_loss: 0.7410 - val_accuracy: 0.7221\n",
      "Epoch 20/25\n",
      "5146/5146 - 1s - loss: 1.0272 - accuracy: 0.5816 - val_loss: 0.7368 - val_accuracy: 0.7276\n",
      "Epoch 21/25\n",
      "5146/5146 - 1s - loss: 1.0298 - accuracy: 0.5781 - val_loss: 0.7345 - val_accuracy: 0.7276\n",
      "Epoch 22/25\n",
      "5146/5146 - 1s - loss: 0.9969 - accuracy: 0.5972 - val_loss: 0.7328 - val_accuracy: 0.7276\n",
      "Epoch 23/25\n",
      "5146/5146 - 1s - loss: 0.9846 - accuracy: 0.5991 - val_loss: 0.7283 - val_accuracy: 0.7289\n",
      "Epoch 24/25\n",
      "5146/5146 - 1s - loss: 0.9846 - accuracy: 0.5927 - val_loss: 0.7267 - val_accuracy: 0.7298\n",
      "Epoch 25/25\n",
      "5146/5146 - 1s - loss: 0.9794 - accuracy: 0.5941 - val_loss: 0.7253 - val_accuracy: 0.7244\n",
      "Train on 5146 samples, validate on 2206 samples\n",
      "Epoch 1/25\n",
      "5146/5146 - 3s - loss: 2.2412 - accuracy: 0.2532 - val_loss: 1.2844 - val_accuracy: 0.5879\n",
      "Epoch 2/25\n",
      "5146/5146 - 1s - loss: 1.8929 - accuracy: 0.3239 - val_loss: 1.2140 - val_accuracy: 0.6011\n",
      "Epoch 3/25\n",
      "5146/5146 - 1s - loss: 1.7208 - accuracy: 0.3671 - val_loss: 1.1690 - val_accuracy: 0.5984\n",
      "Epoch 4/25\n",
      "5146/5146 - 1s - loss: 1.6462 - accuracy: 0.3865 - val_loss: 1.1386 - val_accuracy: 0.5843\n",
      "Epoch 5/25\n",
      "5146/5146 - 1s - loss: 1.5799 - accuracy: 0.4085 - val_loss: 1.1090 - val_accuracy: 0.5884\n",
      "Epoch 6/25\n",
      "5146/5146 - 1s - loss: 1.5210 - accuracy: 0.4264 - val_loss: 1.0912 - val_accuracy: 0.5843\n",
      "Epoch 7/25\n",
      "5146/5146 - 1s - loss: 1.4893 - accuracy: 0.4330 - val_loss: 1.0799 - val_accuracy: 0.5807\n"
     ]
    },
    {
     "name": "stdout",
     "output_type": "stream",
     "text": [
      "Epoch 8/25\n",
      "5146/5146 - 1s - loss: 1.4626 - accuracy: 0.4438 - val_loss: 1.0662 - val_accuracy: 0.5839\n",
      "Epoch 9/25\n",
      "5146/5146 - 1s - loss: 1.3744 - accuracy: 0.4720 - val_loss: 1.0489 - val_accuracy: 0.5861\n",
      "Epoch 10/25\n",
      "5146/5146 - 1s - loss: 1.3695 - accuracy: 0.4685 - val_loss: 1.0377 - val_accuracy: 0.5925\n",
      "Epoch 11/25\n",
      "5146/5146 - 1s - loss: 1.3569 - accuracy: 0.4736 - val_loss: 1.0273 - val_accuracy: 0.5947\n",
      "Epoch 12/25\n",
      "5146/5146 - 1s - loss: 1.3334 - accuracy: 0.4829 - val_loss: 1.0187 - val_accuracy: 0.6020\n",
      "Epoch 13/25\n",
      "5146/5146 - 1s - loss: 1.2775 - accuracy: 0.4955 - val_loss: 0.9964 - val_accuracy: 0.6092\n",
      "Epoch 14/25\n",
      "5146/5146 - 1s - loss: 1.2852 - accuracy: 0.5029 - val_loss: 0.9803 - val_accuracy: 0.6224\n",
      "Epoch 15/25\n",
      "5146/5146 - 1s - loss: 1.2316 - accuracy: 0.5222 - val_loss: 0.9654 - val_accuracy: 0.6292\n",
      "Epoch 16/25\n",
      "5146/5146 - 1s - loss: 1.2131 - accuracy: 0.5257 - val_loss: 0.9515 - val_accuracy: 0.6410\n",
      "Epoch 17/25\n",
      "5146/5146 - 1s - loss: 1.1961 - accuracy: 0.5282 - val_loss: 0.9323 - val_accuracy: 0.6496\n",
      "Epoch 18/25\n",
      "5146/5146 - 1s - loss: 1.1589 - accuracy: 0.5470 - val_loss: 0.9049 - val_accuracy: 0.6636\n",
      "Epoch 19/25\n",
      "5146/5146 - 1s - loss: 1.1126 - accuracy: 0.5639 - val_loss: 0.8896 - val_accuracy: 0.6741\n",
      "Epoch 20/25\n",
      "5146/5146 - 1s - loss: 1.1210 - accuracy: 0.5639 - val_loss: 0.8722 - val_accuracy: 0.6827\n",
      "Epoch 21/25\n",
      "5146/5146 - 1s - loss: 1.0886 - accuracy: 0.5736 - val_loss: 0.8475 - val_accuracy: 0.7013\n",
      "Epoch 22/25\n",
      "5146/5146 - 1s - loss: 1.0442 - accuracy: 0.5942 - val_loss: 0.8401 - val_accuracy: 0.7067\n",
      "Epoch 23/25\n",
      "5146/5146 - 1s - loss: 1.0405 - accuracy: 0.5919 - val_loss: 0.8234 - val_accuracy: 0.7262\n",
      "Epoch 24/25\n",
      "5146/5146 - 1s - loss: 1.0070 - accuracy: 0.6079 - val_loss: 0.8098 - val_accuracy: 0.7339\n",
      "Epoch 25/25\n",
      "5146/5146 - 1s - loss: 0.9996 - accuracy: 0.6145 - val_loss: 0.7991 - val_accuracy: 0.7366\n",
      "Train on 5146 samples, validate on 2206 samples\n",
      "Epoch 1/25\n",
      "5146/5146 - 3s - loss: 2.1699 - accuracy: 0.2612 - val_loss: 1.2982 - val_accuracy: 0.4819\n",
      "Epoch 2/25\n",
      "5146/5146 - 1s - loss: 1.8234 - accuracy: 0.3315 - val_loss: 1.2685 - val_accuracy: 0.4683\n",
      "Epoch 3/25\n",
      "5146/5146 - 1s - loss: 1.7362 - accuracy: 0.3599 - val_loss: 1.2441 - val_accuracy: 0.4737\n",
      "Epoch 4/25\n",
      "5146/5146 - 1s - loss: 1.6202 - accuracy: 0.3822 - val_loss: 1.2148 - val_accuracy: 0.5054\n",
      "Epoch 5/25\n",
      "5146/5146 - 1s - loss: 1.5738 - accuracy: 0.3999 - val_loss: 1.1879 - val_accuracy: 0.5204\n",
      "Epoch 6/25\n",
      "5146/5146 - 1s - loss: 1.5249 - accuracy: 0.4180 - val_loss: 1.1619 - val_accuracy: 0.5281\n",
      "Epoch 7/25\n",
      "5146/5146 - 1s - loss: 1.4587 - accuracy: 0.4353 - val_loss: 1.1453 - val_accuracy: 0.5150\n",
      "Epoch 8/25\n",
      "5146/5146 - 1s - loss: 1.4378 - accuracy: 0.4384 - val_loss: 1.1190 - val_accuracy: 0.5390\n",
      "Epoch 9/25\n",
      "5146/5146 - 1s - loss: 1.3979 - accuracy: 0.4541 - val_loss: 1.0979 - val_accuracy: 0.5508\n",
      "Epoch 10/25\n",
      "5146/5146 - 1s - loss: 1.3496 - accuracy: 0.4742 - val_loss: 1.0834 - val_accuracy: 0.5503\n",
      "Epoch 11/25\n",
      "5146/5146 - 1s - loss: 1.3091 - accuracy: 0.4755 - val_loss: 1.0636 - val_accuracy: 0.5644\n",
      "Epoch 12/25\n",
      "5146/5146 - 1s - loss: 1.3078 - accuracy: 0.4852 - val_loss: 1.0356 - val_accuracy: 0.5920\n",
      "Epoch 13/25\n",
      "5146/5146 - 1s - loss: 1.2722 - accuracy: 0.4940 - val_loss: 1.0266 - val_accuracy: 0.5807\n",
      "Epoch 14/25\n",
      "5146/5146 - 1s - loss: 1.2306 - accuracy: 0.5017 - val_loss: 0.9960 - val_accuracy: 0.6056\n",
      "Epoch 15/25\n",
      "5146/5146 - 1s - loss: 1.2121 - accuracy: 0.5097 - val_loss: 0.9716 - val_accuracy: 0.6197\n",
      "Epoch 16/25\n",
      "5146/5146 - 1s - loss: 1.1754 - accuracy: 0.5334 - val_loss: 0.9404 - val_accuracy: 0.6469\n",
      "Epoch 17/25\n",
      "5146/5146 - 1s - loss: 1.1468 - accuracy: 0.5354 - val_loss: 0.8961 - val_accuracy: 0.6886\n",
      "Epoch 18/25\n",
      "5146/5146 - 1s - loss: 1.1087 - accuracy: 0.5441 - val_loss: 0.8760 - val_accuracy: 0.6999\n",
      "Epoch 19/25\n",
      "5146/5146 - 1s - loss: 1.0880 - accuracy: 0.5663 - val_loss: 0.8410 - val_accuracy: 0.7335\n",
      "Epoch 20/25\n",
      "5146/5146 - 1s - loss: 1.0537 - accuracy: 0.5754 - val_loss: 0.8275 - val_accuracy: 0.7353\n",
      "Epoch 21/25\n",
      "5146/5146 - 1s - loss: 1.0377 - accuracy: 0.5793 - val_loss: 0.8035 - val_accuracy: 0.7570\n",
      "Epoch 22/25\n",
      "5146/5146 - 1s - loss: 1.0224 - accuracy: 0.5900 - val_loss: 0.7866 - val_accuracy: 0.7579\n",
      "Epoch 23/25\n",
      "5146/5146 - 1s - loss: 0.9793 - accuracy: 0.5989 - val_loss: 0.7780 - val_accuracy: 0.7584\n",
      "Epoch 24/25\n",
      "5146/5146 - 1s - loss: 0.9859 - accuracy: 0.5937 - val_loss: 0.7651 - val_accuracy: 0.7534\n",
      "Epoch 25/25\n",
      "5146/5146 - 1s - loss: 0.9735 - accuracy: 0.5937 - val_loss: 0.7577 - val_accuracy: 0.7588\n",
      "Train on 5146 samples, validate on 2206 samples\n",
      "Epoch 1/25\n",
      "5146/5146 - 3s - loss: 2.2364 - accuracy: 0.2476 - val_loss: 1.3193 - val_accuracy: 0.5032\n",
      "Epoch 2/25\n",
      "5146/5146 - 1s - loss: 1.8877 - accuracy: 0.3169 - val_loss: 1.2727 - val_accuracy: 0.5317\n",
      "Epoch 3/25\n",
      "5146/5146 - 1s - loss: 1.7542 - accuracy: 0.3440 - val_loss: 1.2346 - val_accuracy: 0.5444\n",
      "Epoch 4/25\n",
      "5146/5146 - 1s - loss: 1.6852 - accuracy: 0.3620 - val_loss: 1.2101 - val_accuracy: 0.5517\n",
      "Epoch 5/25\n",
      "5146/5146 - 1s - loss: 1.5783 - accuracy: 0.3902 - val_loss: 1.1777 - val_accuracy: 0.5503\n",
      "Epoch 6/25\n",
      "5146/5146 - 1s - loss: 1.5243 - accuracy: 0.4061 - val_loss: 1.1511 - val_accuracy: 0.5567\n",
      "Epoch 7/25\n",
      "5146/5146 - 1s - loss: 1.4987 - accuracy: 0.4129 - val_loss: 1.1296 - val_accuracy: 0.5580\n",
      "Epoch 8/25\n",
      "5146/5146 - 1s - loss: 1.4362 - accuracy: 0.4322 - val_loss: 1.1081 - val_accuracy: 0.5671\n",
      "Epoch 9/25\n",
      "5146/5146 - 1s - loss: 1.4386 - accuracy: 0.4359 - val_loss: 1.0845 - val_accuracy: 0.5798\n",
      "Epoch 10/25\n",
      "5146/5146 - 1s - loss: 1.3750 - accuracy: 0.4596 - val_loss: 1.0623 - val_accuracy: 0.5825\n",
      "Epoch 11/25\n",
      "5146/5146 - 1s - loss: 1.3286 - accuracy: 0.4712 - val_loss: 1.0443 - val_accuracy: 0.5911\n",
      "Epoch 12/25\n",
      "5146/5146 - 1s - loss: 1.3015 - accuracy: 0.4901 - val_loss: 1.0156 - val_accuracy: 0.6092\n",
      "Epoch 13/25\n",
      "5146/5146 - 1s - loss: 1.2621 - accuracy: 0.5033 - val_loss: 0.9975 - val_accuracy: 0.6147\n",
      "Epoch 14/25\n",
      "5146/5146 - 1s - loss: 1.2469 - accuracy: 0.5107 - val_loss: 0.9747 - val_accuracy: 0.6310\n",
      "Epoch 15/25\n",
      "5146/5146 - 1s - loss: 1.1941 - accuracy: 0.5225 - val_loss: 0.9501 - val_accuracy: 0.6555\n",
      "Epoch 16/25\n",
      "5146/5146 - 1s - loss: 1.1944 - accuracy: 0.5301 - val_loss: 0.9227 - val_accuracy: 0.6804\n",
      "Epoch 17/25\n",
      "5146/5146 - 1s - loss: 1.1538 - accuracy: 0.5435 - val_loss: 0.8860 - val_accuracy: 0.7121\n",
      "Epoch 18/25\n",
      "5146/5146 - 1s - loss: 1.1225 - accuracy: 0.5554 - val_loss: 0.8707 - val_accuracy: 0.7189\n",
      "Epoch 19/25\n",
      "5146/5146 - 1s - loss: 1.0923 - accuracy: 0.5626 - val_loss: 0.8391 - val_accuracy: 0.7448\n",
      "Epoch 20/25\n",
      "5146/5146 - 1s - loss: 1.0587 - accuracy: 0.5783 - val_loss: 0.8190 - val_accuracy: 0.7516\n",
      "Epoch 21/25\n",
      "5146/5146 - 1s - loss: 1.0520 - accuracy: 0.5736 - val_loss: 0.8130 - val_accuracy: 0.7543\n",
      "Epoch 22/25\n",
      "5146/5146 - 1s - loss: 1.0279 - accuracy: 0.5942 - val_loss: 0.7820 - val_accuracy: 0.7584\n",
      "Epoch 23/25\n",
      "5146/5146 - 1s - loss: 1.0238 - accuracy: 0.5810 - val_loss: 0.7721 - val_accuracy: 0.7597\n",
      "Epoch 24/25\n",
      "5146/5146 - 1s - loss: 1.0001 - accuracy: 0.5894 - val_loss: 0.7640 - val_accuracy: 0.7620\n",
      "Epoch 25/25\n",
      "5146/5146 - 1s - loss: 1.0063 - accuracy: 0.5956 - val_loss: 0.7593 - val_accuracy: 0.7607\n",
      "Train on 5146 samples, validate on 2206 samples\n",
      "Epoch 1/25\n",
      "5146/5146 - 3s - loss: 2.3080 - accuracy: 0.2429 - val_loss: 1.3282 - val_accuracy: 0.5032\n",
      "Epoch 2/25\n",
      "5146/5146 - 1s - loss: 1.9057 - accuracy: 0.3148 - val_loss: 1.2683 - val_accuracy: 0.5127\n",
      "Epoch 3/25\n",
      "5146/5146 - 1s - loss: 1.7465 - accuracy: 0.3593 - val_loss: 1.2331 - val_accuracy: 0.5286\n",
      "Epoch 4/25\n",
      "5146/5146 - 1s - loss: 1.6754 - accuracy: 0.3667 - val_loss: 1.2004 - val_accuracy: 0.5317\n",
      "Epoch 5/25\n",
      "5146/5146 - 1s - loss: 1.5920 - accuracy: 0.3898 - val_loss: 1.1622 - val_accuracy: 0.5376\n",
      "Epoch 6/25\n",
      "5146/5146 - 1s - loss: 1.5705 - accuracy: 0.4019 - val_loss: 1.1290 - val_accuracy: 0.5558\n",
      "Epoch 7/25\n",
      "5146/5146 - 1s - loss: 1.4583 - accuracy: 0.4333 - val_loss: 1.0986 - val_accuracy: 0.5535\n",
      "Epoch 8/25\n",
      "5146/5146 - 1s - loss: 1.4414 - accuracy: 0.4378 - val_loss: 1.0643 - val_accuracy: 0.5621\n",
      "Epoch 9/25\n",
      "5146/5146 - 1s - loss: 1.4191 - accuracy: 0.4464 - val_loss: 1.0360 - val_accuracy: 0.5725\n",
      "Epoch 10/25\n",
      "5146/5146 - 1s - loss: 1.3838 - accuracy: 0.4588 - val_loss: 1.0093 - val_accuracy: 0.5680\n",
      "Epoch 11/25\n",
      "5146/5146 - 1s - loss: 1.3163 - accuracy: 0.4747 - val_loss: 0.9809 - val_accuracy: 0.5743\n"
     ]
    },
    {
     "name": "stdout",
     "output_type": "stream",
     "text": [
      "Epoch 12/25\n",
      "5146/5146 - 1s - loss: 1.3005 - accuracy: 0.4858 - val_loss: 0.9601 - val_accuracy: 0.5766\n",
      "Epoch 13/25\n",
      "5146/5146 - 1s - loss: 1.2830 - accuracy: 0.4856 - val_loss: 0.9387 - val_accuracy: 0.5839\n",
      "Epoch 14/25\n",
      "5146/5146 - 1s - loss: 1.2437 - accuracy: 0.5105 - val_loss: 0.9047 - val_accuracy: 0.6183\n",
      "Epoch 15/25\n",
      "5146/5146 - 1s - loss: 1.2056 - accuracy: 0.5087 - val_loss: 0.8803 - val_accuracy: 0.6360\n",
      "Epoch 16/25\n",
      "5146/5146 - 1s - loss: 1.1640 - accuracy: 0.5243 - val_loss: 0.8758 - val_accuracy: 0.6228\n",
      "Epoch 17/25\n",
      "5146/5146 - 1s - loss: 1.1376 - accuracy: 0.5424 - val_loss: 0.8354 - val_accuracy: 0.6578\n",
      "Epoch 18/25\n",
      "5146/5146 - 1s - loss: 1.1199 - accuracy: 0.5468 - val_loss: 0.8221 - val_accuracy: 0.6600\n",
      "Epoch 19/25\n",
      "5146/5146 - 1s - loss: 1.0946 - accuracy: 0.5544 - val_loss: 0.8056 - val_accuracy: 0.6723\n",
      "Epoch 20/25\n",
      "5146/5146 - 1s - loss: 1.0775 - accuracy: 0.5639 - val_loss: 0.7948 - val_accuracy: 0.6763\n",
      "Epoch 21/25\n",
      "5146/5146 - 1s - loss: 1.0573 - accuracy: 0.5721 - val_loss: 0.7797 - val_accuracy: 0.6886\n",
      "Epoch 22/25\n",
      "5146/5146 - 1s - loss: 1.0578 - accuracy: 0.5686 - val_loss: 0.7705 - val_accuracy: 0.6899\n",
      "Epoch 23/25\n",
      "5146/5146 - 1s - loss: 1.0172 - accuracy: 0.5801 - val_loss: 0.7608 - val_accuracy: 0.6908\n",
      "Epoch 24/25\n",
      "5146/5146 - 1s - loss: 1.0170 - accuracy: 0.5760 - val_loss: 0.7566 - val_accuracy: 0.6936\n",
      "Epoch 25/25\n",
      "5146/5146 - 1s - loss: 0.9967 - accuracy: 0.5894 - val_loss: 0.7540 - val_accuracy: 0.6908\n"
     ]
    },
    {
     "data": {
      "text/html": [
       "<span style=\"color:#4527A0\"><h1 style=\"font-size:18px\">Trial complete</h1></span>"
      ],
      "text/plain": [
       "<IPython.core.display.HTML object>"
      ]
     },
     "metadata": {},
     "output_type": "display_data"
    },
    {
     "data": {
      "text/html": [
       "<span style=\"color:#4527A0\"><h1 style=\"font-size:18px\">Trial summary</h1></span>"
      ],
      "text/plain": [
       "<IPython.core.display.HTML object>"
      ]
     },
     "metadata": {},
     "output_type": "display_data"
    },
    {
     "data": {
      "text/html": [
       "<span style=\"color:cyan\"> |-Trial ID: 9f38a39bd63a6c4592990d37158924dd</span>"
      ],
      "text/plain": [
       "<IPython.core.display.HTML object>"
      ]
     },
     "metadata": {},
     "output_type": "display_data"
    },
    {
     "data": {
      "text/html": [
       "<span style=\"color:cyan\"> |-Score: 0.7178150415420532</span>"
      ],
      "text/plain": [
       "<IPython.core.display.HTML object>"
      ]
     },
     "metadata": {},
     "output_type": "display_data"
    },
    {
     "data": {
      "text/html": [
       "<span style=\"color:cyan\"> |-Best step: 0</span>"
      ],
      "text/plain": [
       "<IPython.core.display.HTML object>"
      ]
     },
     "metadata": {},
     "output_type": "display_data"
    },
    {
     "data": {
      "text/html": [
       "<span style=\"color:#7E57C2\"><h2 style=\"font-size:16px\">Hyperparameters:</h2></span>"
      ],
      "text/plain": [
       "<IPython.core.display.HTML object>"
      ]
     },
     "metadata": {},
     "output_type": "display_data"
    },
    {
     "data": {
      "text/html": [
       "<span style=\"color:cyan\"> |-batch_size: 96</span>"
      ],
      "text/plain": [
       "<IPython.core.display.HTML object>"
      ]
     },
     "metadata": {},
     "output_type": "display_data"
    },
    {
     "data": {
      "text/html": [
       "<span style=\"color:blue\"> |-dense_0: 384</span>"
      ],
      "text/plain": [
       "<IPython.core.display.HTML object>"
      ]
     },
     "metadata": {},
     "output_type": "display_data"
    },
    {
     "data": {
      "text/html": [
       "<span style=\"color:cyan\"> |-dropout_1: 0.6000000000000001</span>"
      ],
      "text/plain": [
       "<IPython.core.display.HTML object>"
      ]
     },
     "metadata": {},
     "output_type": "display_data"
    },
    {
     "data": {
      "text/html": [
       "<span style=\"color:blue\"> |-dropout_2: 0.8000000000000003</span>"
      ],
      "text/plain": [
       "<IPython.core.display.HTML object>"
      ]
     },
     "metadata": {},
     "output_type": "display_data"
    },
    {
     "data": {
      "text/html": [
       "<span style=\"color:cyan\"> |-dropout_3: 0.8</span>"
      ],
      "text/plain": [
       "<IPython.core.display.HTML object>"
      ]
     },
     "metadata": {},
     "output_type": "display_data"
    },
    {
     "data": {
      "text/html": [
       "<span style=\"color:blue\"> |-epochs: 25</span>"
      ],
      "text/plain": [
       "<IPython.core.display.HTML object>"
      ]
     },
     "metadata": {},
     "output_type": "display_data"
    },
    {
     "data": {
      "text/html": [
       "<span style=\"color:cyan\"> |-num_layers: 1</span>"
      ],
      "text/plain": [
       "<IPython.core.display.HTML object>"
      ]
     },
     "metadata": {},
     "output_type": "display_data"
    },
    {
     "data": {
      "text/html": [
       "<span style=\"color:blue\"> |-optimizer_name: adagrad</span>"
      ],
      "text/plain": [
       "<IPython.core.display.HTML object>"
      ]
     },
     "metadata": {},
     "output_type": "display_data"
    },
    {
     "data": {
      "text/html": [
       "<span style=\"color:cyan\"> |-units_1: 96</span>"
      ],
      "text/plain": [
       "<IPython.core.display.HTML object>"
      ]
     },
     "metadata": {},
     "output_type": "display_data"
    },
    {
     "data": {
      "text/html": [
       "<span style=\"color:blue\"> |-units_2: 192</span>"
      ],
      "text/plain": [
       "<IPython.core.display.HTML object>"
      ]
     },
     "metadata": {},
     "output_type": "display_data"
    },
    {
     "name": "stdout",
     "output_type": "stream",
     "text": [
      "Train on 5146 samples, validate on 2206 samples\n",
      "Epoch 1/20\n",
      "5146/5146 - 15s - loss: 1.0539 - accuracy: 0.5562 - val_loss: 0.6683 - val_accuracy: 0.7548\n",
      "Epoch 2/20\n",
      "5146/5146 - 2s - loss: 0.5547 - accuracy: 0.7639 - val_loss: 0.5011 - val_accuracy: 0.8445\n",
      "Epoch 3/20\n",
      "5146/5146 - 2s - loss: 0.2810 - accuracy: 0.9135 - val_loss: 0.5739 - val_accuracy: 0.8849\n",
      "Epoch 4/20\n",
      "5146/5146 - 2s - loss: 0.1741 - accuracy: 0.9341 - val_loss: 0.4292 - val_accuracy: 0.9116\n",
      "Epoch 5/20\n",
      "5146/5146 - 2s - loss: 0.1630 - accuracy: 0.9320 - val_loss: 0.5974 - val_accuracy: 0.8971\n",
      "Epoch 6/20\n",
      "5146/5146 - 2s - loss: 0.1689 - accuracy: 0.9378 - val_loss: 0.4799 - val_accuracy: 0.9139\n",
      "Epoch 7/20\n",
      "5146/5146 - 2s - loss: 0.1282 - accuracy: 0.9415 - val_loss: 0.5266 - val_accuracy: 0.9180\n",
      "Epoch 8/20\n",
      "5146/5146 - 2s - loss: 0.1579 - accuracy: 0.9384 - val_loss: 0.4040 - val_accuracy: 0.9243\n",
      "Epoch 9/20\n",
      "5146/5146 - 2s - loss: 0.1142 - accuracy: 0.9499 - val_loss: 0.4492 - val_accuracy: 0.9297\n",
      "Epoch 10/20\n",
      "5146/5146 - 2s - loss: 0.1527 - accuracy: 0.9384 - val_loss: 0.3654 - val_accuracy: 0.8976\n",
      "Epoch 11/20\n",
      "5146/5146 - 2s - loss: 0.1051 - accuracy: 0.9481 - val_loss: 0.4109 - val_accuracy: 0.9284\n",
      "Epoch 12/20\n",
      "5146/5146 - 2s - loss: 0.1203 - accuracy: 0.9491 - val_loss: 0.4201 - val_accuracy: 0.9275\n",
      "Epoch 13/20\n",
      "5146/5146 - 2s - loss: 0.1262 - accuracy: 0.9466 - val_loss: 0.5024 - val_accuracy: 0.9034\n",
      "Epoch 14/20\n",
      "5146/5146 - 2s - loss: 0.1069 - accuracy: 0.9528 - val_loss: 0.4994 - val_accuracy: 0.9202\n",
      "Epoch 15/20\n",
      "5146/5146 - 2s - loss: 0.0975 - accuracy: 0.9534 - val_loss: 0.5567 - val_accuracy: 0.9053\n",
      "Epoch 16/20\n",
      "5146/5146 - 2s - loss: 0.1081 - accuracy: 0.9462 - val_loss: 0.4262 - val_accuracy: 0.9388\n",
      "Epoch 17/20\n",
      "5146/5146 - 2s - loss: 0.0976 - accuracy: 0.9512 - val_loss: 0.4664 - val_accuracy: 0.9134\n",
      "Epoch 18/20\n",
      "5146/5146 - 2s - loss: 0.1163 - accuracy: 0.9405 - val_loss: 0.5972 - val_accuracy: 0.9112\n",
      "Epoch 19/20\n",
      "5146/5146 - 2s - loss: 0.1107 - accuracy: 0.9454 - val_loss: 0.4915 - val_accuracy: 0.9320\n",
      "Epoch 20/20\n",
      "5146/5146 - 2s - loss: 0.1216 - accuracy: 0.9495 - val_loss: 0.5105 - val_accuracy: 0.9198\n",
      "Train on 5146 samples, validate on 2206 samples\n",
      "Epoch 1/20\n",
      "5146/5146 - 7s - loss: 1.0355 - accuracy: 0.5587 - val_loss: 0.6713 - val_accuracy: 0.7561\n",
      "Epoch 2/20\n",
      "5146/5146 - 2s - loss: 0.5623 - accuracy: 0.7631 - val_loss: 0.4704 - val_accuracy: 0.8776\n",
      "Epoch 3/20\n",
      "5146/5146 - 2s - loss: 0.2932 - accuracy: 0.9042 - val_loss: 0.3600 - val_accuracy: 0.9166\n",
      "Epoch 4/20\n",
      "5146/5146 - 2s - loss: 0.1691 - accuracy: 0.9366 - val_loss: 0.4225 - val_accuracy: 0.9102\n",
      "Epoch 5/20\n",
      "5146/5146 - 2s - loss: 0.1636 - accuracy: 0.9398 - val_loss: 0.3502 - val_accuracy: 0.9302\n",
      "Epoch 6/20\n",
      "5146/5146 - 2s - loss: 0.1684 - accuracy: 0.9343 - val_loss: 0.4471 - val_accuracy: 0.9166\n",
      "Epoch 7/20\n",
      "5146/5146 - 2s - loss: 0.1304 - accuracy: 0.9438 - val_loss: 0.4488 - val_accuracy: 0.8948\n",
      "Epoch 8/20\n",
      "5146/5146 - 2s - loss: 0.1480 - accuracy: 0.9365 - val_loss: 0.4781 - val_accuracy: 0.9252\n",
      "Epoch 9/20\n",
      "5146/5146 - 2s - loss: 0.1338 - accuracy: 0.9403 - val_loss: 0.3990 - val_accuracy: 0.9365\n",
      "Epoch 10/20\n",
      "5146/5146 - 2s - loss: 0.1219 - accuracy: 0.9466 - val_loss: 0.4429 - val_accuracy: 0.9198\n",
      "Epoch 11/20\n",
      "5146/5146 - 2s - loss: 0.1250 - accuracy: 0.9433 - val_loss: 0.4617 - val_accuracy: 0.9352\n",
      "Epoch 12/20\n",
      "5146/5146 - 2s - loss: 0.1108 - accuracy: 0.9487 - val_loss: 0.4463 - val_accuracy: 0.9352\n",
      "Epoch 13/20\n",
      "5146/5146 - 2s - loss: 0.1045 - accuracy: 0.9538 - val_loss: 0.4968 - val_accuracy: 0.9243\n",
      "Epoch 14/20\n",
      "5146/5146 - 2s - loss: 0.1337 - accuracy: 0.9468 - val_loss: 0.4610 - val_accuracy: 0.9311\n",
      "Epoch 15/20\n",
      "5146/5146 - 2s - loss: 0.1029 - accuracy: 0.9520 - val_loss: 0.4108 - val_accuracy: 0.9225\n",
      "Epoch 16/20\n",
      "5146/5146 - 2s - loss: 0.1021 - accuracy: 0.9534 - val_loss: 0.4995 - val_accuracy: 0.9112\n",
      "Epoch 17/20\n",
      "5146/5146 - 2s - loss: 0.1251 - accuracy: 0.9491 - val_loss: 0.5516 - val_accuracy: 0.9062\n",
      "Epoch 18/20\n",
      "5146/5146 - 2s - loss: 0.1125 - accuracy: 0.9522 - val_loss: 0.5034 - val_accuracy: 0.9325\n",
      "Epoch 19/20\n",
      "5146/5146 - 2s - loss: 0.1065 - accuracy: 0.9506 - val_loss: 0.5543 - val_accuracy: 0.9039\n",
      "Epoch 20/20\n",
      "5146/5146 - 2s - loss: 0.1052 - accuracy: 0.9534 - val_loss: 0.4634 - val_accuracy: 0.9379\n",
      "Train on 5146 samples, validate on 2206 samples\n",
      "Epoch 1/20\n",
      "5146/5146 - 7s - loss: 1.0442 - accuracy: 0.5626 - val_loss: 0.6826 - val_accuracy: 0.7733\n",
      "Epoch 2/20\n",
      "5146/5146 - 2s - loss: 0.4526 - accuracy: 0.8199 - val_loss: 0.6289 - val_accuracy: 0.8636\n",
      "Epoch 3/20\n",
      "5146/5146 - 2s - loss: 0.2541 - accuracy: 0.9112 - val_loss: 0.4593 - val_accuracy: 0.9148\n",
      "Epoch 4/20\n",
      "5146/5146 - 2s - loss: 0.1533 - accuracy: 0.9405 - val_loss: 1.0229 - val_accuracy: 0.8092\n",
      "Epoch 5/20\n",
      "5146/5146 - 2s - loss: 0.1514 - accuracy: 0.9409 - val_loss: 0.7091 - val_accuracy: 0.8726\n",
      "Epoch 6/20\n",
      "5146/5146 - 2s - loss: 0.1435 - accuracy: 0.9403 - val_loss: 0.4224 - val_accuracy: 0.9102\n",
      "Epoch 7/20\n",
      "5146/5146 - 2s - loss: 0.1124 - accuracy: 0.9464 - val_loss: 0.4118 - val_accuracy: 0.9102\n",
      "Epoch 8/20\n",
      "5146/5146 - 2s - loss: 0.1294 - accuracy: 0.9458 - val_loss: 0.4503 - val_accuracy: 0.9062\n",
      "Epoch 9/20\n",
      "5146/5146 - 2s - loss: 0.1144 - accuracy: 0.9504 - val_loss: 0.4683 - val_accuracy: 0.9021\n",
      "Epoch 10/20\n",
      "5146/5146 - 2s - loss: 0.1078 - accuracy: 0.9508 - val_loss: 0.4554 - val_accuracy: 0.9365\n",
      "Epoch 11/20\n",
      "5146/5146 - 2s - loss: 0.1025 - accuracy: 0.9528 - val_loss: 0.5363 - val_accuracy: 0.9066\n",
      "Epoch 12/20\n",
      "5146/5146 - 2s - loss: 0.0989 - accuracy: 0.9512 - val_loss: 0.4785 - val_accuracy: 0.9053\n",
      "Epoch 13/20\n",
      "5146/5146 - 2s - loss: 0.1415 - accuracy: 0.9372 - val_loss: 0.5070 - val_accuracy: 0.9211\n",
      "Epoch 14/20\n",
      "5146/5146 - 2s - loss: 0.1147 - accuracy: 0.9464 - val_loss: 0.5045 - val_accuracy: 0.9325\n",
      "Epoch 15/20\n",
      "5146/5146 - 2s - loss: 0.0979 - accuracy: 0.9485 - val_loss: 0.5411 - val_accuracy: 0.9152\n",
      "Epoch 16/20\n",
      "5146/5146 - 2s - loss: 0.0873 - accuracy: 0.9526 - val_loss: 0.5428 - val_accuracy: 0.9302\n",
      "Epoch 17/20\n",
      "5146/5146 - 2s - loss: 0.0959 - accuracy: 0.9526 - val_loss: 0.5317 - val_accuracy: 0.9098\n",
      "Epoch 18/20\n",
      "5146/5146 - 2s - loss: 0.0936 - accuracy: 0.9526 - val_loss: 0.6354 - val_accuracy: 0.9166\n",
      "Epoch 19/20\n",
      "5146/5146 - 2s - loss: 0.1174 - accuracy: 0.9475 - val_loss: 0.5760 - val_accuracy: 0.9334\n",
      "Epoch 20/20\n",
      "5146/5146 - 2s - loss: 0.1643 - accuracy: 0.9435 - val_loss: 0.4787 - val_accuracy: 0.9325\n",
      "Train on 5146 samples, validate on 2206 samples\n",
      "Epoch 1/20\n",
      "5146/5146 - 7s - loss: 1.0380 - accuracy: 0.5599 - val_loss: 0.8050 - val_accuracy: 0.6908\n",
      "Epoch 2/20\n",
      "5146/5146 - 2s - loss: 0.5963 - accuracy: 0.7423 - val_loss: 0.5502 - val_accuracy: 0.8645\n",
      "Epoch 3/20\n",
      "5146/5146 - 2s - loss: 0.3179 - accuracy: 0.8939 - val_loss: 0.6813 - val_accuracy: 0.8391\n",
      "Epoch 4/20\n",
      "5146/5146 - 2s - loss: 0.1874 - accuracy: 0.9332 - val_loss: 0.4327 - val_accuracy: 0.9053\n",
      "Epoch 5/20\n",
      "5146/5146 - 2s - loss: 0.1515 - accuracy: 0.9368 - val_loss: 0.5973 - val_accuracy: 0.9030\n",
      "Epoch 6/20\n",
      "5146/5146 - 2s - loss: 0.1344 - accuracy: 0.9458 - val_loss: 0.5431 - val_accuracy: 0.9057\n",
      "Epoch 7/20\n",
      "5146/5146 - 2s - loss: 0.1339 - accuracy: 0.9421 - val_loss: 0.6996 - val_accuracy: 0.8762\n",
      "Epoch 8/20\n",
      "5146/5146 - 2s - loss: 0.1335 - accuracy: 0.9448 - val_loss: 0.4473 - val_accuracy: 0.9039\n",
      "Epoch 9/20\n",
      "5146/5146 - 2s - loss: 0.1124 - accuracy: 0.9444 - val_loss: 0.5411 - val_accuracy: 0.9112\n",
      "Epoch 10/20\n",
      "5146/5146 - 2s - loss: 0.1351 - accuracy: 0.9450 - val_loss: 0.5895 - val_accuracy: 0.9093\n",
      "Epoch 11/20\n",
      "5146/5146 - 2s - loss: 0.1317 - accuracy: 0.9415 - val_loss: 0.7280 - val_accuracy: 0.8654\n",
      "Epoch 12/20\n",
      "5146/5146 - 2s - loss: 0.1349 - accuracy: 0.9392 - val_loss: 0.4931 - val_accuracy: 0.9034\n",
      "Epoch 13/20\n",
      "5146/5146 - 2s - loss: 0.1033 - accuracy: 0.9501 - val_loss: 0.5424 - val_accuracy: 0.9225\n",
      "Epoch 14/20\n",
      "5146/5146 - 2s - loss: 0.1033 - accuracy: 0.9485 - val_loss: 0.7965 - val_accuracy: 0.8631\n",
      "Epoch 15/20\n",
      "5146/5146 - 2s - loss: 0.1000 - accuracy: 0.9516 - val_loss: 0.5512 - val_accuracy: 0.9216\n",
      "Epoch 16/20\n",
      "5146/5146 - 2s - loss: 0.1096 - accuracy: 0.9462 - val_loss: 0.4963 - val_accuracy: 0.9243\n",
      "Epoch 17/20\n",
      "5146/5146 - 2s - loss: 0.0912 - accuracy: 0.9539 - val_loss: 0.6527 - val_accuracy: 0.9048\n",
      "Epoch 18/20\n",
      "5146/5146 - 2s - loss: 0.1014 - accuracy: 0.9483 - val_loss: 0.6128 - val_accuracy: 0.9284\n"
     ]
    },
    {
     "name": "stdout",
     "output_type": "stream",
     "text": [
      "Epoch 19/20\n",
      "5146/5146 - 2s - loss: 0.1088 - accuracy: 0.9448 - val_loss: 0.5864 - val_accuracy: 0.9170\n",
      "Epoch 20/20\n",
      "5146/5146 - 2s - loss: 0.0866 - accuracy: 0.9528 - val_loss: 0.5570 - val_accuracy: 0.9102\n",
      "Train on 5146 samples, validate on 2206 samples\n",
      "Epoch 1/20\n",
      "5146/5146 - 7s - loss: 1.0320 - accuracy: 0.5637 - val_loss: 0.6382 - val_accuracy: 0.7947\n",
      "Epoch 2/20\n",
      "5146/5146 - 2s - loss: 0.4163 - accuracy: 0.8399 - val_loss: 0.4591 - val_accuracy: 0.8785\n",
      "Epoch 3/20\n",
      "5146/5146 - 2s - loss: 0.2133 - accuracy: 0.9229 - val_loss: 0.4180 - val_accuracy: 0.9125\n",
      "Epoch 4/20\n",
      "5146/5146 - 2s - loss: 0.1546 - accuracy: 0.9413 - val_loss: 0.6201 - val_accuracy: 0.8726\n",
      "Epoch 5/20\n",
      "5146/5146 - 2s - loss: 0.1780 - accuracy: 0.9302 - val_loss: 0.3787 - val_accuracy: 0.9207\n",
      "Epoch 6/20\n",
      "5146/5146 - 2s - loss: 0.1104 - accuracy: 0.9506 - val_loss: 0.5022 - val_accuracy: 0.8962\n",
      "Epoch 7/20\n",
      "5146/5146 - 2s - loss: 0.1092 - accuracy: 0.9518 - val_loss: 0.4852 - val_accuracy: 0.8944\n",
      "Epoch 8/20\n",
      "5146/5146 - 2s - loss: 0.1223 - accuracy: 0.9436 - val_loss: 0.5316 - val_accuracy: 0.8966\n",
      "Epoch 9/20\n",
      "5146/5146 - 2s - loss: 0.1137 - accuracy: 0.9473 - val_loss: 0.5312 - val_accuracy: 0.8740\n",
      "Epoch 10/20\n",
      "5146/5146 - 2s - loss: 0.1123 - accuracy: 0.9425 - val_loss: 0.4539 - val_accuracy: 0.9066\n",
      "Epoch 11/20\n",
      "5146/5146 - 2s - loss: 0.1137 - accuracy: 0.9398 - val_loss: 0.5066 - val_accuracy: 0.8948\n",
      "Epoch 12/20\n",
      "5146/5146 - 2s - loss: 0.1093 - accuracy: 0.9464 - val_loss: 0.4598 - val_accuracy: 0.9066\n",
      "Epoch 13/20\n",
      "5146/5146 - 2s - loss: 0.1487 - accuracy: 0.9368 - val_loss: 0.6660 - val_accuracy: 0.8812\n",
      "Epoch 14/20\n",
      "5146/5146 - 2s - loss: 0.1665 - accuracy: 0.9409 - val_loss: 0.6203 - val_accuracy: 0.8717\n",
      "Epoch 15/20\n",
      "5146/5146 - 2s - loss: 0.1350 - accuracy: 0.9460 - val_loss: 0.5057 - val_accuracy: 0.9297\n",
      "Epoch 16/20\n",
      "5146/5146 - 2s - loss: 0.3046 - accuracy: 0.9100 - val_loss: 0.4259 - val_accuracy: 0.9211\n",
      "Epoch 17/20\n",
      "5146/5146 - 2s - loss: 0.1307 - accuracy: 0.9475 - val_loss: 0.4024 - val_accuracy: 0.9451\n",
      "Epoch 18/20\n",
      "5146/5146 - 2s - loss: 0.1029 - accuracy: 0.9543 - val_loss: 0.4945 - val_accuracy: 0.9293\n",
      "Epoch 19/20\n",
      "5146/5146 - 2s - loss: 0.1387 - accuracy: 0.9409 - val_loss: 0.4388 - val_accuracy: 0.9334\n",
      "Epoch 20/20\n",
      "5146/5146 - 2s - loss: 0.1084 - accuracy: 0.9522 - val_loss: 0.4372 - val_accuracy: 0.9338\n",
      "Train on 5146 samples, validate on 2206 samples\n",
      "Epoch 1/20\n",
      "5146/5146 - 7s - loss: 1.0645 - accuracy: 0.5531 - val_loss: 0.6796 - val_accuracy: 0.7665\n",
      "Epoch 2/20\n",
      "5146/5146 - 2s - loss: 0.5424 - accuracy: 0.7738 - val_loss: 0.6013 - val_accuracy: 0.8722\n",
      "Epoch 3/20\n",
      "5146/5146 - 2s - loss: 0.2474 - accuracy: 0.9162 - val_loss: 0.5310 - val_accuracy: 0.8871\n",
      "Epoch 4/20\n",
      "5146/5146 - 2s - loss: 0.2888 - accuracy: 0.9042 - val_loss: 0.6742 - val_accuracy: 0.8268\n",
      "Epoch 5/20\n",
      "5146/5146 - 2s - loss: 0.1595 - accuracy: 0.9429 - val_loss: 0.4267 - val_accuracy: 0.9084\n",
      "Epoch 6/20\n",
      "5146/5146 - 2s - loss: 0.1364 - accuracy: 0.9436 - val_loss: 0.4535 - val_accuracy: 0.9252\n",
      "Epoch 7/20\n",
      "5146/5146 - 2s - loss: 0.1204 - accuracy: 0.9460 - val_loss: 0.4873 - val_accuracy: 0.9220\n",
      "Epoch 8/20\n",
      "5146/5146 - 2s - loss: 0.1167 - accuracy: 0.9466 - val_loss: 0.9778 - val_accuracy: 0.8395\n",
      "Epoch 9/20\n",
      "5146/5146 - 2s - loss: 0.1493 - accuracy: 0.9382 - val_loss: 0.4894 - val_accuracy: 0.9175\n",
      "Epoch 10/20\n",
      "5146/5146 - 2s - loss: 0.1264 - accuracy: 0.9464 - val_loss: 0.4334 - val_accuracy: 0.9234\n",
      "Epoch 11/20\n",
      "5146/5146 - 2s - loss: 0.1061 - accuracy: 0.9468 - val_loss: 0.4801 - val_accuracy: 0.9152\n",
      "Epoch 12/20\n",
      "5146/5146 - 2s - loss: 0.1038 - accuracy: 0.9512 - val_loss: 0.4999 - val_accuracy: 0.9080\n",
      "Epoch 13/20\n",
      "5146/5146 - 2s - loss: 0.1406 - accuracy: 0.9297 - val_loss: 0.5004 - val_accuracy: 0.9320\n",
      "Epoch 14/20\n",
      "5146/5146 - 2s - loss: 0.0972 - accuracy: 0.9530 - val_loss: 0.5410 - val_accuracy: 0.9275\n",
      "Epoch 15/20\n",
      "5146/5146 - 2s - loss: 0.0908 - accuracy: 0.9518 - val_loss: 0.5461 - val_accuracy: 0.9365\n",
      "Epoch 16/20\n",
      "5146/5146 - 2s - loss: 0.1031 - accuracy: 0.9545 - val_loss: 0.6035 - val_accuracy: 0.9252\n",
      "Epoch 17/20\n",
      "5146/5146 - 2s - loss: 0.2099 - accuracy: 0.9285 - val_loss: 0.5132 - val_accuracy: 0.9297\n",
      "Epoch 18/20\n",
      "5146/5146 - 2s - loss: 0.1267 - accuracy: 0.9446 - val_loss: 0.5767 - val_accuracy: 0.9125\n",
      "Epoch 19/20\n",
      "5146/5146 - 2s - loss: 0.0950 - accuracy: 0.9557 - val_loss: 0.6145 - val_accuracy: 0.9266\n",
      "Epoch 20/20\n",
      "5146/5146 - 2s - loss: 0.0888 - accuracy: 0.9520 - val_loss: 0.6271 - val_accuracy: 0.9252\n",
      "Train on 5146 samples, validate on 2206 samples\n",
      "Epoch 1/20\n",
      "5146/5146 - 7s - loss: 1.0218 - accuracy: 0.5690 - val_loss: 0.6547 - val_accuracy: 0.7874\n",
      "Epoch 2/20\n",
      "5146/5146 - 2s - loss: 0.5127 - accuracy: 0.7932 - val_loss: 0.6831 - val_accuracy: 0.8296\n",
      "Epoch 3/20\n",
      "5146/5146 - 2s - loss: 0.2717 - accuracy: 0.9102 - val_loss: 0.4077 - val_accuracy: 0.9102\n",
      "Epoch 4/20\n",
      "5146/5146 - 2s - loss: 0.1891 - accuracy: 0.9295 - val_loss: 0.5102 - val_accuracy: 0.9211\n",
      "Epoch 5/20\n",
      "5146/5146 - 2s - loss: 0.1432 - accuracy: 0.9394 - val_loss: 0.4866 - val_accuracy: 0.9225\n",
      "Epoch 6/20\n",
      "5146/5146 - 2s - loss: 0.1363 - accuracy: 0.9450 - val_loss: 0.6859 - val_accuracy: 0.8749\n",
      "Epoch 7/20\n",
      "5146/5146 - 2s - loss: 0.1865 - accuracy: 0.9335 - val_loss: 0.4310 - val_accuracy: 0.9334\n",
      "Epoch 8/20\n",
      "5146/5146 - 2s - loss: 0.1253 - accuracy: 0.9431 - val_loss: 0.4874 - val_accuracy: 0.9021\n",
      "Epoch 9/20\n",
      "5146/5146 - 2s - loss: 0.1021 - accuracy: 0.9510 - val_loss: 0.4348 - val_accuracy: 0.9048\n",
      "Epoch 10/20\n",
      "5146/5146 - 2s - loss: 0.1126 - accuracy: 0.9462 - val_loss: 0.4342 - val_accuracy: 0.9175\n",
      "Epoch 11/20\n",
      "5146/5146 - 2s - loss: 0.1141 - accuracy: 0.9456 - val_loss: 0.6161 - val_accuracy: 0.9048\n",
      "Epoch 12/20\n",
      "5146/5146 - 2s - loss: 0.1203 - accuracy: 0.9475 - val_loss: 0.5295 - val_accuracy: 0.9257\n",
      "Epoch 13/20\n",
      "5146/5146 - 2s - loss: 0.1162 - accuracy: 0.9462 - val_loss: 0.5219 - val_accuracy: 0.9016\n",
      "Epoch 14/20\n",
      "5146/5146 - 2s - loss: 0.1117 - accuracy: 0.9438 - val_loss: 0.5494 - val_accuracy: 0.9134\n",
      "Epoch 15/20\n",
      "5146/5146 - 2s - loss: 0.1158 - accuracy: 0.9407 - val_loss: 0.5118 - val_accuracy: 0.9093\n",
      "Epoch 16/20\n",
      "5146/5146 - 2s - loss: 0.1029 - accuracy: 0.9503 - val_loss: 0.4833 - val_accuracy: 0.9288\n",
      "Epoch 17/20\n",
      "5146/5146 - 2s - loss: 0.0934 - accuracy: 0.9536 - val_loss: 0.5037 - val_accuracy: 0.9125\n",
      "Epoch 18/20\n",
      "5146/5146 - 2s - loss: 0.1221 - accuracy: 0.9444 - val_loss: 0.7643 - val_accuracy: 0.8826\n",
      "Epoch 19/20\n",
      "5146/5146 - 2s - loss: 0.1251 - accuracy: 0.9477 - val_loss: 0.3007 - val_accuracy: 0.9320\n",
      "Epoch 20/20\n",
      "5146/5146 - 2s - loss: 0.1229 - accuracy: 0.9452 - val_loss: 0.4985 - val_accuracy: 0.9325\n",
      "Train on 5146 samples, validate on 2206 samples\n",
      "Epoch 1/20\n",
      "5146/5146 - 7s - loss: 1.0501 - accuracy: 0.5474 - val_loss: 0.7688 - val_accuracy: 0.6686\n",
      "Epoch 2/20\n",
      "5146/5146 - 2s - loss: 0.5647 - accuracy: 0.7625 - val_loss: 0.4835 - val_accuracy: 0.8740\n",
      "Epoch 3/20\n",
      "5146/5146 - 2s - loss: 0.2709 - accuracy: 0.9054 - val_loss: 0.4163 - val_accuracy: 0.9270\n",
      "Epoch 4/20\n",
      "5146/5146 - 2s - loss: 0.1932 - accuracy: 0.9322 - val_loss: 0.4997 - val_accuracy: 0.8826\n",
      "Epoch 5/20\n",
      "5146/5146 - 2s - loss: 0.1535 - accuracy: 0.9415 - val_loss: 0.4877 - val_accuracy: 0.8985\n",
      "Epoch 6/20\n",
      "5146/5146 - 2s - loss: 0.1302 - accuracy: 0.9407 - val_loss: 0.5227 - val_accuracy: 0.8939\n",
      "Epoch 7/20\n",
      "5146/5146 - 2s - loss: 0.1203 - accuracy: 0.9448 - val_loss: 0.6962 - val_accuracy: 0.8676\n",
      "Epoch 8/20\n",
      "5146/5146 - 2s - loss: 0.1939 - accuracy: 0.9285 - val_loss: 0.4387 - val_accuracy: 0.9139\n",
      "Epoch 9/20\n",
      "5146/5146 - 2s - loss: 0.1379 - accuracy: 0.9464 - val_loss: 0.4476 - val_accuracy: 0.9057\n",
      "Epoch 10/20\n",
      "5146/5146 - 2s - loss: 0.1048 - accuracy: 0.9522 - val_loss: 0.5020 - val_accuracy: 0.9116\n",
      "Epoch 11/20\n",
      "5146/5146 - 2s - loss: 0.1131 - accuracy: 0.9444 - val_loss: 0.4740 - val_accuracy: 0.9316\n",
      "Epoch 12/20\n",
      "5146/5146 - 2s - loss: 0.0992 - accuracy: 0.9524 - val_loss: 0.4731 - val_accuracy: 0.9130\n",
      "Epoch 13/20\n",
      "5146/5146 - 2s - loss: 0.1186 - accuracy: 0.9403 - val_loss: 0.7576 - val_accuracy: 0.8694\n",
      "Epoch 14/20\n",
      "5146/5146 - 2s - loss: 0.1063 - accuracy: 0.9491 - val_loss: 0.5446 - val_accuracy: 0.8894\n",
      "Epoch 15/20\n",
      "5146/5146 - 2s - loss: 0.1056 - accuracy: 0.9499 - val_loss: 0.4384 - val_accuracy: 0.9365\n",
      "Epoch 16/20\n",
      "5146/5146 - 2s - loss: 0.1193 - accuracy: 0.9458 - val_loss: 0.3916 - val_accuracy: 0.9198\n"
     ]
    },
    {
     "name": "stdout",
     "output_type": "stream",
     "text": [
      "Epoch 17/20\n",
      "5146/5146 - 2s - loss: 0.1613 - accuracy: 0.9353 - val_loss: 0.4736 - val_accuracy: 0.9161\n",
      "Epoch 18/20\n",
      "5146/5146 - 2s - loss: 0.1121 - accuracy: 0.9518 - val_loss: 0.5615 - val_accuracy: 0.9112\n",
      "Epoch 19/20\n",
      "5146/5146 - 2s - loss: 0.0954 - accuracy: 0.9551 - val_loss: 0.5326 - val_accuracy: 0.9288\n",
      "Epoch 20/20\n",
      "5146/5146 - 2s - loss: 0.1143 - accuracy: 0.9518 - val_loss: 0.6096 - val_accuracy: 0.9012\n",
      "Train on 5146 samples, validate on 2206 samples\n",
      "Epoch 1/20\n",
      "5146/5146 - 7s - loss: 1.0149 - accuracy: 0.5729 - val_loss: 0.7199 - val_accuracy: 0.7185\n",
      "Epoch 2/20\n",
      "5146/5146 - 2s - loss: 0.5132 - accuracy: 0.7928 - val_loss: 0.6621 - val_accuracy: 0.8413\n",
      "Epoch 3/20\n",
      "5146/5146 - 2s - loss: 0.2779 - accuracy: 0.9034 - val_loss: 0.5178 - val_accuracy: 0.8944\n",
      "Epoch 4/20\n",
      "5146/5146 - 2s - loss: 0.1844 - accuracy: 0.9310 - val_loss: 0.5432 - val_accuracy: 0.8926\n",
      "Epoch 5/20\n",
      "5146/5146 - 2s - loss: 0.1471 - accuracy: 0.9409 - val_loss: 0.7497 - val_accuracy: 0.8753\n",
      "Epoch 6/20\n",
      "5146/5146 - 2s - loss: 0.1353 - accuracy: 0.9456 - val_loss: 0.5114 - val_accuracy: 0.9257\n",
      "Epoch 7/20\n",
      "5146/5146 - 2s - loss: 0.1186 - accuracy: 0.9464 - val_loss: 0.4668 - val_accuracy: 0.9125\n",
      "Epoch 8/20\n",
      "5146/5146 - 2s - loss: 0.1072 - accuracy: 0.9493 - val_loss: 0.5902 - val_accuracy: 0.9288\n",
      "Epoch 9/20\n",
      "5146/5146 - 2s - loss: 0.1215 - accuracy: 0.9450 - val_loss: 0.7080 - val_accuracy: 0.8432\n",
      "Epoch 10/20\n",
      "5146/5146 - 2s - loss: 0.1165 - accuracy: 0.9460 - val_loss: 0.5818 - val_accuracy: 0.9293\n",
      "Epoch 11/20\n",
      "5146/5146 - 2s - loss: 0.1107 - accuracy: 0.9468 - val_loss: 0.5229 - val_accuracy: 0.9302\n",
      "Epoch 12/20\n",
      "5146/5146 - 2s - loss: 0.1001 - accuracy: 0.9536 - val_loss: 0.5980 - val_accuracy: 0.9252\n",
      "Epoch 13/20\n",
      "5146/5146 - 2s - loss: 0.0931 - accuracy: 0.9559 - val_loss: 0.6714 - val_accuracy: 0.8935\n",
      "Epoch 14/20\n",
      "5146/5146 - 2s - loss: 0.1120 - accuracy: 0.9504 - val_loss: 0.5850 - val_accuracy: 0.9261\n",
      "Epoch 15/20\n",
      "5146/5146 - 2s - loss: 0.0958 - accuracy: 0.9572 - val_loss: 0.6136 - val_accuracy: 0.9248\n",
      "Epoch 16/20\n",
      "5146/5146 - 2s - loss: 0.1290 - accuracy: 0.9421 - val_loss: 0.6571 - val_accuracy: 0.8985\n",
      "Epoch 17/20\n",
      "5146/5146 - 2s - loss: 0.1321 - accuracy: 0.9468 - val_loss: 0.6192 - val_accuracy: 0.8989\n",
      "Epoch 18/20\n",
      "5146/5146 - 2s - loss: 0.0898 - accuracy: 0.9559 - val_loss: 0.5600 - val_accuracy: 0.9297\n",
      "Epoch 19/20\n",
      "5146/5146 - 2s - loss: 0.1110 - accuracy: 0.9501 - val_loss: 1.4605 - val_accuracy: 0.8055\n",
      "Epoch 20/20\n",
      "5146/5146 - 2s - loss: 0.1414 - accuracy: 0.9423 - val_loss: 0.6635 - val_accuracy: 0.9279\n",
      "Train on 5146 samples, validate on 2206 samples\n",
      "Epoch 1/20\n",
      "5146/5146 - 7s - loss: 1.0471 - accuracy: 0.5534 - val_loss: 0.7247 - val_accuracy: 0.7439\n",
      "Epoch 2/20\n",
      "5146/5146 - 2s - loss: 0.5327 - accuracy: 0.7787 - val_loss: 0.4512 - val_accuracy: 0.8781\n",
      "Epoch 3/20\n",
      "5146/5146 - 2s - loss: 0.2968 - accuracy: 0.8947 - val_loss: 0.4307 - val_accuracy: 0.9071\n",
      "Epoch 4/20\n",
      "5146/5146 - 2s - loss: 0.1959 - accuracy: 0.9295 - val_loss: 0.4065 - val_accuracy: 0.8821\n",
      "Epoch 5/20\n",
      "5146/5146 - 2s - loss: 0.1827 - accuracy: 0.9328 - val_loss: 0.6322 - val_accuracy: 0.8631\n",
      "Epoch 6/20\n",
      "5146/5146 - 2s - loss: 0.2083 - accuracy: 0.9232 - val_loss: 0.4510 - val_accuracy: 0.8926\n",
      "Epoch 7/20\n",
      "5146/5146 - 2s - loss: 0.1334 - accuracy: 0.9448 - val_loss: 0.5733 - val_accuracy: 0.8985\n",
      "Epoch 8/20\n",
      "5146/5146 - 2s - loss: 0.1336 - accuracy: 0.9419 - val_loss: 0.5522 - val_accuracy: 0.8926\n",
      "Epoch 9/20\n",
      "5146/5146 - 2s - loss: 0.1427 - accuracy: 0.9390 - val_loss: 0.5940 - val_accuracy: 0.8867\n",
      "Epoch 10/20\n",
      "5146/5146 - 2s - loss: 0.1068 - accuracy: 0.9491 - val_loss: 0.7983 - val_accuracy: 0.8536\n",
      "Epoch 11/20\n",
      "5146/5146 - 2s - loss: 0.1217 - accuracy: 0.9458 - val_loss: 0.5309 - val_accuracy: 0.9139\n",
      "Epoch 12/20\n",
      "5146/5146 - 2s - loss: 0.1131 - accuracy: 0.9477 - val_loss: 0.6749 - val_accuracy: 0.8926\n",
      "Epoch 13/20\n",
      "5146/5146 - 2s - loss: 0.1091 - accuracy: 0.9520 - val_loss: 0.5412 - val_accuracy: 0.9193\n",
      "Epoch 14/20\n",
      "5146/5146 - 2s - loss: 0.0959 - accuracy: 0.9553 - val_loss: 0.5195 - val_accuracy: 0.9125\n",
      "Epoch 15/20\n",
      "5146/5146 - 2s - loss: 0.1179 - accuracy: 0.9446 - val_loss: 0.5068 - val_accuracy: 0.9044\n",
      "Epoch 16/20\n",
      "5146/5146 - 2s - loss: 0.1023 - accuracy: 0.9520 - val_loss: 0.5074 - val_accuracy: 0.9243\n",
      "Epoch 17/20\n",
      "5146/5146 - 2s - loss: 0.1019 - accuracy: 0.9530 - val_loss: 0.5712 - val_accuracy: 0.9279\n",
      "Epoch 18/20\n",
      "5146/5146 - 2s - loss: 0.0914 - accuracy: 0.9514 - val_loss: 0.5269 - val_accuracy: 0.9125\n",
      "Epoch 19/20\n",
      "5146/5146 - 2s - loss: 0.1509 - accuracy: 0.9431 - val_loss: 0.6473 - val_accuracy: 0.9048\n",
      "Epoch 20/20\n",
      "5146/5146 - 2s - loss: 0.1211 - accuracy: 0.9495 - val_loss: 0.6097 - val_accuracy: 0.9003\n"
     ]
    },
    {
     "data": {
      "text/html": [
       "<span style=\"color:#4527A0\"><h1 style=\"font-size:18px\">Trial complete</h1></span>"
      ],
      "text/plain": [
       "<IPython.core.display.HTML object>"
      ]
     },
     "metadata": {},
     "output_type": "display_data"
    },
    {
     "data": {
      "text/html": [
       "<span style=\"color:#4527A0\"><h1 style=\"font-size:18px\">Trial summary</h1></span>"
      ],
      "text/plain": [
       "<IPython.core.display.HTML object>"
      ]
     },
     "metadata": {},
     "output_type": "display_data"
    },
    {
     "data": {
      "text/html": [
       "<span style=\"color:cyan\"> |-Trial ID: a6c7c13ffac99bf03eea84466b1e2929</span>"
      ],
      "text/plain": [
       "<IPython.core.display.HTML object>"
      ]
     },
     "metadata": {},
     "output_type": "display_data"
    },
    {
     "data": {
      "text/html": [
       "<span style=\"color:cyan\"> |-Score: 0.9351314306259155</span>"
      ],
      "text/plain": [
       "<IPython.core.display.HTML object>"
      ]
     },
     "metadata": {},
     "output_type": "display_data"
    },
    {
     "data": {
      "text/html": [
       "<span style=\"color:cyan\"> |-Best step: 0</span>"
      ],
      "text/plain": [
       "<IPython.core.display.HTML object>"
      ]
     },
     "metadata": {},
     "output_type": "display_data"
    },
    {
     "data": {
      "text/html": [
       "<span style=\"color:#7E57C2\"><h2 style=\"font-size:16px\">Hyperparameters:</h2></span>"
      ],
      "text/plain": [
       "<IPython.core.display.HTML object>"
      ]
     },
     "metadata": {},
     "output_type": "display_data"
    },
    {
     "data": {
      "text/html": [
       "<span style=\"color:cyan\"> |-batch_size: 64</span>"
      ],
      "text/plain": [
       "<IPython.core.display.HTML object>"
      ]
     },
     "metadata": {},
     "output_type": "display_data"
    },
    {
     "data": {
      "text/html": [
       "<span style=\"color:blue\"> |-dense_0: 288</span>"
      ],
      "text/plain": [
       "<IPython.core.display.HTML object>"
      ]
     },
     "metadata": {},
     "output_type": "display_data"
    },
    {
     "data": {
      "text/html": [
       "<span style=\"color:cyan\"> |-dropout_1: 0.8000000000000003</span>"
      ],
      "text/plain": [
       "<IPython.core.display.HTML object>"
      ]
     },
     "metadata": {},
     "output_type": "display_data"
    },
    {
     "data": {
      "text/html": [
       "<span style=\"color:blue\"> |-dropout_2: 0.30000000000000004</span>"
      ],
      "text/plain": [
       "<IPython.core.display.HTML object>"
      ]
     },
     "metadata": {},
     "output_type": "display_data"
    },
    {
     "data": {
      "text/html": [
       "<span style=\"color:cyan\"> |-dropout_3: 0.6000000000000001</span>"
      ],
      "text/plain": [
       "<IPython.core.display.HTML object>"
      ]
     },
     "metadata": {},
     "output_type": "display_data"
    },
    {
     "data": {
      "text/html": [
       "<span style=\"color:blue\"> |-epochs: 20</span>"
      ],
      "text/plain": [
       "<IPython.core.display.HTML object>"
      ]
     },
     "metadata": {},
     "output_type": "display_data"
    },
    {
     "data": {
      "text/html": [
       "<span style=\"color:cyan\"> |-num_layers: 1</span>"
      ],
      "text/plain": [
       "<IPython.core.display.HTML object>"
      ]
     },
     "metadata": {},
     "output_type": "display_data"
    },
    {
     "data": {
      "text/html": [
       "<span style=\"color:blue\"> |-optimizer_name: adam</span>"
      ],
      "text/plain": [
       "<IPython.core.display.HTML object>"
      ]
     },
     "metadata": {},
     "output_type": "display_data"
    },
    {
     "data": {
      "text/html": [
       "<span style=\"color:cyan\"> |-units_1: 224</span>"
      ],
      "text/plain": [
       "<IPython.core.display.HTML object>"
      ]
     },
     "metadata": {},
     "output_type": "display_data"
    },
    {
     "data": {
      "text/html": [
       "<span style=\"color:blue\"> |-units_2: 96</span>"
      ],
      "text/plain": [
       "<IPython.core.display.HTML object>"
      ]
     },
     "metadata": {},
     "output_type": "display_data"
    },
    {
     "name": "stdout",
     "output_type": "stream",
     "text": [
      "INFO:tensorflow:Oracle triggered exit\n"
     ]
    },
    {
     "data": {
      "text/html": [
       "<span style=\"color:#4527A0\"><h1 style=\"font-size:18px\">Search space summary</h1></span>"
      ],
      "text/plain": [
       "<IPython.core.display.HTML object>"
      ]
     },
     "metadata": {},
     "output_type": "display_data"
    },
    {
     "data": {
      "text/html": [
       "<span style=\"color:cyan\"> |-Default search space size: 10</span>"
      ],
      "text/plain": [
       "<IPython.core.display.HTML object>"
      ]
     },
     "metadata": {},
     "output_type": "display_data"
    },
    {
     "data": {
      "text/html": [
       "<span style=\"color:#7E57C2\"><h2 style=\"font-size:16px\">units_1 (Int)</h2></span>"
      ],
      "text/plain": [
       "<IPython.core.display.HTML object>"
      ]
     },
     "metadata": {},
     "output_type": "display_data"
    },
    {
     "data": {
      "text/html": [
       "<span style=\"color:cyan\"> |-default: None</span>"
      ],
      "text/plain": [
       "<IPython.core.display.HTML object>"
      ]
     },
     "metadata": {},
     "output_type": "display_data"
    },
    {
     "data": {
      "text/html": [
       "<span style=\"color:blue\"> |-max_value: 256</span>"
      ],
      "text/plain": [
       "<IPython.core.display.HTML object>"
      ]
     },
     "metadata": {},
     "output_type": "display_data"
    },
    {
     "data": {
      "text/html": [
       "<span style=\"color:cyan\"> |-min_value: 32</span>"
      ],
      "text/plain": [
       "<IPython.core.display.HTML object>"
      ]
     },
     "metadata": {},
     "output_type": "display_data"
    },
    {
     "data": {
      "text/html": [
       "<span style=\"color:blue\"> |-sampling: None</span>"
      ],
      "text/plain": [
       "<IPython.core.display.HTML object>"
      ]
     },
     "metadata": {},
     "output_type": "display_data"
    },
    {
     "data": {
      "text/html": [
       "<span style=\"color:cyan\"> |-step: 32</span>"
      ],
      "text/plain": [
       "<IPython.core.display.HTML object>"
      ]
     },
     "metadata": {},
     "output_type": "display_data"
    },
    {
     "data": {
      "text/html": [
       "<span style=\"color:#7E57C2\"><h2 style=\"font-size:16px\">dropout_1 (Float)</h2></span>"
      ],
      "text/plain": [
       "<IPython.core.display.HTML object>"
      ]
     },
     "metadata": {},
     "output_type": "display_data"
    },
    {
     "data": {
      "text/html": [
       "<span style=\"color:cyan\"> |-default: 0.2</span>"
      ],
      "text/plain": [
       "<IPython.core.display.HTML object>"
      ]
     },
     "metadata": {},
     "output_type": "display_data"
    },
    {
     "data": {
      "text/html": [
       "<span style=\"color:blue\"> |-max_value: 0.8</span>"
      ],
      "text/plain": [
       "<IPython.core.display.HTML object>"
      ]
     },
     "metadata": {},
     "output_type": "display_data"
    },
    {
     "data": {
      "text/html": [
       "<span style=\"color:cyan\"> |-min_value: 0.2</span>"
      ],
      "text/plain": [
       "<IPython.core.display.HTML object>"
      ]
     },
     "metadata": {},
     "output_type": "display_data"
    },
    {
     "data": {
      "text/html": [
       "<span style=\"color:blue\"> |-sampling: None</span>"
      ],
      "text/plain": [
       "<IPython.core.display.HTML object>"
      ]
     },
     "metadata": {},
     "output_type": "display_data"
    },
    {
     "data": {
      "text/html": [
       "<span style=\"color:cyan\"> |-step: 0.1</span>"
      ],
      "text/plain": [
       "<IPython.core.display.HTML object>"
      ]
     },
     "metadata": {},
     "output_type": "display_data"
    },
    {
     "data": {
      "text/html": [
       "<span style=\"color:#7E57C2\"><h2 style=\"font-size:16px\">units_2 (Int)</h2></span>"
      ],
      "text/plain": [
       "<IPython.core.display.HTML object>"
      ]
     },
     "metadata": {},
     "output_type": "display_data"
    },
    {
     "data": {
      "text/html": [
       "<span style=\"color:cyan\"> |-default: None</span>"
      ],
      "text/plain": [
       "<IPython.core.display.HTML object>"
      ]
     },
     "metadata": {},
     "output_type": "display_data"
    },
    {
     "data": {
      "text/html": [
       "<span style=\"color:blue\"> |-max_value: 256</span>"
      ],
      "text/plain": [
       "<IPython.core.display.HTML object>"
      ]
     },
     "metadata": {},
     "output_type": "display_data"
    },
    {
     "data": {
      "text/html": [
       "<span style=\"color:cyan\"> |-min_value: 32</span>"
      ],
      "text/plain": [
       "<IPython.core.display.HTML object>"
      ]
     },
     "metadata": {},
     "output_type": "display_data"
    },
    {
     "data": {
      "text/html": [
       "<span style=\"color:blue\"> |-sampling: None</span>"
      ],
      "text/plain": [
       "<IPython.core.display.HTML object>"
      ]
     },
     "metadata": {},
     "output_type": "display_data"
    },
    {
     "data": {
      "text/html": [
       "<span style=\"color:cyan\"> |-step: 32</span>"
      ],
      "text/plain": [
       "<IPython.core.display.HTML object>"
      ]
     },
     "metadata": {},
     "output_type": "display_data"
    },
    {
     "data": {
      "text/html": [
       "<span style=\"color:#7E57C2\"><h2 style=\"font-size:16px\">dropout_2 (Float)</h2></span>"
      ],
      "text/plain": [
       "<IPython.core.display.HTML object>"
      ]
     },
     "metadata": {},
     "output_type": "display_data"
    },
    {
     "data": {
      "text/html": [
       "<span style=\"color:cyan\"> |-default: 0.2</span>"
      ],
      "text/plain": [
       "<IPython.core.display.HTML object>"
      ]
     },
     "metadata": {},
     "output_type": "display_data"
    },
    {
     "data": {
      "text/html": [
       "<span style=\"color:blue\"> |-max_value: 0.8</span>"
      ],
      "text/plain": [
       "<IPython.core.display.HTML object>"
      ]
     },
     "metadata": {},
     "output_type": "display_data"
    },
    {
     "data": {
      "text/html": [
       "<span style=\"color:cyan\"> |-min_value: 0.2</span>"
      ],
      "text/plain": [
       "<IPython.core.display.HTML object>"
      ]
     },
     "metadata": {},
     "output_type": "display_data"
    },
    {
     "data": {
      "text/html": [
       "<span style=\"color:blue\"> |-sampling: None</span>"
      ],
      "text/plain": [
       "<IPython.core.display.HTML object>"
      ]
     },
     "metadata": {},
     "output_type": "display_data"
    },
    {
     "data": {
      "text/html": [
       "<span style=\"color:cyan\"> |-step: 0.1</span>"
      ],
      "text/plain": [
       "<IPython.core.display.HTML object>"
      ]
     },
     "metadata": {},
     "output_type": "display_data"
    },
    {
     "data": {
      "text/html": [
       "<span style=\"color:#7E57C2\"><h2 style=\"font-size:16px\">num_layers (Int)</h2></span>"
      ],
      "text/plain": [
       "<IPython.core.display.HTML object>"
      ]
     },
     "metadata": {},
     "output_type": "display_data"
    },
    {
     "data": {
      "text/html": [
       "<span style=\"color:cyan\"> |-default: None</span>"
      ],
      "text/plain": [
       "<IPython.core.display.HTML object>"
      ]
     },
     "metadata": {},
     "output_type": "display_data"
    },
    {
     "data": {
      "text/html": [
       "<span style=\"color:blue\"> |-max_value: 2</span>"
      ],
      "text/plain": [
       "<IPython.core.display.HTML object>"
      ]
     },
     "metadata": {},
     "output_type": "display_data"
    },
    {
     "data": {
      "text/html": [
       "<span style=\"color:cyan\"> |-min_value: 0</span>"
      ],
      "text/plain": [
       "<IPython.core.display.HTML object>"
      ]
     },
     "metadata": {},
     "output_type": "display_data"
    },
    {
     "data": {
      "text/html": [
       "<span style=\"color:blue\"> |-sampling: None</span>"
      ],
      "text/plain": [
       "<IPython.core.display.HTML object>"
      ]
     },
     "metadata": {},
     "output_type": "display_data"
    },
    {
     "data": {
      "text/html": [
       "<span style=\"color:cyan\"> |-step: 1</span>"
      ],
      "text/plain": [
       "<IPython.core.display.HTML object>"
      ]
     },
     "metadata": {},
     "output_type": "display_data"
    },
    {
     "data": {
      "text/html": [
       "<span style=\"color:#7E57C2\"><h2 style=\"font-size:16px\">dropout_3 (Float)</h2></span>"
      ],
      "text/plain": [
       "<IPython.core.display.HTML object>"
      ]
     },
     "metadata": {},
     "output_type": "display_data"
    },
    {
     "data": {
      "text/html": [
       "<span style=\"color:cyan\"> |-default: 0.0</span>"
      ],
      "text/plain": [
       "<IPython.core.display.HTML object>"
      ]
     },
     "metadata": {},
     "output_type": "display_data"
    },
    {
     "data": {
      "text/html": [
       "<span style=\"color:blue\"> |-max_value: 0.8</span>"
      ],
      "text/plain": [
       "<IPython.core.display.HTML object>"
      ]
     },
     "metadata": {},
     "output_type": "display_data"
    },
    {
     "data": {
      "text/html": [
       "<span style=\"color:cyan\"> |-min_value: 0.0</span>"
      ],
      "text/plain": [
       "<IPython.core.display.HTML object>"
      ]
     },
     "metadata": {},
     "output_type": "display_data"
    },
    {
     "data": {
      "text/html": [
       "<span style=\"color:blue\"> |-sampling: None</span>"
      ],
      "text/plain": [
       "<IPython.core.display.HTML object>"
      ]
     },
     "metadata": {},
     "output_type": "display_data"
    },
    {
     "data": {
      "text/html": [
       "<span style=\"color:cyan\"> |-step: 0.1</span>"
      ],
      "text/plain": [
       "<IPython.core.display.HTML object>"
      ]
     },
     "metadata": {},
     "output_type": "display_data"
    },
    {
     "data": {
      "text/html": [
       "<span style=\"color:#7E57C2\"><h2 style=\"font-size:16px\">optimizer_name (Choice)</h2></span>"
      ],
      "text/plain": [
       "<IPython.core.display.HTML object>"
      ]
     },
     "metadata": {},
     "output_type": "display_data"
    },
    {
     "data": {
      "text/html": [
       "<span style=\"color:cyan\"> |-default: adam</span>"
      ],
      "text/plain": [
       "<IPython.core.display.HTML object>"
      ]
     },
     "metadata": {},
     "output_type": "display_data"
    },
    {
     "data": {
      "text/html": [
       "<span style=\"color:blue\"> |-ordered: False</span>"
      ],
      "text/plain": [
       "<IPython.core.display.HTML object>"
      ]
     },
     "metadata": {},
     "output_type": "display_data"
    },
    {
     "data": {
      "text/html": [
       "<span style=\"color:cyan\"> |-values: ['adam', 'adagrad', 'adadelta']</span>"
      ],
      "text/plain": [
       "<IPython.core.display.HTML object>"
      ]
     },
     "metadata": {},
     "output_type": "display_data"
    },
    {
     "data": {
      "text/html": [
       "<span style=\"color:#7E57C2\"><h2 style=\"font-size:16px\">batch_size (Int)</h2></span>"
      ],
      "text/plain": [
       "<IPython.core.display.HTML object>"
      ]
     },
     "metadata": {},
     "output_type": "display_data"
    },
    {
     "data": {
      "text/html": [
       "<span style=\"color:cyan\"> |-default: None</span>"
      ],
      "text/plain": [
       "<IPython.core.display.HTML object>"
      ]
     },
     "metadata": {},
     "output_type": "display_data"
    },
    {
     "data": {
      "text/html": [
       "<span style=\"color:blue\"> |-max_value: 256</span>"
      ],
      "text/plain": [
       "<IPython.core.display.HTML object>"
      ]
     },
     "metadata": {},
     "output_type": "display_data"
    },
    {
     "data": {
      "text/html": [
       "<span style=\"color:cyan\"> |-min_value: 32</span>"
      ],
      "text/plain": [
       "<IPython.core.display.HTML object>"
      ]
     },
     "metadata": {},
     "output_type": "display_data"
    },
    {
     "data": {
      "text/html": [
       "<span style=\"color:blue\"> |-sampling: None</span>"
      ],
      "text/plain": [
       "<IPython.core.display.HTML object>"
      ]
     },
     "metadata": {},
     "output_type": "display_data"
    },
    {
     "data": {
      "text/html": [
       "<span style=\"color:cyan\"> |-step: 32</span>"
      ],
      "text/plain": [
       "<IPython.core.display.HTML object>"
      ]
     },
     "metadata": {},
     "output_type": "display_data"
    },
    {
     "data": {
      "text/html": [
       "<span style=\"color:#7E57C2\"><h2 style=\"font-size:16px\">epochs (Int)</h2></span>"
      ],
      "text/plain": [
       "<IPython.core.display.HTML object>"
      ]
     },
     "metadata": {},
     "output_type": "display_data"
    },
    {
     "data": {
      "text/html": [
       "<span style=\"color:cyan\"> |-default: None</span>"
      ],
      "text/plain": [
       "<IPython.core.display.HTML object>"
      ]
     },
     "metadata": {},
     "output_type": "display_data"
    },
    {
     "data": {
      "text/html": [
       "<span style=\"color:blue\"> |-max_value: 30</span>"
      ],
      "text/plain": [
       "<IPython.core.display.HTML object>"
      ]
     },
     "metadata": {},
     "output_type": "display_data"
    },
    {
     "data": {
      "text/html": [
       "<span style=\"color:cyan\"> |-min_value: 5</span>"
      ],
      "text/plain": [
       "<IPython.core.display.HTML object>"
      ]
     },
     "metadata": {},
     "output_type": "display_data"
    },
    {
     "data": {
      "text/html": [
       "<span style=\"color:blue\"> |-sampling: None</span>"
      ],
      "text/plain": [
       "<IPython.core.display.HTML object>"
      ]
     },
     "metadata": {},
     "output_type": "display_data"
    },
    {
     "data": {
      "text/html": [
       "<span style=\"color:cyan\"> |-step: 5</span>"
      ],
      "text/plain": [
       "<IPython.core.display.HTML object>"
      ]
     },
     "metadata": {},
     "output_type": "display_data"
    },
    {
     "data": {
      "text/html": [
       "<span style=\"color:#7E57C2\"><h2 style=\"font-size:16px\">dense_0 (Int)</h2></span>"
      ],
      "text/plain": [
       "<IPython.core.display.HTML object>"
      ]
     },
     "metadata": {},
     "output_type": "display_data"
    },
    {
     "data": {
      "text/html": [
       "<span style=\"color:cyan\"> |-default: None</span>"
      ],
      "text/plain": [
       "<IPython.core.display.HTML object>"
      ]
     },
     "metadata": {},
     "output_type": "display_data"
    },
    {
     "data": {
      "text/html": [
       "<span style=\"color:blue\"> |-max_value: 512</span>"
      ],
      "text/plain": [
       "<IPython.core.display.HTML object>"
      ]
     },
     "metadata": {},
     "output_type": "display_data"
    },
    {
     "data": {
      "text/html": [
       "<span style=\"color:cyan\"> |-min_value: 32</span>"
      ],
      "text/plain": [
       "<IPython.core.display.HTML object>"
      ]
     },
     "metadata": {},
     "output_type": "display_data"
    },
    {
     "data": {
      "text/html": [
       "<span style=\"color:blue\"> |-sampling: None</span>"
      ],
      "text/plain": [
       "<IPython.core.display.HTML object>"
      ]
     },
     "metadata": {},
     "output_type": "display_data"
    },
    {
     "data": {
      "text/html": [
       "<span style=\"color:cyan\"> |-step: 32</span>"
      ],
      "text/plain": [
       "<IPython.core.display.HTML object>"
      ]
     },
     "metadata": {},
     "output_type": "display_data"
    },
    {
     "data": {
      "text/html": [
       "<span style=\"color:#4527A0\"><h1 style=\"font-size:18px\">Results summary</h1></span>"
      ],
      "text/plain": [
       "<IPython.core.display.HTML object>"
      ]
     },
     "metadata": {},
     "output_type": "display_data"
    },
    {
     "data": {
      "text/html": [
       "<span style=\"color:cyan\"> |-Results in Random tuner\\optimized_model</span>"
      ],
      "text/plain": [
       "<IPython.core.display.HTML object>"
      ]
     },
     "metadata": {},
     "output_type": "display_data"
    },
    {
     "data": {
      "text/html": [
       "<span style=\"color:cyan\"> |-Showing 10 best trials</span>"
      ],
      "text/plain": [
       "<IPython.core.display.HTML object>"
      ]
     },
     "metadata": {},
     "output_type": "display_data"
    },
    {
     "data": {
      "text/html": [
       "<span style=\"color:cyan\"> |-Objective(name='val_accuracy', direction='max')</span>"
      ],
      "text/plain": [
       "<IPython.core.display.HTML object>"
      ]
     },
     "metadata": {},
     "output_type": "display_data"
    },
    {
     "data": {
      "text/html": [
       "<span style=\"color:#4527A0\"><h1 style=\"font-size:18px\">Trial summary</h1></span>"
      ],
      "text/plain": [
       "<IPython.core.display.HTML object>"
      ]
     },
     "metadata": {},
     "output_type": "display_data"
    },
    {
     "data": {
      "text/html": [
       "<span style=\"color:cyan\"> |-Trial ID: a6c7c13ffac99bf03eea84466b1e2929</span>"
      ],
      "text/plain": [
       "<IPython.core.display.HTML object>"
      ]
     },
     "metadata": {},
     "output_type": "display_data"
    },
    {
     "data": {
      "text/html": [
       "<span style=\"color:cyan\"> |-Score: 0.9351314306259155</span>"
      ],
      "text/plain": [
       "<IPython.core.display.HTML object>"
      ]
     },
     "metadata": {},
     "output_type": "display_data"
    },
    {
     "data": {
      "text/html": [
       "<span style=\"color:cyan\"> |-Best step: 0</span>"
      ],
      "text/plain": [
       "<IPython.core.display.HTML object>"
      ]
     },
     "metadata": {},
     "output_type": "display_data"
    },
    {
     "data": {
      "text/html": [
       "<span style=\"color:#7E57C2\"><h2 style=\"font-size:16px\">Hyperparameters:</h2></span>"
      ],
      "text/plain": [
       "<IPython.core.display.HTML object>"
      ]
     },
     "metadata": {},
     "output_type": "display_data"
    },
    {
     "data": {
      "text/html": [
       "<span style=\"color:cyan\"> |-batch_size: 64</span>"
      ],
      "text/plain": [
       "<IPython.core.display.HTML object>"
      ]
     },
     "metadata": {},
     "output_type": "display_data"
    },
    {
     "data": {
      "text/html": [
       "<span style=\"color:blue\"> |-dense_0: 288</span>"
      ],
      "text/plain": [
       "<IPython.core.display.HTML object>"
      ]
     },
     "metadata": {},
     "output_type": "display_data"
    },
    {
     "data": {
      "text/html": [
       "<span style=\"color:cyan\"> |-dropout_1: 0.8000000000000003</span>"
      ],
      "text/plain": [
       "<IPython.core.display.HTML object>"
      ]
     },
     "metadata": {},
     "output_type": "display_data"
    },
    {
     "data": {
      "text/html": [
       "<span style=\"color:blue\"> |-dropout_2: 0.30000000000000004</span>"
      ],
      "text/plain": [
       "<IPython.core.display.HTML object>"
      ]
     },
     "metadata": {},
     "output_type": "display_data"
    },
    {
     "data": {
      "text/html": [
       "<span style=\"color:cyan\"> |-dropout_3: 0.6000000000000001</span>"
      ],
      "text/plain": [
       "<IPython.core.display.HTML object>"
      ]
     },
     "metadata": {},
     "output_type": "display_data"
    },
    {
     "data": {
      "text/html": [
       "<span style=\"color:blue\"> |-epochs: 20</span>"
      ],
      "text/plain": [
       "<IPython.core.display.HTML object>"
      ]
     },
     "metadata": {},
     "output_type": "display_data"
    },
    {
     "data": {
      "text/html": [
       "<span style=\"color:cyan\"> |-num_layers: 1</span>"
      ],
      "text/plain": [
       "<IPython.core.display.HTML object>"
      ]
     },
     "metadata": {},
     "output_type": "display_data"
    },
    {
     "data": {
      "text/html": [
       "<span style=\"color:blue\"> |-optimizer_name: adam</span>"
      ],
      "text/plain": [
       "<IPython.core.display.HTML object>"
      ]
     },
     "metadata": {},
     "output_type": "display_data"
    },
    {
     "data": {
      "text/html": [
       "<span style=\"color:cyan\"> |-units_1: 224</span>"
      ],
      "text/plain": [
       "<IPython.core.display.HTML object>"
      ]
     },
     "metadata": {},
     "output_type": "display_data"
    },
    {
     "data": {
      "text/html": [
       "<span style=\"color:blue\"> |-units_2: 96</span>"
      ],
      "text/plain": [
       "<IPython.core.display.HTML object>"
      ]
     },
     "metadata": {},
     "output_type": "display_data"
    },
    {
     "data": {
      "text/html": [
       "<span style=\"color:#4527A0\"><h1 style=\"font-size:18px\">Trial summary</h1></span>"
      ],
      "text/plain": [
       "<IPython.core.display.HTML object>"
      ]
     },
     "metadata": {},
     "output_type": "display_data"
    },
    {
     "data": {
      "text/html": [
       "<span style=\"color:cyan\"> |-Trial ID: 1f9fef85de4267e51b3eac2fc451e6a6</span>"
      ],
      "text/plain": [
       "<IPython.core.display.HTML object>"
      ]
     },
     "metadata": {},
     "output_type": "display_data"
    },
    {
     "data": {
      "text/html": [
       "<span style=\"color:cyan\"> |-Score: 0.9292837977409363</span>"
      ],
      "text/plain": [
       "<IPython.core.display.HTML object>"
      ]
     },
     "metadata": {},
     "output_type": "display_data"
    },
    {
     "data": {
      "text/html": [
       "<span style=\"color:cyan\"> |-Best step: 0</span>"
      ],
      "text/plain": [
       "<IPython.core.display.HTML object>"
      ]
     },
     "metadata": {},
     "output_type": "display_data"
    },
    {
     "data": {
      "text/html": [
       "<span style=\"color:#7E57C2\"><h2 style=\"font-size:16px\">Hyperparameters:</h2></span>"
      ],
      "text/plain": [
       "<IPython.core.display.HTML object>"
      ]
     },
     "metadata": {},
     "output_type": "display_data"
    },
    {
     "data": {
      "text/html": [
       "<span style=\"color:cyan\"> |-batch_size: 96</span>"
      ],
      "text/plain": [
       "<IPython.core.display.HTML object>"
      ]
     },
     "metadata": {},
     "output_type": "display_data"
    },
    {
     "data": {
      "text/html": [
       "<span style=\"color:blue\"> |-dense_0: 320</span>"
      ],
      "text/plain": [
       "<IPython.core.display.HTML object>"
      ]
     },
     "metadata": {},
     "output_type": "display_data"
    },
    {
     "data": {
      "text/html": [
       "<span style=\"color:cyan\"> |-dropout_1: 0.6000000000000001</span>"
      ],
      "text/plain": [
       "<IPython.core.display.HTML object>"
      ]
     },
     "metadata": {},
     "output_type": "display_data"
    },
    {
     "data": {
      "text/html": [
       "<span style=\"color:blue\"> |-dropout_2: 0.30000000000000004</span>"
      ],
      "text/plain": [
       "<IPython.core.display.HTML object>"
      ]
     },
     "metadata": {},
     "output_type": "display_data"
    },
    {
     "data": {
      "text/html": [
       "<span style=\"color:cyan\"> |-dropout_3: 0.6000000000000001</span>"
      ],
      "text/plain": [
       "<IPython.core.display.HTML object>"
      ]
     },
     "metadata": {},
     "output_type": "display_data"
    },
    {
     "data": {
      "text/html": [
       "<span style=\"color:blue\"> |-epochs: 10</span>"
      ],
      "text/plain": [
       "<IPython.core.display.HTML object>"
      ]
     },
     "metadata": {},
     "output_type": "display_data"
    },
    {
     "data": {
      "text/html": [
       "<span style=\"color:cyan\"> |-num_layers: 1</span>"
      ],
      "text/plain": [
       "<IPython.core.display.HTML object>"
      ]
     },
     "metadata": {},
     "output_type": "display_data"
    },
    {
     "data": {
      "text/html": [
       "<span style=\"color:blue\"> |-optimizer_name: adam</span>"
      ],
      "text/plain": [
       "<IPython.core.display.HTML object>"
      ]
     },
     "metadata": {},
     "output_type": "display_data"
    },
    {
     "data": {
      "text/html": [
       "<span style=\"color:cyan\"> |-units_1: 224</span>"
      ],
      "text/plain": [
       "<IPython.core.display.HTML object>"
      ]
     },
     "metadata": {},
     "output_type": "display_data"
    },
    {
     "data": {
      "text/html": [
       "<span style=\"color:blue\"> |-units_2: 128</span>"
      ],
      "text/plain": [
       "<IPython.core.display.HTML object>"
      ]
     },
     "metadata": {},
     "output_type": "display_data"
    },
    {
     "data": {
      "text/html": [
       "<span style=\"color:#4527A0\"><h1 style=\"font-size:18px\">Trial summary</h1></span>"
      ],
      "text/plain": [
       "<IPython.core.display.HTML object>"
      ]
     },
     "metadata": {},
     "output_type": "display_data"
    },
    {
     "data": {
      "text/html": [
       "<span style=\"color:cyan\"> |-Trial ID: 63f8b28f28192213eedbf0790b16d63a</span>"
      ],
      "text/plain": [
       "<IPython.core.display.HTML object>"
      ]
     },
     "metadata": {},
     "output_type": "display_data"
    },
    {
     "data": {
      "text/html": [
       "<span style=\"color:cyan\"> |-Score: 0.9200363159179688</span>"
      ],
      "text/plain": [
       "<IPython.core.display.HTML object>"
      ]
     },
     "metadata": {},
     "output_type": "display_data"
    },
    {
     "data": {
      "text/html": [
       "<span style=\"color:cyan\"> |-Best step: 0</span>"
      ],
      "text/plain": [
       "<IPython.core.display.HTML object>"
      ]
     },
     "metadata": {},
     "output_type": "display_data"
    },
    {
     "data": {
      "text/html": [
       "<span style=\"color:#7E57C2\"><h2 style=\"font-size:16px\">Hyperparameters:</h2></span>"
      ],
      "text/plain": [
       "<IPython.core.display.HTML object>"
      ]
     },
     "metadata": {},
     "output_type": "display_data"
    },
    {
     "data": {
      "text/html": [
       "<span style=\"color:cyan\"> |-batch_size: 160</span>"
      ],
      "text/plain": [
       "<IPython.core.display.HTML object>"
      ]
     },
     "metadata": {},
     "output_type": "display_data"
    },
    {
     "data": {
      "text/html": [
       "<span style=\"color:blue\"> |-dense_0: 96</span>"
      ],
      "text/plain": [
       "<IPython.core.display.HTML object>"
      ]
     },
     "metadata": {},
     "output_type": "display_data"
    },
    {
     "data": {
      "text/html": [
       "<span style=\"color:cyan\"> |-dropout_1: 0.4000000000000001</span>"
      ],
      "text/plain": [
       "<IPython.core.display.HTML object>"
      ]
     },
     "metadata": {},
     "output_type": "display_data"
    },
    {
     "data": {
      "text/html": [
       "<span style=\"color:blue\"> |-dropout_2: 0.6000000000000001</span>"
      ],
      "text/plain": [
       "<IPython.core.display.HTML object>"
      ]
     },
     "metadata": {},
     "output_type": "display_data"
    },
    {
     "data": {
      "text/html": [
       "<span style=\"color:cyan\"> |-dropout_3: 0.30000000000000004</span>"
      ],
      "text/plain": [
       "<IPython.core.display.HTML object>"
      ]
     },
     "metadata": {},
     "output_type": "display_data"
    },
    {
     "data": {
      "text/html": [
       "<span style=\"color:blue\"> |-epochs: 20</span>"
      ],
      "text/plain": [
       "<IPython.core.display.HTML object>"
      ]
     },
     "metadata": {},
     "output_type": "display_data"
    },
    {
     "data": {
      "text/html": [
       "<span style=\"color:cyan\"> |-num_layers: 0</span>"
      ],
      "text/plain": [
       "<IPython.core.display.HTML object>"
      ]
     },
     "metadata": {},
     "output_type": "display_data"
    },
    {
     "data": {
      "text/html": [
       "<span style=\"color:blue\"> |-optimizer_name: adagrad</span>"
      ],
      "text/plain": [
       "<IPython.core.display.HTML object>"
      ]
     },
     "metadata": {},
     "output_type": "display_data"
    },
    {
     "data": {
      "text/html": [
       "<span style=\"color:cyan\"> |-units_1: 256</span>"
      ],
      "text/plain": [
       "<IPython.core.display.HTML object>"
      ]
     },
     "metadata": {},
     "output_type": "display_data"
    },
    {
     "data": {
      "text/html": [
       "<span style=\"color:blue\"> |-units_2: 192</span>"
      ],
      "text/plain": [
       "<IPython.core.display.HTML object>"
      ]
     },
     "metadata": {},
     "output_type": "display_data"
    },
    {
     "data": {
      "text/html": [
       "<span style=\"color:#4527A0\"><h1 style=\"font-size:18px\">Trial summary</h1></span>"
      ],
      "text/plain": [
       "<IPython.core.display.HTML object>"
      ]
     },
     "metadata": {},
     "output_type": "display_data"
    },
    {
     "data": {
      "text/html": [
       "<span style=\"color:cyan\"> |-Trial ID: e4b10f650d2d863e9fbf5e0dfd1682ba</span>"
      ],
      "text/plain": [
       "<IPython.core.display.HTML object>"
      ]
     },
     "metadata": {},
     "output_type": "display_data"
    },
    {
     "data": {
      "text/html": [
       "<span style=\"color:cyan\"> |-Score: 0.9148232340812683</span>"
      ],
      "text/plain": [
       "<IPython.core.display.HTML object>"
      ]
     },
     "metadata": {},
     "output_type": "display_data"
    },
    {
     "data": {
      "text/html": [
       "<span style=\"color:cyan\"> |-Best step: 0</span>"
      ],
      "text/plain": [
       "<IPython.core.display.HTML object>"
      ]
     },
     "metadata": {},
     "output_type": "display_data"
    },
    {
     "data": {
      "text/html": [
       "<span style=\"color:#7E57C2\"><h2 style=\"font-size:16px\">Hyperparameters:</h2></span>"
      ],
      "text/plain": [
       "<IPython.core.display.HTML object>"
      ]
     },
     "metadata": {},
     "output_type": "display_data"
    },
    {
     "data": {
      "text/html": [
       "<span style=\"color:cyan\"> |-batch_size: 192</span>"
      ],
      "text/plain": [
       "<IPython.core.display.HTML object>"
      ]
     },
     "metadata": {},
     "output_type": "display_data"
    },
    {
     "data": {
      "text/html": [
       "<span style=\"color:blue\"> |-dense_0: 96</span>"
      ],
      "text/plain": [
       "<IPython.core.display.HTML object>"
      ]
     },
     "metadata": {},
     "output_type": "display_data"
    },
    {
     "data": {
      "text/html": [
       "<span style=\"color:cyan\"> |-dropout_1: 0.30000000000000004</span>"
      ],
      "text/plain": [
       "<IPython.core.display.HTML object>"
      ]
     },
     "metadata": {},
     "output_type": "display_data"
    },
    {
     "data": {
      "text/html": [
       "<span style=\"color:blue\"> |-dropout_2: 0.30000000000000004</span>"
      ],
      "text/plain": [
       "<IPython.core.display.HTML object>"
      ]
     },
     "metadata": {},
     "output_type": "display_data"
    },
    {
     "data": {
      "text/html": [
       "<span style=\"color:cyan\"> |-dropout_3: 0.8</span>"
      ],
      "text/plain": [
       "<IPython.core.display.HTML object>"
      ]
     },
     "metadata": {},
     "output_type": "display_data"
    },
    {
     "data": {
      "text/html": [
       "<span style=\"color:blue\"> |-epochs: 10</span>"
      ],
      "text/plain": [
       "<IPython.core.display.HTML object>"
      ]
     },
     "metadata": {},
     "output_type": "display_data"
    },
    {
     "data": {
      "text/html": [
       "<span style=\"color:cyan\"> |-num_layers: 0</span>"
      ],
      "text/plain": [
       "<IPython.core.display.HTML object>"
      ]
     },
     "metadata": {},
     "output_type": "display_data"
    },
    {
     "data": {
      "text/html": [
       "<span style=\"color:blue\"> |-optimizer_name: adam</span>"
      ],
      "text/plain": [
       "<IPython.core.display.HTML object>"
      ]
     },
     "metadata": {},
     "output_type": "display_data"
    },
    {
     "data": {
      "text/html": [
       "<span style=\"color:cyan\"> |-units_1: 64</span>"
      ],
      "text/plain": [
       "<IPython.core.display.HTML object>"
      ]
     },
     "metadata": {},
     "output_type": "display_data"
    },
    {
     "data": {
      "text/html": [
       "<span style=\"color:blue\"> |-units_2: 160</span>"
      ],
      "text/plain": [
       "<IPython.core.display.HTML object>"
      ]
     },
     "metadata": {},
     "output_type": "display_data"
    },
    {
     "data": {
      "text/html": [
       "<span style=\"color:#4527A0\"><h1 style=\"font-size:18px\">Trial summary</h1></span>"
      ],
      "text/plain": [
       "<IPython.core.display.HTML object>"
      ]
     },
     "metadata": {},
     "output_type": "display_data"
    },
    {
     "data": {
      "text/html": [
       "<span style=\"color:cyan\"> |-Trial ID: bb82a9c3e6579e124bde829b182e8b71</span>"
      ],
      "text/plain": [
       "<IPython.core.display.HTML object>"
      ]
     },
     "metadata": {},
     "output_type": "display_data"
    },
    {
     "data": {
      "text/html": [
       "<span style=\"color:cyan\"> |-Score: 0.9064370393753052</span>"
      ],
      "text/plain": [
       "<IPython.core.display.HTML object>"
      ]
     },
     "metadata": {},
     "output_type": "display_data"
    },
    {
     "data": {
      "text/html": [
       "<span style=\"color:cyan\"> |-Best step: 0</span>"
      ],
      "text/plain": [
       "<IPython.core.display.HTML object>"
      ]
     },
     "metadata": {},
     "output_type": "display_data"
    },
    {
     "data": {
      "text/html": [
       "<span style=\"color:#7E57C2\"><h2 style=\"font-size:16px\">Hyperparameters:</h2></span>"
      ],
      "text/plain": [
       "<IPython.core.display.HTML object>"
      ]
     },
     "metadata": {},
     "output_type": "display_data"
    },
    {
     "data": {
      "text/html": [
       "<span style=\"color:cyan\"> |-batch_size: 32</span>"
      ],
      "text/plain": [
       "<IPython.core.display.HTML object>"
      ]
     },
     "metadata": {},
     "output_type": "display_data"
    },
    {
     "data": {
      "text/html": [
       "<span style=\"color:blue\"> |-dense_0: 32</span>"
      ],
      "text/plain": [
       "<IPython.core.display.HTML object>"
      ]
     },
     "metadata": {},
     "output_type": "display_data"
    },
    {
     "data": {
      "text/html": [
       "<span style=\"color:cyan\"> |-dropout_1: 0.30000000000000004</span>"
      ],
      "text/plain": [
       "<IPython.core.display.HTML object>"
      ]
     },
     "metadata": {},
     "output_type": "display_data"
    },
    {
     "data": {
      "text/html": [
       "<span style=\"color:blue\"> |-dropout_2: 0.4000000000000001</span>"
      ],
      "text/plain": [
       "<IPython.core.display.HTML object>"
      ]
     },
     "metadata": {},
     "output_type": "display_data"
    },
    {
     "data": {
      "text/html": [
       "<span style=\"color:cyan\"> |-dropout_3: 0.7000000000000001</span>"
      ],
      "text/plain": [
       "<IPython.core.display.HTML object>"
      ]
     },
     "metadata": {},
     "output_type": "display_data"
    },
    {
     "data": {
      "text/html": [
       "<span style=\"color:blue\"> |-epochs: 5</span>"
      ],
      "text/plain": [
       "<IPython.core.display.HTML object>"
      ]
     },
     "metadata": {},
     "output_type": "display_data"
    },
    {
     "data": {
      "text/html": [
       "<span style=\"color:cyan\"> |-num_layers: 1</span>"
      ],
      "text/plain": [
       "<IPython.core.display.HTML object>"
      ]
     },
     "metadata": {},
     "output_type": "display_data"
    },
    {
     "data": {
      "text/html": [
       "<span style=\"color:blue\"> |-optimizer_name: adam</span>"
      ],
      "text/plain": [
       "<IPython.core.display.HTML object>"
      ]
     },
     "metadata": {},
     "output_type": "display_data"
    },
    {
     "data": {
      "text/html": [
       "<span style=\"color:cyan\"> |-units_1: 96</span>"
      ],
      "text/plain": [
       "<IPython.core.display.HTML object>"
      ]
     },
     "metadata": {},
     "output_type": "display_data"
    },
    {
     "data": {
      "text/html": [
       "<span style=\"color:blue\"> |-units_2: 192</span>"
      ],
      "text/plain": [
       "<IPython.core.display.HTML object>"
      ]
     },
     "metadata": {},
     "output_type": "display_data"
    },
    {
     "data": {
      "text/html": [
       "<span style=\"color:#4527A0\"><h1 style=\"font-size:18px\">Trial summary</h1></span>"
      ],
      "text/plain": [
       "<IPython.core.display.HTML object>"
      ]
     },
     "metadata": {},
     "output_type": "display_data"
    },
    {
     "data": {
      "text/html": [
       "<span style=\"color:cyan\"> |-Trial ID: 3273104ad42f0a13b89502140c5c564f</span>"
      ],
      "text/plain": [
       "<IPython.core.display.HTML object>"
      ]
     },
     "metadata": {},
     "output_type": "display_data"
    },
    {
     "data": {
      "text/html": [
       "<span style=\"color:cyan\"> |-Score: 0.8934270739555359</span>"
      ],
      "text/plain": [
       "<IPython.core.display.HTML object>"
      ]
     },
     "metadata": {},
     "output_type": "display_data"
    },
    {
     "data": {
      "text/html": [
       "<span style=\"color:cyan\"> |-Best step: 0</span>"
      ],
      "text/plain": [
       "<IPython.core.display.HTML object>"
      ]
     },
     "metadata": {},
     "output_type": "display_data"
    },
    {
     "data": {
      "text/html": [
       "<span style=\"color:#7E57C2\"><h2 style=\"font-size:16px\">Hyperparameters:</h2></span>"
      ],
      "text/plain": [
       "<IPython.core.display.HTML object>"
      ]
     },
     "metadata": {},
     "output_type": "display_data"
    },
    {
     "data": {
      "text/html": [
       "<span style=\"color:cyan\"> |-batch_size: 32</span>"
      ],
      "text/plain": [
       "<IPython.core.display.HTML object>"
      ]
     },
     "metadata": {},
     "output_type": "display_data"
    },
    {
     "data": {
      "text/html": [
       "<span style=\"color:blue\"> |-dense_0: 192</span>"
      ],
      "text/plain": [
       "<IPython.core.display.HTML object>"
      ]
     },
     "metadata": {},
     "output_type": "display_data"
    },
    {
     "data": {
      "text/html": [
       "<span style=\"color:cyan\"> |-dropout_1: 0.5000000000000001</span>"
      ],
      "text/plain": [
       "<IPython.core.display.HTML object>"
      ]
     },
     "metadata": {},
     "output_type": "display_data"
    },
    {
     "data": {
      "text/html": [
       "<span style=\"color:blue\"> |-dropout_2: 0.4000000000000001</span>"
      ],
      "text/plain": [
       "<IPython.core.display.HTML object>"
      ]
     },
     "metadata": {},
     "output_type": "display_data"
    },
    {
     "data": {
      "text/html": [
       "<span style=\"color:cyan\"> |-dropout_3: 0.2</span>"
      ],
      "text/plain": [
       "<IPython.core.display.HTML object>"
      ]
     },
     "metadata": {},
     "output_type": "display_data"
    },
    {
     "data": {
      "text/html": [
       "<span style=\"color:blue\"> |-epochs: 15</span>"
      ],
      "text/plain": [
       "<IPython.core.display.HTML object>"
      ]
     },
     "metadata": {},
     "output_type": "display_data"
    },
    {
     "data": {
      "text/html": [
       "<span style=\"color:cyan\"> |-num_layers: 0</span>"
      ],
      "text/plain": [
       "<IPython.core.display.HTML object>"
      ]
     },
     "metadata": {},
     "output_type": "display_data"
    },
    {
     "data": {
      "text/html": [
       "<span style=\"color:blue\"> |-optimizer_name: adagrad</span>"
      ],
      "text/plain": [
       "<IPython.core.display.HTML object>"
      ]
     },
     "metadata": {},
     "output_type": "display_data"
    },
    {
     "data": {
      "text/html": [
       "<span style=\"color:cyan\"> |-units_1: 128</span>"
      ],
      "text/plain": [
       "<IPython.core.display.HTML object>"
      ]
     },
     "metadata": {},
     "output_type": "display_data"
    },
    {
     "data": {
      "text/html": [
       "<span style=\"color:blue\"> |-units_2: 64</span>"
      ],
      "text/plain": [
       "<IPython.core.display.HTML object>"
      ]
     },
     "metadata": {},
     "output_type": "display_data"
    },
    {
     "data": {
      "text/html": [
       "<span style=\"color:#4527A0\"><h1 style=\"font-size:18px\">Trial summary</h1></span>"
      ],
      "text/plain": [
       "<IPython.core.display.HTML object>"
      ]
     },
     "metadata": {},
     "output_type": "display_data"
    },
    {
     "data": {
      "text/html": [
       "<span style=\"color:cyan\"> |-Trial ID: af95402d360ef546ec84714b4d490718</span>"
      ],
      "text/plain": [
       "<IPython.core.display.HTML object>"
      ]
     },
     "metadata": {},
     "output_type": "display_data"
    },
    {
     "data": {
      "text/html": [
       "<span style=\"color:cyan\"> |-Score: 0.7660471200942993</span>"
      ],
      "text/plain": [
       "<IPython.core.display.HTML object>"
      ]
     },
     "metadata": {},
     "output_type": "display_data"
    },
    {
     "data": {
      "text/html": [
       "<span style=\"color:cyan\"> |-Best step: 0</span>"
      ],
      "text/plain": [
       "<IPython.core.display.HTML object>"
      ]
     },
     "metadata": {},
     "output_type": "display_data"
    },
    {
     "data": {
      "text/html": [
       "<span style=\"color:#7E57C2\"><h2 style=\"font-size:16px\">Hyperparameters:</h2></span>"
      ],
      "text/plain": [
       "<IPython.core.display.HTML object>"
      ]
     },
     "metadata": {},
     "output_type": "display_data"
    },
    {
     "data": {
      "text/html": [
       "<span style=\"color:cyan\"> |-batch_size: 128</span>"
      ],
      "text/plain": [
       "<IPython.core.display.HTML object>"
      ]
     },
     "metadata": {},
     "output_type": "display_data"
    },
    {
     "data": {
      "text/html": [
       "<span style=\"color:blue\"> |-dense_0: 160</span>"
      ],
      "text/plain": [
       "<IPython.core.display.HTML object>"
      ]
     },
     "metadata": {},
     "output_type": "display_data"
    },
    {
     "data": {
      "text/html": [
       "<span style=\"color:cyan\"> |-dropout_1: 0.30000000000000004</span>"
      ],
      "text/plain": [
       "<IPython.core.display.HTML object>"
      ]
     },
     "metadata": {},
     "output_type": "display_data"
    },
    {
     "data": {
      "text/html": [
       "<span style=\"color:blue\"> |-dropout_2: 0.4000000000000001</span>"
      ],
      "text/plain": [
       "<IPython.core.display.HTML object>"
      ]
     },
     "metadata": {},
     "output_type": "display_data"
    },
    {
     "data": {
      "text/html": [
       "<span style=\"color:cyan\"> |-dropout_3: 0.5</span>"
      ],
      "text/plain": [
       "<IPython.core.display.HTML object>"
      ]
     },
     "metadata": {},
     "output_type": "display_data"
    },
    {
     "data": {
      "text/html": [
       "<span style=\"color:blue\"> |-epochs: 20</span>"
      ],
      "text/plain": [
       "<IPython.core.display.HTML object>"
      ]
     },
     "metadata": {},
     "output_type": "display_data"
    },
    {
     "data": {
      "text/html": [
       "<span style=\"color:cyan\"> |-num_layers: 1</span>"
      ],
      "text/plain": [
       "<IPython.core.display.HTML object>"
      ]
     },
     "metadata": {},
     "output_type": "display_data"
    },
    {
     "data": {
      "text/html": [
       "<span style=\"color:blue\"> |-optimizer_name: adagrad</span>"
      ],
      "text/plain": [
       "<IPython.core.display.HTML object>"
      ]
     },
     "metadata": {},
     "output_type": "display_data"
    },
    {
     "data": {
      "text/html": [
       "<span style=\"color:cyan\"> |-units_1: 32</span>"
      ],
      "text/plain": [
       "<IPython.core.display.HTML object>"
      ]
     },
     "metadata": {},
     "output_type": "display_data"
    },
    {
     "data": {
      "text/html": [
       "<span style=\"color:blue\"> |-units_2: 96</span>"
      ],
      "text/plain": [
       "<IPython.core.display.HTML object>"
      ]
     },
     "metadata": {},
     "output_type": "display_data"
    },
    {
     "data": {
      "text/html": [
       "<span style=\"color:#4527A0\"><h1 style=\"font-size:18px\">Trial summary</h1></span>"
      ],
      "text/plain": [
       "<IPython.core.display.HTML object>"
      ]
     },
     "metadata": {},
     "output_type": "display_data"
    },
    {
     "data": {
      "text/html": [
       "<span style=\"color:cyan\"> |-Trial ID: 9f38a39bd63a6c4592990d37158924dd</span>"
      ],
      "text/plain": [
       "<IPython.core.display.HTML object>"
      ]
     },
     "metadata": {},
     "output_type": "display_data"
    },
    {
     "data": {
      "text/html": [
       "<span style=\"color:cyan\"> |-Score: 0.7178150415420532</span>"
      ],
      "text/plain": [
       "<IPython.core.display.HTML object>"
      ]
     },
     "metadata": {},
     "output_type": "display_data"
    },
    {
     "data": {
      "text/html": [
       "<span style=\"color:cyan\"> |-Best step: 0</span>"
      ],
      "text/plain": [
       "<IPython.core.display.HTML object>"
      ]
     },
     "metadata": {},
     "output_type": "display_data"
    },
    {
     "data": {
      "text/html": [
       "<span style=\"color:#7E57C2\"><h2 style=\"font-size:16px\">Hyperparameters:</h2></span>"
      ],
      "text/plain": [
       "<IPython.core.display.HTML object>"
      ]
     },
     "metadata": {},
     "output_type": "display_data"
    },
    {
     "data": {
      "text/html": [
       "<span style=\"color:cyan\"> |-batch_size: 96</span>"
      ],
      "text/plain": [
       "<IPython.core.display.HTML object>"
      ]
     },
     "metadata": {},
     "output_type": "display_data"
    },
    {
     "data": {
      "text/html": [
       "<span style=\"color:blue\"> |-dense_0: 384</span>"
      ],
      "text/plain": [
       "<IPython.core.display.HTML object>"
      ]
     },
     "metadata": {},
     "output_type": "display_data"
    },
    {
     "data": {
      "text/html": [
       "<span style=\"color:cyan\"> |-dropout_1: 0.6000000000000001</span>"
      ],
      "text/plain": [
       "<IPython.core.display.HTML object>"
      ]
     },
     "metadata": {},
     "output_type": "display_data"
    },
    {
     "data": {
      "text/html": [
       "<span style=\"color:blue\"> |-dropout_2: 0.8000000000000003</span>"
      ],
      "text/plain": [
       "<IPython.core.display.HTML object>"
      ]
     },
     "metadata": {},
     "output_type": "display_data"
    },
    {
     "data": {
      "text/html": [
       "<span style=\"color:cyan\"> |-dropout_3: 0.8</span>"
      ],
      "text/plain": [
       "<IPython.core.display.HTML object>"
      ]
     },
     "metadata": {},
     "output_type": "display_data"
    },
    {
     "data": {
      "text/html": [
       "<span style=\"color:blue\"> |-epochs: 25</span>"
      ],
      "text/plain": [
       "<IPython.core.display.HTML object>"
      ]
     },
     "metadata": {},
     "output_type": "display_data"
    },
    {
     "data": {
      "text/html": [
       "<span style=\"color:cyan\"> |-num_layers: 1</span>"
      ],
      "text/plain": [
       "<IPython.core.display.HTML object>"
      ]
     },
     "metadata": {},
     "output_type": "display_data"
    },
    {
     "data": {
      "text/html": [
       "<span style=\"color:blue\"> |-optimizer_name: adagrad</span>"
      ],
      "text/plain": [
       "<IPython.core.display.HTML object>"
      ]
     },
     "metadata": {},
     "output_type": "display_data"
    },
    {
     "data": {
      "text/html": [
       "<span style=\"color:cyan\"> |-units_1: 96</span>"
      ],
      "text/plain": [
       "<IPython.core.display.HTML object>"
      ]
     },
     "metadata": {},
     "output_type": "display_data"
    },
    {
     "data": {
      "text/html": [
       "<span style=\"color:blue\"> |-units_2: 192</span>"
      ],
      "text/plain": [
       "<IPython.core.display.HTML object>"
      ]
     },
     "metadata": {},
     "output_type": "display_data"
    },
    {
     "data": {
      "text/html": [
       "<span style=\"color:#4527A0\"><h1 style=\"font-size:18px\">Trial summary</h1></span>"
      ],
      "text/plain": [
       "<IPython.core.display.HTML object>"
      ]
     },
     "metadata": {},
     "output_type": "display_data"
    },
    {
     "data": {
      "text/html": [
       "<span style=\"color:cyan\"> |-Trial ID: 01f11b1d150053ff0d538af51c603872</span>"
      ],
      "text/plain": [
       "<IPython.core.display.HTML object>"
      ]
     },
     "metadata": {},
     "output_type": "display_data"
    },
    {
     "data": {
      "text/html": [
       "<span style=\"color:cyan\"> |-Score: 0.31155937910079956</span>"
      ],
      "text/plain": [
       "<IPython.core.display.HTML object>"
      ]
     },
     "metadata": {},
     "output_type": "display_data"
    },
    {
     "data": {
      "text/html": [
       "<span style=\"color:cyan\"> |-Best step: 0</span>"
      ],
      "text/plain": [
       "<IPython.core.display.HTML object>"
      ]
     },
     "metadata": {},
     "output_type": "display_data"
    },
    {
     "data": {
      "text/html": [
       "<span style=\"color:#7E57C2\"><h2 style=\"font-size:16px\">Hyperparameters:</h2></span>"
      ],
      "text/plain": [
       "<IPython.core.display.HTML object>"
      ]
     },
     "metadata": {},
     "output_type": "display_data"
    },
    {
     "data": {
      "text/html": [
       "<span style=\"color:cyan\"> |-batch_size: 192</span>"
      ],
      "text/plain": [
       "<IPython.core.display.HTML object>"
      ]
     },
     "metadata": {},
     "output_type": "display_data"
    },
    {
     "data": {
      "text/html": [
       "<span style=\"color:blue\"> |-dense_0: 64</span>"
      ],
      "text/plain": [
       "<IPython.core.display.HTML object>"
      ]
     },
     "metadata": {},
     "output_type": "display_data"
    },
    {
     "data": {
      "text/html": [
       "<span style=\"color:cyan\"> |-dropout_1: 0.2</span>"
      ],
      "text/plain": [
       "<IPython.core.display.HTML object>"
      ]
     },
     "metadata": {},
     "output_type": "display_data"
    },
    {
     "data": {
      "text/html": [
       "<span style=\"color:blue\"> |-dropout_2: 0.7000000000000002</span>"
      ],
      "text/plain": [
       "<IPython.core.display.HTML object>"
      ]
     },
     "metadata": {},
     "output_type": "display_data"
    },
    {
     "data": {
      "text/html": [
       "<span style=\"color:cyan\"> |-dropout_3: 0.30000000000000004</span>"
      ],
      "text/plain": [
       "<IPython.core.display.HTML object>"
      ]
     },
     "metadata": {},
     "output_type": "display_data"
    },
    {
     "data": {
      "text/html": [
       "<span style=\"color:blue\"> |-epochs: 20</span>"
      ],
      "text/plain": [
       "<IPython.core.display.HTML object>"
      ]
     },
     "metadata": {},
     "output_type": "display_data"
    },
    {
     "data": {
      "text/html": [
       "<span style=\"color:cyan\"> |-num_layers: 1</span>"
      ],
      "text/plain": [
       "<IPython.core.display.HTML object>"
      ]
     },
     "metadata": {},
     "output_type": "display_data"
    },
    {
     "data": {
      "text/html": [
       "<span style=\"color:blue\"> |-optimizer_name: adadelta</span>"
      ],
      "text/plain": [
       "<IPython.core.display.HTML object>"
      ]
     },
     "metadata": {},
     "output_type": "display_data"
    },
    {
     "data": {
      "text/html": [
       "<span style=\"color:cyan\"> |-units_1: 96</span>"
      ],
      "text/plain": [
       "<IPython.core.display.HTML object>"
      ]
     },
     "metadata": {},
     "output_type": "display_data"
    },
    {
     "data": {
      "text/html": [
       "<span style=\"color:blue\"> |-units_2: 224</span>"
      ],
      "text/plain": [
       "<IPython.core.display.HTML object>"
      ]
     },
     "metadata": {},
     "output_type": "display_data"
    },
    {
     "data": {
      "text/html": [
       "<span style=\"color:#4527A0\"><h1 style=\"font-size:18px\">Trial summary</h1></span>"
      ],
      "text/plain": [
       "<IPython.core.display.HTML object>"
      ]
     },
     "metadata": {},
     "output_type": "display_data"
    },
    {
     "data": {
      "text/html": [
       "<span style=\"color:cyan\"> |-Trial ID: 9a4b1b50c463d7e28367ec3cd824b826</span>"
      ],
      "text/plain": [
       "<IPython.core.display.HTML object>"
      ]
     },
     "metadata": {},
     "output_type": "display_data"
    },
    {
     "data": {
      "text/html": [
       "<span style=\"color:cyan\"> |-Score: 0.27837714552879333</span>"
      ],
      "text/plain": [
       "<IPython.core.display.HTML object>"
      ]
     },
     "metadata": {},
     "output_type": "display_data"
    },
    {
     "data": {
      "text/html": [
       "<span style=\"color:cyan\"> |-Best step: 0</span>"
      ],
      "text/plain": [
       "<IPython.core.display.HTML object>"
      ]
     },
     "metadata": {},
     "output_type": "display_data"
    },
    {
     "data": {
      "text/html": [
       "<span style=\"color:#7E57C2\"><h2 style=\"font-size:16px\">Hyperparameters:</h2></span>"
      ],
      "text/plain": [
       "<IPython.core.display.HTML object>"
      ]
     },
     "metadata": {},
     "output_type": "display_data"
    },
    {
     "data": {
      "text/html": [
       "<span style=\"color:cyan\"> |-batch_size: 256</span>"
      ],
      "text/plain": [
       "<IPython.core.display.HTML object>"
      ]
     },
     "metadata": {},
     "output_type": "display_data"
    },
    {
     "data": {
      "text/html": [
       "<span style=\"color:blue\"> |-dense_0: 64</span>"
      ],
      "text/plain": [
       "<IPython.core.display.HTML object>"
      ]
     },
     "metadata": {},
     "output_type": "display_data"
    },
    {
     "data": {
      "text/html": [
       "<span style=\"color:cyan\"> |-dropout_1: 0.4000000000000001</span>"
      ],
      "text/plain": [
       "<IPython.core.display.HTML object>"
      ]
     },
     "metadata": {},
     "output_type": "display_data"
    },
    {
     "data": {
      "text/html": [
       "<span style=\"color:blue\"> |-dropout_2: 0.2</span>"
      ],
      "text/plain": [
       "<IPython.core.display.HTML object>"
      ]
     },
     "metadata": {},
     "output_type": "display_data"
    },
    {
     "data": {
      "text/html": [
       "<span style=\"color:cyan\"> |-dropout_3: 0.4</span>"
      ],
      "text/plain": [
       "<IPython.core.display.HTML object>"
      ]
     },
     "metadata": {},
     "output_type": "display_data"
    },
    {
     "data": {
      "text/html": [
       "<span style=\"color:blue\"> |-epochs: 10</span>"
      ],
      "text/plain": [
       "<IPython.core.display.HTML object>"
      ]
     },
     "metadata": {},
     "output_type": "display_data"
    },
    {
     "data": {
      "text/html": [
       "<span style=\"color:cyan\"> |-num_layers: 0</span>"
      ],
      "text/plain": [
       "<IPython.core.display.HTML object>"
      ]
     },
     "metadata": {},
     "output_type": "display_data"
    },
    {
     "data": {
      "text/html": [
       "<span style=\"color:blue\"> |-optimizer_name: adadelta</span>"
      ],
      "text/plain": [
       "<IPython.core.display.HTML object>"
      ]
     },
     "metadata": {},
     "output_type": "display_data"
    },
    {
     "data": {
      "text/html": [
       "<span style=\"color:cyan\"> |-units_1: 224</span>"
      ],
      "text/plain": [
       "<IPython.core.display.HTML object>"
      ]
     },
     "metadata": {},
     "output_type": "display_data"
    },
    {
     "data": {
      "text/html": [
       "<span style=\"color:blue\"> |-units_2: 192</span>"
      ],
      "text/plain": [
       "<IPython.core.display.HTML object>"
      ]
     },
     "metadata": {},
     "output_type": "display_data"
    }
   ],
   "source": [
    "class MyTuner(RandomSearch):\n",
    "    def run_trial(self, trial, *args, **kwargs):\n",
    "    # You can add additional HyperParameters for preprocessing and custom training loops\n",
    "    # via overriding `run_trial`\n",
    "        kwargs['batch_size'] = trial.hyperparameters.Int('batch_size', 32, 256, step=32)\n",
    "        kwargs['epochs'] = trial.hyperparameters.Int('epochs', 5, 30, step=5)\n",
    "        super(MyTuner, self).run_trial(trial, *args, **kwargs)\n",
    "\n",
    "# Uses same arguments as the BayesianOptimization Tuner.\n",
    "tuner = MyTuner(c_model, \n",
    "                objective='val_accuracy', \n",
    "                max_trials=10, \n",
    "                executions_per_trial=10, \n",
    "                directory='Random tuner', \n",
    "                project_name='optimized_model')\n",
    "\n",
    "# Don't pass epochs or batch_size here, let the Tuner tune them.\n",
    "tuner.search(X_train, \n",
    "             Y_train, \n",
    "             validation_split=0.3, \n",
    "             verbose=2,\n",
    "             use_multiprocessing=True)\n",
    "\n",
    "tuner.search_space_summary()\n",
    "\n",
    "tuner.results_summary()"
   ]
  },
  {
   "cell_type": "markdown",
   "metadata": {},
   "source": [
    "## Best hyper parameters"
   ]
  },
  {
   "cell_type": "code",
   "execution_count": 13,
   "metadata": {},
   "outputs": [
    {
     "data": {
      "text/plain": [
       "{'units_1': 224,\n",
       " 'dropout_1': 0.8000000000000003,\n",
       " 'units_2': 96,\n",
       " 'dropout_2': 0.30000000000000004,\n",
       " 'num_layers': 1,\n",
       " 'dropout_3': 0.6000000000000001,\n",
       " 'optimizer_name': 'adam',\n",
       " 'batch_size': 64,\n",
       " 'epochs': 20,\n",
       " 'dense_0': 288}"
      ]
     },
     "execution_count": 13,
     "metadata": {},
     "output_type": "execute_result"
    }
   ],
   "source": [
    "best_hp = tuner.get_best_hyperparameters()[0]\n",
    "best_hp.values"
   ]
  },
  {
   "cell_type": "markdown",
   "metadata": {},
   "source": [
    "## Best Model's Architecture"
   ]
  },
  {
   "cell_type": "code",
   "execution_count": 14,
   "metadata": {},
   "outputs": [
    {
     "name": "stdout",
     "output_type": "stream",
     "text": [
      "Model: \"sequential\"\n",
      "_________________________________________________________________\n",
      "Layer (type)                 Output Shape              Param #   \n",
      "=================================================================\n",
      "cu_dnnlstm (CuDNNLSTM)       (None, 128, 224)          210560    \n",
      "_________________________________________________________________\n",
      "dropout (Dropout)            (None, 128, 224)          0         \n",
      "_________________________________________________________________\n",
      "cu_dnnlstm_1 (CuDNNLSTM)     (None, 96)                123648    \n",
      "_________________________________________________________________\n",
      "dropout_1 (Dropout)          (None, 96)                0         \n",
      "_________________________________________________________________\n",
      "dense (Dense)                (None, 288)               27936     \n",
      "_________________________________________________________________\n",
      "dropout_2 (Dropout)          (None, 288)               0         \n",
      "_________________________________________________________________\n",
      "dense_1 (Dense)              (None, 6)                 1734      \n",
      "=================================================================\n",
      "Total params: 363,878\n",
      "Trainable params: 363,878\n",
      "Non-trainable params: 0\n",
      "_________________________________________________________________\n"
     ]
    }
   ],
   "source": [
    "best_model = tuner.get_best_models(num_models=1)[0]\n",
    "best_model.summary()"
   ]
  },
  {
   "cell_type": "markdown",
   "metadata": {},
   "source": [
    "## Best Model on Test data"
   ]
  },
  {
   "cell_type": "code",
   "execution_count": 38,
   "metadata": {},
   "outputs": [
    {
     "name": "stdout",
     "output_type": "stream",
     "text": [
      "Train on 7352 samples, validate on 2947 samples\n",
      "Epoch 1/5\n",
      "7352/7352 - 1s - loss: 0.1056 - accuracy: 0.9684 - val_loss: 0.4614 - val_accuracy: 0.9342\n",
      "Epoch 2/5\n",
      "7352/7352 - 1s - loss: 0.0651 - accuracy: 0.9788 - val_loss: 0.5997 - val_accuracy: 0.9328\n",
      "Epoch 3/5\n",
      "7352/7352 - 1s - loss: 0.0472 - accuracy: 0.9807 - val_loss: 0.6456 - val_accuracy: 0.9270\n",
      "Epoch 4/5\n",
      "7352/7352 - 1s - loss: 0.0386 - accuracy: 0.9838 - val_loss: 0.5644 - val_accuracy: 0.9386\n",
      "Epoch 5/5\n",
      "7352/7352 - 1s - loss: 0.0269 - accuracy: 0.9897 - val_loss: 0.5855 - val_accuracy: 0.9410\n"
     ]
    },
    {
     "data": {
      "text/plain": [
       "<tensorflow.python.keras.callbacks.History at 0x147894e6348>"
      ]
     },
     "execution_count": 38,
     "metadata": {},
     "output_type": "execute_result"
    }
   ],
   "source": [
    "best_model.fit(X_train, Y_train,\n",
    "          batch_size=194,\n",
    "          epochs=5,\n",
    "          validation_data=(X_test, Y_test),\n",
    "          verbose = 2)"
   ]
  },
  {
   "cell_type": "code",
   "execution_count": 39,
   "metadata": {},
   "outputs": [
    {
     "name": "stdout",
     "output_type": "stream",
     "text": [
      "2947/1 - 1s - loss: 0.2927 - accuracy: 0.9410\n"
     ]
    }
   ],
   "source": [
    "score = best_model.evaluate(X_test, Y_test, verbose = 2)"
   ]
  },
  {
   "cell_type": "code",
   "execution_count": 40,
   "metadata": {},
   "outputs": [
    {
     "name": "stdout",
     "output_type": "stream",
     "text": [
      "\n",
      "\n",
      "The test result obtained By fine-tuning the model is :\n",
      "Loss = 0.5854996841915335\n",
      "Accuracy is : 0.9409568905830383\n"
     ]
    }
   ],
   "source": [
    "print('\\n\\nThe test result obtained By fine-tuning the model is :\\nLoss = {}\\nAccuracy is : {}'.format(score[0],score[1]))"
   ]
  },
  {
   "cell_type": "code",
   "execution_count": 41,
   "metadata": {},
   "outputs": [
    {
     "data": {
      "text/html": [
       "<div>\n",
       "<style scoped>\n",
       "    .dataframe tbody tr th:only-of-type {\n",
       "        vertical-align: middle;\n",
       "    }\n",
       "\n",
       "    .dataframe tbody tr th {\n",
       "        vertical-align: top;\n",
       "    }\n",
       "\n",
       "    .dataframe thead th {\n",
       "        text-align: right;\n",
       "    }\n",
       "</style>\n",
       "<table border=\"1\" class=\"dataframe\">\n",
       "  <thead>\n",
       "    <tr style=\"text-align: right;\">\n",
       "      <th>Pred</th>\n",
       "      <th>LAYING</th>\n",
       "      <th>SITTING</th>\n",
       "      <th>STANDING</th>\n",
       "      <th>WALKING</th>\n",
       "      <th>WALKING_DOWNSTAIRS</th>\n",
       "      <th>WALKING_UPSTAIRS</th>\n",
       "    </tr>\n",
       "    <tr>\n",
       "      <th>True</th>\n",
       "      <th></th>\n",
       "      <th></th>\n",
       "      <th></th>\n",
       "      <th></th>\n",
       "      <th></th>\n",
       "      <th></th>\n",
       "    </tr>\n",
       "  </thead>\n",
       "  <tbody>\n",
       "    <tr>\n",
       "      <th>LAYING</th>\n",
       "      <td>537</td>\n",
       "      <td>0</td>\n",
       "      <td>0</td>\n",
       "      <td>0</td>\n",
       "      <td>0</td>\n",
       "      <td>0</td>\n",
       "    </tr>\n",
       "    <tr>\n",
       "      <th>SITTING</th>\n",
       "      <td>0</td>\n",
       "      <td>418</td>\n",
       "      <td>69</td>\n",
       "      <td>0</td>\n",
       "      <td>0</td>\n",
       "      <td>4</td>\n",
       "    </tr>\n",
       "    <tr>\n",
       "      <th>STANDING</th>\n",
       "      <td>0</td>\n",
       "      <td>45</td>\n",
       "      <td>487</td>\n",
       "      <td>0</td>\n",
       "      <td>0</td>\n",
       "      <td>0</td>\n",
       "    </tr>\n",
       "    <tr>\n",
       "      <th>WALKING</th>\n",
       "      <td>0</td>\n",
       "      <td>0</td>\n",
       "      <td>0</td>\n",
       "      <td>463</td>\n",
       "      <td>30</td>\n",
       "      <td>3</td>\n",
       "    </tr>\n",
       "    <tr>\n",
       "      <th>WALKING_DOWNSTAIRS</th>\n",
       "      <td>0</td>\n",
       "      <td>0</td>\n",
       "      <td>0</td>\n",
       "      <td>1</td>\n",
       "      <td>415</td>\n",
       "      <td>4</td>\n",
       "    </tr>\n",
       "    <tr>\n",
       "      <th>WALKING_UPSTAIRS</th>\n",
       "      <td>0</td>\n",
       "      <td>0</td>\n",
       "      <td>0</td>\n",
       "      <td>12</td>\n",
       "      <td>6</td>\n",
       "      <td>453</td>\n",
       "    </tr>\n",
       "  </tbody>\n",
       "</table>\n",
       "</div>"
      ],
      "text/plain": [
       "Pred                LAYING  SITTING  STANDING  WALKING  WALKING_DOWNSTAIRS  \\\n",
       "True                                                                         \n",
       "LAYING                 537        0         0        0                   0   \n",
       "SITTING                  0      418        69        0                   0   \n",
       "STANDING                 0       45       487        0                   0   \n",
       "WALKING                  0        0         0      463                  30   \n",
       "WALKING_DOWNSTAIRS       0        0         0        1                 415   \n",
       "WALKING_UPSTAIRS         0        0         0       12                   6   \n",
       "\n",
       "Pred                WALKING_UPSTAIRS  \n",
       "True                                  \n",
       "LAYING                             0  \n",
       "SITTING                            4  \n",
       "STANDING                           0  \n",
       "WALKING                            3  \n",
       "WALKING_DOWNSTAIRS                 4  \n",
       "WALKING_UPSTAIRS                 453  "
      ]
     },
     "execution_count": 41,
     "metadata": {},
     "output_type": "execute_result"
    }
   ],
   "source": [
    "# Confusion Matrix\n",
    "confusion_matrix_user(Y_test, best_model.predict(X_test, batch_size=192))"
   ]
  },
  {
   "cell_type": "markdown",
   "metadata": {},
   "source": [
    "# Summary\n",
    "\n",
    "* Performed hyper parameter tuning with different architectures using Keras Tuner\n",
    "* Without hyper parameter tuning and a single layer LSTM, an Accuracy of 90 % was obtained\n",
    "* By performing hyper parameter tuning and an advance architecture, best Accuracy observed is 94.09 %\n",
    "* Tuning the model resulted in an improvement of model's accuracy by 4.09 %"
   ]
  }
 ],
 "metadata": {
  "kernelspec": {
   "display_name": "Python 3",
   "language": "python",
   "name": "python3"
  },
  "language_info": {
   "codemirror_mode": {
    "name": "ipython",
    "version": 3
   },
   "file_extension": ".py",
   "mimetype": "text/x-python",
   "name": "python",
   "nbconvert_exporter": "python",
   "pygments_lexer": "ipython3",
   "version": "3.7.4"
  }
 },
 "nbformat": 4,
 "nbformat_minor": 2
}
